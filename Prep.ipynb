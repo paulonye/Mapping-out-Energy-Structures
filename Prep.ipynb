{
 "cells": [
  {
   "cell_type": "code",
   "execution_count": 1,
   "metadata": {},
   "outputs": [],
   "source": [
    "import plotly.graph_objs as go\n",
    "import pandas as pd\n",
    "pd.set_option('display.max_rows', None)"
   ]
  },
  {
   "cell_type": "code",
   "execution_count": 2,
   "metadata": {},
   "outputs": [],
   "source": [
    "df = pd.read_excel('pr.xlsx')\n",
    "cdf = pd.read_csv('t1p.csv')\n",
    "cdf2 = pd.read_csv('cdf.csv')\n",
    "oil = pd.read_excel('oil.xlsx')\n",
    "gas = pd.read_excel('gas.xlsx')\n",
    "renw = pd.read_excel('renw.xlsx')\n",
    "nuclear = pd.read_excel('nuclear.xlsx')\n",
    "coal = pd.read_excel('coal.xlsx')\n",
    "elec1 = pd.read_excel('elec1.xlsx')\n",
    "elec2 = pd.read_excel('elec2.xlsx')\n",
    "lvg = pd.read_excel('liqvsgrid.xlsx')\n",
    "grid = pd.read_excel('grid.xlsx')\n",
    "liquids = pd.read_excel('liquids.xlsx')\n",
    "lag = pd.read_excel('ligandgrid.xlsx')\n",
    "losses = pd.read_excel('Losses.xlsx')"
   ]
  },
  {
   "cell_type": "code",
   "execution_count": 1,
   "metadata": {},
   "outputs": [],
   "source": [
    "color1 = ['rgba(31, 119, 180, 0.8)',\n",
    " 'rgba(255, 127, 14, 0.8)',\n",
    " 'rgba(44, 160, 44, 0.8)',\n",
    " 'rgba(214, 39, 40, 0.8)',red\n",
    " 'rgba(148, 103, 189, 0.8)',purple\n",
    " 'rgba(140, 86, 75, 0.8)',brown\n",
    " 'rgba(227, 119, 194, 0.8)',pink\n",
    " 'rgba(127, 127, 127, 0.8)',black\n",
    " 'rgba(188, 189, 34, 0.8)',yellow\n",
    " 'rgba(23, 190, 207, 0.8)',fine blue\n",
    " 'rgba(31, 119, 180, 0.8)',fine dark blue\n",
    " 'rgba(255, 127, 14, 0.8)',orange\n",
    " 'rgba(44, 160, 44, 0.8)',green\n",
    " 'rgba(214, 39, 40, 0.8)',red\n",
    " 'rgba(148, 103, 189, 0.8)',light purple\n",
    " 'rgba(140, 86, 75, 0.8)',dark brown\n",
    " 'rgba(227, 119, 194, 0.8)',very light purple\n",
    " 'rgba(127, 127, 127, 0.8)',light black\n",
    " 'rgba(188, 189, 34, 0.8)',dark yellow\n",
    " 'rgba(23, 190, 207, 0.8)',sexy blue\n",
    " 'rgba(31, 119, 180, 0.8)',blue\n",
    " 'rgba(255, 127, 14, 0.8)',orange\n",
    " 'rgba(44, 160, 44, 0.8)',green\n",
    " 'rgba(214, 39, 40, 0.8)',red\n",
    " 'rgba(148, 103, 189, 0.8)',\n",
    " 'rgba(140, 86, 75, 0.8)',\n",
    " 'rgba(227, 119, 194, 0.8)',\n",
    " 'rgba(127, 127, 127, 0.8)',\n",
    " 'rgba(188, 189, 34, 0.8)',\n",
    " 'rgba(23, 190, 207, 0.8)',\n",
    " 'rgba(31, 119, 180, 0.8)',\n",
    " 'rgba(255, 127, 14, 0.8)',\n",
    " 'rgba(44, 160, 44, 0.8)',\n",
    " 'rgba(214, 39, 40, 0.8)',\n",
    " 'rgba(148, 103, 189, 0.8)',\n",
    " 'magenta',\n",
    " 'rgba(227, 119, 194, 0.8)',\n",
    " 'rgba(127, 127, 127, 0.8)',\n",
    " 'rgba(188, 189, 34, 0.8)',\n",
    " 'rgba(23, 190, 207, 0.8)',\n",
    " 'rgba(31, 119, 180, 0.8)',\n",
    " 'rgba(255, 127, 14, 0.8)',\n",
    " 'rgba(44, 160, 44, 0.8)',\n",
    " 'rgba(214, 39, 40, 0.8)',\n",
    " 'rgba(148, 103, 189, 0.8)',\n",
    " 'rgba(140, 86, 75, 0.8)',\n",
    " 'rgba(227, 119, 194, 0.8)',\n",
    " 'rgba(127, 127, 127, 0.8)']"
   ]
  },
  {
   "cell_type": "code",
   "execution_count": 3,
   "metadata": {},
   "outputs": [
    {
     "data": {
      "text/html": [
       "<div>\n",
       "<style scoped>\n",
       "    .dataframe tbody tr th:only-of-type {\n",
       "        vertical-align: middle;\n",
       "    }\n",
       "\n",
       "    .dataframe tbody tr th {\n",
       "        vertical-align: top;\n",
       "    }\n",
       "\n",
       "    .dataframe thead th {\n",
       "        text-align: right;\n",
       "    }\n",
       "</style>\n",
       "<table border=\"1\" class=\"dataframe\">\n",
       "  <thead>\n",
       "    <tr style=\"text-align: right;\">\n",
       "      <th></th>\n",
       "      <th>source</th>\n",
       "      <th>target</th>\n",
       "      <th>value</th>\n",
       "      <th>label</th>\n",
       "      <th>ln</th>\n",
       "      <th>Labels</th>\n",
       "    </tr>\n",
       "  </thead>\n",
       "  <tbody>\n",
       "    <tr>\n",
       "      <th>0</th>\n",
       "      <td>2</td>\n",
       "      <td>12</td>\n",
       "      <td>121.066</td>\n",
       "      <td>NaN</td>\n",
       "      <td>36.0</td>\n",
       "      <td>Oil imports</td>\n",
       "    </tr>\n",
       "    <tr>\n",
       "      <th>1</th>\n",
       "      <td>2</td>\n",
       "      <td>30</td>\n",
       "      <td>128.690</td>\n",
       "      <td>NaN</td>\n",
       "      <td>37.0</td>\n",
       "      <td>Oil</td>\n",
       "    </tr>\n",
       "    <tr>\n",
       "      <th>2</th>\n",
       "      <td>2</td>\n",
       "      <td>18</td>\n",
       "      <td>135.835</td>\n",
       "      <td>NaN</td>\n",
       "      <td>38.0</td>\n",
       "      <td>Oil reserves</td>\n",
       "    </tr>\n",
       "    <tr>\n",
       "      <th>3</th>\n",
       "      <td>2</td>\n",
       "      <td>31</td>\n",
       "      <td>14.458</td>\n",
       "      <td>NaN</td>\n",
       "      <td>39.0</td>\n",
       "      <td>Other waste</td>\n",
       "    </tr>\n",
       "    <tr>\n",
       "      <th>4</th>\n",
       "      <td>2</td>\n",
       "      <td>32</td>\n",
       "      <td>206.267</td>\n",
       "      <td>NaN</td>\n",
       "      <td>40.0</td>\n",
       "      <td>Pumped heat</td>\n",
       "    </tr>\n",
       "    <tr>\n",
       "      <th>5</th>\n",
       "      <td>2</td>\n",
       "      <td>19</td>\n",
       "      <td>3.640</td>\n",
       "      <td>NaN</td>\n",
       "      <td>41.0</td>\n",
       "      <td>Solar PV</td>\n",
       "    </tr>\n",
       "    <tr>\n",
       "      <th>6</th>\n",
       "      <td>2</td>\n",
       "      <td>33</td>\n",
       "      <td>33.218</td>\n",
       "      <td>NaN</td>\n",
       "      <td>42.0</td>\n",
       "      <td>Solar Thermal</td>\n",
       "    </tr>\n",
       "    <tr>\n",
       "      <th>7</th>\n",
       "      <td>2</td>\n",
       "      <td>20</td>\n",
       "      <td>4.413</td>\n",
       "      <td>NaN</td>\n",
       "      <td>43.0</td>\n",
       "      <td>Solar</td>\n",
       "    </tr>\n",
       "    <tr>\n",
       "      <th>8</th>\n",
       "      <td>36</td>\n",
       "      <td>37</td>\n",
       "      <td>504.287</td>\n",
       "      <td>NaN</td>\n",
       "      <td>NaN</td>\n",
       "      <td>NaN</td>\n",
       "    </tr>\n",
       "    <tr>\n",
       "      <th>9</th>\n",
       "      <td>38</td>\n",
       "      <td>37</td>\n",
       "      <td>107.703</td>\n",
       "      <td>NaN</td>\n",
       "      <td>NaN</td>\n",
       "      <td>NaN</td>\n",
       "    </tr>\n",
       "    <tr>\n",
       "      <th>10</th>\n",
       "      <td>37</td>\n",
       "      <td>2</td>\n",
       "      <td>611.990</td>\n",
       "      <td>NaN</td>\n",
       "      <td>NaN</td>\n",
       "      <td>NaN</td>\n",
       "    </tr>\n",
       "  </tbody>\n",
       "</table>\n",
       "</div>"
      ],
      "text/plain": [
       "    source  target    value  label    ln         Labels\n",
       "0        2      12  121.066    NaN  36.0    Oil imports\n",
       "1        2      30  128.690    NaN  37.0            Oil\n",
       "2        2      18  135.835    NaN  38.0   Oil reserves\n",
       "3        2      31   14.458    NaN  39.0    Other waste\n",
       "4        2      32  206.267    NaN  40.0    Pumped heat\n",
       "5        2      19    3.640    NaN  41.0       Solar PV\n",
       "6        2      33   33.218    NaN  42.0  Solar Thermal\n",
       "7        2      20    4.413    NaN  43.0          Solar\n",
       "8       36      37  504.287    NaN   NaN            NaN\n",
       "9       38      37  107.703    NaN   NaN            NaN\n",
       "10      37       2  611.990    NaN   NaN            NaN"
      ]
     },
     "execution_count": 3,
     "metadata": {},
     "output_type": "execute_result"
    }
   ],
   "source": [
    "oil"
   ]
  },
  {
   "cell_type": "code",
   "execution_count": 41,
   "metadata": {},
   "outputs": [
    {
     "data": {
      "text/plain": [
       "['rgba(140, 86, 75, 0.8)',\n",
       " 'rgba(140, 86, 75, 0.8)',\n",
       " 'rgba(140, 86, 75, 0.8)',\n",
       " 'rgba(140, 86, 75, 0.8)',\n",
       " 'rgba(227, 119, 194, 0.8)',\n",
       " 'rgba(23, 190, 207, 0.8)',\n",
       " 'rgba(127, 127, 127, 0.8)',\n",
       " 'rgba(127, 127, 127, 0.8)',\n",
       " 'rgba(127, 127, 127, 0.8)',\n",
       " 'rgba(127, 127, 127, 0.8)',\n",
       " 'rgba(214, 39, 40, 0.8)',\n",
       " 'rgba(214, 39, 40, 0.8)',\n",
       " 'rgba(214, 39, 40, 0.8)',\n",
       " 'rgba(227, 119, 194, 0.8)',\n",
       " 'rgba(227, 119, 194, 0.8)',\n",
       " nan,\n",
       " 'rgba(227, 119, 194, 0.8)',\n",
       " 'rgba(227, 119, 194, 0.8)',\n",
       " 'rgba(227, 119, 194, 0.8)',\n",
       " 'rgba(227, 119, 194, 0.8)',\n",
       " 'rgba(214, 39, 40, 0.8)',\n",
       " 'rgba(31, 119, 180, 0.8)',\n",
       " 'rgba(31, 119, 180, 0.8)',\n",
       " 'rgba(31, 119, 180, 0.8)',\n",
       " 'rgba(31, 119, 180, 0.8)',\n",
       " 'rgba(140, 86, 75, 0.8)',\n",
       " 'rgba(227, 119, 194, 0.8)',\n",
       " 'rgba(188, 189, 34, 0.8)',\n",
       " 'rgba(188, 189, 34, 0.8)',\n",
       " 'rgba(31, 119, 180, 0.8)',\n",
       " 'rgba(31, 119, 180, 0.8)',\n",
       " 'rgba(31, 119, 180, 0.8)',\n",
       " 'rgba(140, 86, 75, 0.8)',\n",
       " 'rgba(140, 86, 75, 0.8)',\n",
       " 'rgba(255, 127, 14, 0.8)',\n",
       " 'rgba(255, 127, 14, 0.8)',\n",
       " 'rgba(44, 160, 44, 0.8)',\n",
       " 'rgba(44, 160, 44, 0.8)',\n",
       " 'rgba(44, 160, 44, 0.8)',\n",
       " 'rgba(44, 160, 44, 0.8)',\n",
       " 'rgba(127, 127, 127, 0.8)',\n",
       " 'rgba(127, 127, 127, 0.8)',\n",
       " 'rgba(127, 127, 127, 0.8)',\n",
       " 'rgba(23, 190, 207, 0.8)',\n",
       " 'rgba(23, 190, 207, 0.8)',\n",
       " 'rgba(23, 190, 207, 0.8)',\n",
       " 'rgba(31, 119, 180, 0.8)',\n",
       " 'rgba(140, 86, 75, 0.8)',\n",
       " 'rgba(44, 160, 44, 0.8)',\n",
       " 'rgba(44, 160, 44, 0.8)',\n",
       " 'rgba(188, 189, 34, 0.8)',\n",
       " 'rgba(188, 189, 34, 0.8)']"
      ]
     },
     "execution_count": 41,
     "metadata": {},
     "output_type": "execute_result"
    }
   ],
   "source": [
    "color = [i for i in df['color']]\n",
    "color"
   ]
  },
  {
   "cell_type": "code",
   "execution_count": 71,
   "metadata": {},
   "outputs": [
    {
     "data": {
      "text/plain": [
       "'https://plotly.com/~kingplot/36/'"
      ]
     },
     "execution_count": 71,
     "metadata": {},
     "output_type": "execute_result"
    }
   ],
   "source": [
    "import numpy as np\n",
    "import pandas as pd\n",
    "import plotly.graph_objects as go\n",
    "import chart_studio.plotly as py\n",
    "df = pd.read_excel('pr.xlsx')\n",
    "\n",
    "fig = go.Figure(data=[go.Sankey(\n",
    "    valueformat = \".0f\",\n",
    "    valuesuffix = \"TWh\",\n",
    "    node = dict(\n",
    "      pad = 15,\n",
    "      thickness = 15,\n",
    "      line = dict(color = 'black', width = 0.3),\n",
    "      label =  cdf['Labels'].dropna(),\n",
    "        color = '#EEB72B'\n",
    "    ),\n",
    "    textfont = dict(size = 12),\n",
    "    link = dict(\n",
    "      source =  df['source'],\n",
    "      target =  df['target'],\n",
    "      value =  df['value'],\n",
    "      label =  df['label'],\n",
    "        color = df['color'].dropna()\n",
    "  ))])\n",
    "fig.update_layout(\n",
    "    hovermode = 'x',\n",
    "    title=\"<b>ENERGY NETWORK\",\n",
    "    font=dict(size = 30, color = '#EEB72B', family = 'Raleway'),\n",
    "    plot_bgcolor='#242424',\n",
    "    paper_bgcolor='#242424'\n",
    ")\n",
    "\n",
    "py.plot(fig, filename = 'energy_network')\n",
    "#fig.show()\n",
    "\n"
   ]
  },
  {
   "cell_type": "code",
   "execution_count": 34,
   "metadata": {},
   "outputs": [
    {
     "data": {
      "application/vnd.plotly.v1+json": {
       "config": {
        "plotlyServerURL": "https://plotly.com"
       },
       "data": [
        {
         "link": {
          "color": "rgba(23, 190, 207, 0.8)",
          "label": [
           null,
           null,
           null,
           null,
           null,
           null,
           null,
           null,
           null,
           null,
           null
          ],
          "source": [
           2,
           2,
           2,
           2,
           2,
           2,
           2,
           2,
           36,
           38,
           37
          ],
          "target": [
           12,
           30,
           18,
           31,
           32,
           19,
           33,
           20,
           37,
           37,
           2
          ],
          "value": [
           121.066,
           128.69,
           135.835,
           14.458,
           206.267,
           3.64,
           33.218,
           4.413,
           504.287,
           107.703,
           611.99
          ]
         },
         "node": {
          "color": "#EEB72B",
          "label": [
           "Agricultural 'waste'",
           "Bio-conversion",
           "Liquid",
           "Losses",
           "Solid",
           "Gas",
           "Biofuel imports",
           "Biomass imports",
           "Coal imports",
           "Coal",
           "Coal reserves",
           "District heating",
           "Industry",
           "Heating and cooling - commercial",
           "Heating and cooling - homes",
           "Electricity grid",
           "Over generation / exports",
           "H2 conversion",
           "Road transport",
           "Agriculture",
           "Rail transport",
           "Lighting & appliances - commercial",
           "Lighting & appliances - homes",
           "Gas imports",
           "Ngas",
           "Gas reserves",
           "Thermal generation",
           "Geothermal",
           "H2",
           "Hydro",
           "International shipping",
           "Domestic aviation",
           "International aviation",
           "National navigation",
           "Marine algae",
           "Nuclear",
           "Oil imports",
           "Oil",
           "Oil reserves",
           "Other waste",
           "Pumped heat",
           "Solar PV",
           "Solar Thermal",
           "Solar",
           "Tidal",
           "UK land based bioenergy",
           "Wave",
           "Wind"
          ],
          "line": {
           "color": "rgba(188, 189, 34, 0.8)",
           "width": 0.5
          },
          "pad": 15,
          "thickness": 15
         },
         "orientation": "h",
         "textfont": {
          "color": "#ffffff",
          "family": "Raleway",
          "size": 17
         },
         "type": "sankey",
         "valueformat": ".0f",
         "valuesuffix": "TWh"
        }
       ],
       "layout": {
        "font": {
         "color": "#EEB72B",
         "family": "Raleway",
         "size": 30
        },
        "hovermode": "x",
        "paper_bgcolor": "#242424",
        "plot_bgcolor": "#000000",
        "template": {
         "data": {
          "bar": [
           {
            "error_x": {
             "color": "#2a3f5f"
            },
            "error_y": {
             "color": "#2a3f5f"
            },
            "marker": {
             "line": {
              "color": "#E5ECF6",
              "width": 0.5
             }
            },
            "type": "bar"
           }
          ],
          "barpolar": [
           {
            "marker": {
             "line": {
              "color": "#E5ECF6",
              "width": 0.5
             }
            },
            "type": "barpolar"
           }
          ],
          "carpet": [
           {
            "aaxis": {
             "endlinecolor": "#2a3f5f",
             "gridcolor": "white",
             "linecolor": "white",
             "minorgridcolor": "white",
             "startlinecolor": "#2a3f5f"
            },
            "baxis": {
             "endlinecolor": "#2a3f5f",
             "gridcolor": "white",
             "linecolor": "white",
             "minorgridcolor": "white",
             "startlinecolor": "#2a3f5f"
            },
            "type": "carpet"
           }
          ],
          "choropleth": [
           {
            "colorbar": {
             "outlinewidth": 0,
             "ticks": ""
            },
            "type": "choropleth"
           }
          ],
          "contour": [
           {
            "colorbar": {
             "outlinewidth": 0,
             "ticks": ""
            },
            "colorscale": [
             [
              0,
              "#0d0887"
             ],
             [
              0.1111111111111111,
              "#46039f"
             ],
             [
              0.2222222222222222,
              "#7201a8"
             ],
             [
              0.3333333333333333,
              "#9c179e"
             ],
             [
              0.4444444444444444,
              "#bd3786"
             ],
             [
              0.5555555555555556,
              "#d8576b"
             ],
             [
              0.6666666666666666,
              "#ed7953"
             ],
             [
              0.7777777777777778,
              "#fb9f3a"
             ],
             [
              0.8888888888888888,
              "#fdca26"
             ],
             [
              1,
              "#f0f921"
             ]
            ],
            "type": "contour"
           }
          ],
          "contourcarpet": [
           {
            "colorbar": {
             "outlinewidth": 0,
             "ticks": ""
            },
            "type": "contourcarpet"
           }
          ],
          "heatmap": [
           {
            "colorbar": {
             "outlinewidth": 0,
             "ticks": ""
            },
            "colorscale": [
             [
              0,
              "#0d0887"
             ],
             [
              0.1111111111111111,
              "#46039f"
             ],
             [
              0.2222222222222222,
              "#7201a8"
             ],
             [
              0.3333333333333333,
              "#9c179e"
             ],
             [
              0.4444444444444444,
              "#bd3786"
             ],
             [
              0.5555555555555556,
              "#d8576b"
             ],
             [
              0.6666666666666666,
              "#ed7953"
             ],
             [
              0.7777777777777778,
              "#fb9f3a"
             ],
             [
              0.8888888888888888,
              "#fdca26"
             ],
             [
              1,
              "#f0f921"
             ]
            ],
            "type": "heatmap"
           }
          ],
          "heatmapgl": [
           {
            "colorbar": {
             "outlinewidth": 0,
             "ticks": ""
            },
            "colorscale": [
             [
              0,
              "#0d0887"
             ],
             [
              0.1111111111111111,
              "#46039f"
             ],
             [
              0.2222222222222222,
              "#7201a8"
             ],
             [
              0.3333333333333333,
              "#9c179e"
             ],
             [
              0.4444444444444444,
              "#bd3786"
             ],
             [
              0.5555555555555556,
              "#d8576b"
             ],
             [
              0.6666666666666666,
              "#ed7953"
             ],
             [
              0.7777777777777778,
              "#fb9f3a"
             ],
             [
              0.8888888888888888,
              "#fdca26"
             ],
             [
              1,
              "#f0f921"
             ]
            ],
            "type": "heatmapgl"
           }
          ],
          "histogram": [
           {
            "marker": {
             "colorbar": {
              "outlinewidth": 0,
              "ticks": ""
             }
            },
            "type": "histogram"
           }
          ],
          "histogram2d": [
           {
            "colorbar": {
             "outlinewidth": 0,
             "ticks": ""
            },
            "colorscale": [
             [
              0,
              "#0d0887"
             ],
             [
              0.1111111111111111,
              "#46039f"
             ],
             [
              0.2222222222222222,
              "#7201a8"
             ],
             [
              0.3333333333333333,
              "#9c179e"
             ],
             [
              0.4444444444444444,
              "#bd3786"
             ],
             [
              0.5555555555555556,
              "#d8576b"
             ],
             [
              0.6666666666666666,
              "#ed7953"
             ],
             [
              0.7777777777777778,
              "#fb9f3a"
             ],
             [
              0.8888888888888888,
              "#fdca26"
             ],
             [
              1,
              "#f0f921"
             ]
            ],
            "type": "histogram2d"
           }
          ],
          "histogram2dcontour": [
           {
            "colorbar": {
             "outlinewidth": 0,
             "ticks": ""
            },
            "colorscale": [
             [
              0,
              "#0d0887"
             ],
             [
              0.1111111111111111,
              "#46039f"
             ],
             [
              0.2222222222222222,
              "#7201a8"
             ],
             [
              0.3333333333333333,
              "#9c179e"
             ],
             [
              0.4444444444444444,
              "#bd3786"
             ],
             [
              0.5555555555555556,
              "#d8576b"
             ],
             [
              0.6666666666666666,
              "#ed7953"
             ],
             [
              0.7777777777777778,
              "#fb9f3a"
             ],
             [
              0.8888888888888888,
              "#fdca26"
             ],
             [
              1,
              "#f0f921"
             ]
            ],
            "type": "histogram2dcontour"
           }
          ],
          "mesh3d": [
           {
            "colorbar": {
             "outlinewidth": 0,
             "ticks": ""
            },
            "type": "mesh3d"
           }
          ],
          "parcoords": [
           {
            "line": {
             "colorbar": {
              "outlinewidth": 0,
              "ticks": ""
             }
            },
            "type": "parcoords"
           }
          ],
          "pie": [
           {
            "automargin": true,
            "type": "pie"
           }
          ],
          "scatter": [
           {
            "marker": {
             "colorbar": {
              "outlinewidth": 0,
              "ticks": ""
             }
            },
            "type": "scatter"
           }
          ],
          "scatter3d": [
           {
            "line": {
             "colorbar": {
              "outlinewidth": 0,
              "ticks": ""
             }
            },
            "marker": {
             "colorbar": {
              "outlinewidth": 0,
              "ticks": ""
             }
            },
            "type": "scatter3d"
           }
          ],
          "scattercarpet": [
           {
            "marker": {
             "colorbar": {
              "outlinewidth": 0,
              "ticks": ""
             }
            },
            "type": "scattercarpet"
           }
          ],
          "scattergeo": [
           {
            "marker": {
             "colorbar": {
              "outlinewidth": 0,
              "ticks": ""
             }
            },
            "type": "scattergeo"
           }
          ],
          "scattergl": [
           {
            "marker": {
             "colorbar": {
              "outlinewidth": 0,
              "ticks": ""
             }
            },
            "type": "scattergl"
           }
          ],
          "scattermapbox": [
           {
            "marker": {
             "colorbar": {
              "outlinewidth": 0,
              "ticks": ""
             }
            },
            "type": "scattermapbox"
           }
          ],
          "scatterpolar": [
           {
            "marker": {
             "colorbar": {
              "outlinewidth": 0,
              "ticks": ""
             }
            },
            "type": "scatterpolar"
           }
          ],
          "scatterpolargl": [
           {
            "marker": {
             "colorbar": {
              "outlinewidth": 0,
              "ticks": ""
             }
            },
            "type": "scatterpolargl"
           }
          ],
          "scatterternary": [
           {
            "marker": {
             "colorbar": {
              "outlinewidth": 0,
              "ticks": ""
             }
            },
            "type": "scatterternary"
           }
          ],
          "surface": [
           {
            "colorbar": {
             "outlinewidth": 0,
             "ticks": ""
            },
            "colorscale": [
             [
              0,
              "#0d0887"
             ],
             [
              0.1111111111111111,
              "#46039f"
             ],
             [
              0.2222222222222222,
              "#7201a8"
             ],
             [
              0.3333333333333333,
              "#9c179e"
             ],
             [
              0.4444444444444444,
              "#bd3786"
             ],
             [
              0.5555555555555556,
              "#d8576b"
             ],
             [
              0.6666666666666666,
              "#ed7953"
             ],
             [
              0.7777777777777778,
              "#fb9f3a"
             ],
             [
              0.8888888888888888,
              "#fdca26"
             ],
             [
              1,
              "#f0f921"
             ]
            ],
            "type": "surface"
           }
          ],
          "table": [
           {
            "cells": {
             "fill": {
              "color": "#EBF0F8"
             },
             "line": {
              "color": "white"
             }
            },
            "header": {
             "fill": {
              "color": "#C8D4E3"
             },
             "line": {
              "color": "white"
             }
            },
            "type": "table"
           }
          ]
         },
         "layout": {
          "annotationdefaults": {
           "arrowcolor": "#2a3f5f",
           "arrowhead": 0,
           "arrowwidth": 1
          },
          "coloraxis": {
           "colorbar": {
            "outlinewidth": 0,
            "ticks": ""
           }
          },
          "colorscale": {
           "diverging": [
            [
             0,
             "#8e0152"
            ],
            [
             0.1,
             "#c51b7d"
            ],
            [
             0.2,
             "#de77ae"
            ],
            [
             0.3,
             "#f1b6da"
            ],
            [
             0.4,
             "#fde0ef"
            ],
            [
             0.5,
             "#f7f7f7"
            ],
            [
             0.6,
             "#e6f5d0"
            ],
            [
             0.7,
             "#b8e186"
            ],
            [
             0.8,
             "#7fbc41"
            ],
            [
             0.9,
             "#4d9221"
            ],
            [
             1,
             "#276419"
            ]
           ],
           "sequential": [
            [
             0,
             "#0d0887"
            ],
            [
             0.1111111111111111,
             "#46039f"
            ],
            [
             0.2222222222222222,
             "#7201a8"
            ],
            [
             0.3333333333333333,
             "#9c179e"
            ],
            [
             0.4444444444444444,
             "#bd3786"
            ],
            [
             0.5555555555555556,
             "#d8576b"
            ],
            [
             0.6666666666666666,
             "#ed7953"
            ],
            [
             0.7777777777777778,
             "#fb9f3a"
            ],
            [
             0.8888888888888888,
             "#fdca26"
            ],
            [
             1,
             "#f0f921"
            ]
           ],
           "sequentialminus": [
            [
             0,
             "#0d0887"
            ],
            [
             0.1111111111111111,
             "#46039f"
            ],
            [
             0.2222222222222222,
             "#7201a8"
            ],
            [
             0.3333333333333333,
             "#9c179e"
            ],
            [
             0.4444444444444444,
             "#bd3786"
            ],
            [
             0.5555555555555556,
             "#d8576b"
            ],
            [
             0.6666666666666666,
             "#ed7953"
            ],
            [
             0.7777777777777778,
             "#fb9f3a"
            ],
            [
             0.8888888888888888,
             "#fdca26"
            ],
            [
             1,
             "#f0f921"
            ]
           ]
          },
          "colorway": [
           "#636efa",
           "#EF553B",
           "#00cc96",
           "#ab63fa",
           "#FFA15A",
           "#19d3f3",
           "#FF6692",
           "#B6E880",
           "#FF97FF",
           "#FECB52"
          ],
          "font": {
           "color": "#2a3f5f"
          },
          "geo": {
           "bgcolor": "white",
           "lakecolor": "white",
           "landcolor": "#E5ECF6",
           "showlakes": true,
           "showland": true,
           "subunitcolor": "white"
          },
          "hoverlabel": {
           "align": "left"
          },
          "hovermode": "closest",
          "mapbox": {
           "style": "light"
          },
          "paper_bgcolor": "white",
          "plot_bgcolor": "#E5ECF6",
          "polar": {
           "angularaxis": {
            "gridcolor": "white",
            "linecolor": "white",
            "ticks": ""
           },
           "bgcolor": "#E5ECF6",
           "radialaxis": {
            "gridcolor": "white",
            "linecolor": "white",
            "ticks": ""
           }
          },
          "scene": {
           "xaxis": {
            "backgroundcolor": "#E5ECF6",
            "gridcolor": "white",
            "gridwidth": 2,
            "linecolor": "white",
            "showbackground": true,
            "ticks": "",
            "zerolinecolor": "white"
           },
           "yaxis": {
            "backgroundcolor": "#E5ECF6",
            "gridcolor": "white",
            "gridwidth": 2,
            "linecolor": "white",
            "showbackground": true,
            "ticks": "",
            "zerolinecolor": "white"
           },
           "zaxis": {
            "backgroundcolor": "#E5ECF6",
            "gridcolor": "white",
            "gridwidth": 2,
            "linecolor": "white",
            "showbackground": true,
            "ticks": "",
            "zerolinecolor": "white"
           }
          },
          "shapedefaults": {
           "line": {
            "color": "#2a3f5f"
           }
          },
          "ternary": {
           "aaxis": {
            "gridcolor": "white",
            "linecolor": "white",
            "ticks": ""
           },
           "baxis": {
            "gridcolor": "white",
            "linecolor": "white",
            "ticks": ""
           },
           "bgcolor": "#E5ECF6",
           "caxis": {
            "gridcolor": "white",
            "linecolor": "white",
            "ticks": ""
           }
          },
          "title": {
           "x": 0.05
          },
          "xaxis": {
           "automargin": true,
           "gridcolor": "white",
           "linecolor": "white",
           "ticks": "",
           "title": {
            "standoff": 15
           },
           "zerolinecolor": "white",
           "zerolinewidth": 2
          },
          "yaxis": {
           "automargin": true,
           "gridcolor": "white",
           "linecolor": "white",
           "ticks": "",
           "title": {
            "standoff": 15
           },
           "zerolinecolor": "white",
           "zerolinewidth": 2
          }
         }
        },
        "title": {
         "text": "<b>MAPPING OUT OIL"
        }
       }
      },
      "text/html": [
       "<div>\n",
       "        \n",
       "        \n",
       "            <div id=\"e0d3e367-565f-4949-92c5-60badbb39a44\" class=\"plotly-graph-div\" style=\"height:525px; width:100%;\"></div>\n",
       "            <script type=\"text/javascript\">\n",
       "                require([\"plotly\"], function(Plotly) {\n",
       "                    window.PLOTLYENV=window.PLOTLYENV || {};\n",
       "                    \n",
       "                if (document.getElementById(\"e0d3e367-565f-4949-92c5-60badbb39a44\")) {\n",
       "                    Plotly.newPlot(\n",
       "                        'e0d3e367-565f-4949-92c5-60badbb39a44',\n",
       "                        [{\"link\": {\"color\": \"rgba(23, 190, 207, 0.8)\", \"label\": [null, null, null, null, null, null, null, null, null, null, null], \"source\": [2, 2, 2, 2, 2, 2, 2, 2, 36, 38, 37], \"target\": [12, 30, 18, 31, 32, 19, 33, 20, 37, 37, 2], \"value\": [121.066, 128.69, 135.835, 14.458, 206.267, 3.64, 33.218, 4.413, 504.287, 107.703, 611.99]}, \"node\": {\"color\": \"#EEB72B\", \"label\": [\"Agricultural 'waste'\", \"Bio-conversion\", \"Liquid\", \"Losses\", \"Solid\", \"Gas\", \"Biofuel imports\", \"Biomass imports\", \"Coal imports\", \"Coal\", \"Coal reserves\", \"District heating\", \"Industry\", \"Heating and cooling - commercial\", \"Heating and cooling - homes\", \"Electricity grid\", \"Over generation / exports\", \"H2 conversion\", \"Road transport\", \"Agriculture\", \"Rail transport\", \"Lighting & appliances - commercial\", \"Lighting & appliances - homes\", \"Gas imports\", \"Ngas\", \"Gas reserves\", \"Thermal generation\", \"Geothermal\", \"H2\", \"Hydro\", \"International shipping\", \"Domestic aviation\", \"International aviation\", \"National navigation\", \"Marine algae\", \"Nuclear\", \"Oil imports\", \"Oil\", \"Oil reserves\", \"Other waste\", \"Pumped heat\", \"Solar PV\", \"Solar Thermal\", \"Solar\", \"Tidal\", \"UK land based bioenergy\", \"Wave\", \"Wind\"], \"line\": {\"color\": \"rgba(188, 189, 34, 0.8)\", \"width\": 0.5}, \"pad\": 15, \"thickness\": 15}, \"orientation\": \"h\", \"textfont\": {\"color\": \"#ffffff\", \"family\": \"Raleway\", \"size\": 17}, \"type\": \"sankey\", \"valueformat\": \".0f\", \"valuesuffix\": \"TWh\"}],\n",
       "                        {\"font\": {\"color\": \"#EEB72B\", \"family\": \"Raleway\", \"size\": 30}, \"hovermode\": \"x\", \"paper_bgcolor\": \"#242424\", \"plot_bgcolor\": \"#000000\", \"template\": {\"data\": {\"bar\": [{\"error_x\": {\"color\": \"#2a3f5f\"}, \"error_y\": {\"color\": \"#2a3f5f\"}, \"marker\": {\"line\": {\"color\": \"#E5ECF6\", \"width\": 0.5}}, \"type\": \"bar\"}], \"barpolar\": [{\"marker\": {\"line\": {\"color\": \"#E5ECF6\", \"width\": 0.5}}, \"type\": \"barpolar\"}], \"carpet\": [{\"aaxis\": {\"endlinecolor\": \"#2a3f5f\", \"gridcolor\": \"white\", \"linecolor\": \"white\", \"minorgridcolor\": \"white\", \"startlinecolor\": \"#2a3f5f\"}, \"baxis\": {\"endlinecolor\": \"#2a3f5f\", \"gridcolor\": \"white\", \"linecolor\": \"white\", \"minorgridcolor\": \"white\", \"startlinecolor\": \"#2a3f5f\"}, \"type\": \"carpet\"}], \"choropleth\": [{\"colorbar\": {\"outlinewidth\": 0, \"ticks\": \"\"}, \"type\": \"choropleth\"}], \"contour\": [{\"colorbar\": {\"outlinewidth\": 0, \"ticks\": \"\"}, \"colorscale\": [[0.0, \"#0d0887\"], [0.1111111111111111, \"#46039f\"], [0.2222222222222222, \"#7201a8\"], [0.3333333333333333, \"#9c179e\"], [0.4444444444444444, \"#bd3786\"], [0.5555555555555556, \"#d8576b\"], [0.6666666666666666, \"#ed7953\"], [0.7777777777777778, \"#fb9f3a\"], [0.8888888888888888, \"#fdca26\"], [1.0, \"#f0f921\"]], \"type\": \"contour\"}], \"contourcarpet\": [{\"colorbar\": {\"outlinewidth\": 0, \"ticks\": \"\"}, \"type\": \"contourcarpet\"}], \"heatmap\": [{\"colorbar\": {\"outlinewidth\": 0, \"ticks\": \"\"}, \"colorscale\": [[0.0, \"#0d0887\"], [0.1111111111111111, \"#46039f\"], [0.2222222222222222, \"#7201a8\"], [0.3333333333333333, \"#9c179e\"], [0.4444444444444444, \"#bd3786\"], [0.5555555555555556, \"#d8576b\"], [0.6666666666666666, \"#ed7953\"], [0.7777777777777778, \"#fb9f3a\"], [0.8888888888888888, \"#fdca26\"], [1.0, \"#f0f921\"]], \"type\": \"heatmap\"}], \"heatmapgl\": [{\"colorbar\": {\"outlinewidth\": 0, \"ticks\": \"\"}, \"colorscale\": [[0.0, \"#0d0887\"], [0.1111111111111111, \"#46039f\"], [0.2222222222222222, \"#7201a8\"], [0.3333333333333333, \"#9c179e\"], [0.4444444444444444, \"#bd3786\"], [0.5555555555555556, \"#d8576b\"], [0.6666666666666666, \"#ed7953\"], [0.7777777777777778, \"#fb9f3a\"], [0.8888888888888888, \"#fdca26\"], [1.0, \"#f0f921\"]], \"type\": \"heatmapgl\"}], \"histogram\": [{\"marker\": {\"colorbar\": {\"outlinewidth\": 0, \"ticks\": \"\"}}, \"type\": \"histogram\"}], \"histogram2d\": [{\"colorbar\": {\"outlinewidth\": 0, \"ticks\": \"\"}, \"colorscale\": [[0.0, \"#0d0887\"], [0.1111111111111111, \"#46039f\"], [0.2222222222222222, \"#7201a8\"], [0.3333333333333333, \"#9c179e\"], [0.4444444444444444, \"#bd3786\"], [0.5555555555555556, \"#d8576b\"], [0.6666666666666666, \"#ed7953\"], [0.7777777777777778, \"#fb9f3a\"], [0.8888888888888888, \"#fdca26\"], [1.0, \"#f0f921\"]], \"type\": \"histogram2d\"}], \"histogram2dcontour\": [{\"colorbar\": {\"outlinewidth\": 0, \"ticks\": \"\"}, \"colorscale\": [[0.0, \"#0d0887\"], [0.1111111111111111, \"#46039f\"], [0.2222222222222222, \"#7201a8\"], [0.3333333333333333, \"#9c179e\"], [0.4444444444444444, \"#bd3786\"], [0.5555555555555556, \"#d8576b\"], [0.6666666666666666, \"#ed7953\"], [0.7777777777777778, \"#fb9f3a\"], [0.8888888888888888, \"#fdca26\"], [1.0, \"#f0f921\"]], \"type\": \"histogram2dcontour\"}], \"mesh3d\": [{\"colorbar\": {\"outlinewidth\": 0, \"ticks\": \"\"}, \"type\": \"mesh3d\"}], \"parcoords\": [{\"line\": {\"colorbar\": {\"outlinewidth\": 0, \"ticks\": \"\"}}, \"type\": \"parcoords\"}], \"pie\": [{\"automargin\": true, \"type\": \"pie\"}], \"scatter\": [{\"marker\": {\"colorbar\": {\"outlinewidth\": 0, \"ticks\": \"\"}}, \"type\": \"scatter\"}], \"scatter3d\": [{\"line\": {\"colorbar\": {\"outlinewidth\": 0, \"ticks\": \"\"}}, \"marker\": {\"colorbar\": {\"outlinewidth\": 0, \"ticks\": \"\"}}, \"type\": \"scatter3d\"}], \"scattercarpet\": [{\"marker\": {\"colorbar\": {\"outlinewidth\": 0, \"ticks\": \"\"}}, \"type\": \"scattercarpet\"}], \"scattergeo\": [{\"marker\": {\"colorbar\": {\"outlinewidth\": 0, \"ticks\": \"\"}}, \"type\": \"scattergeo\"}], \"scattergl\": [{\"marker\": {\"colorbar\": {\"outlinewidth\": 0, \"ticks\": \"\"}}, \"type\": \"scattergl\"}], \"scattermapbox\": [{\"marker\": {\"colorbar\": {\"outlinewidth\": 0, \"ticks\": \"\"}}, \"type\": \"scattermapbox\"}], \"scatterpolar\": [{\"marker\": {\"colorbar\": {\"outlinewidth\": 0, \"ticks\": \"\"}}, \"type\": \"scatterpolar\"}], \"scatterpolargl\": [{\"marker\": {\"colorbar\": {\"outlinewidth\": 0, \"ticks\": \"\"}}, \"type\": \"scatterpolargl\"}], \"scatterternary\": [{\"marker\": {\"colorbar\": {\"outlinewidth\": 0, \"ticks\": \"\"}}, \"type\": \"scatterternary\"}], \"surface\": [{\"colorbar\": {\"outlinewidth\": 0, \"ticks\": \"\"}, \"colorscale\": [[0.0, \"#0d0887\"], [0.1111111111111111, \"#46039f\"], [0.2222222222222222, \"#7201a8\"], [0.3333333333333333, \"#9c179e\"], [0.4444444444444444, \"#bd3786\"], [0.5555555555555556, \"#d8576b\"], [0.6666666666666666, \"#ed7953\"], [0.7777777777777778, \"#fb9f3a\"], [0.8888888888888888, \"#fdca26\"], [1.0, \"#f0f921\"]], \"type\": \"surface\"}], \"table\": [{\"cells\": {\"fill\": {\"color\": \"#EBF0F8\"}, \"line\": {\"color\": \"white\"}}, \"header\": {\"fill\": {\"color\": \"#C8D4E3\"}, \"line\": {\"color\": \"white\"}}, \"type\": \"table\"}]}, \"layout\": {\"annotationdefaults\": {\"arrowcolor\": \"#2a3f5f\", \"arrowhead\": 0, \"arrowwidth\": 1}, \"coloraxis\": {\"colorbar\": {\"outlinewidth\": 0, \"ticks\": \"\"}}, \"colorscale\": {\"diverging\": [[0, \"#8e0152\"], [0.1, \"#c51b7d\"], [0.2, \"#de77ae\"], [0.3, \"#f1b6da\"], [0.4, \"#fde0ef\"], [0.5, \"#f7f7f7\"], [0.6, \"#e6f5d0\"], [0.7, \"#b8e186\"], [0.8, \"#7fbc41\"], [0.9, \"#4d9221\"], [1, \"#276419\"]], \"sequential\": [[0.0, \"#0d0887\"], [0.1111111111111111, \"#46039f\"], [0.2222222222222222, \"#7201a8\"], [0.3333333333333333, \"#9c179e\"], [0.4444444444444444, \"#bd3786\"], [0.5555555555555556, \"#d8576b\"], [0.6666666666666666, \"#ed7953\"], [0.7777777777777778, \"#fb9f3a\"], [0.8888888888888888, \"#fdca26\"], [1.0, \"#f0f921\"]], \"sequentialminus\": [[0.0, \"#0d0887\"], [0.1111111111111111, \"#46039f\"], [0.2222222222222222, \"#7201a8\"], [0.3333333333333333, \"#9c179e\"], [0.4444444444444444, \"#bd3786\"], [0.5555555555555556, \"#d8576b\"], [0.6666666666666666, \"#ed7953\"], [0.7777777777777778, \"#fb9f3a\"], [0.8888888888888888, \"#fdca26\"], [1.0, \"#f0f921\"]]}, \"colorway\": [\"#636efa\", \"#EF553B\", \"#00cc96\", \"#ab63fa\", \"#FFA15A\", \"#19d3f3\", \"#FF6692\", \"#B6E880\", \"#FF97FF\", \"#FECB52\"], \"font\": {\"color\": \"#2a3f5f\"}, \"geo\": {\"bgcolor\": \"white\", \"lakecolor\": \"white\", \"landcolor\": \"#E5ECF6\", \"showlakes\": true, \"showland\": true, \"subunitcolor\": \"white\"}, \"hoverlabel\": {\"align\": \"left\"}, \"hovermode\": \"closest\", \"mapbox\": {\"style\": \"light\"}, \"paper_bgcolor\": \"white\", \"plot_bgcolor\": \"#E5ECF6\", \"polar\": {\"angularaxis\": {\"gridcolor\": \"white\", \"linecolor\": \"white\", \"ticks\": \"\"}, \"bgcolor\": \"#E5ECF6\", \"radialaxis\": {\"gridcolor\": \"white\", \"linecolor\": \"white\", \"ticks\": \"\"}}, \"scene\": {\"xaxis\": {\"backgroundcolor\": \"#E5ECF6\", \"gridcolor\": \"white\", \"gridwidth\": 2, \"linecolor\": \"white\", \"showbackground\": true, \"ticks\": \"\", \"zerolinecolor\": \"white\"}, \"yaxis\": {\"backgroundcolor\": \"#E5ECF6\", \"gridcolor\": \"white\", \"gridwidth\": 2, \"linecolor\": \"white\", \"showbackground\": true, \"ticks\": \"\", \"zerolinecolor\": \"white\"}, \"zaxis\": {\"backgroundcolor\": \"#E5ECF6\", \"gridcolor\": \"white\", \"gridwidth\": 2, \"linecolor\": \"white\", \"showbackground\": true, \"ticks\": \"\", \"zerolinecolor\": \"white\"}}, \"shapedefaults\": {\"line\": {\"color\": \"#2a3f5f\"}}, \"ternary\": {\"aaxis\": {\"gridcolor\": \"white\", \"linecolor\": \"white\", \"ticks\": \"\"}, \"baxis\": {\"gridcolor\": \"white\", \"linecolor\": \"white\", \"ticks\": \"\"}, \"bgcolor\": \"#E5ECF6\", \"caxis\": {\"gridcolor\": \"white\", \"linecolor\": \"white\", \"ticks\": \"\"}}, \"title\": {\"x\": 0.05}, \"xaxis\": {\"automargin\": true, \"gridcolor\": \"white\", \"linecolor\": \"white\", \"ticks\": \"\", \"title\": {\"standoff\": 15}, \"zerolinecolor\": \"white\", \"zerolinewidth\": 2}, \"yaxis\": {\"automargin\": true, \"gridcolor\": \"white\", \"linecolor\": \"white\", \"ticks\": \"\", \"title\": {\"standoff\": 15}, \"zerolinecolor\": \"white\", \"zerolinewidth\": 2}}}, \"title\": {\"text\": \"<b>MAPPING OUT OIL\"}},\n",
       "                        {\"responsive\": true}\n",
       "                    ).then(function(){\n",
       "                            \n",
       "var gd = document.getElementById('e0d3e367-565f-4949-92c5-60badbb39a44');\n",
       "var x = new MutationObserver(function (mutations, observer) {{\n",
       "        var display = window.getComputedStyle(gd).display;\n",
       "        if (!display || display === 'none') {{\n",
       "            console.log([gd, 'removed!']);\n",
       "            Plotly.purge(gd);\n",
       "            observer.disconnect();\n",
       "        }}\n",
       "}});\n",
       "\n",
       "// Listen for the removal of the full notebook cells\n",
       "var notebookContainer = gd.closest('#notebook-container');\n",
       "if (notebookContainer) {{\n",
       "    x.observe(notebookContainer, {childList: true});\n",
       "}}\n",
       "\n",
       "// Listen for the clearing of the current output cell\n",
       "var outputEl = gd.closest('.output');\n",
       "if (outputEl) {{\n",
       "    x.observe(outputEl, {childList: true});\n",
       "}}\n",
       "\n",
       "                        })\n",
       "                };\n",
       "                });\n",
       "            </script>\n",
       "        </div>"
      ]
     },
     "metadata": {},
     "output_type": "display_data"
    }
   ],
   "source": [
    "import numpy as np\n",
    "import pandas as pd\n",
    "import plotly.graph_objects as go\n",
    "import chart_studio.plotly as py\n",
    "\n",
    "\n",
    "oil = pd.read_excel('oil.xlsx')\n",
    "\n",
    "fig = go.Figure(data=[go.Sankey(\n",
    "    valueformat = \".0f\",\n",
    "    valuesuffix = \"TWh\",\n",
    "    node = dict(\n",
    "      pad = 15,\n",
    "      thickness = 15,\n",
    "      line = dict(color = \"rgba(188, 189, 34, 0.8)\", width = 0.5),\n",
    "      label =  cdf['Labels'].dropna(),\n",
    "        color = '#EEB72B',\n",
    "        \n",
    "    ),\n",
    "    orientation = 'h',\n",
    "    textfont = dict(size = 17, color = '#ffffff', family = 'Raleway'),\n",
    "    link = dict(\n",
    "      source =  oil['source'],\n",
    "      target =  oil['target'],\n",
    "      value =  oil['value'],\n",
    "      label =  oil['label'],\n",
    "        color = 'rgba(23, 190, 207, 0.8)'\n",
    "  ))])\n",
    "fig.update_layout(\n",
    "    hovermode = 'x',\n",
    "    title=\"<b>MAPPING OUT OIL\",\n",
    "    font=dict(size = 30, color = '#EEB72B', family = 'Raleway'),\n",
    "    plot_bgcolor='#000000',\n",
    "    paper_bgcolor='#242424'\n",
    ")\n",
    "\n",
    "#py.plot(fig, filename = 'map_oil')\n",
    "fig.show()"
   ]
  },
  {
   "cell_type": "code",
   "execution_count": 5,
   "metadata": {},
   "outputs": [
    {
     "name": "stdout",
     "output_type": "stream",
     "text": [
      "Help on class Sankey in module plotly.graph_objs._sankey:\n",
      "\n",
      "class Sankey(plotly.basedatatypes.BaseTraceType)\n",
      " |  Sankey(arg=None, arrangement=None, customdata=None, customdatasrc=None, domain=None, hoverinfo=None, hoverlabel=None, ids=None, idssrc=None, link=None, meta=None, metasrc=None, name=None, node=None, orientation=None, selectedpoints=None, stream=None, textfont=None, uid=None, uirevision=None, valueformat=None, valuesuffix=None, visible=None, **kwargs)\n",
      " |  \n",
      " |  Base class for the all trace types.\n",
      " |  \n",
      " |  Specific trace type classes (Scatter, Bar, etc.) are code generated as\n",
      " |  subclasses of this class.\n",
      " |  \n",
      " |  Method resolution order:\n",
      " |      Sankey\n",
      " |      plotly.basedatatypes.BaseTraceType\n",
      " |      plotly.basedatatypes.BaseTraceHierarchyType\n",
      " |      plotly.basedatatypes.BasePlotlyType\n",
      " |      builtins.object\n",
      " |  \n",
      " |  Methods defined here:\n",
      " |  \n",
      " |  __init__(self, arg=None, arrangement=None, customdata=None, customdatasrc=None, domain=None, hoverinfo=None, hoverlabel=None, ids=None, idssrc=None, link=None, meta=None, metasrc=None, name=None, node=None, orientation=None, selectedpoints=None, stream=None, textfont=None, uid=None, uirevision=None, valueformat=None, valuesuffix=None, visible=None, **kwargs)\n",
      " |      Construct a new Sankey object\n",
      " |      \n",
      " |      Sankey plots for network flow data analysis. The nodes are\n",
      " |      specified in `nodes` and the links between sources and targets\n",
      " |      in `links`. The colors are set in `nodes[i].color` and\n",
      " |      `links[i].color`, otherwise defaults are used.\n",
      " |      \n",
      " |      Parameters\n",
      " |      ----------\n",
      " |      arg\n",
      " |          dict of properties compatible with this constructor or\n",
      " |          an instance of :class:`plotly.graph_objs.Sankey`\n",
      " |      arrangement\n",
      " |          If value is `snap` (the default), the node arrangement\n",
      " |          is assisted by automatic snapping of elements to\n",
      " |          preserve space between nodes specified via `nodepad`.\n",
      " |          If value is `perpendicular`, the nodes can only move\n",
      " |          along a line perpendicular to the flow. If value is\n",
      " |          `freeform`, the nodes can freely move on the plane. If\n",
      " |          value is `fixed`, the nodes are stationary.\n",
      " |      customdata\n",
      " |          Assigns extra data each datum. This may be useful when\n",
      " |          listening to hover, click and selection events. Note\n",
      " |          that, \"scatter\" traces also appends customdata items in\n",
      " |          the markers DOM elements\n",
      " |      customdatasrc\n",
      " |          Sets the source reference on Chart Studio Cloud for\n",
      " |          customdata .\n",
      " |      domain\n",
      " |          :class:`plotly.graph_objects.sankey.Domain` instance or\n",
      " |          dict with compatible properties\n",
      " |      hoverinfo\n",
      " |          Determines which trace information appear on hover. If\n",
      " |          `none` or `skip` are set, no information is displayed\n",
      " |          upon hovering. But, if `none` is set, click and hover\n",
      " |          events are still fired. Note that this attribute is\n",
      " |          superseded by `node.hoverinfo` and `node.hoverinfo` for\n",
      " |          nodes and links respectively.\n",
      " |      hoverlabel\n",
      " |          :class:`plotly.graph_objects.sankey.Hoverlabel`\n",
      " |          instance or dict with compatible properties\n",
      " |      ids\n",
      " |          Assigns id labels to each datum. These ids for object\n",
      " |          constancy of data points during animation. Should be an\n",
      " |          array of strings, not numbers or any other type.\n",
      " |      idssrc\n",
      " |          Sets the source reference on Chart Studio Cloud for\n",
      " |          ids .\n",
      " |      link\n",
      " |          The links of the Sankey plot.\n",
      " |      meta\n",
      " |          Assigns extra meta information associated with this\n",
      " |          trace that can be used in various text attributes.\n",
      " |          Attributes such as trace `name`, graph, axis and\n",
      " |          colorbar `title.text`, annotation `text`\n",
      " |          `rangeselector`, `updatemenues` and `sliders` `label`\n",
      " |          text all support `meta`. To access the trace `meta`\n",
      " |          values in an attribute in the same trace, simply use\n",
      " |          `%{meta[i]}` where `i` is the index or key of the\n",
      " |          `meta` item in question. To access trace `meta` in\n",
      " |          layout attributes, use `%{data[n[.meta[i]}` where `i`\n",
      " |          is the index or key of the `meta` and `n` is the trace\n",
      " |          index.\n",
      " |      metasrc\n",
      " |          Sets the source reference on Chart Studio Cloud for\n",
      " |          meta .\n",
      " |      name\n",
      " |          Sets the trace name. The trace name appear as the\n",
      " |          legend item and on hover.\n",
      " |      node\n",
      " |          The nodes of the Sankey plot.\n",
      " |      orientation\n",
      " |          Sets the orientation of the Sankey diagram.\n",
      " |      selectedpoints\n",
      " |          Array containing integer indices of selected points.\n",
      " |          Has an effect only for traces that support selections.\n",
      " |          Note that an empty array means an empty selection where\n",
      " |          the `unselected` are turned on for all points, whereas,\n",
      " |          any other non-array values means no selection all where\n",
      " |          the `selected` and `unselected` styles have no effect.\n",
      " |      stream\n",
      " |          :class:`plotly.graph_objects.sankey.Stream` instance or\n",
      " |          dict with compatible properties\n",
      " |      textfont\n",
      " |          Sets the font for node labels\n",
      " |      uid\n",
      " |          Assign an id to this trace, Use this to provide object\n",
      " |          constancy between traces during animations and\n",
      " |          transitions.\n",
      " |      uirevision\n",
      " |          Controls persistence of some user-driven changes to the\n",
      " |          trace: `constraintrange` in `parcoords` traces, as well\n",
      " |          as some `editable: true` modifications such as `name`\n",
      " |          and `colorbar.title`. Defaults to `layout.uirevision`.\n",
      " |          Note that other user-driven trace attribute changes are\n",
      " |          controlled by `layout` attributes: `trace.visible` is\n",
      " |          controlled by `layout.legend.uirevision`,\n",
      " |          `selectedpoints` is controlled by\n",
      " |          `layout.selectionrevision`, and `colorbar.(x|y)`\n",
      " |          (accessible with `config: {editable: true}`) is\n",
      " |          controlled by `layout.editrevision`. Trace changes are\n",
      " |          tracked by `uid`, which only falls back on trace index\n",
      " |          if no `uid` is provided. So if your app can add/remove\n",
      " |          traces before the end of the `data` array, such that\n",
      " |          the same trace has a different index, you can still\n",
      " |          preserve user-driven changes if you give each trace a\n",
      " |          `uid` that stays with it as it moves.\n",
      " |      valueformat\n",
      " |          Sets the value formatting rule using d3 formatting\n",
      " |          mini-language which is similar to those of Python. See\n",
      " |          https://github.com/d3/d3-3.x-api-\n",
      " |          reference/blob/master/Formatting.md#d3_format\n",
      " |      valuesuffix\n",
      " |          Adds a unit to follow the value in the hover tooltip.\n",
      " |          Add a space if a separation is necessary from the\n",
      " |          value.\n",
      " |      visible\n",
      " |          Determines whether or not this trace is visible. If\n",
      " |          \"legendonly\", the trace is not drawn, but can appear as\n",
      " |          a legend item (provided that the legend itself is\n",
      " |          visible).\n",
      " |      \n",
      " |      Returns\n",
      " |      -------\n",
      " |      Sankey\n",
      " |  \n",
      " |  ----------------------------------------------------------------------\n",
      " |  Readonly properties defined here:\n",
      " |  \n",
      " |  type\n",
      " |  \n",
      " |  ----------------------------------------------------------------------\n",
      " |  Data descriptors defined here:\n",
      " |  \n",
      " |  arrangement\n",
      " |      If value is `snap` (the default), the node arrangement is\n",
      " |      assisted by automatic snapping of elements to preserve space\n",
      " |      between nodes specified via `nodepad`. If value is\n",
      " |      `perpendicular`, the nodes can only move along a line\n",
      " |      perpendicular to the flow. If value is `freeform`, the nodes\n",
      " |      can freely move on the plane. If value is `fixed`, the nodes\n",
      " |      are stationary.\n",
      " |      \n",
      " |      The 'arrangement' property is an enumeration that may be specified as:\n",
      " |        - One of the following enumeration values:\n",
      " |              ['snap', 'perpendicular', 'freeform', 'fixed']\n",
      " |      \n",
      " |      Returns\n",
      " |      -------\n",
      " |      Any\n",
      " |  \n",
      " |  customdata\n",
      " |      Assigns extra data each datum. This may be useful when\n",
      " |      listening to hover, click and selection events. Note that,\n",
      " |      \"scatter\" traces also appends customdata items in the markers\n",
      " |      DOM elements\n",
      " |      \n",
      " |      The 'customdata' property is an array that may be specified as a tuple,\n",
      " |      list, numpy array, or pandas Series\n",
      " |      \n",
      " |      Returns\n",
      " |      -------\n",
      " |      numpy.ndarray\n",
      " |  \n",
      " |  customdatasrc\n",
      " |      Sets the source reference on Chart Studio Cloud for  customdata\n",
      " |      .\n",
      " |      \n",
      " |      The 'customdatasrc' property must be specified as a string or\n",
      " |      as a plotly.grid_objs.Column object\n",
      " |      \n",
      " |      Returns\n",
      " |      -------\n",
      " |      str\n",
      " |  \n",
      " |  domain\n",
      " |      The 'domain' property is an instance of Domain\n",
      " |      that may be specified as:\n",
      " |        - An instance of :class:`plotly.graph_objs.sankey.Domain`\n",
      " |        - A dict of string/value properties that will be passed\n",
      " |          to the Domain constructor\n",
      " |      \n",
      " |          Supported dict properties:\n",
      " |              \n",
      " |              column\n",
      " |                  If there is a layout grid, use the domain for\n",
      " |                  this column in the grid for this sankey trace .\n",
      " |              row\n",
      " |                  If there is a layout grid, use the domain for\n",
      " |                  this row in the grid for this sankey trace .\n",
      " |              x\n",
      " |                  Sets the horizontal domain of this sankey trace\n",
      " |                  (in plot fraction).\n",
      " |              y\n",
      " |                  Sets the vertical domain of this sankey trace\n",
      " |                  (in plot fraction).\n",
      " |      \n",
      " |      Returns\n",
      " |      -------\n",
      " |      plotly.graph_objs.sankey.Domain\n",
      " |  \n",
      " |  hoverinfo\n",
      " |      Determines which trace information appear on hover. If `none`\n",
      " |      or `skip` are set, no information is displayed upon hovering.\n",
      " |      But, if `none` is set, click and hover events are still fired.\n",
      " |      Note that this attribute is superseded by `node.hoverinfo` and\n",
      " |      `node.hoverinfo` for nodes and links respectively.\n",
      " |      \n",
      " |      The 'hoverinfo' property is a flaglist and may be specified\n",
      " |      as a string containing:\n",
      " |        - Any combination of [] joined with '+' characters\n",
      " |          (e.g. '')\n",
      " |          OR exactly one of ['all', 'none', 'skip'] (e.g. 'skip')\n",
      " |      \n",
      " |      Returns\n",
      " |      -------\n",
      " |      Any\n",
      " |  \n",
      " |  hoverlabel\n",
      " |      The 'hoverlabel' property is an instance of Hoverlabel\n",
      " |      that may be specified as:\n",
      " |        - An instance of :class:`plotly.graph_objs.sankey.Hoverlabel`\n",
      " |        - A dict of string/value properties that will be passed\n",
      " |          to the Hoverlabel constructor\n",
      " |      \n",
      " |          Supported dict properties:\n",
      " |              \n",
      " |              align\n",
      " |                  Sets the horizontal alignment of the text\n",
      " |                  content within hover label box. Has an effect\n",
      " |                  only if the hover label text spans more two or\n",
      " |                  more lines\n",
      " |              alignsrc\n",
      " |                  Sets the source reference on Chart Studio Cloud\n",
      " |                  for  align .\n",
      " |              bgcolor\n",
      " |                  Sets the background color of the hover labels\n",
      " |                  for this trace\n",
      " |              bgcolorsrc\n",
      " |                  Sets the source reference on Chart Studio Cloud\n",
      " |                  for  bgcolor .\n",
      " |              bordercolor\n",
      " |                  Sets the border color of the hover labels for\n",
      " |                  this trace.\n",
      " |              bordercolorsrc\n",
      " |                  Sets the source reference on Chart Studio Cloud\n",
      " |                  for  bordercolor .\n",
      " |              font\n",
      " |                  Sets the font used in hover labels.\n",
      " |              namelength\n",
      " |                  Sets the default length (in number of\n",
      " |                  characters) of the trace name in the hover\n",
      " |                  labels for all traces. -1 shows the whole name\n",
      " |                  regardless of length. 0-3 shows the first 0-3\n",
      " |                  characters, and an integer >3 will show the\n",
      " |                  whole name if it is less than that many\n",
      " |                  characters, but if it is longer, will truncate\n",
      " |                  to `namelength - 3` characters and add an\n",
      " |                  ellipsis.\n",
      " |              namelengthsrc\n",
      " |                  Sets the source reference on Chart Studio Cloud\n",
      " |                  for  namelength .\n",
      " |      \n",
      " |      Returns\n",
      " |      -------\n",
      " |      plotly.graph_objs.sankey.Hoverlabel\n",
      " |  \n",
      " |  ids\n",
      " |      Assigns id labels to each datum. These ids for object constancy\n",
      " |      of data points during animation. Should be an array of strings,\n",
      " |      not numbers or any other type.\n",
      " |      \n",
      " |      The 'ids' property is an array that may be specified as a tuple,\n",
      " |      list, numpy array, or pandas Series\n",
      " |      \n",
      " |      Returns\n",
      " |      -------\n",
      " |      numpy.ndarray\n",
      " |  \n",
      " |  idssrc\n",
      " |      Sets the source reference on Chart Studio Cloud for  ids .\n",
      " |      \n",
      " |      The 'idssrc' property must be specified as a string or\n",
      " |      as a plotly.grid_objs.Column object\n",
      " |      \n",
      " |      Returns\n",
      " |      -------\n",
      " |      str\n",
      " |  \n",
      " |  link\n",
      " |      The links of the Sankey plot.\n",
      " |      \n",
      " |      The 'link' property is an instance of Link\n",
      " |      that may be specified as:\n",
      " |        - An instance of :class:`plotly.graph_objs.sankey.Link`\n",
      " |        - A dict of string/value properties that will be passed\n",
      " |          to the Link constructor\n",
      " |      \n",
      " |          Supported dict properties:\n",
      " |              \n",
      " |              color\n",
      " |                  Sets the `link` color. It can be a single\n",
      " |                  value, or an array for specifying color for\n",
      " |                  each `link`. If `link.color` is omitted, then\n",
      " |                  by default, a translucent grey link will be\n",
      " |                  used.\n",
      " |              colorscales\n",
      " |                  A tuple of :class:`plotly.graph_objects.sankey.\n",
      " |                  link.Colorscale` instances or dicts with\n",
      " |                  compatible properties\n",
      " |              colorscaledefaults\n",
      " |                  When used in a template (as layout.template.dat\n",
      " |                  a.sankey.link.colorscaledefaults), sets the\n",
      " |                  default property values to use for elements of\n",
      " |                  sankey.link.colorscales\n",
      " |              colorsrc\n",
      " |                  Sets the source reference on Chart Studio Cloud\n",
      " |                  for  color .\n",
      " |              customdata\n",
      " |                  Assigns extra data to each link.\n",
      " |              customdatasrc\n",
      " |                  Sets the source reference on Chart Studio Cloud\n",
      " |                  for  customdata .\n",
      " |              hoverinfo\n",
      " |                  Determines which trace information appear when\n",
      " |                  hovering links. If `none` or `skip` are set, no\n",
      " |                  information is displayed upon hovering. But, if\n",
      " |                  `none` is set, click and hover events are still\n",
      " |                  fired.\n",
      " |              hoverlabel\n",
      " |                  :class:`plotly.graph_objects.sankey.link.Hoverl\n",
      " |                  abel` instance or dict with compatible\n",
      " |                  properties\n",
      " |              hovertemplate\n",
      " |                  Template string used for rendering the\n",
      " |                  information that appear on hover box. Note that\n",
      " |                  this will override `hoverinfo`. Variables are\n",
      " |                  inserted using %{variable}, for example \"y:\n",
      " |                  %{y}\". Numbers are formatted using d3-format's\n",
      " |                  syntax %{variable:d3-format}, for example\n",
      " |                  \"Price: %{y:$.2f}\".\n",
      " |                  https://github.com/d3/d3-3.x-api-\n",
      " |                  reference/blob/master/Formatting.md#d3_format\n",
      " |                  for details on the formatting syntax. Dates are\n",
      " |                  formatted using d3-time-format's syntax\n",
      " |                  %{variable|d3-time-format}, for example \"Day:\n",
      " |                  %{2019-01-01|%A}\".\n",
      " |                  https://github.com/d3/d3-3.x-api-\n",
      " |                  reference/blob/master/Time-Formatting.md#format\n",
      " |                  for details on the date formatting syntax. The\n",
      " |                  variables available in `hovertemplate` are the\n",
      " |                  ones emitted as event data described at this\n",
      " |                  link https://plotly.com/javascript/plotlyjs-\n",
      " |                  events/#event-data. Additionally, every\n",
      " |                  attributes that can be specified per-point (the\n",
      " |                  ones that are `arrayOk: true`) are available.\n",
      " |                  variables `value` and `label`. Anything\n",
      " |                  contained in tag `<extra>` is displayed in the\n",
      " |                  secondary box, for example\n",
      " |                  \"<extra>{fullData.name}</extra>\". To hide the\n",
      " |                  secondary box completely, use an empty tag\n",
      " |                  `<extra></extra>`.\n",
      " |              hovertemplatesrc\n",
      " |                  Sets the source reference on Chart Studio Cloud\n",
      " |                  for  hovertemplate .\n",
      " |              label\n",
      " |                  The shown name of the link.\n",
      " |              labelsrc\n",
      " |                  Sets the source reference on Chart Studio Cloud\n",
      " |                  for  label .\n",
      " |              line\n",
      " |                  :class:`plotly.graph_objects.sankey.link.Line`\n",
      " |                  instance or dict with compatible properties\n",
      " |              source\n",
      " |                  An integer number `[0..nodes.length - 1]` that\n",
      " |                  represents the source node.\n",
      " |              sourcesrc\n",
      " |                  Sets the source reference on Chart Studio Cloud\n",
      " |                  for  source .\n",
      " |              target\n",
      " |                  An integer number `[0..nodes.length - 1]` that\n",
      " |                  represents the target node.\n",
      " |              targetsrc\n",
      " |                  Sets the source reference on Chart Studio Cloud\n",
      " |                  for  target .\n",
      " |              value\n",
      " |                  A numeric value representing the flow volume\n",
      " |                  value.\n",
      " |              valuesrc\n",
      " |                  Sets the source reference on Chart Studio Cloud\n",
      " |                  for  value .\n",
      " |      \n",
      " |      Returns\n",
      " |      -------\n",
      " |      plotly.graph_objs.sankey.Link\n",
      " |  \n",
      " |  meta\n",
      " |      Assigns extra meta information associated with this trace that\n",
      " |      can be used in various text attributes. Attributes such as\n",
      " |      trace `name`, graph, axis and colorbar `title.text`, annotation\n",
      " |      `text` `rangeselector`, `updatemenues` and `sliders` `label`\n",
      " |      text all support `meta`. To access the trace `meta` values in\n",
      " |      an attribute in the same trace, simply use `%{meta[i]}` where\n",
      " |      `i` is the index or key of the `meta` item in question. To\n",
      " |      access trace `meta` in layout attributes, use\n",
      " |      `%{data[n[.meta[i]}` where `i` is the index or key of the\n",
      " |      `meta` and `n` is the trace index.\n",
      " |      \n",
      " |      The 'meta' property accepts values of any type\n",
      " |      \n",
      " |      Returns\n",
      " |      -------\n",
      " |      Any|numpy.ndarray\n",
      " |  \n",
      " |  metasrc\n",
      " |      Sets the source reference on Chart Studio Cloud for  meta .\n",
      " |      \n",
      " |      The 'metasrc' property must be specified as a string or\n",
      " |      as a plotly.grid_objs.Column object\n",
      " |      \n",
      " |      Returns\n",
      " |      -------\n",
      " |      str\n",
      " |  \n",
      " |  name\n",
      " |      Sets the trace name. The trace name appear as the legend item\n",
      " |      and on hover.\n",
      " |      \n",
      " |      The 'name' property is a string and must be specified as:\n",
      " |        - A string\n",
      " |        - A number that will be converted to a string\n",
      " |      \n",
      " |      Returns\n",
      " |      -------\n",
      " |      str\n",
      " |  \n",
      " |  node\n",
      " |      The nodes of the Sankey plot.\n",
      " |      \n",
      " |      The 'node' property is an instance of Node\n",
      " |      that may be specified as:\n",
      " |        - An instance of :class:`plotly.graph_objs.sankey.Node`\n",
      " |        - A dict of string/value properties that will be passed\n",
      " |          to the Node constructor\n",
      " |      \n",
      " |          Supported dict properties:\n",
      " |              \n",
      " |              color\n",
      " |                  Sets the `node` color. It can be a single\n",
      " |                  value, or an array for specifying color for\n",
      " |                  each `node`. If `node.color` is omitted, then\n",
      " |                  the default `Plotly` color palette will be\n",
      " |                  cycled through to have a variety of colors.\n",
      " |                  These defaults are not fully opaque, to allow\n",
      " |                  some visibility of what is beneath the node.\n",
      " |              colorsrc\n",
      " |                  Sets the source reference on Chart Studio Cloud\n",
      " |                  for  color .\n",
      " |              customdata\n",
      " |                  Assigns extra data to each node.\n",
      " |              customdatasrc\n",
      " |                  Sets the source reference on Chart Studio Cloud\n",
      " |                  for  customdata .\n",
      " |              groups\n",
      " |                  Groups of nodes. Each group is defined by an\n",
      " |                  array with the indices of the nodes it\n",
      " |                  contains. Multiple groups can be specified.\n",
      " |              hoverinfo\n",
      " |                  Determines which trace information appear when\n",
      " |                  hovering nodes. If `none` or `skip` are set, no\n",
      " |                  information is displayed upon hovering. But, if\n",
      " |                  `none` is set, click and hover events are still\n",
      " |                  fired.\n",
      " |              hoverlabel\n",
      " |                  :class:`plotly.graph_objects.sankey.node.Hoverl\n",
      " |                  abel` instance or dict with compatible\n",
      " |                  properties\n",
      " |              hovertemplate\n",
      " |                  Template string used for rendering the\n",
      " |                  information that appear on hover box. Note that\n",
      " |                  this will override `hoverinfo`. Variables are\n",
      " |                  inserted using %{variable}, for example \"y:\n",
      " |                  %{y}\". Numbers are formatted using d3-format's\n",
      " |                  syntax %{variable:d3-format}, for example\n",
      " |                  \"Price: %{y:$.2f}\".\n",
      " |                  https://github.com/d3/d3-3.x-api-\n",
      " |                  reference/blob/master/Formatting.md#d3_format\n",
      " |                  for details on the formatting syntax. Dates are\n",
      " |                  formatted using d3-time-format's syntax\n",
      " |                  %{variable|d3-time-format}, for example \"Day:\n",
      " |                  %{2019-01-01|%A}\".\n",
      " |                  https://github.com/d3/d3-3.x-api-\n",
      " |                  reference/blob/master/Time-Formatting.md#format\n",
      " |                  for details on the date formatting syntax. The\n",
      " |                  variables available in `hovertemplate` are the\n",
      " |                  ones emitted as event data described at this\n",
      " |                  link https://plotly.com/javascript/plotlyjs-\n",
      " |                  events/#event-data. Additionally, every\n",
      " |                  attributes that can be specified per-point (the\n",
      " |                  ones that are `arrayOk: true`) are available.\n",
      " |                  variables `value` and `label`. Anything\n",
      " |                  contained in tag `<extra>` is displayed in the\n",
      " |                  secondary box, for example\n",
      " |                  \"<extra>{fullData.name}</extra>\". To hide the\n",
      " |                  secondary box completely, use an empty tag\n",
      " |                  `<extra></extra>`.\n",
      " |              hovertemplatesrc\n",
      " |                  Sets the source reference on Chart Studio Cloud\n",
      " |                  for  hovertemplate .\n",
      " |              label\n",
      " |                  The shown name of the node.\n",
      " |              labelsrc\n",
      " |                  Sets the source reference on Chart Studio Cloud\n",
      " |                  for  label .\n",
      " |              line\n",
      " |                  :class:`plotly.graph_objects.sankey.node.Line`\n",
      " |                  instance or dict with compatible properties\n",
      " |              pad\n",
      " |                  Sets the padding (in px) between the `nodes`.\n",
      " |              thickness\n",
      " |                  Sets the thickness (in px) of the `nodes`.\n",
      " |              x\n",
      " |                  The normalized horizontal position of the node.\n",
      " |              xsrc\n",
      " |                  Sets the source reference on Chart Studio Cloud\n",
      " |                  for  x .\n",
      " |              y\n",
      " |                  The normalized vertical position of the node.\n",
      " |              ysrc\n",
      " |                  Sets the source reference on Chart Studio Cloud\n",
      " |                  for  y .\n",
      " |      \n",
      " |      Returns\n",
      " |      -------\n",
      " |      plotly.graph_objs.sankey.Node\n",
      " |  \n",
      " |  orientation\n",
      " |      Sets the orientation of the Sankey diagram.\n",
      " |      \n",
      " |      The 'orientation' property is an enumeration that may be specified as:\n",
      " |        - One of the following enumeration values:\n",
      " |              ['v', 'h']\n",
      " |      \n",
      " |      Returns\n",
      " |      -------\n",
      " |      Any\n",
      " |  \n",
      " |  selectedpoints\n",
      " |      Array containing integer indices of selected points. Has an\n",
      " |      effect only for traces that support selections. Note that an\n",
      " |      empty array means an empty selection where the `unselected` are\n",
      " |      turned on for all points, whereas, any other non-array values\n",
      " |      means no selection all where the `selected` and `unselected`\n",
      " |      styles have no effect.\n",
      " |      \n",
      " |      The 'selectedpoints' property accepts values of any type\n",
      " |      \n",
      " |      Returns\n",
      " |      -------\n",
      " |      Any\n",
      " |  \n",
      " |  stream\n",
      " |      The 'stream' property is an instance of Stream\n",
      " |      that may be specified as:\n",
      " |        - An instance of :class:`plotly.graph_objs.sankey.Stream`\n",
      " |        - A dict of string/value properties that will be passed\n",
      " |          to the Stream constructor\n",
      " |      \n",
      " |          Supported dict properties:\n",
      " |              \n",
      " |              maxpoints\n",
      " |                  Sets the maximum number of points to keep on\n",
      " |                  the plots from an incoming stream. If\n",
      " |                  `maxpoints` is set to 50, only the newest 50\n",
      " |                  points will be displayed on the plot.\n",
      " |              token\n",
      " |                  The stream id number links a data trace on a\n",
      " |                  plot with a stream. See https://chart-\n",
      " |                  studio.plotly.com/settings for more details.\n",
      " |      \n",
      " |      Returns\n",
      " |      -------\n",
      " |      plotly.graph_objs.sankey.Stream\n",
      " |  \n",
      " |  textfont\n",
      " |      Sets the font for node labels\n",
      " |      \n",
      " |      The 'textfont' property is an instance of Textfont\n",
      " |      that may be specified as:\n",
      " |        - An instance of :class:`plotly.graph_objs.sankey.Textfont`\n",
      " |        - A dict of string/value properties that will be passed\n",
      " |          to the Textfont constructor\n",
      " |      \n",
      " |          Supported dict properties:\n",
      " |              \n",
      " |              color\n",
      " |      \n",
      " |              family\n",
      " |                  HTML font family - the typeface that will be\n",
      " |                  applied by the web browser. The web browser\n",
      " |                  will only be able to apply a font if it is\n",
      " |                  available on the system which it operates.\n",
      " |                  Provide multiple font families, separated by\n",
      " |                  commas, to indicate the preference in which to\n",
      " |                  apply fonts if they aren't available on the\n",
      " |                  system. The Chart Studio Cloud (at\n",
      " |                  https://chart-studio.plotly.com or on-premise)\n",
      " |                  generates images on a server, where only a\n",
      " |                  select number of fonts are installed and\n",
      " |                  supported. These include \"Arial\", \"Balto\",\n",
      " |                  \"Courier New\", \"Droid Sans\",, \"Droid Serif\",\n",
      " |                  \"Droid Sans Mono\", \"Gravitas One\", \"Old\n",
      " |                  Standard TT\", \"Open Sans\", \"Overpass\", \"PT Sans\n",
      " |                  Narrow\", \"Raleway\", \"Times New Roman\".\n",
      " |              size\n",
      " |      \n",
      " |      Returns\n",
      " |      -------\n",
      " |      plotly.graph_objs.sankey.Textfont\n",
      " |  \n",
      " |  uid\n",
      " |      Assign an id to this trace, Use this to provide object\n",
      " |      constancy between traces during animations and transitions.\n",
      " |      \n",
      " |      The 'uid' property is a string and must be specified as:\n",
      " |        - A string\n",
      " |        - A number that will be converted to a string\n",
      " |      \n",
      " |      Returns\n",
      " |      -------\n",
      " |      str\n",
      " |  \n",
      " |  uirevision\n",
      " |      Controls persistence of some user-driven changes to the trace:\n",
      " |      `constraintrange` in `parcoords` traces, as well as some\n",
      " |      `editable: true` modifications such as `name` and\n",
      " |      `colorbar.title`. Defaults to `layout.uirevision`. Note that\n",
      " |      other user-driven trace attribute changes are controlled by\n",
      " |      `layout` attributes: `trace.visible` is controlled by\n",
      " |      `layout.legend.uirevision`, `selectedpoints` is controlled by\n",
      " |      `layout.selectionrevision`, and `colorbar.(x|y)` (accessible\n",
      " |      with `config: {editable: true}`) is controlled by\n",
      " |      `layout.editrevision`. Trace changes are tracked by `uid`,\n",
      " |      which only falls back on trace index if no `uid` is provided.\n",
      " |      So if your app can add/remove traces before the end of the\n",
      " |      `data` array, such that the same trace has a different index,\n",
      " |      you can still preserve user-driven changes if you give each\n",
      " |      trace a `uid` that stays with it as it moves.\n",
      " |      \n",
      " |      The 'uirevision' property accepts values of any type\n",
      " |      \n",
      " |      Returns\n",
      " |      -------\n",
      " |      Any\n",
      " |  \n",
      " |  valueformat\n",
      " |      Sets the value formatting rule using d3 formatting mini-\n",
      " |      language which is similar to those of Python. See\n",
      " |      https://github.com/d3/d3-3.x-api-\n",
      " |      reference/blob/master/Formatting.md#d3_format\n",
      " |      \n",
      " |      The 'valueformat' property is a string and must be specified as:\n",
      " |        - A string\n",
      " |        - A number that will be converted to a string\n",
      " |      \n",
      " |      Returns\n",
      " |      -------\n",
      " |      str\n",
      " |  \n",
      " |  valuesuffix\n",
      " |      Adds a unit to follow the value in the hover tooltip. Add a\n",
      " |      space if a separation is necessary from the value.\n",
      " |      \n",
      " |      The 'valuesuffix' property is a string and must be specified as:\n",
      " |        - A string\n",
      " |        - A number that will be converted to a string\n",
      " |      \n",
      " |      Returns\n",
      " |      -------\n",
      " |      str\n",
      " |  \n",
      " |  visible\n",
      " |      Determines whether or not this trace is visible. If\n",
      " |      \"legendonly\", the trace is not drawn, but can appear as a\n",
      " |      legend item (provided that the legend itself is visible).\n",
      " |      \n",
      " |      The 'visible' property is an enumeration that may be specified as:\n",
      " |        - One of the following enumeration values:\n",
      " |              [True, False, 'legendonly']\n",
      " |      \n",
      " |      Returns\n",
      " |      -------\n",
      " |      Any\n",
      " |  \n",
      " |  ----------------------------------------------------------------------\n",
      " |  Methods inherited from plotly.basedatatypes.BaseTraceType:\n",
      " |  \n",
      " |  on_click(self, callback, append=False)\n",
      " |      Register function to be called when the user clicks on one or more\n",
      " |      points in this trace.\n",
      " |      \n",
      " |      Note: Callbacks will only be triggered when the trace belongs to a\n",
      " |      instance of plotly.graph_objs.FigureWidget and it is displayed in an\n",
      " |      ipywidget context. Callbacks will not be triggered on figures\n",
      " |      that are displayed using plot/iplot.\n",
      " |      \n",
      " |      Parameters\n",
      " |      ----------\n",
      " |      callback\n",
      " |          Callable function that accepts 3 arguments\n",
      " |      \n",
      " |          - this trace\n",
      " |          - plotly.callbacks.Points object\n",
      " |          - plotly.callbacks.InputDeviceState object\n",
      " |      \n",
      " |      append : bool\n",
      " |          If False (the default), this callback replaces any previously\n",
      " |          defined on_click callbacks for this trace. If True,\n",
      " |          this callback is appended to the list of any previously defined\n",
      " |          callbacks.\n",
      " |      \n",
      " |      Returns\n",
      " |      -------\n",
      " |      None\n",
      " |      \n",
      " |      Examples\n",
      " |      --------\n",
      " |      \n",
      " |      >>> import plotly.graph_objects as go\n",
      " |      >>> from plotly.callbacks import Points, InputDeviceState\n",
      " |      >>> points, state = Points(), InputDeviceState()\n",
      " |      \n",
      " |      >>> def click_fn(trace, points, state):\n",
      " |      ...     inds = points.point_inds\n",
      " |      ...     # Do something\n",
      " |      \n",
      " |      >>> trace = go.Scatter(x=[1, 2], y=[3, 0])\n",
      " |      >>> trace.on_click(click_fn)\n",
      " |      \n",
      " |      Note: The creation of the `points` and `state` objects is optional,\n",
      " |      it's simply a convenience to help the text editor perform completion\n",
      " |      on the arguments inside `click_fn`\n",
      " |  \n",
      " |  on_deselect(self, callback, append=False)\n",
      " |      Register function to be called when the user deselects points\n",
      " |      in this trace using doubleclick.\n",
      " |      \n",
      " |      Note: Callbacks will only be triggered when the trace belongs to a\n",
      " |      instance of plotly.graph_objs.FigureWidget and it is displayed in an\n",
      " |      ipywidget context. Callbacks will not be triggered on figures\n",
      " |      that are displayed using plot/iplot.\n",
      " |      \n",
      " |      Parameters\n",
      " |      ----------\n",
      " |      callback\n",
      " |          Callable function that accepts 3 arguments\n",
      " |      \n",
      " |          - this trace\n",
      " |          - plotly.callbacks.Points object\n",
      " |      \n",
      " |      append : bool\n",
      " |          If False (the default), this callback replaces any previously\n",
      " |          defined on_deselect callbacks for this trace. If True,\n",
      " |          this callback is appended to the list of any previously defined\n",
      " |          callbacks.\n",
      " |      \n",
      " |      Returns\n",
      " |      -------\n",
      " |      None\n",
      " |      \n",
      " |      Examples\n",
      " |      --------\n",
      " |      \n",
      " |      >>> import plotly.graph_objects as go\n",
      " |      >>> from plotly.callbacks import Points\n",
      " |      >>> points = Points()\n",
      " |      \n",
      " |      >>> def deselect_fn(trace, points):\n",
      " |      ...     inds = points.point_inds\n",
      " |      ...     # Do something\n",
      " |      \n",
      " |      >>> trace = go.Scatter(x=[1, 2], y=[3, 0])\n",
      " |      >>> trace.on_deselect(deselect_fn)\n",
      " |      \n",
      " |      Note: The creation of the `points` object is optional,\n",
      " |      it's simply a convenience to help the text editor perform completion\n",
      " |      on the `points` arguments inside `selection_fn`\n",
      " |  \n",
      " |  on_hover(self, callback, append=False)\n",
      " |      Register function to be called when the user hovers over one or more\n",
      " |      points in this trace\n",
      " |      \n",
      " |      Note: Callbacks will only be triggered when the trace belongs to a\n",
      " |      instance of plotly.graph_objs.FigureWidget and it is displayed in an\n",
      " |      ipywidget context. Callbacks will not be triggered on figures\n",
      " |      that are displayed using plot/iplot.\n",
      " |      \n",
      " |      Parameters\n",
      " |      ----------\n",
      " |      callback\n",
      " |          Callable function that accepts 3 arguments\n",
      " |      \n",
      " |          - this trace\n",
      " |          - plotly.callbacks.Points object\n",
      " |          - plotly.callbacks.InputDeviceState object\n",
      " |      \n",
      " |      append : bool\n",
      " |          If False (the default), this callback replaces any previously\n",
      " |          defined on_hover callbacks for this trace. If True,\n",
      " |          this callback is appended to the list of any previously defined\n",
      " |          callbacks.\n",
      " |      \n",
      " |      Returns\n",
      " |      -------\n",
      " |      None\n",
      " |      \n",
      " |      Examples\n",
      " |      --------\n",
      " |      \n",
      " |      >>> import plotly.graph_objects as go\n",
      " |      >>> from plotly.callbacks import Points, InputDeviceState\n",
      " |      >>> points, state = Points(), InputDeviceState()\n",
      " |      \n",
      " |      >>> def hover_fn(trace, points, state):\n",
      " |      ...     inds = points.point_inds\n",
      " |      ...     # Do something\n",
      " |      \n",
      " |      >>> trace = go.Scatter(x=[1, 2], y=[3, 0])\n",
      " |      >>> trace.on_hover(hover_fn)\n",
      " |      \n",
      " |      Note: The creation of the `points` and `state` objects is optional,\n",
      " |      it's simply a convenience to help the text editor perform completion\n",
      " |      on the arguments inside `hover_fn`\n",
      " |  \n",
      " |  on_selection(self, callback, append=False)\n",
      " |      Register function to be called when the user selects one or more\n",
      " |      points in this trace.\n",
      " |      \n",
      " |      Note: Callbacks will only be triggered when the trace belongs to a\n",
      " |      instance of plotly.graph_objs.FigureWidget and it is displayed in an\n",
      " |      ipywidget context. Callbacks will not be triggered on figures\n",
      " |      that are displayed using plot/iplot.\n",
      " |      \n",
      " |      Parameters\n",
      " |      ----------\n",
      " |      callback\n",
      " |          Callable function that accepts 4 arguments\n",
      " |      \n",
      " |          - this trace\n",
      " |          - plotly.callbacks.Points object\n",
      " |          - plotly.callbacks.BoxSelector or plotly.callbacks.LassoSelector\n",
      " |      \n",
      " |      append : bool\n",
      " |          If False (the default), this callback replaces any previously\n",
      " |          defined on_selection callbacks for this trace. If True,\n",
      " |          this callback is appended to the list of any previously defined\n",
      " |          callbacks.\n",
      " |      \n",
      " |      Returns\n",
      " |      -------\n",
      " |      None\n",
      " |      \n",
      " |      Examples\n",
      " |      --------\n",
      " |      \n",
      " |      >>> import plotly.graph_objects as go\n",
      " |      >>> from plotly.callbacks import Points\n",
      " |      >>> points = Points()\n",
      " |      \n",
      " |      >>> def selection_fn(trace, points, selector):\n",
      " |      ...     inds = points.point_inds\n",
      " |      ...     # Do something\n",
      " |      \n",
      " |      >>> trace = go.Scatter(x=[1, 2], y=[3, 0])\n",
      " |      >>> trace.on_selection(selection_fn)\n",
      " |      \n",
      " |      Note: The creation of the `points` object is optional,\n",
      " |      it's simply a convenience to help the text editor perform completion\n",
      " |      on the `points` arguments inside `selection_fn`\n",
      " |  \n",
      " |  on_unhover(self, callback, append=False)\n",
      " |      Register function to be called when the user unhovers away from one\n",
      " |      or more points in this trace.\n",
      " |      \n",
      " |      Note: Callbacks will only be triggered when the trace belongs to a\n",
      " |      instance of plotly.graph_objs.FigureWidget and it is displayed in an\n",
      " |      ipywidget context. Callbacks will not be triggered on figures\n",
      " |      that are displayed using plot/iplot.\n",
      " |      \n",
      " |      Parameters\n",
      " |      ----------\n",
      " |      callback\n",
      " |          Callable function that accepts 3 arguments\n",
      " |      \n",
      " |          - this trace\n",
      " |          - plotly.callbacks.Points object\n",
      " |          - plotly.callbacks.InputDeviceState object\n",
      " |      \n",
      " |      append : bool\n",
      " |          If False (the default), this callback replaces any previously\n",
      " |          defined on_unhover callbacks for this trace. If True,\n",
      " |          this callback is appended to the list of any previously defined\n",
      " |          callbacks.\n",
      " |      \n",
      " |      Returns\n",
      " |      -------\n",
      " |      None\n",
      " |      \n",
      " |      Examples\n",
      " |      --------\n",
      " |      \n",
      " |      >>> import plotly.graph_objects as go\n",
      " |      >>> from plotly.callbacks import Points, InputDeviceState\n",
      " |      >>> points, state = Points(), InputDeviceState()\n",
      " |      \n",
      " |      >>> def unhover_fn(trace, points, state):\n",
      " |      ...     inds = points.point_inds\n",
      " |      ...     # Do something\n",
      " |      \n",
      " |      >>> trace = go.Scatter(x=[1, 2], y=[3, 0])\n",
      " |      >>> trace.on_unhover(unhover_fn)\n",
      " |      \n",
      " |      Note: The creation of the `points` and `state` objects is optional,\n",
      " |      it's simply a convenience to help the text editor perform completion\n",
      " |      on the arguments inside `unhover_fn`\n",
      " |  \n",
      " |  ----------------------------------------------------------------------\n",
      " |  Methods inherited from plotly.basedatatypes.BasePlotlyType:\n",
      " |  \n",
      " |  __contains__(self, prop)\n",
      " |      Determine whether object contains a property or nested property\n",
      " |      \n",
      " |      Parameters\n",
      " |      ----------\n",
      " |      prop : str|tuple\n",
      " |          If prop is a simple string (e.g. 'foo'), then return true of the\n",
      " |          object contains an element named 'foo'\n",
      " |      \n",
      " |          If prop is a property path string (e.g. 'foo[0].bar'),\n",
      " |          then return true if the obejct contains the nested elements for\n",
      " |          each entry in the path string (e.g. 'bar' in obj['foo'][0])\n",
      " |      \n",
      " |          If prop is a property path tuple (e.g. ('foo', 0, 'bar')),\n",
      " |          then return true if the object contains the nested elements for\n",
      " |          each entry in the path string (e.g. 'bar' in obj['foo'][0])\n",
      " |      \n",
      " |      Returns\n",
      " |      -------\n",
      " |      bool\n",
      " |  \n",
      " |  __eq__(self, other)\n",
      " |      Test for equality\n",
      " |      \n",
      " |      To be considered equal, `other` must have the same type as this object\n",
      " |      and their `to_plotly_json` representaitons must be identical.\n",
      " |      \n",
      " |      Parameters\n",
      " |      ----------\n",
      " |      other\n",
      " |          The object to compare against\n",
      " |      \n",
      " |      Returns\n",
      " |      -------\n",
      " |      bool\n",
      " |  \n",
      " |  __getitem__(self, prop)\n",
      " |      Get item or nested item from object\n",
      " |      \n",
      " |      Parameters\n",
      " |      ----------\n",
      " |      prop : str|tuple\n",
      " |      \n",
      " |          If prop is the name of a property of this object, then the\n",
      " |          property is returned.\n",
      " |      \n",
      " |          If prop is a nested property path string (e.g. 'foo[1].bar'),\n",
      " |          then a nested property is returned (e.g. obj['foo'][1]['bar'])\n",
      " |      \n",
      " |          If prop is a path tuple (e.g. ('foo', 1, 'bar')), then a nested\n",
      " |          property is returned (e.g. obj['foo'][1]['bar']).\n",
      " |      \n",
      " |      Returns\n",
      " |      -------\n",
      " |      Any\n",
      " |  \n",
      " |  __iter__(self)\n",
      " |      Return an iterator over the object's properties\n",
      " |  \n",
      " |  __reduce__(self)\n",
      " |      Custom implementation of reduce is used to support deep copying\n",
      " |      and pickling\n",
      " |  \n",
      " |  __repr__(self)\n",
      " |      Customize object representation when displayed in the\n",
      " |      terminal/notebook\n",
      " |  \n",
      " |  __setattr__(self, prop, value)\n",
      " |      Parameters\n",
      " |      ----------\n",
      " |      prop : str\n",
      " |          The name of a direct child of this object\n",
      " |      value\n",
      " |          New property value\n",
      " |      Returns\n",
      " |      -------\n",
      " |      None\n",
      " |  \n",
      " |  __setitem__(self, prop, value)\n",
      " |      Parameters\n",
      " |      ----------\n",
      " |      prop : str\n",
      " |          The name of a direct child of this object\n",
      " |      \n",
      " |          Note: Setting nested properties using property path string or\n",
      " |          property path tuples is not supported.\n",
      " |      value\n",
      " |          New property value\n",
      " |      \n",
      " |      Returns\n",
      " |      -------\n",
      " |      None\n",
      " |  \n",
      " |  on_change(self, callback, *args, **kwargs)\n",
      " |      Register callback function to be called when certain properties or\n",
      " |      subproperties of this object are modified.\n",
      " |      \n",
      " |      Callback will be invoked whenever ANY of these properties is\n",
      " |      modified. Furthermore, the callback will only be invoked once even\n",
      " |      if multiple properties are modified during the same restyle /\n",
      " |      relayout / update operation.\n",
      " |      \n",
      " |      Parameters\n",
      " |      ----------\n",
      " |      callback : function\n",
      " |          Function that accepts 1 + len(`args`) parameters. First parameter\n",
      " |          is this object. Second through last parameters are the\n",
      " |          property / subpropery values referenced by args.\n",
      " |      args : list[str|tuple[int|str]]\n",
      " |          List of property references where each reference may be one of:\n",
      " |      \n",
      " |            1) A property name string (e.g. 'foo') for direct properties\n",
      " |            2) A property path string (e.g. 'foo[0].bar') for\n",
      " |               subproperties\n",
      " |            3) A property path tuple (e.g. ('foo', 0, 'bar')) for\n",
      " |               subproperties\n",
      " |      \n",
      " |      append : bool\n",
      " |          True if callback should be appended to previously registered\n",
      " |          callback on the same properties, False if callback should replace\n",
      " |          previously registered callbacks on the same properties. Defaults\n",
      " |          to False.\n",
      " |      \n",
      " |      Examples\n",
      " |      --------\n",
      " |      \n",
      " |      Register callback that prints out the range extents of the xaxis and\n",
      " |      yaxis whenever either either of them changes.\n",
      " |      \n",
      " |      >>> import plotly.graph_objects as go\n",
      " |      >>> fig = go.Figure(go.Scatter(x=[1, 2], y=[1, 0]))\n",
      " |      >>> fig.layout.on_change(\n",
      " |      ...   lambda obj, xrange, yrange: print(\"%s-%s\" % (xrange, yrange)),\n",
      " |      ...   ('xaxis', 'range'), ('yaxis', 'range'))\n",
      " |      \n",
      " |      \n",
      " |      Returns\n",
      " |      -------\n",
      " |      None\n",
      " |  \n",
      " |  pop(self, key, *args)\n",
      " |      Remove the value associated with the specified key and return it\n",
      " |      \n",
      " |      Parameters\n",
      " |      ----------\n",
      " |      key: str\n",
      " |          Property name\n",
      " |      dflt\n",
      " |          The default value to return if key was not found in object\n",
      " |      \n",
      " |      Returns\n",
      " |      -------\n",
      " |      value\n",
      " |          The removed value that was previously associated with key\n",
      " |      \n",
      " |      Raises\n",
      " |      ------\n",
      " |      KeyError\n",
      " |          If key is not in object and no dflt argument specified\n",
      " |  \n",
      " |  to_plotly_json(self)\n",
      " |      Return plotly JSON representation of object as a Python dict\n",
      " |      \n",
      " |      Returns\n",
      " |      -------\n",
      " |      dict\n",
      " |  \n",
      " |  update(self, dict1=None, overwrite=False, **kwargs)\n",
      " |      Update the properties of an object with a dict and/or with\n",
      " |      keyword arguments.\n",
      " |      \n",
      " |      This recursively updates the structure of the original\n",
      " |      object with the values in the input dict / keyword arguments.\n",
      " |      \n",
      " |      Parameters\n",
      " |      ----------\n",
      " |      dict1 : dict\n",
      " |          Dictionary of properties to be updated\n",
      " |      overwrite: bool\n",
      " |          If True, overwrite existing properties. If False, apply updates\n",
      " |          to existing properties recursively, preserving existing\n",
      " |          properties that are not specified in the update operation.\n",
      " |      kwargs :\n",
      " |          Keyword/value pair of properties to be updated\n",
      " |      \n",
      " |      Returns\n",
      " |      -------\n",
      " |      BasePlotlyType\n",
      " |          Updated plotly object\n",
      " |  \n",
      " |  ----------------------------------------------------------------------\n",
      " |  Readonly properties inherited from plotly.basedatatypes.BasePlotlyType:\n",
      " |  \n",
      " |  figure\n",
      " |      Reference to the top-level Figure or FigureWidget that this object\n",
      " |      belongs to. None if the object does not belong to a Figure\n",
      " |      \n",
      " |      Returns\n",
      " |      -------\n",
      " |      Union[BaseFigure, None]\n",
      " |  \n",
      " |  parent\n",
      " |      Return the object's parent, or None if the object has no parent\n",
      " |      Returns\n",
      " |      -------\n",
      " |      BasePlotlyType|BaseFigure\n",
      " |  \n",
      " |  plotly_name\n",
      " |      The plotly name of the object\n",
      " |      \n",
      " |      Returns\n",
      " |      -------\n",
      " |      str\n",
      " |  \n",
      " |  ----------------------------------------------------------------------\n",
      " |  Data descriptors inherited from plotly.basedatatypes.BasePlotlyType:\n",
      " |  \n",
      " |  __dict__\n",
      " |      dictionary for instance variables (if defined)\n",
      " |  \n",
      " |  __weakref__\n",
      " |      list of weak references to the object (if defined)\n",
      " |  \n",
      " |  ----------------------------------------------------------------------\n",
      " |  Data and other attributes inherited from plotly.basedatatypes.BasePlotlyType:\n",
      " |  \n",
      " |  __hash__ = None\n",
      "\n"
     ]
    }
   ],
   "source": [
    "help(go.Sankey)"
   ]
  },
  {
   "cell_type": "code",
   "execution_count": 72,
   "metadata": {},
   "outputs": [
    {
     "data": {
      "text/plain": [
       "'https://plotly.com/~kingplot/15/'"
      ]
     },
     "execution_count": 72,
     "metadata": {},
     "output_type": "execute_result"
    }
   ],
   "source": [
    "import numpy as np\n",
    "import pandas as pd\n",
    "import plotly.graph_objects as go\n",
    "import chart_studio.plotly as py\n",
    "\n",
    "gas = pd.read_excel('gas.xlsx')\n",
    "\n",
    "fig = go.Figure(data=[go.Sankey(\n",
    "    valueformat = \".0f\",\n",
    "    valuesuffix = \"TWh\",\n",
    "    node = dict(\n",
    "      pad = 15,\n",
    "      thickness = 15,\n",
    "      line = dict(color = 'rgba(188, 189, 34, 0.8)', width = 0.5),\n",
    "      label =  cdf['Labels'].dropna(),\n",
    "        color = '#EEB72B'\n",
    "    ),\n",
    "    textfont = dict(size = 17, family = 'Raleway'),\n",
    "    link = dict(\n",
    "      source =  gas['source'],\n",
    "      target =  gas['target'],\n",
    "      value =  gas['value'],\n",
    "      label =  gas['label'],\n",
    "        color = '#DF6B57'\n",
    "  ))])\n",
    "fig.update_layout(\n",
    "    hovermode = 'x',\n",
    "    title=\"<b>MAPPING OUT GAS\",\n",
    "    font=dict(size = 30, color = '#EEB72B', family = 'Raleway'),\n",
    "    plot_bgcolor='#242424',\n",
    "    paper_bgcolor='#242424'\n",
    ")\n",
    "\n",
    "py.plot(fig, filename = 'map_gas')\n",
    "\n",
    "\n",
    "#fig.show()"
   ]
  },
  {
   "cell_type": "code",
   "execution_count": 73,
   "metadata": {},
   "outputs": [
    {
     "data": {
      "text/plain": [
       "'https://plotly.com/~kingplot/21/'"
      ]
     },
     "execution_count": 73,
     "metadata": {},
     "output_type": "execute_result"
    }
   ],
   "source": [
    "import numpy as np\n",
    "import pandas as pd\n",
    "import plotly.graph_objects as go\n",
    "import chart_studio.plotly as py\n",
    "\n",
    "\n",
    "renw = pd.read_excel('renw.xlsx')\n",
    "\n",
    "fig = go.Figure(data=[go.Sankey(\n",
    "    valueformat = \".0f\",\n",
    "    valuesuffix = \"TWh\",\n",
    "    node = dict(\n",
    "      pad = 15,\n",
    "      thickness = 15,\n",
    "      line = dict(color = \"rgba(188, 189, 34, 0.8)\", width = 0.5),\n",
    "      label =  cdf['Labels'].dropna(),\n",
    "        color = '#EEB72B',\n",
    "        \n",
    "    ),\n",
    "    orientation = 'h',\n",
    "    textfont = dict(color = 'red', size = 17, family = 'Raleway'),\n",
    "    link = dict(\n",
    "      source =  renw['source'],\n",
    "      target =  renw['target'],\n",
    "      value =  renw['value'],\n",
    "      label =  renw['label'],\n",
    "        color = '#D3EFFB'\n",
    "  ))])\n",
    "fig.update_layout(\n",
    "    hovermode = 'x',\n",
    "    title=\"<b>MAPPING OUT RENEWABLES\",\n",
    "    font=dict(size = 30, color = '#EEB72B', family = 'Raleway'),\n",
    "    plot_bgcolor='#242424',\n",
    "    paper_bgcolor='#242424'\n",
    ")\n",
    "\n",
    "py.plot(fig, filename = 'map_renewables')\n",
    "#fig.show()"
   ]
  },
  {
   "cell_type": "code",
   "execution_count": 74,
   "metadata": {},
   "outputs": [
    {
     "data": {
      "text/plain": [
       "'https://plotly.com/~kingplot/23/'"
      ]
     },
     "execution_count": 74,
     "metadata": {},
     "output_type": "execute_result"
    }
   ],
   "source": [
    "import numpy as np\n",
    "import pandas as pd\n",
    "import plotly.graph_objects as go\n",
    "import chart_studio.plotly as py\n",
    "\n",
    "\n",
    "nuclear = pd.read_excel('nuclear.xlsx')\n",
    "\n",
    "fig = go.Figure(data=[go.Sankey(\n",
    "    valueformat = \".0f\",\n",
    "    valuesuffix = \"TWh\",\n",
    "    node = dict(\n",
    "      pad = 15,\n",
    "      thickness = 15,\n",
    "      line = dict(color = \"rgba(188, 189, 34, 0.8)\", width = 0.5),\n",
    "      label =  cdf['Labels'].dropna(),\n",
    "        color = '#EEB72B',\n",
    "        \n",
    "    ),\n",
    "    orientation = 'h',\n",
    "    textfont = dict(color = 'red', size = 17, family = 'Raleway'),\n",
    "    link = dict(\n",
    "      source =  nuclear['source'],\n",
    "      target =  nuclear['target'],\n",
    "      value =  nuclear['value'],\n",
    "      label =  nuclear['label'],\n",
    "        color = '#454515'\n",
    "  ))])\n",
    "fig.update_layout(\n",
    "    hovermode = 'x',\n",
    "    title=\"<b>MAPPING OUT NUCLEAR\",\n",
    "    font=dict(size = 30, color = '#EEB72B', family = 'Raleway'),\n",
    "    plot_bgcolor='#242424',\n",
    "    paper_bgcolor='#242424'\n",
    ")\n",
    "\n",
    "py.plot(fig, filename = 'map_nuclear')\n",
    "#fig.show()"
   ]
  },
  {
   "cell_type": "code",
   "execution_count": 75,
   "metadata": {},
   "outputs": [
    {
     "data": {
      "text/plain": [
       "'https://plotly.com/~kingplot/27/'"
      ]
     },
     "execution_count": 75,
     "metadata": {},
     "output_type": "execute_result"
    }
   ],
   "source": [
    "import numpy as np\n",
    "import pandas as pd\n",
    "import plotly.graph_objects as go\n",
    "import chart_studio.plotly as py\n",
    "\n",
    "\n",
    "coal = pd.read_excel('coal.xlsx')\n",
    "\n",
    "fig = go.Figure(data=[go.Sankey(\n",
    "    valueformat = \".0f\",\n",
    "    valuesuffix = \"TWh\",\n",
    "    node = dict(\n",
    "      pad = 15,\n",
    "      thickness = 15,\n",
    "      line = dict(color = \"rgba(188, 189, 34, 0.8)\", width = 0.5),\n",
    "      label =  cdf['Labels'].dropna(),\n",
    "        color = '#EEB72B',\n",
    "        \n",
    "    ),\n",
    "    orientation = 'h',\n",
    "    textfont = dict(color = 'red', size = 17, family = 'Raleway'),\n",
    "    link = dict(\n",
    "      source =  coal['source'],\n",
    "      target =  coal['target'],\n",
    "      value =  coal['value'],\n",
    "      label =  coal['label'],\n",
    "        color = '#131011'\n",
    "  ))])\n",
    "fig.update_layout(\n",
    "    hovermode = 'x',\n",
    "    title=\"<b>MAPPING OUT COAL\",\n",
    "    font=dict(size = 30, color = '#EEB72B', family = 'Raleway'),\n",
    "    plot_bgcolor='#242424',\n",
    "    paper_bgcolor='#242424'\n",
    ")\n",
    "\n",
    "py.plot(fig, filename = 'map_coal')\n",
    "#fig.show()"
   ]
  },
  {
   "cell_type": "code",
   "execution_count": 76,
   "metadata": {
    "scrolled": true
   },
   "outputs": [
    {
     "data": {
      "text/plain": [
       "'https://plotly.com/~kingplot/45/'"
      ]
     },
     "execution_count": 76,
     "metadata": {},
     "output_type": "execute_result"
    }
   ],
   "source": [
    "import numpy as np\n",
    "import pandas as pd\n",
    "import plotly.graph_objects as go\n",
    "import chart_studio.plotly as py\n",
    "\n",
    "\n",
    "elec1 = pd.read_excel('elec1.xlsx')\n",
    "\n",
    "fig = go.Figure(data=[go.Sankey(\n",
    "    valueformat = \".0f\",\n",
    "    valuesuffix = \"TWh\",\n",
    "    node = dict(\n",
    "      pad = 15,\n",
    "      thickness = 15,\n",
    "      line = dict(color = \"rgba(188, 189, 34, 0.8)\", width = 0.5),\n",
    "      label =  cdf['Labels'].dropna(),\n",
    "        color = '#EEB72B',\n",
    "        \n",
    "    ),\n",
    "    orientation = 'h',\n",
    "    textfont = dict(color = 'red', size = 17, family = 'Raleway'),\n",
    "    link = dict(\n",
    "      source =  elec1['source'],\n",
    "      target =  elec1['target'],\n",
    "      value =  elec1['value'],\n",
    "      label =  elec1['label'],\n",
    "        color = '#5D0216'\n",
    "  ))])\n",
    "fig.update_layout(\n",
    "    hovermode = 'x',\n",
    "    title=\"<b>SOURCES OF THERMAL POWER GENERATION\",\n",
    "    font=dict(size = 30, color = '#EEB72B', family = 'Raleway'),\n",
    "    plot_bgcolor='#242424',\n",
    "    paper_bgcolor='#242424'\n",
    ")\n",
    "\n",
    "py.plot(fig, filename = 'thermal_1')\n",
    "#fig.show()"
   ]
  },
  {
   "cell_type": "code",
   "execution_count": 5,
   "metadata": {},
   "outputs": [
    {
     "data": {
      "application/vnd.plotly.v1+json": {
       "config": {
        "plotlyServerURL": "https://plotly.com"
       },
       "data": [
        {
         "link": {
          "label": [
           null,
           null,
           null,
           "Old generation plant (made-up)",
           "New generation plant (made-up)",
           null,
           null,
           null,
           null,
           null,
           null,
           null,
           null,
           null
          ],
          "source": [
           5,
           27,
           29,
           35,
           35,
           41,
           4,
           26,
           44,
           46,
           47,
           35,
           35,
           26
          ],
          "target": [
           26,
           15,
           15,
           26,
           26,
           15,
           26,
           15,
           15,
           15,
           15,
           26,
           26,
           3
          ],
          "value": [
           151.891,
           7.013,
           6.995,
           500,
           139.978,
           59.901,
           400.12,
           525.531,
           9.452,
           19.013,
           289.366,
           100,
           100,
           787.129
          ]
         },
         "node": {
          "label": [
           "Agricultural 'waste'",
           "Bio-conversion",
           "Liquid",
           "Losses",
           "Solid",
           "Gas",
           "Biofuel imports",
           "Biomass imports",
           "Coal imports",
           "Coal",
           "Coal reserves",
           "District heating",
           "Industry",
           "Heating and cooling - commercial",
           "Heating and cooling - homes",
           "Electricity grid",
           "Over generation / exports",
           "H2 conversion",
           "Road transport",
           "Agriculture",
           "Rail transport",
           "Lighting & appliances - commercial",
           "Lighting & appliances - homes",
           "Gas imports",
           "Ngas",
           "Gas reserves",
           "Thermal generation",
           "Geothermal",
           "H2",
           "Hydro",
           "International shipping",
           "Domestic aviation",
           "International aviation",
           "National navigation",
           "Marine algae",
           "Nuclear",
           "Oil imports",
           "Oil",
           "Oil reserves",
           "Other waste",
           "Pumped heat",
           "Solar PV",
           "Solar Thermal",
           "Solar",
           "Tidal",
           "UK land based bioenergy",
           "Wave",
           "Wind"
          ],
          "line": {
           "color": "black",
           "width": 0.5
          },
          "pad": 15,
          "thickness": 15
         },
         "type": "sankey",
         "valueformat": ".0f",
         "valuesuffix": "TWh"
        }
       ],
       "layout": {
        "template": {
         "data": {
          "bar": [
           {
            "error_x": {
             "color": "#2a3f5f"
            },
            "error_y": {
             "color": "#2a3f5f"
            },
            "marker": {
             "line": {
              "color": "#E5ECF6",
              "width": 0.5
             }
            },
            "type": "bar"
           }
          ],
          "barpolar": [
           {
            "marker": {
             "line": {
              "color": "#E5ECF6",
              "width": 0.5
             }
            },
            "type": "barpolar"
           }
          ],
          "carpet": [
           {
            "aaxis": {
             "endlinecolor": "#2a3f5f",
             "gridcolor": "white",
             "linecolor": "white",
             "minorgridcolor": "white",
             "startlinecolor": "#2a3f5f"
            },
            "baxis": {
             "endlinecolor": "#2a3f5f",
             "gridcolor": "white",
             "linecolor": "white",
             "minorgridcolor": "white",
             "startlinecolor": "#2a3f5f"
            },
            "type": "carpet"
           }
          ],
          "choropleth": [
           {
            "colorbar": {
             "outlinewidth": 0,
             "ticks": ""
            },
            "type": "choropleth"
           }
          ],
          "contour": [
           {
            "colorbar": {
             "outlinewidth": 0,
             "ticks": ""
            },
            "colorscale": [
             [
              0,
              "#0d0887"
             ],
             [
              0.1111111111111111,
              "#46039f"
             ],
             [
              0.2222222222222222,
              "#7201a8"
             ],
             [
              0.3333333333333333,
              "#9c179e"
             ],
             [
              0.4444444444444444,
              "#bd3786"
             ],
             [
              0.5555555555555556,
              "#d8576b"
             ],
             [
              0.6666666666666666,
              "#ed7953"
             ],
             [
              0.7777777777777778,
              "#fb9f3a"
             ],
             [
              0.8888888888888888,
              "#fdca26"
             ],
             [
              1,
              "#f0f921"
             ]
            ],
            "type": "contour"
           }
          ],
          "contourcarpet": [
           {
            "colorbar": {
             "outlinewidth": 0,
             "ticks": ""
            },
            "type": "contourcarpet"
           }
          ],
          "heatmap": [
           {
            "colorbar": {
             "outlinewidth": 0,
             "ticks": ""
            },
            "colorscale": [
             [
              0,
              "#0d0887"
             ],
             [
              0.1111111111111111,
              "#46039f"
             ],
             [
              0.2222222222222222,
              "#7201a8"
             ],
             [
              0.3333333333333333,
              "#9c179e"
             ],
             [
              0.4444444444444444,
              "#bd3786"
             ],
             [
              0.5555555555555556,
              "#d8576b"
             ],
             [
              0.6666666666666666,
              "#ed7953"
             ],
             [
              0.7777777777777778,
              "#fb9f3a"
             ],
             [
              0.8888888888888888,
              "#fdca26"
             ],
             [
              1,
              "#f0f921"
             ]
            ],
            "type": "heatmap"
           }
          ],
          "heatmapgl": [
           {
            "colorbar": {
             "outlinewidth": 0,
             "ticks": ""
            },
            "colorscale": [
             [
              0,
              "#0d0887"
             ],
             [
              0.1111111111111111,
              "#46039f"
             ],
             [
              0.2222222222222222,
              "#7201a8"
             ],
             [
              0.3333333333333333,
              "#9c179e"
             ],
             [
              0.4444444444444444,
              "#bd3786"
             ],
             [
              0.5555555555555556,
              "#d8576b"
             ],
             [
              0.6666666666666666,
              "#ed7953"
             ],
             [
              0.7777777777777778,
              "#fb9f3a"
             ],
             [
              0.8888888888888888,
              "#fdca26"
             ],
             [
              1,
              "#f0f921"
             ]
            ],
            "type": "heatmapgl"
           }
          ],
          "histogram": [
           {
            "marker": {
             "colorbar": {
              "outlinewidth": 0,
              "ticks": ""
             }
            },
            "type": "histogram"
           }
          ],
          "histogram2d": [
           {
            "colorbar": {
             "outlinewidth": 0,
             "ticks": ""
            },
            "colorscale": [
             [
              0,
              "#0d0887"
             ],
             [
              0.1111111111111111,
              "#46039f"
             ],
             [
              0.2222222222222222,
              "#7201a8"
             ],
             [
              0.3333333333333333,
              "#9c179e"
             ],
             [
              0.4444444444444444,
              "#bd3786"
             ],
             [
              0.5555555555555556,
              "#d8576b"
             ],
             [
              0.6666666666666666,
              "#ed7953"
             ],
             [
              0.7777777777777778,
              "#fb9f3a"
             ],
             [
              0.8888888888888888,
              "#fdca26"
             ],
             [
              1,
              "#f0f921"
             ]
            ],
            "type": "histogram2d"
           }
          ],
          "histogram2dcontour": [
           {
            "colorbar": {
             "outlinewidth": 0,
             "ticks": ""
            },
            "colorscale": [
             [
              0,
              "#0d0887"
             ],
             [
              0.1111111111111111,
              "#46039f"
             ],
             [
              0.2222222222222222,
              "#7201a8"
             ],
             [
              0.3333333333333333,
              "#9c179e"
             ],
             [
              0.4444444444444444,
              "#bd3786"
             ],
             [
              0.5555555555555556,
              "#d8576b"
             ],
             [
              0.6666666666666666,
              "#ed7953"
             ],
             [
              0.7777777777777778,
              "#fb9f3a"
             ],
             [
              0.8888888888888888,
              "#fdca26"
             ],
             [
              1,
              "#f0f921"
             ]
            ],
            "type": "histogram2dcontour"
           }
          ],
          "mesh3d": [
           {
            "colorbar": {
             "outlinewidth": 0,
             "ticks": ""
            },
            "type": "mesh3d"
           }
          ],
          "parcoords": [
           {
            "line": {
             "colorbar": {
              "outlinewidth": 0,
              "ticks": ""
             }
            },
            "type": "parcoords"
           }
          ],
          "pie": [
           {
            "automargin": true,
            "type": "pie"
           }
          ],
          "scatter": [
           {
            "marker": {
             "colorbar": {
              "outlinewidth": 0,
              "ticks": ""
             }
            },
            "type": "scatter"
           }
          ],
          "scatter3d": [
           {
            "line": {
             "colorbar": {
              "outlinewidth": 0,
              "ticks": ""
             }
            },
            "marker": {
             "colorbar": {
              "outlinewidth": 0,
              "ticks": ""
             }
            },
            "type": "scatter3d"
           }
          ],
          "scattercarpet": [
           {
            "marker": {
             "colorbar": {
              "outlinewidth": 0,
              "ticks": ""
             }
            },
            "type": "scattercarpet"
           }
          ],
          "scattergeo": [
           {
            "marker": {
             "colorbar": {
              "outlinewidth": 0,
              "ticks": ""
             }
            },
            "type": "scattergeo"
           }
          ],
          "scattergl": [
           {
            "marker": {
             "colorbar": {
              "outlinewidth": 0,
              "ticks": ""
             }
            },
            "type": "scattergl"
           }
          ],
          "scattermapbox": [
           {
            "marker": {
             "colorbar": {
              "outlinewidth": 0,
              "ticks": ""
             }
            },
            "type": "scattermapbox"
           }
          ],
          "scatterpolar": [
           {
            "marker": {
             "colorbar": {
              "outlinewidth": 0,
              "ticks": ""
             }
            },
            "type": "scatterpolar"
           }
          ],
          "scatterpolargl": [
           {
            "marker": {
             "colorbar": {
              "outlinewidth": 0,
              "ticks": ""
             }
            },
            "type": "scatterpolargl"
           }
          ],
          "scatterternary": [
           {
            "marker": {
             "colorbar": {
              "outlinewidth": 0,
              "ticks": ""
             }
            },
            "type": "scatterternary"
           }
          ],
          "surface": [
           {
            "colorbar": {
             "outlinewidth": 0,
             "ticks": ""
            },
            "colorscale": [
             [
              0,
              "#0d0887"
             ],
             [
              0.1111111111111111,
              "#46039f"
             ],
             [
              0.2222222222222222,
              "#7201a8"
             ],
             [
              0.3333333333333333,
              "#9c179e"
             ],
             [
              0.4444444444444444,
              "#bd3786"
             ],
             [
              0.5555555555555556,
              "#d8576b"
             ],
             [
              0.6666666666666666,
              "#ed7953"
             ],
             [
              0.7777777777777778,
              "#fb9f3a"
             ],
             [
              0.8888888888888888,
              "#fdca26"
             ],
             [
              1,
              "#f0f921"
             ]
            ],
            "type": "surface"
           }
          ],
          "table": [
           {
            "cells": {
             "fill": {
              "color": "#EBF0F8"
             },
             "line": {
              "color": "white"
             }
            },
            "header": {
             "fill": {
              "color": "#C8D4E3"
             },
             "line": {
              "color": "white"
             }
            },
            "type": "table"
           }
          ]
         },
         "layout": {
          "annotationdefaults": {
           "arrowcolor": "#2a3f5f",
           "arrowhead": 0,
           "arrowwidth": 1
          },
          "coloraxis": {
           "colorbar": {
            "outlinewidth": 0,
            "ticks": ""
           }
          },
          "colorscale": {
           "diverging": [
            [
             0,
             "#8e0152"
            ],
            [
             0.1,
             "#c51b7d"
            ],
            [
             0.2,
             "#de77ae"
            ],
            [
             0.3,
             "#f1b6da"
            ],
            [
             0.4,
             "#fde0ef"
            ],
            [
             0.5,
             "#f7f7f7"
            ],
            [
             0.6,
             "#e6f5d0"
            ],
            [
             0.7,
             "#b8e186"
            ],
            [
             0.8,
             "#7fbc41"
            ],
            [
             0.9,
             "#4d9221"
            ],
            [
             1,
             "#276419"
            ]
           ],
           "sequential": [
            [
             0,
             "#0d0887"
            ],
            [
             0.1111111111111111,
             "#46039f"
            ],
            [
             0.2222222222222222,
             "#7201a8"
            ],
            [
             0.3333333333333333,
             "#9c179e"
            ],
            [
             0.4444444444444444,
             "#bd3786"
            ],
            [
             0.5555555555555556,
             "#d8576b"
            ],
            [
             0.6666666666666666,
             "#ed7953"
            ],
            [
             0.7777777777777778,
             "#fb9f3a"
            ],
            [
             0.8888888888888888,
             "#fdca26"
            ],
            [
             1,
             "#f0f921"
            ]
           ],
           "sequentialminus": [
            [
             0,
             "#0d0887"
            ],
            [
             0.1111111111111111,
             "#46039f"
            ],
            [
             0.2222222222222222,
             "#7201a8"
            ],
            [
             0.3333333333333333,
             "#9c179e"
            ],
            [
             0.4444444444444444,
             "#bd3786"
            ],
            [
             0.5555555555555556,
             "#d8576b"
            ],
            [
             0.6666666666666666,
             "#ed7953"
            ],
            [
             0.7777777777777778,
             "#fb9f3a"
            ],
            [
             0.8888888888888888,
             "#fdca26"
            ],
            [
             1,
             "#f0f921"
            ]
           ]
          },
          "colorway": [
           "#636efa",
           "#EF553B",
           "#00cc96",
           "#ab63fa",
           "#FFA15A",
           "#19d3f3",
           "#FF6692",
           "#B6E880",
           "#FF97FF",
           "#FECB52"
          ],
          "font": {
           "color": "#2a3f5f"
          },
          "geo": {
           "bgcolor": "white",
           "lakecolor": "white",
           "landcolor": "#E5ECF6",
           "showlakes": true,
           "showland": true,
           "subunitcolor": "white"
          },
          "hoverlabel": {
           "align": "left"
          },
          "hovermode": "closest",
          "mapbox": {
           "style": "light"
          },
          "paper_bgcolor": "white",
          "plot_bgcolor": "#E5ECF6",
          "polar": {
           "angularaxis": {
            "gridcolor": "white",
            "linecolor": "white",
            "ticks": ""
           },
           "bgcolor": "#E5ECF6",
           "radialaxis": {
            "gridcolor": "white",
            "linecolor": "white",
            "ticks": ""
           }
          },
          "scene": {
           "xaxis": {
            "backgroundcolor": "#E5ECF6",
            "gridcolor": "white",
            "gridwidth": 2,
            "linecolor": "white",
            "showbackground": true,
            "ticks": "",
            "zerolinecolor": "white"
           },
           "yaxis": {
            "backgroundcolor": "#E5ECF6",
            "gridcolor": "white",
            "gridwidth": 2,
            "linecolor": "white",
            "showbackground": true,
            "ticks": "",
            "zerolinecolor": "white"
           },
           "zaxis": {
            "backgroundcolor": "#E5ECF6",
            "gridcolor": "white",
            "gridwidth": 2,
            "linecolor": "white",
            "showbackground": true,
            "ticks": "",
            "zerolinecolor": "white"
           }
          },
          "shapedefaults": {
           "line": {
            "color": "#2a3f5f"
           }
          },
          "ternary": {
           "aaxis": {
            "gridcolor": "white",
            "linecolor": "white",
            "ticks": ""
           },
           "baxis": {
            "gridcolor": "white",
            "linecolor": "white",
            "ticks": ""
           },
           "bgcolor": "#E5ECF6",
           "caxis": {
            "gridcolor": "white",
            "linecolor": "white",
            "ticks": ""
           }
          },
          "title": {
           "x": 0.05
          },
          "xaxis": {
           "automargin": true,
           "gridcolor": "white",
           "linecolor": "white",
           "ticks": "",
           "title": {
            "standoff": 15
           },
           "zerolinecolor": "white",
           "zerolinewidth": 2
          },
          "yaxis": {
           "automargin": true,
           "gridcolor": "white",
           "linecolor": "white",
           "ticks": "",
           "title": {
            "standoff": 15
           },
           "zerolinecolor": "white",
           "zerolinewidth": 2
          }
         }
        }
       }
      },
      "text/html": [
       "<div>\n",
       "        \n",
       "        \n",
       "            <div id=\"2cd41c49-5305-4164-856f-a0651d46d482\" class=\"plotly-graph-div\" style=\"height:525px; width:100%;\"></div>\n",
       "            <script type=\"text/javascript\">\n",
       "                require([\"plotly\"], function(Plotly) {\n",
       "                    window.PLOTLYENV=window.PLOTLYENV || {};\n",
       "                    \n",
       "                if (document.getElementById(\"2cd41c49-5305-4164-856f-a0651d46d482\")) {\n",
       "                    Plotly.newPlot(\n",
       "                        '2cd41c49-5305-4164-856f-a0651d46d482',\n",
       "                        [{\"link\": {\"label\": [null, null, null, \"Old generation plant (made-up)\", \"New generation plant (made-up)\", null, null, null, null, null, null, null, null, null], \"source\": [5, 27, 29, 35, 35, 41, 4, 26, 44, 46, 47, 35, 35, 26], \"target\": [26, 15, 15, 26, 26, 15, 26, 15, 15, 15, 15, 26, 26, 3], \"value\": [151.891, 7.013, 6.995, 500.0, 139.978, 59.901, 400.12, 525.531, 9.452, 19.013, 289.366, 100.0, 100.0, 787.129]}, \"node\": {\"label\": [\"Agricultural 'waste'\", \"Bio-conversion\", \"Liquid\", \"Losses\", \"Solid\", \"Gas\", \"Biofuel imports\", \"Biomass imports\", \"Coal imports\", \"Coal\", \"Coal reserves\", \"District heating\", \"Industry\", \"Heating and cooling - commercial\", \"Heating and cooling - homes\", \"Electricity grid\", \"Over generation / exports\", \"H2 conversion\", \"Road transport\", \"Agriculture\", \"Rail transport\", \"Lighting & appliances - commercial\", \"Lighting & appliances - homes\", \"Gas imports\", \"Ngas\", \"Gas reserves\", \"Thermal generation\", \"Geothermal\", \"H2\", \"Hydro\", \"International shipping\", \"Domestic aviation\", \"International aviation\", \"National navigation\", \"Marine algae\", \"Nuclear\", \"Oil imports\", \"Oil\", \"Oil reserves\", \"Other waste\", \"Pumped heat\", \"Solar PV\", \"Solar Thermal\", \"Solar\", \"Tidal\", \"UK land based bioenergy\", \"Wave\", \"Wind\"], \"line\": {\"color\": \"black\", \"width\": 0.5}, \"pad\": 15, \"thickness\": 15}, \"type\": \"sankey\", \"valueformat\": \".0f\", \"valuesuffix\": \"TWh\"}],\n",
       "                        {\"template\": {\"data\": {\"bar\": [{\"error_x\": {\"color\": \"#2a3f5f\"}, \"error_y\": {\"color\": \"#2a3f5f\"}, \"marker\": {\"line\": {\"color\": \"#E5ECF6\", \"width\": 0.5}}, \"type\": \"bar\"}], \"barpolar\": [{\"marker\": {\"line\": {\"color\": \"#E5ECF6\", \"width\": 0.5}}, \"type\": \"barpolar\"}], \"carpet\": [{\"aaxis\": {\"endlinecolor\": \"#2a3f5f\", \"gridcolor\": \"white\", \"linecolor\": \"white\", \"minorgridcolor\": \"white\", \"startlinecolor\": \"#2a3f5f\"}, \"baxis\": {\"endlinecolor\": \"#2a3f5f\", \"gridcolor\": \"white\", \"linecolor\": \"white\", \"minorgridcolor\": \"white\", \"startlinecolor\": \"#2a3f5f\"}, \"type\": \"carpet\"}], \"choropleth\": [{\"colorbar\": {\"outlinewidth\": 0, \"ticks\": \"\"}, \"type\": \"choropleth\"}], \"contour\": [{\"colorbar\": {\"outlinewidth\": 0, \"ticks\": \"\"}, \"colorscale\": [[0.0, \"#0d0887\"], [0.1111111111111111, \"#46039f\"], [0.2222222222222222, \"#7201a8\"], [0.3333333333333333, \"#9c179e\"], [0.4444444444444444, \"#bd3786\"], [0.5555555555555556, \"#d8576b\"], [0.6666666666666666, \"#ed7953\"], [0.7777777777777778, \"#fb9f3a\"], [0.8888888888888888, \"#fdca26\"], [1.0, \"#f0f921\"]], \"type\": \"contour\"}], \"contourcarpet\": [{\"colorbar\": {\"outlinewidth\": 0, \"ticks\": \"\"}, \"type\": \"contourcarpet\"}], \"heatmap\": [{\"colorbar\": {\"outlinewidth\": 0, \"ticks\": \"\"}, \"colorscale\": [[0.0, \"#0d0887\"], [0.1111111111111111, \"#46039f\"], [0.2222222222222222, \"#7201a8\"], [0.3333333333333333, \"#9c179e\"], [0.4444444444444444, \"#bd3786\"], [0.5555555555555556, \"#d8576b\"], [0.6666666666666666, \"#ed7953\"], [0.7777777777777778, \"#fb9f3a\"], [0.8888888888888888, \"#fdca26\"], [1.0, \"#f0f921\"]], \"type\": \"heatmap\"}], \"heatmapgl\": [{\"colorbar\": {\"outlinewidth\": 0, \"ticks\": \"\"}, \"colorscale\": [[0.0, \"#0d0887\"], [0.1111111111111111, \"#46039f\"], [0.2222222222222222, \"#7201a8\"], [0.3333333333333333, \"#9c179e\"], [0.4444444444444444, \"#bd3786\"], [0.5555555555555556, \"#d8576b\"], [0.6666666666666666, \"#ed7953\"], [0.7777777777777778, \"#fb9f3a\"], [0.8888888888888888, \"#fdca26\"], [1.0, \"#f0f921\"]], \"type\": \"heatmapgl\"}], \"histogram\": [{\"marker\": {\"colorbar\": {\"outlinewidth\": 0, \"ticks\": \"\"}}, \"type\": \"histogram\"}], \"histogram2d\": [{\"colorbar\": {\"outlinewidth\": 0, \"ticks\": \"\"}, \"colorscale\": [[0.0, \"#0d0887\"], [0.1111111111111111, \"#46039f\"], [0.2222222222222222, \"#7201a8\"], [0.3333333333333333, \"#9c179e\"], [0.4444444444444444, \"#bd3786\"], [0.5555555555555556, \"#d8576b\"], [0.6666666666666666, \"#ed7953\"], [0.7777777777777778, \"#fb9f3a\"], [0.8888888888888888, \"#fdca26\"], [1.0, \"#f0f921\"]], \"type\": \"histogram2d\"}], \"histogram2dcontour\": [{\"colorbar\": {\"outlinewidth\": 0, \"ticks\": \"\"}, \"colorscale\": [[0.0, \"#0d0887\"], [0.1111111111111111, \"#46039f\"], [0.2222222222222222, \"#7201a8\"], [0.3333333333333333, \"#9c179e\"], [0.4444444444444444, \"#bd3786\"], [0.5555555555555556, \"#d8576b\"], [0.6666666666666666, \"#ed7953\"], [0.7777777777777778, \"#fb9f3a\"], [0.8888888888888888, \"#fdca26\"], [1.0, \"#f0f921\"]], \"type\": \"histogram2dcontour\"}], \"mesh3d\": [{\"colorbar\": {\"outlinewidth\": 0, \"ticks\": \"\"}, \"type\": \"mesh3d\"}], \"parcoords\": [{\"line\": {\"colorbar\": {\"outlinewidth\": 0, \"ticks\": \"\"}}, \"type\": \"parcoords\"}], \"pie\": [{\"automargin\": true, \"type\": \"pie\"}], \"scatter\": [{\"marker\": {\"colorbar\": {\"outlinewidth\": 0, \"ticks\": \"\"}}, \"type\": \"scatter\"}], \"scatter3d\": [{\"line\": {\"colorbar\": {\"outlinewidth\": 0, \"ticks\": \"\"}}, \"marker\": {\"colorbar\": {\"outlinewidth\": 0, \"ticks\": \"\"}}, \"type\": \"scatter3d\"}], \"scattercarpet\": [{\"marker\": {\"colorbar\": {\"outlinewidth\": 0, \"ticks\": \"\"}}, \"type\": \"scattercarpet\"}], \"scattergeo\": [{\"marker\": {\"colorbar\": {\"outlinewidth\": 0, \"ticks\": \"\"}}, \"type\": \"scattergeo\"}], \"scattergl\": [{\"marker\": {\"colorbar\": {\"outlinewidth\": 0, \"ticks\": \"\"}}, \"type\": \"scattergl\"}], \"scattermapbox\": [{\"marker\": {\"colorbar\": {\"outlinewidth\": 0, \"ticks\": \"\"}}, \"type\": \"scattermapbox\"}], \"scatterpolar\": [{\"marker\": {\"colorbar\": {\"outlinewidth\": 0, \"ticks\": \"\"}}, \"type\": \"scatterpolar\"}], \"scatterpolargl\": [{\"marker\": {\"colorbar\": {\"outlinewidth\": 0, \"ticks\": \"\"}}, \"type\": \"scatterpolargl\"}], \"scatterternary\": [{\"marker\": {\"colorbar\": {\"outlinewidth\": 0, \"ticks\": \"\"}}, \"type\": \"scatterternary\"}], \"surface\": [{\"colorbar\": {\"outlinewidth\": 0, \"ticks\": \"\"}, \"colorscale\": [[0.0, \"#0d0887\"], [0.1111111111111111, \"#46039f\"], [0.2222222222222222, \"#7201a8\"], [0.3333333333333333, \"#9c179e\"], [0.4444444444444444, \"#bd3786\"], [0.5555555555555556, \"#d8576b\"], [0.6666666666666666, \"#ed7953\"], [0.7777777777777778, \"#fb9f3a\"], [0.8888888888888888, \"#fdca26\"], [1.0, \"#f0f921\"]], \"type\": \"surface\"}], \"table\": [{\"cells\": {\"fill\": {\"color\": \"#EBF0F8\"}, \"line\": {\"color\": \"white\"}}, \"header\": {\"fill\": {\"color\": \"#C8D4E3\"}, \"line\": {\"color\": \"white\"}}, \"type\": \"table\"}]}, \"layout\": {\"annotationdefaults\": {\"arrowcolor\": \"#2a3f5f\", \"arrowhead\": 0, \"arrowwidth\": 1}, \"coloraxis\": {\"colorbar\": {\"outlinewidth\": 0, \"ticks\": \"\"}}, \"colorscale\": {\"diverging\": [[0, \"#8e0152\"], [0.1, \"#c51b7d\"], [0.2, \"#de77ae\"], [0.3, \"#f1b6da\"], [0.4, \"#fde0ef\"], [0.5, \"#f7f7f7\"], [0.6, \"#e6f5d0\"], [0.7, \"#b8e186\"], [0.8, \"#7fbc41\"], [0.9, \"#4d9221\"], [1, \"#276419\"]], \"sequential\": [[0.0, \"#0d0887\"], [0.1111111111111111, \"#46039f\"], [0.2222222222222222, \"#7201a8\"], [0.3333333333333333, \"#9c179e\"], [0.4444444444444444, \"#bd3786\"], [0.5555555555555556, \"#d8576b\"], [0.6666666666666666, \"#ed7953\"], [0.7777777777777778, \"#fb9f3a\"], [0.8888888888888888, \"#fdca26\"], [1.0, \"#f0f921\"]], \"sequentialminus\": [[0.0, \"#0d0887\"], [0.1111111111111111, \"#46039f\"], [0.2222222222222222, \"#7201a8\"], [0.3333333333333333, \"#9c179e\"], [0.4444444444444444, \"#bd3786\"], [0.5555555555555556, \"#d8576b\"], [0.6666666666666666, \"#ed7953\"], [0.7777777777777778, \"#fb9f3a\"], [0.8888888888888888, \"#fdca26\"], [1.0, \"#f0f921\"]]}, \"colorway\": [\"#636efa\", \"#EF553B\", \"#00cc96\", \"#ab63fa\", \"#FFA15A\", \"#19d3f3\", \"#FF6692\", \"#B6E880\", \"#FF97FF\", \"#FECB52\"], \"font\": {\"color\": \"#2a3f5f\"}, \"geo\": {\"bgcolor\": \"white\", \"lakecolor\": \"white\", \"landcolor\": \"#E5ECF6\", \"showlakes\": true, \"showland\": true, \"subunitcolor\": \"white\"}, \"hoverlabel\": {\"align\": \"left\"}, \"hovermode\": \"closest\", \"mapbox\": {\"style\": \"light\"}, \"paper_bgcolor\": \"white\", \"plot_bgcolor\": \"#E5ECF6\", \"polar\": {\"angularaxis\": {\"gridcolor\": \"white\", \"linecolor\": \"white\", \"ticks\": \"\"}, \"bgcolor\": \"#E5ECF6\", \"radialaxis\": {\"gridcolor\": \"white\", \"linecolor\": \"white\", \"ticks\": \"\"}}, \"scene\": {\"xaxis\": {\"backgroundcolor\": \"#E5ECF6\", \"gridcolor\": \"white\", \"gridwidth\": 2, \"linecolor\": \"white\", \"showbackground\": true, \"ticks\": \"\", \"zerolinecolor\": \"white\"}, \"yaxis\": {\"backgroundcolor\": \"#E5ECF6\", \"gridcolor\": \"white\", \"gridwidth\": 2, \"linecolor\": \"white\", \"showbackground\": true, \"ticks\": \"\", \"zerolinecolor\": \"white\"}, \"zaxis\": {\"backgroundcolor\": \"#E5ECF6\", \"gridcolor\": \"white\", \"gridwidth\": 2, \"linecolor\": \"white\", \"showbackground\": true, \"ticks\": \"\", \"zerolinecolor\": \"white\"}}, \"shapedefaults\": {\"line\": {\"color\": \"#2a3f5f\"}}, \"ternary\": {\"aaxis\": {\"gridcolor\": \"white\", \"linecolor\": \"white\", \"ticks\": \"\"}, \"baxis\": {\"gridcolor\": \"white\", \"linecolor\": \"white\", \"ticks\": \"\"}, \"bgcolor\": \"#E5ECF6\", \"caxis\": {\"gridcolor\": \"white\", \"linecolor\": \"white\", \"ticks\": \"\"}}, \"title\": {\"x\": 0.05}, \"xaxis\": {\"automargin\": true, \"gridcolor\": \"white\", \"linecolor\": \"white\", \"ticks\": \"\", \"title\": {\"standoff\": 15}, \"zerolinecolor\": \"white\", \"zerolinewidth\": 2}, \"yaxis\": {\"automargin\": true, \"gridcolor\": \"white\", \"linecolor\": \"white\", \"ticks\": \"\", \"title\": {\"standoff\": 15}, \"zerolinecolor\": \"white\", \"zerolinewidth\": 2}}}},\n",
       "                        {\"responsive\": true}\n",
       "                    ).then(function(){\n",
       "                            \n",
       "var gd = document.getElementById('2cd41c49-5305-4164-856f-a0651d46d482');\n",
       "var x = new MutationObserver(function (mutations, observer) {{\n",
       "        var display = window.getComputedStyle(gd).display;\n",
       "        if (!display || display === 'none') {{\n",
       "            console.log([gd, 'removed!']);\n",
       "            Plotly.purge(gd);\n",
       "            observer.disconnect();\n",
       "        }}\n",
       "}});\n",
       "\n",
       "// Listen for the removal of the full notebook cells\n",
       "var notebookContainer = gd.closest('#notebook-container');\n",
       "if (notebookContainer) {{\n",
       "    x.observe(notebookContainer, {childList: true});\n",
       "}}\n",
       "\n",
       "// Listen for the clearing of the current output cell\n",
       "var outputEl = gd.closest('.output');\n",
       "if (outputEl) {{\n",
       "    x.observe(outputEl, {childList: true});\n",
       "}}\n",
       "\n",
       "                        })\n",
       "                };\n",
       "                });\n",
       "            </script>\n",
       "        </div>"
      ]
     },
     "metadata": {},
     "output_type": "display_data"
    }
   ],
   "source": [
    "fig = go.Figure(data=[go.Sankey(\n",
    "    valueformat = \".0f\",\n",
    "    valuesuffix = \"TWh\",\n",
    "    node = dict(\n",
    "      pad = 15,\n",
    "      thickness = 15,\n",
    "      line = dict(color = \"black\", width = 0.5),\n",
    "      label =  cdf['Labels'].dropna(),\n",
    "    ),\n",
    "    link = dict(\n",
    "      source =  elec2['source'],\n",
    "      target =  elec2['target'],\n",
    "      value =  elec2['value'],\n",
    "      label =  elec2['label']\n",
    "  ))])\n",
    "\n",
    "fig.show()"
   ]
  },
  {
   "cell_type": "code",
   "execution_count": 44,
   "metadata": {},
   "outputs": [
    {
     "data": {
      "application/vnd.plotly.v1+json": {
       "config": {
        "plotlyServerURL": "https://plotly.com"
       },
       "data": [
        {
         "link": {
          "label": [
           null,
           null,
           null,
           "Old generation plant (made-up)",
           "New generation plant (made-up)",
           null,
           null,
           null,
           null,
           null,
           null,
           null,
           null,
           null,
           null,
           null,
           null
          ],
          "source": [
           5,
           27,
           29,
           35,
           35,
           41,
           4,
           26,
           44,
           46,
           47,
           35,
           35,
           26,
           36,
           38,
           37
          ],
          "target": [
           26,
           15,
           15,
           26,
           26,
           15,
           26,
           15,
           15,
           15,
           15,
           26,
           26,
           3,
           37,
           37,
           2
          ],
          "value": [
           151.891,
           7.013,
           6.995,
           500,
           139.978,
           59.901,
           400.12,
           525.531,
           9.452,
           19.013,
           289.366,
           100,
           100,
           787.129,
           504.287,
           107.703,
           611.99
          ]
         },
         "node": {
          "label": [
           "Agricultural 'waste'",
           "Bio-conversion",
           "Liquid",
           "Losses",
           "Solid",
           "Gas",
           "Biofuel imports",
           "Biomass imports",
           "Coal imports",
           "Coal",
           "Coal reserves",
           "District heating",
           "Industry",
           "Heating and cooling - commercial",
           "Heating and cooling - homes",
           "Electricity grid",
           "Over generation / exports",
           "H2 conversion",
           "Road transport",
           "Agriculture",
           "Rail transport",
           "Lighting & appliances - commercial",
           "Lighting & appliances - homes",
           "Gas imports",
           "Ngas",
           "Gas reserves",
           "Thermal generation",
           "Geothermal",
           "H2",
           "Hydro",
           "International shipping",
           "Domestic aviation",
           "International aviation",
           "National navigation",
           "Marine algae",
           "Nuclear",
           "Oil imports",
           "Oil",
           "Oil reserves",
           "Other waste",
           "Pumped heat",
           "Solar PV",
           "Solar Thermal",
           "Solar",
           "Tidal",
           "UK land based bioenergy",
           "Wave",
           "Wind"
          ],
          "line": {
           "color": "black",
           "width": 0.5
          },
          "pad": 15,
          "thickness": 15
         },
         "type": "sankey",
         "valueformat": ".0f",
         "valuesuffix": "TWh"
        }
       ],
       "layout": {
        "template": {
         "data": {
          "bar": [
           {
            "error_x": {
             "color": "#2a3f5f"
            },
            "error_y": {
             "color": "#2a3f5f"
            },
            "marker": {
             "line": {
              "color": "#E5ECF6",
              "width": 0.5
             }
            },
            "type": "bar"
           }
          ],
          "barpolar": [
           {
            "marker": {
             "line": {
              "color": "#E5ECF6",
              "width": 0.5
             }
            },
            "type": "barpolar"
           }
          ],
          "carpet": [
           {
            "aaxis": {
             "endlinecolor": "#2a3f5f",
             "gridcolor": "white",
             "linecolor": "white",
             "minorgridcolor": "white",
             "startlinecolor": "#2a3f5f"
            },
            "baxis": {
             "endlinecolor": "#2a3f5f",
             "gridcolor": "white",
             "linecolor": "white",
             "minorgridcolor": "white",
             "startlinecolor": "#2a3f5f"
            },
            "type": "carpet"
           }
          ],
          "choropleth": [
           {
            "colorbar": {
             "outlinewidth": 0,
             "ticks": ""
            },
            "type": "choropleth"
           }
          ],
          "contour": [
           {
            "colorbar": {
             "outlinewidth": 0,
             "ticks": ""
            },
            "colorscale": [
             [
              0,
              "#0d0887"
             ],
             [
              0.1111111111111111,
              "#46039f"
             ],
             [
              0.2222222222222222,
              "#7201a8"
             ],
             [
              0.3333333333333333,
              "#9c179e"
             ],
             [
              0.4444444444444444,
              "#bd3786"
             ],
             [
              0.5555555555555556,
              "#d8576b"
             ],
             [
              0.6666666666666666,
              "#ed7953"
             ],
             [
              0.7777777777777778,
              "#fb9f3a"
             ],
             [
              0.8888888888888888,
              "#fdca26"
             ],
             [
              1,
              "#f0f921"
             ]
            ],
            "type": "contour"
           }
          ],
          "contourcarpet": [
           {
            "colorbar": {
             "outlinewidth": 0,
             "ticks": ""
            },
            "type": "contourcarpet"
           }
          ],
          "heatmap": [
           {
            "colorbar": {
             "outlinewidth": 0,
             "ticks": ""
            },
            "colorscale": [
             [
              0,
              "#0d0887"
             ],
             [
              0.1111111111111111,
              "#46039f"
             ],
             [
              0.2222222222222222,
              "#7201a8"
             ],
             [
              0.3333333333333333,
              "#9c179e"
             ],
             [
              0.4444444444444444,
              "#bd3786"
             ],
             [
              0.5555555555555556,
              "#d8576b"
             ],
             [
              0.6666666666666666,
              "#ed7953"
             ],
             [
              0.7777777777777778,
              "#fb9f3a"
             ],
             [
              0.8888888888888888,
              "#fdca26"
             ],
             [
              1,
              "#f0f921"
             ]
            ],
            "type": "heatmap"
           }
          ],
          "heatmapgl": [
           {
            "colorbar": {
             "outlinewidth": 0,
             "ticks": ""
            },
            "colorscale": [
             [
              0,
              "#0d0887"
             ],
             [
              0.1111111111111111,
              "#46039f"
             ],
             [
              0.2222222222222222,
              "#7201a8"
             ],
             [
              0.3333333333333333,
              "#9c179e"
             ],
             [
              0.4444444444444444,
              "#bd3786"
             ],
             [
              0.5555555555555556,
              "#d8576b"
             ],
             [
              0.6666666666666666,
              "#ed7953"
             ],
             [
              0.7777777777777778,
              "#fb9f3a"
             ],
             [
              0.8888888888888888,
              "#fdca26"
             ],
             [
              1,
              "#f0f921"
             ]
            ],
            "type": "heatmapgl"
           }
          ],
          "histogram": [
           {
            "marker": {
             "colorbar": {
              "outlinewidth": 0,
              "ticks": ""
             }
            },
            "type": "histogram"
           }
          ],
          "histogram2d": [
           {
            "colorbar": {
             "outlinewidth": 0,
             "ticks": ""
            },
            "colorscale": [
             [
              0,
              "#0d0887"
             ],
             [
              0.1111111111111111,
              "#46039f"
             ],
             [
              0.2222222222222222,
              "#7201a8"
             ],
             [
              0.3333333333333333,
              "#9c179e"
             ],
             [
              0.4444444444444444,
              "#bd3786"
             ],
             [
              0.5555555555555556,
              "#d8576b"
             ],
             [
              0.6666666666666666,
              "#ed7953"
             ],
             [
              0.7777777777777778,
              "#fb9f3a"
             ],
             [
              0.8888888888888888,
              "#fdca26"
             ],
             [
              1,
              "#f0f921"
             ]
            ],
            "type": "histogram2d"
           }
          ],
          "histogram2dcontour": [
           {
            "colorbar": {
             "outlinewidth": 0,
             "ticks": ""
            },
            "colorscale": [
             [
              0,
              "#0d0887"
             ],
             [
              0.1111111111111111,
              "#46039f"
             ],
             [
              0.2222222222222222,
              "#7201a8"
             ],
             [
              0.3333333333333333,
              "#9c179e"
             ],
             [
              0.4444444444444444,
              "#bd3786"
             ],
             [
              0.5555555555555556,
              "#d8576b"
             ],
             [
              0.6666666666666666,
              "#ed7953"
             ],
             [
              0.7777777777777778,
              "#fb9f3a"
             ],
             [
              0.8888888888888888,
              "#fdca26"
             ],
             [
              1,
              "#f0f921"
             ]
            ],
            "type": "histogram2dcontour"
           }
          ],
          "mesh3d": [
           {
            "colorbar": {
             "outlinewidth": 0,
             "ticks": ""
            },
            "type": "mesh3d"
           }
          ],
          "parcoords": [
           {
            "line": {
             "colorbar": {
              "outlinewidth": 0,
              "ticks": ""
             }
            },
            "type": "parcoords"
           }
          ],
          "pie": [
           {
            "automargin": true,
            "type": "pie"
           }
          ],
          "scatter": [
           {
            "marker": {
             "colorbar": {
              "outlinewidth": 0,
              "ticks": ""
             }
            },
            "type": "scatter"
           }
          ],
          "scatter3d": [
           {
            "line": {
             "colorbar": {
              "outlinewidth": 0,
              "ticks": ""
             }
            },
            "marker": {
             "colorbar": {
              "outlinewidth": 0,
              "ticks": ""
             }
            },
            "type": "scatter3d"
           }
          ],
          "scattercarpet": [
           {
            "marker": {
             "colorbar": {
              "outlinewidth": 0,
              "ticks": ""
             }
            },
            "type": "scattercarpet"
           }
          ],
          "scattergeo": [
           {
            "marker": {
             "colorbar": {
              "outlinewidth": 0,
              "ticks": ""
             }
            },
            "type": "scattergeo"
           }
          ],
          "scattergl": [
           {
            "marker": {
             "colorbar": {
              "outlinewidth": 0,
              "ticks": ""
             }
            },
            "type": "scattergl"
           }
          ],
          "scattermapbox": [
           {
            "marker": {
             "colorbar": {
              "outlinewidth": 0,
              "ticks": ""
             }
            },
            "type": "scattermapbox"
           }
          ],
          "scatterpolar": [
           {
            "marker": {
             "colorbar": {
              "outlinewidth": 0,
              "ticks": ""
             }
            },
            "type": "scatterpolar"
           }
          ],
          "scatterpolargl": [
           {
            "marker": {
             "colorbar": {
              "outlinewidth": 0,
              "ticks": ""
             }
            },
            "type": "scatterpolargl"
           }
          ],
          "scatterternary": [
           {
            "marker": {
             "colorbar": {
              "outlinewidth": 0,
              "ticks": ""
             }
            },
            "type": "scatterternary"
           }
          ],
          "surface": [
           {
            "colorbar": {
             "outlinewidth": 0,
             "ticks": ""
            },
            "colorscale": [
             [
              0,
              "#0d0887"
             ],
             [
              0.1111111111111111,
              "#46039f"
             ],
             [
              0.2222222222222222,
              "#7201a8"
             ],
             [
              0.3333333333333333,
              "#9c179e"
             ],
             [
              0.4444444444444444,
              "#bd3786"
             ],
             [
              0.5555555555555556,
              "#d8576b"
             ],
             [
              0.6666666666666666,
              "#ed7953"
             ],
             [
              0.7777777777777778,
              "#fb9f3a"
             ],
             [
              0.8888888888888888,
              "#fdca26"
             ],
             [
              1,
              "#f0f921"
             ]
            ],
            "type": "surface"
           }
          ],
          "table": [
           {
            "cells": {
             "fill": {
              "color": "#EBF0F8"
             },
             "line": {
              "color": "white"
             }
            },
            "header": {
             "fill": {
              "color": "#C8D4E3"
             },
             "line": {
              "color": "white"
             }
            },
            "type": "table"
           }
          ]
         },
         "layout": {
          "annotationdefaults": {
           "arrowcolor": "#2a3f5f",
           "arrowhead": 0,
           "arrowwidth": 1
          },
          "coloraxis": {
           "colorbar": {
            "outlinewidth": 0,
            "ticks": ""
           }
          },
          "colorscale": {
           "diverging": [
            [
             0,
             "#8e0152"
            ],
            [
             0.1,
             "#c51b7d"
            ],
            [
             0.2,
             "#de77ae"
            ],
            [
             0.3,
             "#f1b6da"
            ],
            [
             0.4,
             "#fde0ef"
            ],
            [
             0.5,
             "#f7f7f7"
            ],
            [
             0.6,
             "#e6f5d0"
            ],
            [
             0.7,
             "#b8e186"
            ],
            [
             0.8,
             "#7fbc41"
            ],
            [
             0.9,
             "#4d9221"
            ],
            [
             1,
             "#276419"
            ]
           ],
           "sequential": [
            [
             0,
             "#0d0887"
            ],
            [
             0.1111111111111111,
             "#46039f"
            ],
            [
             0.2222222222222222,
             "#7201a8"
            ],
            [
             0.3333333333333333,
             "#9c179e"
            ],
            [
             0.4444444444444444,
             "#bd3786"
            ],
            [
             0.5555555555555556,
             "#d8576b"
            ],
            [
             0.6666666666666666,
             "#ed7953"
            ],
            [
             0.7777777777777778,
             "#fb9f3a"
            ],
            [
             0.8888888888888888,
             "#fdca26"
            ],
            [
             1,
             "#f0f921"
            ]
           ],
           "sequentialminus": [
            [
             0,
             "#0d0887"
            ],
            [
             0.1111111111111111,
             "#46039f"
            ],
            [
             0.2222222222222222,
             "#7201a8"
            ],
            [
             0.3333333333333333,
             "#9c179e"
            ],
            [
             0.4444444444444444,
             "#bd3786"
            ],
            [
             0.5555555555555556,
             "#d8576b"
            ],
            [
             0.6666666666666666,
             "#ed7953"
            ],
            [
             0.7777777777777778,
             "#fb9f3a"
            ],
            [
             0.8888888888888888,
             "#fdca26"
            ],
            [
             1,
             "#f0f921"
            ]
           ]
          },
          "colorway": [
           "#636efa",
           "#EF553B",
           "#00cc96",
           "#ab63fa",
           "#FFA15A",
           "#19d3f3",
           "#FF6692",
           "#B6E880",
           "#FF97FF",
           "#FECB52"
          ],
          "font": {
           "color": "#2a3f5f"
          },
          "geo": {
           "bgcolor": "white",
           "lakecolor": "white",
           "landcolor": "#E5ECF6",
           "showlakes": true,
           "showland": true,
           "subunitcolor": "white"
          },
          "hoverlabel": {
           "align": "left"
          },
          "hovermode": "closest",
          "mapbox": {
           "style": "light"
          },
          "paper_bgcolor": "white",
          "plot_bgcolor": "#E5ECF6",
          "polar": {
           "angularaxis": {
            "gridcolor": "white",
            "linecolor": "white",
            "ticks": ""
           },
           "bgcolor": "#E5ECF6",
           "radialaxis": {
            "gridcolor": "white",
            "linecolor": "white",
            "ticks": ""
           }
          },
          "scene": {
           "xaxis": {
            "backgroundcolor": "#E5ECF6",
            "gridcolor": "white",
            "gridwidth": 2,
            "linecolor": "white",
            "showbackground": true,
            "ticks": "",
            "zerolinecolor": "white"
           },
           "yaxis": {
            "backgroundcolor": "#E5ECF6",
            "gridcolor": "white",
            "gridwidth": 2,
            "linecolor": "white",
            "showbackground": true,
            "ticks": "",
            "zerolinecolor": "white"
           },
           "zaxis": {
            "backgroundcolor": "#E5ECF6",
            "gridcolor": "white",
            "gridwidth": 2,
            "linecolor": "white",
            "showbackground": true,
            "ticks": "",
            "zerolinecolor": "white"
           }
          },
          "shapedefaults": {
           "line": {
            "color": "#2a3f5f"
           }
          },
          "ternary": {
           "aaxis": {
            "gridcolor": "white",
            "linecolor": "white",
            "ticks": ""
           },
           "baxis": {
            "gridcolor": "white",
            "linecolor": "white",
            "ticks": ""
           },
           "bgcolor": "#E5ECF6",
           "caxis": {
            "gridcolor": "white",
            "linecolor": "white",
            "ticks": ""
           }
          },
          "title": {
           "x": 0.05
          },
          "xaxis": {
           "automargin": true,
           "gridcolor": "white",
           "linecolor": "white",
           "ticks": "",
           "title": {
            "standoff": 15
           },
           "zerolinecolor": "white",
           "zerolinewidth": 2
          },
          "yaxis": {
           "automargin": true,
           "gridcolor": "white",
           "linecolor": "white",
           "ticks": "",
           "title": {
            "standoff": 15
           },
           "zerolinecolor": "white",
           "zerolinewidth": 2
          }
         }
        }
       }
      },
      "text/html": [
       "<div>\n",
       "        \n",
       "        \n",
       "            <div id=\"4c5bd187-3e31-413e-b602-1a2352b003c5\" class=\"plotly-graph-div\" style=\"height:525px; width:100%;\"></div>\n",
       "            <script type=\"text/javascript\">\n",
       "                require([\"plotly\"], function(Plotly) {\n",
       "                    window.PLOTLYENV=window.PLOTLYENV || {};\n",
       "                    \n",
       "                if (document.getElementById(\"4c5bd187-3e31-413e-b602-1a2352b003c5\")) {\n",
       "                    Plotly.newPlot(\n",
       "                        '4c5bd187-3e31-413e-b602-1a2352b003c5',\n",
       "                        [{\"link\": {\"label\": [null, null, null, \"Old generation plant (made-up)\", \"New generation plant (made-up)\", null, null, null, null, null, null, null, null, null, null, null, null], \"source\": [5, 27, 29, 35, 35, 41, 4, 26, 44, 46, 47, 35, 35, 26, 36, 38, 37], \"target\": [26, 15, 15, 26, 26, 15, 26, 15, 15, 15, 15, 26, 26, 3, 37, 37, 2], \"value\": [151.891, 7.013, 6.995, 500.0, 139.978, 59.901, 400.12, 525.531, 9.452, 19.013, 289.366, 100.0, 100.0, 787.129, 504.287, 107.703, 611.99]}, \"node\": {\"label\": [\"Agricultural 'waste'\", \"Bio-conversion\", \"Liquid\", \"Losses\", \"Solid\", \"Gas\", \"Biofuel imports\", \"Biomass imports\", \"Coal imports\", \"Coal\", \"Coal reserves\", \"District heating\", \"Industry\", \"Heating and cooling - commercial\", \"Heating and cooling - homes\", \"Electricity grid\", \"Over generation / exports\", \"H2 conversion\", \"Road transport\", \"Agriculture\", \"Rail transport\", \"Lighting & appliances - commercial\", \"Lighting & appliances - homes\", \"Gas imports\", \"Ngas\", \"Gas reserves\", \"Thermal generation\", \"Geothermal\", \"H2\", \"Hydro\", \"International shipping\", \"Domestic aviation\", \"International aviation\", \"National navigation\", \"Marine algae\", \"Nuclear\", \"Oil imports\", \"Oil\", \"Oil reserves\", \"Other waste\", \"Pumped heat\", \"Solar PV\", \"Solar Thermal\", \"Solar\", \"Tidal\", \"UK land based bioenergy\", \"Wave\", \"Wind\"], \"line\": {\"color\": \"black\", \"width\": 0.5}, \"pad\": 15, \"thickness\": 15}, \"type\": \"sankey\", \"valueformat\": \".0f\", \"valuesuffix\": \"TWh\"}],\n",
       "                        {\"template\": {\"data\": {\"bar\": [{\"error_x\": {\"color\": \"#2a3f5f\"}, \"error_y\": {\"color\": \"#2a3f5f\"}, \"marker\": {\"line\": {\"color\": \"#E5ECF6\", \"width\": 0.5}}, \"type\": \"bar\"}], \"barpolar\": [{\"marker\": {\"line\": {\"color\": \"#E5ECF6\", \"width\": 0.5}}, \"type\": \"barpolar\"}], \"carpet\": [{\"aaxis\": {\"endlinecolor\": \"#2a3f5f\", \"gridcolor\": \"white\", \"linecolor\": \"white\", \"minorgridcolor\": \"white\", \"startlinecolor\": \"#2a3f5f\"}, \"baxis\": {\"endlinecolor\": \"#2a3f5f\", \"gridcolor\": \"white\", \"linecolor\": \"white\", \"minorgridcolor\": \"white\", \"startlinecolor\": \"#2a3f5f\"}, \"type\": \"carpet\"}], \"choropleth\": [{\"colorbar\": {\"outlinewidth\": 0, \"ticks\": \"\"}, \"type\": \"choropleth\"}], \"contour\": [{\"colorbar\": {\"outlinewidth\": 0, \"ticks\": \"\"}, \"colorscale\": [[0.0, \"#0d0887\"], [0.1111111111111111, \"#46039f\"], [0.2222222222222222, \"#7201a8\"], [0.3333333333333333, \"#9c179e\"], [0.4444444444444444, \"#bd3786\"], [0.5555555555555556, \"#d8576b\"], [0.6666666666666666, \"#ed7953\"], [0.7777777777777778, \"#fb9f3a\"], [0.8888888888888888, \"#fdca26\"], [1.0, \"#f0f921\"]], \"type\": \"contour\"}], \"contourcarpet\": [{\"colorbar\": {\"outlinewidth\": 0, \"ticks\": \"\"}, \"type\": \"contourcarpet\"}], \"heatmap\": [{\"colorbar\": {\"outlinewidth\": 0, \"ticks\": \"\"}, \"colorscale\": [[0.0, \"#0d0887\"], [0.1111111111111111, \"#46039f\"], [0.2222222222222222, \"#7201a8\"], [0.3333333333333333, \"#9c179e\"], [0.4444444444444444, \"#bd3786\"], [0.5555555555555556, \"#d8576b\"], [0.6666666666666666, \"#ed7953\"], [0.7777777777777778, \"#fb9f3a\"], [0.8888888888888888, \"#fdca26\"], [1.0, \"#f0f921\"]], \"type\": \"heatmap\"}], \"heatmapgl\": [{\"colorbar\": {\"outlinewidth\": 0, \"ticks\": \"\"}, \"colorscale\": [[0.0, \"#0d0887\"], [0.1111111111111111, \"#46039f\"], [0.2222222222222222, \"#7201a8\"], [0.3333333333333333, \"#9c179e\"], [0.4444444444444444, \"#bd3786\"], [0.5555555555555556, \"#d8576b\"], [0.6666666666666666, \"#ed7953\"], [0.7777777777777778, \"#fb9f3a\"], [0.8888888888888888, \"#fdca26\"], [1.0, \"#f0f921\"]], \"type\": \"heatmapgl\"}], \"histogram\": [{\"marker\": {\"colorbar\": {\"outlinewidth\": 0, \"ticks\": \"\"}}, \"type\": \"histogram\"}], \"histogram2d\": [{\"colorbar\": {\"outlinewidth\": 0, \"ticks\": \"\"}, \"colorscale\": [[0.0, \"#0d0887\"], [0.1111111111111111, \"#46039f\"], [0.2222222222222222, \"#7201a8\"], [0.3333333333333333, \"#9c179e\"], [0.4444444444444444, \"#bd3786\"], [0.5555555555555556, \"#d8576b\"], [0.6666666666666666, \"#ed7953\"], [0.7777777777777778, \"#fb9f3a\"], [0.8888888888888888, \"#fdca26\"], [1.0, \"#f0f921\"]], \"type\": \"histogram2d\"}], \"histogram2dcontour\": [{\"colorbar\": {\"outlinewidth\": 0, \"ticks\": \"\"}, \"colorscale\": [[0.0, \"#0d0887\"], [0.1111111111111111, \"#46039f\"], [0.2222222222222222, \"#7201a8\"], [0.3333333333333333, \"#9c179e\"], [0.4444444444444444, \"#bd3786\"], [0.5555555555555556, \"#d8576b\"], [0.6666666666666666, \"#ed7953\"], [0.7777777777777778, \"#fb9f3a\"], [0.8888888888888888, \"#fdca26\"], [1.0, \"#f0f921\"]], \"type\": \"histogram2dcontour\"}], \"mesh3d\": [{\"colorbar\": {\"outlinewidth\": 0, \"ticks\": \"\"}, \"type\": \"mesh3d\"}], \"parcoords\": [{\"line\": {\"colorbar\": {\"outlinewidth\": 0, \"ticks\": \"\"}}, \"type\": \"parcoords\"}], \"pie\": [{\"automargin\": true, \"type\": \"pie\"}], \"scatter\": [{\"marker\": {\"colorbar\": {\"outlinewidth\": 0, \"ticks\": \"\"}}, \"type\": \"scatter\"}], \"scatter3d\": [{\"line\": {\"colorbar\": {\"outlinewidth\": 0, \"ticks\": \"\"}}, \"marker\": {\"colorbar\": {\"outlinewidth\": 0, \"ticks\": \"\"}}, \"type\": \"scatter3d\"}], \"scattercarpet\": [{\"marker\": {\"colorbar\": {\"outlinewidth\": 0, \"ticks\": \"\"}}, \"type\": \"scattercarpet\"}], \"scattergeo\": [{\"marker\": {\"colorbar\": {\"outlinewidth\": 0, \"ticks\": \"\"}}, \"type\": \"scattergeo\"}], \"scattergl\": [{\"marker\": {\"colorbar\": {\"outlinewidth\": 0, \"ticks\": \"\"}}, \"type\": \"scattergl\"}], \"scattermapbox\": [{\"marker\": {\"colorbar\": {\"outlinewidth\": 0, \"ticks\": \"\"}}, \"type\": \"scattermapbox\"}], \"scatterpolar\": [{\"marker\": {\"colorbar\": {\"outlinewidth\": 0, \"ticks\": \"\"}}, \"type\": \"scatterpolar\"}], \"scatterpolargl\": [{\"marker\": {\"colorbar\": {\"outlinewidth\": 0, \"ticks\": \"\"}}, \"type\": \"scatterpolargl\"}], \"scatterternary\": [{\"marker\": {\"colorbar\": {\"outlinewidth\": 0, \"ticks\": \"\"}}, \"type\": \"scatterternary\"}], \"surface\": [{\"colorbar\": {\"outlinewidth\": 0, \"ticks\": \"\"}, \"colorscale\": [[0.0, \"#0d0887\"], [0.1111111111111111, \"#46039f\"], [0.2222222222222222, \"#7201a8\"], [0.3333333333333333, \"#9c179e\"], [0.4444444444444444, \"#bd3786\"], [0.5555555555555556, \"#d8576b\"], [0.6666666666666666, \"#ed7953\"], [0.7777777777777778, \"#fb9f3a\"], [0.8888888888888888, \"#fdca26\"], [1.0, \"#f0f921\"]], \"type\": \"surface\"}], \"table\": [{\"cells\": {\"fill\": {\"color\": \"#EBF0F8\"}, \"line\": {\"color\": \"white\"}}, \"header\": {\"fill\": {\"color\": \"#C8D4E3\"}, \"line\": {\"color\": \"white\"}}, \"type\": \"table\"}]}, \"layout\": {\"annotationdefaults\": {\"arrowcolor\": \"#2a3f5f\", \"arrowhead\": 0, \"arrowwidth\": 1}, \"coloraxis\": {\"colorbar\": {\"outlinewidth\": 0, \"ticks\": \"\"}}, \"colorscale\": {\"diverging\": [[0, \"#8e0152\"], [0.1, \"#c51b7d\"], [0.2, \"#de77ae\"], [0.3, \"#f1b6da\"], [0.4, \"#fde0ef\"], [0.5, \"#f7f7f7\"], [0.6, \"#e6f5d0\"], [0.7, \"#b8e186\"], [0.8, \"#7fbc41\"], [0.9, \"#4d9221\"], [1, \"#276419\"]], \"sequential\": [[0.0, \"#0d0887\"], [0.1111111111111111, \"#46039f\"], [0.2222222222222222, \"#7201a8\"], [0.3333333333333333, \"#9c179e\"], [0.4444444444444444, \"#bd3786\"], [0.5555555555555556, \"#d8576b\"], [0.6666666666666666, \"#ed7953\"], [0.7777777777777778, \"#fb9f3a\"], [0.8888888888888888, \"#fdca26\"], [1.0, \"#f0f921\"]], \"sequentialminus\": [[0.0, \"#0d0887\"], [0.1111111111111111, \"#46039f\"], [0.2222222222222222, \"#7201a8\"], [0.3333333333333333, \"#9c179e\"], [0.4444444444444444, \"#bd3786\"], [0.5555555555555556, \"#d8576b\"], [0.6666666666666666, \"#ed7953\"], [0.7777777777777778, \"#fb9f3a\"], [0.8888888888888888, \"#fdca26\"], [1.0, \"#f0f921\"]]}, \"colorway\": [\"#636efa\", \"#EF553B\", \"#00cc96\", \"#ab63fa\", \"#FFA15A\", \"#19d3f3\", \"#FF6692\", \"#B6E880\", \"#FF97FF\", \"#FECB52\"], \"font\": {\"color\": \"#2a3f5f\"}, \"geo\": {\"bgcolor\": \"white\", \"lakecolor\": \"white\", \"landcolor\": \"#E5ECF6\", \"showlakes\": true, \"showland\": true, \"subunitcolor\": \"white\"}, \"hoverlabel\": {\"align\": \"left\"}, \"hovermode\": \"closest\", \"mapbox\": {\"style\": \"light\"}, \"paper_bgcolor\": \"white\", \"plot_bgcolor\": \"#E5ECF6\", \"polar\": {\"angularaxis\": {\"gridcolor\": \"white\", \"linecolor\": \"white\", \"ticks\": \"\"}, \"bgcolor\": \"#E5ECF6\", \"radialaxis\": {\"gridcolor\": \"white\", \"linecolor\": \"white\", \"ticks\": \"\"}}, \"scene\": {\"xaxis\": {\"backgroundcolor\": \"#E5ECF6\", \"gridcolor\": \"white\", \"gridwidth\": 2, \"linecolor\": \"white\", \"showbackground\": true, \"ticks\": \"\", \"zerolinecolor\": \"white\"}, \"yaxis\": {\"backgroundcolor\": \"#E5ECF6\", \"gridcolor\": \"white\", \"gridwidth\": 2, \"linecolor\": \"white\", \"showbackground\": true, \"ticks\": \"\", \"zerolinecolor\": \"white\"}, \"zaxis\": {\"backgroundcolor\": \"#E5ECF6\", \"gridcolor\": \"white\", \"gridwidth\": 2, \"linecolor\": \"white\", \"showbackground\": true, \"ticks\": \"\", \"zerolinecolor\": \"white\"}}, \"shapedefaults\": {\"line\": {\"color\": \"#2a3f5f\"}}, \"ternary\": {\"aaxis\": {\"gridcolor\": \"white\", \"linecolor\": \"white\", \"ticks\": \"\"}, \"baxis\": {\"gridcolor\": \"white\", \"linecolor\": \"white\", \"ticks\": \"\"}, \"bgcolor\": \"#E5ECF6\", \"caxis\": {\"gridcolor\": \"white\", \"linecolor\": \"white\", \"ticks\": \"\"}}, \"title\": {\"x\": 0.05}, \"xaxis\": {\"automargin\": true, \"gridcolor\": \"white\", \"linecolor\": \"white\", \"ticks\": \"\", \"title\": {\"standoff\": 15}, \"zerolinecolor\": \"white\", \"zerolinewidth\": 2}, \"yaxis\": {\"automargin\": true, \"gridcolor\": \"white\", \"linecolor\": \"white\", \"ticks\": \"\", \"title\": {\"standoff\": 15}, \"zerolinecolor\": \"white\", \"zerolinewidth\": 2}}}},\n",
       "                        {\"responsive\": true}\n",
       "                    ).then(function(){\n",
       "                            \n",
       "var gd = document.getElementById('4c5bd187-3e31-413e-b602-1a2352b003c5');\n",
       "var x = new MutationObserver(function (mutations, observer) {{\n",
       "        var display = window.getComputedStyle(gd).display;\n",
       "        if (!display || display === 'none') {{\n",
       "            console.log([gd, 'removed!']);\n",
       "            Plotly.purge(gd);\n",
       "            observer.disconnect();\n",
       "        }}\n",
       "}});\n",
       "\n",
       "// Listen for the removal of the full notebook cells\n",
       "var notebookContainer = gd.closest('#notebook-container');\n",
       "if (notebookContainer) {{\n",
       "    x.observe(notebookContainer, {childList: true});\n",
       "}}\n",
       "\n",
       "// Listen for the clearing of the current output cell\n",
       "var outputEl = gd.closest('.output');\n",
       "if (outputEl) {{\n",
       "    x.observe(outputEl, {childList: true});\n",
       "}}\n",
       "\n",
       "                        })\n",
       "                };\n",
       "                });\n",
       "            </script>\n",
       "        </div>"
      ]
     },
     "metadata": {},
     "output_type": "display_data"
    }
   ],
   "source": [
    "fig = go.Figure(data=[go.Sankey(\n",
    "    valueformat = \".0f\",\n",
    "    valuesuffix = \"TWh\",\n",
    "    node = dict(\n",
    "      pad = 15,\n",
    "      thickness = 15,\n",
    "      line = dict(color = \"black\", width = 0.5),\n",
    "      label =  cdf['Labels'].dropna(),\n",
    "    ),\n",
    "    link = dict(\n",
    "      source =  lvg['source'],\n",
    "      target =  lvg['target'],\n",
    "      value =  lvg['value'],\n",
    "      label =  lvg['label'],\n",
    "  ))])\n",
    "\n",
    "fig.show()"
   ]
  },
  {
   "cell_type": "code",
   "execution_count": 77,
   "metadata": {},
   "outputs": [
    {
     "data": {
      "text/plain": [
       "'https://plotly.com/~kingplot/47/'"
      ]
     },
     "execution_count": 77,
     "metadata": {},
     "output_type": "execute_result"
    }
   ],
   "source": [
    "fig = go.Figure(data=[go.Sankey(\n",
    "    valueformat = \".0f\",\n",
    "    valuesuffix = \"TWh\",\n",
    "    node = dict(\n",
    "      pad = 15,\n",
    "      thickness = 15,\n",
    "      line = dict(color = '#EEB72B', width = 0.5),\n",
    "      label =  cdf['Labels'].dropna(),\n",
    "        color = '#EEB72B'\n",
    "    ),\n",
    "    textfont = dict(color = 'red', size = 15, family = 'Raleway'),\n",
    "    link = dict(\n",
    "      source =  grid['source'],\n",
    "      target =  grid['target'],\n",
    "      value =  grid['value'],\n",
    "      label =  grid['label'],\n",
    "        color = '#008FFF'\n",
    "  ))])\n",
    "fig.update_layout(\n",
    "    hovermode = 'x',\n",
    "    title=\"<b>THE ELECTRIC GRID\",\n",
    "    font=dict(size = 30, color = '#EEB72B', family = 'Raleway'),\n",
    "    plot_bgcolor='#242424',\n",
    "    paper_bgcolor='#242424'\n",
    ")\n",
    "\n",
    "py.plot(fig, filename = 'elec_grid')\n",
    "\n",
    "#fig.show()"
   ]
  },
  {
   "cell_type": "code",
   "execution_count": 14,
   "metadata": {},
   "outputs": [
    {
     "data": {
      "application/vnd.plotly.v1+json": {
       "config": {
        "plotlyServerURL": "https://plotly.com"
       },
       "data": [
        {
         "link": {
          "label": [
           null,
           null,
           null,
           null,
           null,
           null,
           null,
           null
          ],
          "source": [
           2,
           2,
           2,
           2,
           2,
           2,
           2,
           2
          ],
          "target": [
           12,
           30,
           18,
           31,
           32,
           19,
           33,
           20
          ],
          "value": [
           121.066,
           128.69,
           135.835,
           14.458,
           206.267,
           3.64,
           33.218,
           4.413
          ]
         },
         "node": {
          "label": [
           "Agricultural 'waste'",
           "Bio-conversion",
           "Liquid",
           "Losses",
           "Solid",
           "Gas",
           "Biofuel imports",
           "Biomass imports",
           "Coal imports",
           "Coal",
           "Coal reserves",
           "District heating",
           "Industry",
           "Heating and cooling - commercial",
           "Heating and cooling - homes",
           "Electricity grid",
           "Over generation / exports",
           "H2 conversion",
           "Road transport",
           "Agriculture",
           "Rail transport",
           "Lighting & appliances - commercial",
           "Lighting & appliances - homes",
           "Gas imports",
           "Ngas",
           "Gas reserves",
           "Thermal generation",
           "Geothermal",
           "H2",
           "Hydro",
           "International shipping",
           "Domestic aviation",
           "International aviation",
           "National navigation",
           "Marine algae",
           "Nuclear",
           "Oil imports",
           "Oil",
           "Oil reserves",
           "Other waste",
           "Pumped heat",
           "Solar PV",
           "Solar Thermal",
           "Solar",
           "Tidal",
           "UK land based bioenergy",
           "Wave",
           "Wind"
          ],
          "line": {
           "color": "black",
           "width": 0.5
          },
          "pad": 15,
          "thickness": 15
         },
         "type": "sankey",
         "valueformat": ".0f",
         "valuesuffix": "TWh"
        }
       ],
       "layout": {
        "template": {
         "data": {
          "bar": [
           {
            "error_x": {
             "color": "#2a3f5f"
            },
            "error_y": {
             "color": "#2a3f5f"
            },
            "marker": {
             "line": {
              "color": "#E5ECF6",
              "width": 0.5
             }
            },
            "type": "bar"
           }
          ],
          "barpolar": [
           {
            "marker": {
             "line": {
              "color": "#E5ECF6",
              "width": 0.5
             }
            },
            "type": "barpolar"
           }
          ],
          "carpet": [
           {
            "aaxis": {
             "endlinecolor": "#2a3f5f",
             "gridcolor": "white",
             "linecolor": "white",
             "minorgridcolor": "white",
             "startlinecolor": "#2a3f5f"
            },
            "baxis": {
             "endlinecolor": "#2a3f5f",
             "gridcolor": "white",
             "linecolor": "white",
             "minorgridcolor": "white",
             "startlinecolor": "#2a3f5f"
            },
            "type": "carpet"
           }
          ],
          "choropleth": [
           {
            "colorbar": {
             "outlinewidth": 0,
             "ticks": ""
            },
            "type": "choropleth"
           }
          ],
          "contour": [
           {
            "colorbar": {
             "outlinewidth": 0,
             "ticks": ""
            },
            "colorscale": [
             [
              0,
              "#0d0887"
             ],
             [
              0.1111111111111111,
              "#46039f"
             ],
             [
              0.2222222222222222,
              "#7201a8"
             ],
             [
              0.3333333333333333,
              "#9c179e"
             ],
             [
              0.4444444444444444,
              "#bd3786"
             ],
             [
              0.5555555555555556,
              "#d8576b"
             ],
             [
              0.6666666666666666,
              "#ed7953"
             ],
             [
              0.7777777777777778,
              "#fb9f3a"
             ],
             [
              0.8888888888888888,
              "#fdca26"
             ],
             [
              1,
              "#f0f921"
             ]
            ],
            "type": "contour"
           }
          ],
          "contourcarpet": [
           {
            "colorbar": {
             "outlinewidth": 0,
             "ticks": ""
            },
            "type": "contourcarpet"
           }
          ],
          "heatmap": [
           {
            "colorbar": {
             "outlinewidth": 0,
             "ticks": ""
            },
            "colorscale": [
             [
              0,
              "#0d0887"
             ],
             [
              0.1111111111111111,
              "#46039f"
             ],
             [
              0.2222222222222222,
              "#7201a8"
             ],
             [
              0.3333333333333333,
              "#9c179e"
             ],
             [
              0.4444444444444444,
              "#bd3786"
             ],
             [
              0.5555555555555556,
              "#d8576b"
             ],
             [
              0.6666666666666666,
              "#ed7953"
             ],
             [
              0.7777777777777778,
              "#fb9f3a"
             ],
             [
              0.8888888888888888,
              "#fdca26"
             ],
             [
              1,
              "#f0f921"
             ]
            ],
            "type": "heatmap"
           }
          ],
          "heatmapgl": [
           {
            "colorbar": {
             "outlinewidth": 0,
             "ticks": ""
            },
            "colorscale": [
             [
              0,
              "#0d0887"
             ],
             [
              0.1111111111111111,
              "#46039f"
             ],
             [
              0.2222222222222222,
              "#7201a8"
             ],
             [
              0.3333333333333333,
              "#9c179e"
             ],
             [
              0.4444444444444444,
              "#bd3786"
             ],
             [
              0.5555555555555556,
              "#d8576b"
             ],
             [
              0.6666666666666666,
              "#ed7953"
             ],
             [
              0.7777777777777778,
              "#fb9f3a"
             ],
             [
              0.8888888888888888,
              "#fdca26"
             ],
             [
              1,
              "#f0f921"
             ]
            ],
            "type": "heatmapgl"
           }
          ],
          "histogram": [
           {
            "marker": {
             "colorbar": {
              "outlinewidth": 0,
              "ticks": ""
             }
            },
            "type": "histogram"
           }
          ],
          "histogram2d": [
           {
            "colorbar": {
             "outlinewidth": 0,
             "ticks": ""
            },
            "colorscale": [
             [
              0,
              "#0d0887"
             ],
             [
              0.1111111111111111,
              "#46039f"
             ],
             [
              0.2222222222222222,
              "#7201a8"
             ],
             [
              0.3333333333333333,
              "#9c179e"
             ],
             [
              0.4444444444444444,
              "#bd3786"
             ],
             [
              0.5555555555555556,
              "#d8576b"
             ],
             [
              0.6666666666666666,
              "#ed7953"
             ],
             [
              0.7777777777777778,
              "#fb9f3a"
             ],
             [
              0.8888888888888888,
              "#fdca26"
             ],
             [
              1,
              "#f0f921"
             ]
            ],
            "type": "histogram2d"
           }
          ],
          "histogram2dcontour": [
           {
            "colorbar": {
             "outlinewidth": 0,
             "ticks": ""
            },
            "colorscale": [
             [
              0,
              "#0d0887"
             ],
             [
              0.1111111111111111,
              "#46039f"
             ],
             [
              0.2222222222222222,
              "#7201a8"
             ],
             [
              0.3333333333333333,
              "#9c179e"
             ],
             [
              0.4444444444444444,
              "#bd3786"
             ],
             [
              0.5555555555555556,
              "#d8576b"
             ],
             [
              0.6666666666666666,
              "#ed7953"
             ],
             [
              0.7777777777777778,
              "#fb9f3a"
             ],
             [
              0.8888888888888888,
              "#fdca26"
             ],
             [
              1,
              "#f0f921"
             ]
            ],
            "type": "histogram2dcontour"
           }
          ],
          "mesh3d": [
           {
            "colorbar": {
             "outlinewidth": 0,
             "ticks": ""
            },
            "type": "mesh3d"
           }
          ],
          "parcoords": [
           {
            "line": {
             "colorbar": {
              "outlinewidth": 0,
              "ticks": ""
             }
            },
            "type": "parcoords"
           }
          ],
          "pie": [
           {
            "automargin": true,
            "type": "pie"
           }
          ],
          "scatter": [
           {
            "marker": {
             "colorbar": {
              "outlinewidth": 0,
              "ticks": ""
             }
            },
            "type": "scatter"
           }
          ],
          "scatter3d": [
           {
            "line": {
             "colorbar": {
              "outlinewidth": 0,
              "ticks": ""
             }
            },
            "marker": {
             "colorbar": {
              "outlinewidth": 0,
              "ticks": ""
             }
            },
            "type": "scatter3d"
           }
          ],
          "scattercarpet": [
           {
            "marker": {
             "colorbar": {
              "outlinewidth": 0,
              "ticks": ""
             }
            },
            "type": "scattercarpet"
           }
          ],
          "scattergeo": [
           {
            "marker": {
             "colorbar": {
              "outlinewidth": 0,
              "ticks": ""
             }
            },
            "type": "scattergeo"
           }
          ],
          "scattergl": [
           {
            "marker": {
             "colorbar": {
              "outlinewidth": 0,
              "ticks": ""
             }
            },
            "type": "scattergl"
           }
          ],
          "scattermapbox": [
           {
            "marker": {
             "colorbar": {
              "outlinewidth": 0,
              "ticks": ""
             }
            },
            "type": "scattermapbox"
           }
          ],
          "scatterpolar": [
           {
            "marker": {
             "colorbar": {
              "outlinewidth": 0,
              "ticks": ""
             }
            },
            "type": "scatterpolar"
           }
          ],
          "scatterpolargl": [
           {
            "marker": {
             "colorbar": {
              "outlinewidth": 0,
              "ticks": ""
             }
            },
            "type": "scatterpolargl"
           }
          ],
          "scatterternary": [
           {
            "marker": {
             "colorbar": {
              "outlinewidth": 0,
              "ticks": ""
             }
            },
            "type": "scatterternary"
           }
          ],
          "surface": [
           {
            "colorbar": {
             "outlinewidth": 0,
             "ticks": ""
            },
            "colorscale": [
             [
              0,
              "#0d0887"
             ],
             [
              0.1111111111111111,
              "#46039f"
             ],
             [
              0.2222222222222222,
              "#7201a8"
             ],
             [
              0.3333333333333333,
              "#9c179e"
             ],
             [
              0.4444444444444444,
              "#bd3786"
             ],
             [
              0.5555555555555556,
              "#d8576b"
             ],
             [
              0.6666666666666666,
              "#ed7953"
             ],
             [
              0.7777777777777778,
              "#fb9f3a"
             ],
             [
              0.8888888888888888,
              "#fdca26"
             ],
             [
              1,
              "#f0f921"
             ]
            ],
            "type": "surface"
           }
          ],
          "table": [
           {
            "cells": {
             "fill": {
              "color": "#EBF0F8"
             },
             "line": {
              "color": "white"
             }
            },
            "header": {
             "fill": {
              "color": "#C8D4E3"
             },
             "line": {
              "color": "white"
             }
            },
            "type": "table"
           }
          ]
         },
         "layout": {
          "annotationdefaults": {
           "arrowcolor": "#2a3f5f",
           "arrowhead": 0,
           "arrowwidth": 1
          },
          "coloraxis": {
           "colorbar": {
            "outlinewidth": 0,
            "ticks": ""
           }
          },
          "colorscale": {
           "diverging": [
            [
             0,
             "#8e0152"
            ],
            [
             0.1,
             "#c51b7d"
            ],
            [
             0.2,
             "#de77ae"
            ],
            [
             0.3,
             "#f1b6da"
            ],
            [
             0.4,
             "#fde0ef"
            ],
            [
             0.5,
             "#f7f7f7"
            ],
            [
             0.6,
             "#e6f5d0"
            ],
            [
             0.7,
             "#b8e186"
            ],
            [
             0.8,
             "#7fbc41"
            ],
            [
             0.9,
             "#4d9221"
            ],
            [
             1,
             "#276419"
            ]
           ],
           "sequential": [
            [
             0,
             "#0d0887"
            ],
            [
             0.1111111111111111,
             "#46039f"
            ],
            [
             0.2222222222222222,
             "#7201a8"
            ],
            [
             0.3333333333333333,
             "#9c179e"
            ],
            [
             0.4444444444444444,
             "#bd3786"
            ],
            [
             0.5555555555555556,
             "#d8576b"
            ],
            [
             0.6666666666666666,
             "#ed7953"
            ],
            [
             0.7777777777777778,
             "#fb9f3a"
            ],
            [
             0.8888888888888888,
             "#fdca26"
            ],
            [
             1,
             "#f0f921"
            ]
           ],
           "sequentialminus": [
            [
             0,
             "#0d0887"
            ],
            [
             0.1111111111111111,
             "#46039f"
            ],
            [
             0.2222222222222222,
             "#7201a8"
            ],
            [
             0.3333333333333333,
             "#9c179e"
            ],
            [
             0.4444444444444444,
             "#bd3786"
            ],
            [
             0.5555555555555556,
             "#d8576b"
            ],
            [
             0.6666666666666666,
             "#ed7953"
            ],
            [
             0.7777777777777778,
             "#fb9f3a"
            ],
            [
             0.8888888888888888,
             "#fdca26"
            ],
            [
             1,
             "#f0f921"
            ]
           ]
          },
          "colorway": [
           "#636efa",
           "#EF553B",
           "#00cc96",
           "#ab63fa",
           "#FFA15A",
           "#19d3f3",
           "#FF6692",
           "#B6E880",
           "#FF97FF",
           "#FECB52"
          ],
          "font": {
           "color": "#2a3f5f"
          },
          "geo": {
           "bgcolor": "white",
           "lakecolor": "white",
           "landcolor": "#E5ECF6",
           "showlakes": true,
           "showland": true,
           "subunitcolor": "white"
          },
          "hoverlabel": {
           "align": "left"
          },
          "hovermode": "closest",
          "mapbox": {
           "style": "light"
          },
          "paper_bgcolor": "white",
          "plot_bgcolor": "#E5ECF6",
          "polar": {
           "angularaxis": {
            "gridcolor": "white",
            "linecolor": "white",
            "ticks": ""
           },
           "bgcolor": "#E5ECF6",
           "radialaxis": {
            "gridcolor": "white",
            "linecolor": "white",
            "ticks": ""
           }
          },
          "scene": {
           "xaxis": {
            "backgroundcolor": "#E5ECF6",
            "gridcolor": "white",
            "gridwidth": 2,
            "linecolor": "white",
            "showbackground": true,
            "ticks": "",
            "zerolinecolor": "white"
           },
           "yaxis": {
            "backgroundcolor": "#E5ECF6",
            "gridcolor": "white",
            "gridwidth": 2,
            "linecolor": "white",
            "showbackground": true,
            "ticks": "",
            "zerolinecolor": "white"
           },
           "zaxis": {
            "backgroundcolor": "#E5ECF6",
            "gridcolor": "white",
            "gridwidth": 2,
            "linecolor": "white",
            "showbackground": true,
            "ticks": "",
            "zerolinecolor": "white"
           }
          },
          "shapedefaults": {
           "line": {
            "color": "#2a3f5f"
           }
          },
          "ternary": {
           "aaxis": {
            "gridcolor": "white",
            "linecolor": "white",
            "ticks": ""
           },
           "baxis": {
            "gridcolor": "white",
            "linecolor": "white",
            "ticks": ""
           },
           "bgcolor": "#E5ECF6",
           "caxis": {
            "gridcolor": "white",
            "linecolor": "white",
            "ticks": ""
           }
          },
          "title": {
           "x": 0.05
          },
          "xaxis": {
           "automargin": true,
           "gridcolor": "white",
           "linecolor": "white",
           "ticks": "",
           "title": {
            "standoff": 15
           },
           "zerolinecolor": "white",
           "zerolinewidth": 2
          },
          "yaxis": {
           "automargin": true,
           "gridcolor": "white",
           "linecolor": "white",
           "ticks": "",
           "title": {
            "standoff": 15
           },
           "zerolinecolor": "white",
           "zerolinewidth": 2
          }
         }
        }
       }
      },
      "text/html": [
       "<div>\n",
       "        \n",
       "        \n",
       "            <div id=\"0bc7003a-9cff-46aa-bd33-cd2b6b1b9260\" class=\"plotly-graph-div\" style=\"height:525px; width:100%;\"></div>\n",
       "            <script type=\"text/javascript\">\n",
       "                require([\"plotly\"], function(Plotly) {\n",
       "                    window.PLOTLYENV=window.PLOTLYENV || {};\n",
       "                    \n",
       "                if (document.getElementById(\"0bc7003a-9cff-46aa-bd33-cd2b6b1b9260\")) {\n",
       "                    Plotly.newPlot(\n",
       "                        '0bc7003a-9cff-46aa-bd33-cd2b6b1b9260',\n",
       "                        [{\"link\": {\"label\": [null, null, null, null, null, null, null, null], \"source\": [2, 2, 2, 2, 2, 2, 2, 2], \"target\": [12, 30, 18, 31, 32, 19, 33, 20], \"value\": [121.066, 128.69, 135.835, 14.458, 206.267, 3.64, 33.218, 4.413]}, \"node\": {\"label\": [\"Agricultural 'waste'\", \"Bio-conversion\", \"Liquid\", \"Losses\", \"Solid\", \"Gas\", \"Biofuel imports\", \"Biomass imports\", \"Coal imports\", \"Coal\", \"Coal reserves\", \"District heating\", \"Industry\", \"Heating and cooling - commercial\", \"Heating and cooling - homes\", \"Electricity grid\", \"Over generation / exports\", \"H2 conversion\", \"Road transport\", \"Agriculture\", \"Rail transport\", \"Lighting & appliances - commercial\", \"Lighting & appliances - homes\", \"Gas imports\", \"Ngas\", \"Gas reserves\", \"Thermal generation\", \"Geothermal\", \"H2\", \"Hydro\", \"International shipping\", \"Domestic aviation\", \"International aviation\", \"National navigation\", \"Marine algae\", \"Nuclear\", \"Oil imports\", \"Oil\", \"Oil reserves\", \"Other waste\", \"Pumped heat\", \"Solar PV\", \"Solar Thermal\", \"Solar\", \"Tidal\", \"UK land based bioenergy\", \"Wave\", \"Wind\"], \"line\": {\"color\": \"black\", \"width\": 0.5}, \"pad\": 15, \"thickness\": 15}, \"type\": \"sankey\", \"valueformat\": \".0f\", \"valuesuffix\": \"TWh\"}],\n",
       "                        {\"template\": {\"data\": {\"bar\": [{\"error_x\": {\"color\": \"#2a3f5f\"}, \"error_y\": {\"color\": \"#2a3f5f\"}, \"marker\": {\"line\": {\"color\": \"#E5ECF6\", \"width\": 0.5}}, \"type\": \"bar\"}], \"barpolar\": [{\"marker\": {\"line\": {\"color\": \"#E5ECF6\", \"width\": 0.5}}, \"type\": \"barpolar\"}], \"carpet\": [{\"aaxis\": {\"endlinecolor\": \"#2a3f5f\", \"gridcolor\": \"white\", \"linecolor\": \"white\", \"minorgridcolor\": \"white\", \"startlinecolor\": \"#2a3f5f\"}, \"baxis\": {\"endlinecolor\": \"#2a3f5f\", \"gridcolor\": \"white\", \"linecolor\": \"white\", \"minorgridcolor\": \"white\", \"startlinecolor\": \"#2a3f5f\"}, \"type\": \"carpet\"}], \"choropleth\": [{\"colorbar\": {\"outlinewidth\": 0, \"ticks\": \"\"}, \"type\": \"choropleth\"}], \"contour\": [{\"colorbar\": {\"outlinewidth\": 0, \"ticks\": \"\"}, \"colorscale\": [[0.0, \"#0d0887\"], [0.1111111111111111, \"#46039f\"], [0.2222222222222222, \"#7201a8\"], [0.3333333333333333, \"#9c179e\"], [0.4444444444444444, \"#bd3786\"], [0.5555555555555556, \"#d8576b\"], [0.6666666666666666, \"#ed7953\"], [0.7777777777777778, \"#fb9f3a\"], [0.8888888888888888, \"#fdca26\"], [1.0, \"#f0f921\"]], \"type\": \"contour\"}], \"contourcarpet\": [{\"colorbar\": {\"outlinewidth\": 0, \"ticks\": \"\"}, \"type\": \"contourcarpet\"}], \"heatmap\": [{\"colorbar\": {\"outlinewidth\": 0, \"ticks\": \"\"}, \"colorscale\": [[0.0, \"#0d0887\"], [0.1111111111111111, \"#46039f\"], [0.2222222222222222, \"#7201a8\"], [0.3333333333333333, \"#9c179e\"], [0.4444444444444444, \"#bd3786\"], [0.5555555555555556, \"#d8576b\"], [0.6666666666666666, \"#ed7953\"], [0.7777777777777778, \"#fb9f3a\"], [0.8888888888888888, \"#fdca26\"], [1.0, \"#f0f921\"]], \"type\": \"heatmap\"}], \"heatmapgl\": [{\"colorbar\": {\"outlinewidth\": 0, \"ticks\": \"\"}, \"colorscale\": [[0.0, \"#0d0887\"], [0.1111111111111111, \"#46039f\"], [0.2222222222222222, \"#7201a8\"], [0.3333333333333333, \"#9c179e\"], [0.4444444444444444, \"#bd3786\"], [0.5555555555555556, \"#d8576b\"], [0.6666666666666666, \"#ed7953\"], [0.7777777777777778, \"#fb9f3a\"], [0.8888888888888888, \"#fdca26\"], [1.0, \"#f0f921\"]], \"type\": \"heatmapgl\"}], \"histogram\": [{\"marker\": {\"colorbar\": {\"outlinewidth\": 0, \"ticks\": \"\"}}, \"type\": \"histogram\"}], \"histogram2d\": [{\"colorbar\": {\"outlinewidth\": 0, \"ticks\": \"\"}, \"colorscale\": [[0.0, \"#0d0887\"], [0.1111111111111111, \"#46039f\"], [0.2222222222222222, \"#7201a8\"], [0.3333333333333333, \"#9c179e\"], [0.4444444444444444, \"#bd3786\"], [0.5555555555555556, \"#d8576b\"], [0.6666666666666666, \"#ed7953\"], [0.7777777777777778, \"#fb9f3a\"], [0.8888888888888888, \"#fdca26\"], [1.0, \"#f0f921\"]], \"type\": \"histogram2d\"}], \"histogram2dcontour\": [{\"colorbar\": {\"outlinewidth\": 0, \"ticks\": \"\"}, \"colorscale\": [[0.0, \"#0d0887\"], [0.1111111111111111, \"#46039f\"], [0.2222222222222222, \"#7201a8\"], [0.3333333333333333, \"#9c179e\"], [0.4444444444444444, \"#bd3786\"], [0.5555555555555556, \"#d8576b\"], [0.6666666666666666, \"#ed7953\"], [0.7777777777777778, \"#fb9f3a\"], [0.8888888888888888, \"#fdca26\"], [1.0, \"#f0f921\"]], \"type\": \"histogram2dcontour\"}], \"mesh3d\": [{\"colorbar\": {\"outlinewidth\": 0, \"ticks\": \"\"}, \"type\": \"mesh3d\"}], \"parcoords\": [{\"line\": {\"colorbar\": {\"outlinewidth\": 0, \"ticks\": \"\"}}, \"type\": \"parcoords\"}], \"pie\": [{\"automargin\": true, \"type\": \"pie\"}], \"scatter\": [{\"marker\": {\"colorbar\": {\"outlinewidth\": 0, \"ticks\": \"\"}}, \"type\": \"scatter\"}], \"scatter3d\": [{\"line\": {\"colorbar\": {\"outlinewidth\": 0, \"ticks\": \"\"}}, \"marker\": {\"colorbar\": {\"outlinewidth\": 0, \"ticks\": \"\"}}, \"type\": \"scatter3d\"}], \"scattercarpet\": [{\"marker\": {\"colorbar\": {\"outlinewidth\": 0, \"ticks\": \"\"}}, \"type\": \"scattercarpet\"}], \"scattergeo\": [{\"marker\": {\"colorbar\": {\"outlinewidth\": 0, \"ticks\": \"\"}}, \"type\": \"scattergeo\"}], \"scattergl\": [{\"marker\": {\"colorbar\": {\"outlinewidth\": 0, \"ticks\": \"\"}}, \"type\": \"scattergl\"}], \"scattermapbox\": [{\"marker\": {\"colorbar\": {\"outlinewidth\": 0, \"ticks\": \"\"}}, \"type\": \"scattermapbox\"}], \"scatterpolar\": [{\"marker\": {\"colorbar\": {\"outlinewidth\": 0, \"ticks\": \"\"}}, \"type\": \"scatterpolar\"}], \"scatterpolargl\": [{\"marker\": {\"colorbar\": {\"outlinewidth\": 0, \"ticks\": \"\"}}, \"type\": \"scatterpolargl\"}], \"scatterternary\": [{\"marker\": {\"colorbar\": {\"outlinewidth\": 0, \"ticks\": \"\"}}, \"type\": \"scatterternary\"}], \"surface\": [{\"colorbar\": {\"outlinewidth\": 0, \"ticks\": \"\"}, \"colorscale\": [[0.0, \"#0d0887\"], [0.1111111111111111, \"#46039f\"], [0.2222222222222222, \"#7201a8\"], [0.3333333333333333, \"#9c179e\"], [0.4444444444444444, \"#bd3786\"], [0.5555555555555556, \"#d8576b\"], [0.6666666666666666, \"#ed7953\"], [0.7777777777777778, \"#fb9f3a\"], [0.8888888888888888, \"#fdca26\"], [1.0, \"#f0f921\"]], \"type\": \"surface\"}], \"table\": [{\"cells\": {\"fill\": {\"color\": \"#EBF0F8\"}, \"line\": {\"color\": \"white\"}}, \"header\": {\"fill\": {\"color\": \"#C8D4E3\"}, \"line\": {\"color\": \"white\"}}, \"type\": \"table\"}]}, \"layout\": {\"annotationdefaults\": {\"arrowcolor\": \"#2a3f5f\", \"arrowhead\": 0, \"arrowwidth\": 1}, \"coloraxis\": {\"colorbar\": {\"outlinewidth\": 0, \"ticks\": \"\"}}, \"colorscale\": {\"diverging\": [[0, \"#8e0152\"], [0.1, \"#c51b7d\"], [0.2, \"#de77ae\"], [0.3, \"#f1b6da\"], [0.4, \"#fde0ef\"], [0.5, \"#f7f7f7\"], [0.6, \"#e6f5d0\"], [0.7, \"#b8e186\"], [0.8, \"#7fbc41\"], [0.9, \"#4d9221\"], [1, \"#276419\"]], \"sequential\": [[0.0, \"#0d0887\"], [0.1111111111111111, \"#46039f\"], [0.2222222222222222, \"#7201a8\"], [0.3333333333333333, \"#9c179e\"], [0.4444444444444444, \"#bd3786\"], [0.5555555555555556, \"#d8576b\"], [0.6666666666666666, \"#ed7953\"], [0.7777777777777778, \"#fb9f3a\"], [0.8888888888888888, \"#fdca26\"], [1.0, \"#f0f921\"]], \"sequentialminus\": [[0.0, \"#0d0887\"], [0.1111111111111111, \"#46039f\"], [0.2222222222222222, \"#7201a8\"], [0.3333333333333333, \"#9c179e\"], [0.4444444444444444, \"#bd3786\"], [0.5555555555555556, \"#d8576b\"], [0.6666666666666666, \"#ed7953\"], [0.7777777777777778, \"#fb9f3a\"], [0.8888888888888888, \"#fdca26\"], [1.0, \"#f0f921\"]]}, \"colorway\": [\"#636efa\", \"#EF553B\", \"#00cc96\", \"#ab63fa\", \"#FFA15A\", \"#19d3f3\", \"#FF6692\", \"#B6E880\", \"#FF97FF\", \"#FECB52\"], \"font\": {\"color\": \"#2a3f5f\"}, \"geo\": {\"bgcolor\": \"white\", \"lakecolor\": \"white\", \"landcolor\": \"#E5ECF6\", \"showlakes\": true, \"showland\": true, \"subunitcolor\": \"white\"}, \"hoverlabel\": {\"align\": \"left\"}, \"hovermode\": \"closest\", \"mapbox\": {\"style\": \"light\"}, \"paper_bgcolor\": \"white\", \"plot_bgcolor\": \"#E5ECF6\", \"polar\": {\"angularaxis\": {\"gridcolor\": \"white\", \"linecolor\": \"white\", \"ticks\": \"\"}, \"bgcolor\": \"#E5ECF6\", \"radialaxis\": {\"gridcolor\": \"white\", \"linecolor\": \"white\", \"ticks\": \"\"}}, \"scene\": {\"xaxis\": {\"backgroundcolor\": \"#E5ECF6\", \"gridcolor\": \"white\", \"gridwidth\": 2, \"linecolor\": \"white\", \"showbackground\": true, \"ticks\": \"\", \"zerolinecolor\": \"white\"}, \"yaxis\": {\"backgroundcolor\": \"#E5ECF6\", \"gridcolor\": \"white\", \"gridwidth\": 2, \"linecolor\": \"white\", \"showbackground\": true, \"ticks\": \"\", \"zerolinecolor\": \"white\"}, \"zaxis\": {\"backgroundcolor\": \"#E5ECF6\", \"gridcolor\": \"white\", \"gridwidth\": 2, \"linecolor\": \"white\", \"showbackground\": true, \"ticks\": \"\", \"zerolinecolor\": \"white\"}}, \"shapedefaults\": {\"line\": {\"color\": \"#2a3f5f\"}}, \"ternary\": {\"aaxis\": {\"gridcolor\": \"white\", \"linecolor\": \"white\", \"ticks\": \"\"}, \"baxis\": {\"gridcolor\": \"white\", \"linecolor\": \"white\", \"ticks\": \"\"}, \"bgcolor\": \"#E5ECF6\", \"caxis\": {\"gridcolor\": \"white\", \"linecolor\": \"white\", \"ticks\": \"\"}}, \"title\": {\"x\": 0.05}, \"xaxis\": {\"automargin\": true, \"gridcolor\": \"white\", \"linecolor\": \"white\", \"ticks\": \"\", \"title\": {\"standoff\": 15}, \"zerolinecolor\": \"white\", \"zerolinewidth\": 2}, \"yaxis\": {\"automargin\": true, \"gridcolor\": \"white\", \"linecolor\": \"white\", \"ticks\": \"\", \"title\": {\"standoff\": 15}, \"zerolinecolor\": \"white\", \"zerolinewidth\": 2}}}},\n",
       "                        {\"responsive\": true}\n",
       "                    ).then(function(){\n",
       "                            \n",
       "var gd = document.getElementById('0bc7003a-9cff-46aa-bd33-cd2b6b1b9260');\n",
       "var x = new MutationObserver(function (mutations, observer) {{\n",
       "        var display = window.getComputedStyle(gd).display;\n",
       "        if (!display || display === 'none') {{\n",
       "            console.log([gd, 'removed!']);\n",
       "            Plotly.purge(gd);\n",
       "            observer.disconnect();\n",
       "        }}\n",
       "}});\n",
       "\n",
       "// Listen for the removal of the full notebook cells\n",
       "var notebookContainer = gd.closest('#notebook-container');\n",
       "if (notebookContainer) {{\n",
       "    x.observe(notebookContainer, {childList: true});\n",
       "}}\n",
       "\n",
       "// Listen for the clearing of the current output cell\n",
       "var outputEl = gd.closest('.output');\n",
       "if (outputEl) {{\n",
       "    x.observe(outputEl, {childList: true});\n",
       "}}\n",
       "\n",
       "                        })\n",
       "                };\n",
       "                });\n",
       "            </script>\n",
       "        </div>"
      ]
     },
     "metadata": {},
     "output_type": "display_data"
    }
   ],
   "source": [
    "fig = go.Figure(data=[go.Sankey(\n",
    "    valueformat = \".0f\",\n",
    "    valuesuffix = \"TWh\",\n",
    "    node = dict(\n",
    "      pad = 15,\n",
    "      thickness = 15,\n",
    "      line = dict(color = \"black\", width = 0.5),\n",
    "      label =  cdf['Labels'].dropna(),\n",
    "    ),\n",
    "    link = dict(\n",
    "      source =  liquids['source'],\n",
    "      target =  liquids['target'],\n",
    "      value =  liquids['value'],\n",
    "      label =  liquids['label']\n",
    "  ))])\n",
    "\n",
    "fig.show()"
   ]
  },
  {
   "cell_type": "code",
   "execution_count": 51,
   "metadata": {},
   "outputs": [
    {
     "data": {
      "application/vnd.plotly.v1+json": {
       "config": {
        "plotlyServerURL": "https://plotly.com"
       },
       "data": [
        {
         "link": {
          "label": [
           null,
           null,
           null,
           null,
           null,
           null,
           null,
           null,
           null,
           null,
           null,
           null,
           null,
           null,
           null,
           null,
           null,
           null,
           null
          ],
          "source": [
           2,
           2,
           2,
           2,
           2,
           2,
           2,
           2,
           15,
           15,
           15,
           15,
           15,
           15,
           15,
           15,
           15,
           15,
           15
          ],
          "target": [
           12,
           30,
           18,
           31,
           32,
           19,
           33,
           20,
           16,
           14,
           17,
           12,
           18,
           19,
           13,
           3,
           20,
           21,
           22
          ],
          "value": [
           121.066,
           128.69,
           135.835,
           14.458,
           206.267,
           3.64,
           33.218,
           4.413,
           104.453,
           113.726,
           27.14,
           342.165,
           37.797,
           4.412,
           40.858,
           56.691,
           7.863,
           90.008,
           93.494
          ]
         },
         "node": {
          "label": [
           "Agricultural 'waste'",
           "Bio-conversion",
           "Liquid",
           "Losses",
           "Solid",
           "Gas",
           "Biofuel imports",
           "Biomass imports",
           "Coal imports",
           "Coal",
           "Coal reserves",
           "District heating",
           "Industry",
           "Heating and cooling - commercial",
           "Heating and cooling - homes",
           "Electricity grid",
           "Over generation / exports",
           "H2 conversion",
           "Road transport",
           "Agriculture",
           "Rail transport",
           "Lighting & appliances - commercial",
           "Lighting & appliances - homes",
           "Gas imports",
           "Ngas",
           "Gas reserves",
           "Thermal generation",
           "Geothermal",
           "H2",
           "Hydro",
           "International shipping",
           "Domestic aviation",
           "International aviation",
           "National navigation",
           "Marine algae",
           "Nuclear",
           "Oil imports",
           "Oil",
           "Oil reserves",
           "Other waste",
           "Pumped heat",
           "Solar PV",
           "Solar Thermal",
           "Solar",
           "Tidal",
           "UK land based bioenergy",
           "Wave",
           "Wind"
          ],
          "line": {
           "color": "black",
           "width": 0.5
          },
          "pad": 15,
          "thickness": 15
         },
         "type": "sankey",
         "valueformat": ".0f",
         "valuesuffix": "TWh"
        }
       ],
       "layout": {
        "template": {
         "data": {
          "bar": [
           {
            "error_x": {
             "color": "#2a3f5f"
            },
            "error_y": {
             "color": "#2a3f5f"
            },
            "marker": {
             "line": {
              "color": "#E5ECF6",
              "width": 0.5
             }
            },
            "type": "bar"
           }
          ],
          "barpolar": [
           {
            "marker": {
             "line": {
              "color": "#E5ECF6",
              "width": 0.5
             }
            },
            "type": "barpolar"
           }
          ],
          "carpet": [
           {
            "aaxis": {
             "endlinecolor": "#2a3f5f",
             "gridcolor": "white",
             "linecolor": "white",
             "minorgridcolor": "white",
             "startlinecolor": "#2a3f5f"
            },
            "baxis": {
             "endlinecolor": "#2a3f5f",
             "gridcolor": "white",
             "linecolor": "white",
             "minorgridcolor": "white",
             "startlinecolor": "#2a3f5f"
            },
            "type": "carpet"
           }
          ],
          "choropleth": [
           {
            "colorbar": {
             "outlinewidth": 0,
             "ticks": ""
            },
            "type": "choropleth"
           }
          ],
          "contour": [
           {
            "colorbar": {
             "outlinewidth": 0,
             "ticks": ""
            },
            "colorscale": [
             [
              0,
              "#0d0887"
             ],
             [
              0.1111111111111111,
              "#46039f"
             ],
             [
              0.2222222222222222,
              "#7201a8"
             ],
             [
              0.3333333333333333,
              "#9c179e"
             ],
             [
              0.4444444444444444,
              "#bd3786"
             ],
             [
              0.5555555555555556,
              "#d8576b"
             ],
             [
              0.6666666666666666,
              "#ed7953"
             ],
             [
              0.7777777777777778,
              "#fb9f3a"
             ],
             [
              0.8888888888888888,
              "#fdca26"
             ],
             [
              1,
              "#f0f921"
             ]
            ],
            "type": "contour"
           }
          ],
          "contourcarpet": [
           {
            "colorbar": {
             "outlinewidth": 0,
             "ticks": ""
            },
            "type": "contourcarpet"
           }
          ],
          "heatmap": [
           {
            "colorbar": {
             "outlinewidth": 0,
             "ticks": ""
            },
            "colorscale": [
             [
              0,
              "#0d0887"
             ],
             [
              0.1111111111111111,
              "#46039f"
             ],
             [
              0.2222222222222222,
              "#7201a8"
             ],
             [
              0.3333333333333333,
              "#9c179e"
             ],
             [
              0.4444444444444444,
              "#bd3786"
             ],
             [
              0.5555555555555556,
              "#d8576b"
             ],
             [
              0.6666666666666666,
              "#ed7953"
             ],
             [
              0.7777777777777778,
              "#fb9f3a"
             ],
             [
              0.8888888888888888,
              "#fdca26"
             ],
             [
              1,
              "#f0f921"
             ]
            ],
            "type": "heatmap"
           }
          ],
          "heatmapgl": [
           {
            "colorbar": {
             "outlinewidth": 0,
             "ticks": ""
            },
            "colorscale": [
             [
              0,
              "#0d0887"
             ],
             [
              0.1111111111111111,
              "#46039f"
             ],
             [
              0.2222222222222222,
              "#7201a8"
             ],
             [
              0.3333333333333333,
              "#9c179e"
             ],
             [
              0.4444444444444444,
              "#bd3786"
             ],
             [
              0.5555555555555556,
              "#d8576b"
             ],
             [
              0.6666666666666666,
              "#ed7953"
             ],
             [
              0.7777777777777778,
              "#fb9f3a"
             ],
             [
              0.8888888888888888,
              "#fdca26"
             ],
             [
              1,
              "#f0f921"
             ]
            ],
            "type": "heatmapgl"
           }
          ],
          "histogram": [
           {
            "marker": {
             "colorbar": {
              "outlinewidth": 0,
              "ticks": ""
             }
            },
            "type": "histogram"
           }
          ],
          "histogram2d": [
           {
            "colorbar": {
             "outlinewidth": 0,
             "ticks": ""
            },
            "colorscale": [
             [
              0,
              "#0d0887"
             ],
             [
              0.1111111111111111,
              "#46039f"
             ],
             [
              0.2222222222222222,
              "#7201a8"
             ],
             [
              0.3333333333333333,
              "#9c179e"
             ],
             [
              0.4444444444444444,
              "#bd3786"
             ],
             [
              0.5555555555555556,
              "#d8576b"
             ],
             [
              0.6666666666666666,
              "#ed7953"
             ],
             [
              0.7777777777777778,
              "#fb9f3a"
             ],
             [
              0.8888888888888888,
              "#fdca26"
             ],
             [
              1,
              "#f0f921"
             ]
            ],
            "type": "histogram2d"
           }
          ],
          "histogram2dcontour": [
           {
            "colorbar": {
             "outlinewidth": 0,
             "ticks": ""
            },
            "colorscale": [
             [
              0,
              "#0d0887"
             ],
             [
              0.1111111111111111,
              "#46039f"
             ],
             [
              0.2222222222222222,
              "#7201a8"
             ],
             [
              0.3333333333333333,
              "#9c179e"
             ],
             [
              0.4444444444444444,
              "#bd3786"
             ],
             [
              0.5555555555555556,
              "#d8576b"
             ],
             [
              0.6666666666666666,
              "#ed7953"
             ],
             [
              0.7777777777777778,
              "#fb9f3a"
             ],
             [
              0.8888888888888888,
              "#fdca26"
             ],
             [
              1,
              "#f0f921"
             ]
            ],
            "type": "histogram2dcontour"
           }
          ],
          "mesh3d": [
           {
            "colorbar": {
             "outlinewidth": 0,
             "ticks": ""
            },
            "type": "mesh3d"
           }
          ],
          "parcoords": [
           {
            "line": {
             "colorbar": {
              "outlinewidth": 0,
              "ticks": ""
             }
            },
            "type": "parcoords"
           }
          ],
          "pie": [
           {
            "automargin": true,
            "type": "pie"
           }
          ],
          "scatter": [
           {
            "marker": {
             "colorbar": {
              "outlinewidth": 0,
              "ticks": ""
             }
            },
            "type": "scatter"
           }
          ],
          "scatter3d": [
           {
            "line": {
             "colorbar": {
              "outlinewidth": 0,
              "ticks": ""
             }
            },
            "marker": {
             "colorbar": {
              "outlinewidth": 0,
              "ticks": ""
             }
            },
            "type": "scatter3d"
           }
          ],
          "scattercarpet": [
           {
            "marker": {
             "colorbar": {
              "outlinewidth": 0,
              "ticks": ""
             }
            },
            "type": "scattercarpet"
           }
          ],
          "scattergeo": [
           {
            "marker": {
             "colorbar": {
              "outlinewidth": 0,
              "ticks": ""
             }
            },
            "type": "scattergeo"
           }
          ],
          "scattergl": [
           {
            "marker": {
             "colorbar": {
              "outlinewidth": 0,
              "ticks": ""
             }
            },
            "type": "scattergl"
           }
          ],
          "scattermapbox": [
           {
            "marker": {
             "colorbar": {
              "outlinewidth": 0,
              "ticks": ""
             }
            },
            "type": "scattermapbox"
           }
          ],
          "scatterpolar": [
           {
            "marker": {
             "colorbar": {
              "outlinewidth": 0,
              "ticks": ""
             }
            },
            "type": "scatterpolar"
           }
          ],
          "scatterpolargl": [
           {
            "marker": {
             "colorbar": {
              "outlinewidth": 0,
              "ticks": ""
             }
            },
            "type": "scatterpolargl"
           }
          ],
          "scatterternary": [
           {
            "marker": {
             "colorbar": {
              "outlinewidth": 0,
              "ticks": ""
             }
            },
            "type": "scatterternary"
           }
          ],
          "surface": [
           {
            "colorbar": {
             "outlinewidth": 0,
             "ticks": ""
            },
            "colorscale": [
             [
              0,
              "#0d0887"
             ],
             [
              0.1111111111111111,
              "#46039f"
             ],
             [
              0.2222222222222222,
              "#7201a8"
             ],
             [
              0.3333333333333333,
              "#9c179e"
             ],
             [
              0.4444444444444444,
              "#bd3786"
             ],
             [
              0.5555555555555556,
              "#d8576b"
             ],
             [
              0.6666666666666666,
              "#ed7953"
             ],
             [
              0.7777777777777778,
              "#fb9f3a"
             ],
             [
              0.8888888888888888,
              "#fdca26"
             ],
             [
              1,
              "#f0f921"
             ]
            ],
            "type": "surface"
           }
          ],
          "table": [
           {
            "cells": {
             "fill": {
              "color": "#EBF0F8"
             },
             "line": {
              "color": "white"
             }
            },
            "header": {
             "fill": {
              "color": "#C8D4E3"
             },
             "line": {
              "color": "white"
             }
            },
            "type": "table"
           }
          ]
         },
         "layout": {
          "annotationdefaults": {
           "arrowcolor": "#2a3f5f",
           "arrowhead": 0,
           "arrowwidth": 1
          },
          "coloraxis": {
           "colorbar": {
            "outlinewidth": 0,
            "ticks": ""
           }
          },
          "colorscale": {
           "diverging": [
            [
             0,
             "#8e0152"
            ],
            [
             0.1,
             "#c51b7d"
            ],
            [
             0.2,
             "#de77ae"
            ],
            [
             0.3,
             "#f1b6da"
            ],
            [
             0.4,
             "#fde0ef"
            ],
            [
             0.5,
             "#f7f7f7"
            ],
            [
             0.6,
             "#e6f5d0"
            ],
            [
             0.7,
             "#b8e186"
            ],
            [
             0.8,
             "#7fbc41"
            ],
            [
             0.9,
             "#4d9221"
            ],
            [
             1,
             "#276419"
            ]
           ],
           "sequential": [
            [
             0,
             "#0d0887"
            ],
            [
             0.1111111111111111,
             "#46039f"
            ],
            [
             0.2222222222222222,
             "#7201a8"
            ],
            [
             0.3333333333333333,
             "#9c179e"
            ],
            [
             0.4444444444444444,
             "#bd3786"
            ],
            [
             0.5555555555555556,
             "#d8576b"
            ],
            [
             0.6666666666666666,
             "#ed7953"
            ],
            [
             0.7777777777777778,
             "#fb9f3a"
            ],
            [
             0.8888888888888888,
             "#fdca26"
            ],
            [
             1,
             "#f0f921"
            ]
           ],
           "sequentialminus": [
            [
             0,
             "#0d0887"
            ],
            [
             0.1111111111111111,
             "#46039f"
            ],
            [
             0.2222222222222222,
             "#7201a8"
            ],
            [
             0.3333333333333333,
             "#9c179e"
            ],
            [
             0.4444444444444444,
             "#bd3786"
            ],
            [
             0.5555555555555556,
             "#d8576b"
            ],
            [
             0.6666666666666666,
             "#ed7953"
            ],
            [
             0.7777777777777778,
             "#fb9f3a"
            ],
            [
             0.8888888888888888,
             "#fdca26"
            ],
            [
             1,
             "#f0f921"
            ]
           ]
          },
          "colorway": [
           "#636efa",
           "#EF553B",
           "#00cc96",
           "#ab63fa",
           "#FFA15A",
           "#19d3f3",
           "#FF6692",
           "#B6E880",
           "#FF97FF",
           "#FECB52"
          ],
          "font": {
           "color": "#2a3f5f"
          },
          "geo": {
           "bgcolor": "white",
           "lakecolor": "white",
           "landcolor": "#E5ECF6",
           "showlakes": true,
           "showland": true,
           "subunitcolor": "white"
          },
          "hoverlabel": {
           "align": "left"
          },
          "hovermode": "closest",
          "mapbox": {
           "style": "light"
          },
          "paper_bgcolor": "white",
          "plot_bgcolor": "#E5ECF6",
          "polar": {
           "angularaxis": {
            "gridcolor": "white",
            "linecolor": "white",
            "ticks": ""
           },
           "bgcolor": "#E5ECF6",
           "radialaxis": {
            "gridcolor": "white",
            "linecolor": "white",
            "ticks": ""
           }
          },
          "scene": {
           "xaxis": {
            "backgroundcolor": "#E5ECF6",
            "gridcolor": "white",
            "gridwidth": 2,
            "linecolor": "white",
            "showbackground": true,
            "ticks": "",
            "zerolinecolor": "white"
           },
           "yaxis": {
            "backgroundcolor": "#E5ECF6",
            "gridcolor": "white",
            "gridwidth": 2,
            "linecolor": "white",
            "showbackground": true,
            "ticks": "",
            "zerolinecolor": "white"
           },
           "zaxis": {
            "backgroundcolor": "#E5ECF6",
            "gridcolor": "white",
            "gridwidth": 2,
            "linecolor": "white",
            "showbackground": true,
            "ticks": "",
            "zerolinecolor": "white"
           }
          },
          "shapedefaults": {
           "line": {
            "color": "#2a3f5f"
           }
          },
          "ternary": {
           "aaxis": {
            "gridcolor": "white",
            "linecolor": "white",
            "ticks": ""
           },
           "baxis": {
            "gridcolor": "white",
            "linecolor": "white",
            "ticks": ""
           },
           "bgcolor": "#E5ECF6",
           "caxis": {
            "gridcolor": "white",
            "linecolor": "white",
            "ticks": ""
           }
          },
          "title": {
           "x": 0.05
          },
          "xaxis": {
           "automargin": true,
           "gridcolor": "white",
           "linecolor": "white",
           "ticks": "",
           "title": {
            "standoff": 15
           },
           "zerolinecolor": "white",
           "zerolinewidth": 2
          },
          "yaxis": {
           "automargin": true,
           "gridcolor": "white",
           "linecolor": "white",
           "ticks": "",
           "title": {
            "standoff": 15
           },
           "zerolinecolor": "white",
           "zerolinewidth": 2
          }
         }
        }
       }
      },
      "text/html": [
       "<div>\n",
       "        \n",
       "        \n",
       "            <div id=\"4a435b75-cec3-4f04-84b4-7d614c3620e8\" class=\"plotly-graph-div\" style=\"height:525px; width:100%;\"></div>\n",
       "            <script type=\"text/javascript\">\n",
       "                require([\"plotly\"], function(Plotly) {\n",
       "                    window.PLOTLYENV=window.PLOTLYENV || {};\n",
       "                    \n",
       "                if (document.getElementById(\"4a435b75-cec3-4f04-84b4-7d614c3620e8\")) {\n",
       "                    Plotly.newPlot(\n",
       "                        '4a435b75-cec3-4f04-84b4-7d614c3620e8',\n",
       "                        [{\"link\": {\"label\": [null, null, null, null, null, null, null, null, null, null, null, null, null, null, null, null, null, null, null], \"source\": [2, 2, 2, 2, 2, 2, 2, 2, 15, 15, 15, 15, 15, 15, 15, 15, 15, 15, 15], \"target\": [12, 30, 18, 31, 32, 19, 33, 20, 16, 14, 17, 12, 18, 19, 13, 3, 20, 21, 22], \"value\": [121.066, 128.69, 135.835, 14.458, 206.267, 3.64, 33.218, 4.413, 104.453, 113.726, 27.14, 342.165, 37.797, 4.412, 40.858, 56.691, 7.863, 90.008, 93.494]}, \"node\": {\"label\": [\"Agricultural 'waste'\", \"Bio-conversion\", \"Liquid\", \"Losses\", \"Solid\", \"Gas\", \"Biofuel imports\", \"Biomass imports\", \"Coal imports\", \"Coal\", \"Coal reserves\", \"District heating\", \"Industry\", \"Heating and cooling - commercial\", \"Heating and cooling - homes\", \"Electricity grid\", \"Over generation / exports\", \"H2 conversion\", \"Road transport\", \"Agriculture\", \"Rail transport\", \"Lighting & appliances - commercial\", \"Lighting & appliances - homes\", \"Gas imports\", \"Ngas\", \"Gas reserves\", \"Thermal generation\", \"Geothermal\", \"H2\", \"Hydro\", \"International shipping\", \"Domestic aviation\", \"International aviation\", \"National navigation\", \"Marine algae\", \"Nuclear\", \"Oil imports\", \"Oil\", \"Oil reserves\", \"Other waste\", \"Pumped heat\", \"Solar PV\", \"Solar Thermal\", \"Solar\", \"Tidal\", \"UK land based bioenergy\", \"Wave\", \"Wind\"], \"line\": {\"color\": \"black\", \"width\": 0.5}, \"pad\": 15, \"thickness\": 15}, \"type\": \"sankey\", \"valueformat\": \".0f\", \"valuesuffix\": \"TWh\"}],\n",
       "                        {\"template\": {\"data\": {\"bar\": [{\"error_x\": {\"color\": \"#2a3f5f\"}, \"error_y\": {\"color\": \"#2a3f5f\"}, \"marker\": {\"line\": {\"color\": \"#E5ECF6\", \"width\": 0.5}}, \"type\": \"bar\"}], \"barpolar\": [{\"marker\": {\"line\": {\"color\": \"#E5ECF6\", \"width\": 0.5}}, \"type\": \"barpolar\"}], \"carpet\": [{\"aaxis\": {\"endlinecolor\": \"#2a3f5f\", \"gridcolor\": \"white\", \"linecolor\": \"white\", \"minorgridcolor\": \"white\", \"startlinecolor\": \"#2a3f5f\"}, \"baxis\": {\"endlinecolor\": \"#2a3f5f\", \"gridcolor\": \"white\", \"linecolor\": \"white\", \"minorgridcolor\": \"white\", \"startlinecolor\": \"#2a3f5f\"}, \"type\": \"carpet\"}], \"choropleth\": [{\"colorbar\": {\"outlinewidth\": 0, \"ticks\": \"\"}, \"type\": \"choropleth\"}], \"contour\": [{\"colorbar\": {\"outlinewidth\": 0, \"ticks\": \"\"}, \"colorscale\": [[0.0, \"#0d0887\"], [0.1111111111111111, \"#46039f\"], [0.2222222222222222, \"#7201a8\"], [0.3333333333333333, \"#9c179e\"], [0.4444444444444444, \"#bd3786\"], [0.5555555555555556, \"#d8576b\"], [0.6666666666666666, \"#ed7953\"], [0.7777777777777778, \"#fb9f3a\"], [0.8888888888888888, \"#fdca26\"], [1.0, \"#f0f921\"]], \"type\": \"contour\"}], \"contourcarpet\": [{\"colorbar\": {\"outlinewidth\": 0, \"ticks\": \"\"}, \"type\": \"contourcarpet\"}], \"heatmap\": [{\"colorbar\": {\"outlinewidth\": 0, \"ticks\": \"\"}, \"colorscale\": [[0.0, \"#0d0887\"], [0.1111111111111111, \"#46039f\"], [0.2222222222222222, \"#7201a8\"], [0.3333333333333333, \"#9c179e\"], [0.4444444444444444, \"#bd3786\"], [0.5555555555555556, \"#d8576b\"], [0.6666666666666666, \"#ed7953\"], [0.7777777777777778, \"#fb9f3a\"], [0.8888888888888888, \"#fdca26\"], [1.0, \"#f0f921\"]], \"type\": \"heatmap\"}], \"heatmapgl\": [{\"colorbar\": {\"outlinewidth\": 0, \"ticks\": \"\"}, \"colorscale\": [[0.0, \"#0d0887\"], [0.1111111111111111, \"#46039f\"], [0.2222222222222222, \"#7201a8\"], [0.3333333333333333, \"#9c179e\"], [0.4444444444444444, \"#bd3786\"], [0.5555555555555556, \"#d8576b\"], [0.6666666666666666, \"#ed7953\"], [0.7777777777777778, \"#fb9f3a\"], [0.8888888888888888, \"#fdca26\"], [1.0, \"#f0f921\"]], \"type\": \"heatmapgl\"}], \"histogram\": [{\"marker\": {\"colorbar\": {\"outlinewidth\": 0, \"ticks\": \"\"}}, \"type\": \"histogram\"}], \"histogram2d\": [{\"colorbar\": {\"outlinewidth\": 0, \"ticks\": \"\"}, \"colorscale\": [[0.0, \"#0d0887\"], [0.1111111111111111, \"#46039f\"], [0.2222222222222222, \"#7201a8\"], [0.3333333333333333, \"#9c179e\"], [0.4444444444444444, \"#bd3786\"], [0.5555555555555556, \"#d8576b\"], [0.6666666666666666, \"#ed7953\"], [0.7777777777777778, \"#fb9f3a\"], [0.8888888888888888, \"#fdca26\"], [1.0, \"#f0f921\"]], \"type\": \"histogram2d\"}], \"histogram2dcontour\": [{\"colorbar\": {\"outlinewidth\": 0, \"ticks\": \"\"}, \"colorscale\": [[0.0, \"#0d0887\"], [0.1111111111111111, \"#46039f\"], [0.2222222222222222, \"#7201a8\"], [0.3333333333333333, \"#9c179e\"], [0.4444444444444444, \"#bd3786\"], [0.5555555555555556, \"#d8576b\"], [0.6666666666666666, \"#ed7953\"], [0.7777777777777778, \"#fb9f3a\"], [0.8888888888888888, \"#fdca26\"], [1.0, \"#f0f921\"]], \"type\": \"histogram2dcontour\"}], \"mesh3d\": [{\"colorbar\": {\"outlinewidth\": 0, \"ticks\": \"\"}, \"type\": \"mesh3d\"}], \"parcoords\": [{\"line\": {\"colorbar\": {\"outlinewidth\": 0, \"ticks\": \"\"}}, \"type\": \"parcoords\"}], \"pie\": [{\"automargin\": true, \"type\": \"pie\"}], \"scatter\": [{\"marker\": {\"colorbar\": {\"outlinewidth\": 0, \"ticks\": \"\"}}, \"type\": \"scatter\"}], \"scatter3d\": [{\"line\": {\"colorbar\": {\"outlinewidth\": 0, \"ticks\": \"\"}}, \"marker\": {\"colorbar\": {\"outlinewidth\": 0, \"ticks\": \"\"}}, \"type\": \"scatter3d\"}], \"scattercarpet\": [{\"marker\": {\"colorbar\": {\"outlinewidth\": 0, \"ticks\": \"\"}}, \"type\": \"scattercarpet\"}], \"scattergeo\": [{\"marker\": {\"colorbar\": {\"outlinewidth\": 0, \"ticks\": \"\"}}, \"type\": \"scattergeo\"}], \"scattergl\": [{\"marker\": {\"colorbar\": {\"outlinewidth\": 0, \"ticks\": \"\"}}, \"type\": \"scattergl\"}], \"scattermapbox\": [{\"marker\": {\"colorbar\": {\"outlinewidth\": 0, \"ticks\": \"\"}}, \"type\": \"scattermapbox\"}], \"scatterpolar\": [{\"marker\": {\"colorbar\": {\"outlinewidth\": 0, \"ticks\": \"\"}}, \"type\": \"scatterpolar\"}], \"scatterpolargl\": [{\"marker\": {\"colorbar\": {\"outlinewidth\": 0, \"ticks\": \"\"}}, \"type\": \"scatterpolargl\"}], \"scatterternary\": [{\"marker\": {\"colorbar\": {\"outlinewidth\": 0, \"ticks\": \"\"}}, \"type\": \"scatterternary\"}], \"surface\": [{\"colorbar\": {\"outlinewidth\": 0, \"ticks\": \"\"}, \"colorscale\": [[0.0, \"#0d0887\"], [0.1111111111111111, \"#46039f\"], [0.2222222222222222, \"#7201a8\"], [0.3333333333333333, \"#9c179e\"], [0.4444444444444444, \"#bd3786\"], [0.5555555555555556, \"#d8576b\"], [0.6666666666666666, \"#ed7953\"], [0.7777777777777778, \"#fb9f3a\"], [0.8888888888888888, \"#fdca26\"], [1.0, \"#f0f921\"]], \"type\": \"surface\"}], \"table\": [{\"cells\": {\"fill\": {\"color\": \"#EBF0F8\"}, \"line\": {\"color\": \"white\"}}, \"header\": {\"fill\": {\"color\": \"#C8D4E3\"}, \"line\": {\"color\": \"white\"}}, \"type\": \"table\"}]}, \"layout\": {\"annotationdefaults\": {\"arrowcolor\": \"#2a3f5f\", \"arrowhead\": 0, \"arrowwidth\": 1}, \"coloraxis\": {\"colorbar\": {\"outlinewidth\": 0, \"ticks\": \"\"}}, \"colorscale\": {\"diverging\": [[0, \"#8e0152\"], [0.1, \"#c51b7d\"], [0.2, \"#de77ae\"], [0.3, \"#f1b6da\"], [0.4, \"#fde0ef\"], [0.5, \"#f7f7f7\"], [0.6, \"#e6f5d0\"], [0.7, \"#b8e186\"], [0.8, \"#7fbc41\"], [0.9, \"#4d9221\"], [1, \"#276419\"]], \"sequential\": [[0.0, \"#0d0887\"], [0.1111111111111111, \"#46039f\"], [0.2222222222222222, \"#7201a8\"], [0.3333333333333333, \"#9c179e\"], [0.4444444444444444, \"#bd3786\"], [0.5555555555555556, \"#d8576b\"], [0.6666666666666666, \"#ed7953\"], [0.7777777777777778, \"#fb9f3a\"], [0.8888888888888888, \"#fdca26\"], [1.0, \"#f0f921\"]], \"sequentialminus\": [[0.0, \"#0d0887\"], [0.1111111111111111, \"#46039f\"], [0.2222222222222222, \"#7201a8\"], [0.3333333333333333, \"#9c179e\"], [0.4444444444444444, \"#bd3786\"], [0.5555555555555556, \"#d8576b\"], [0.6666666666666666, \"#ed7953\"], [0.7777777777777778, \"#fb9f3a\"], [0.8888888888888888, \"#fdca26\"], [1.0, \"#f0f921\"]]}, \"colorway\": [\"#636efa\", \"#EF553B\", \"#00cc96\", \"#ab63fa\", \"#FFA15A\", \"#19d3f3\", \"#FF6692\", \"#B6E880\", \"#FF97FF\", \"#FECB52\"], \"font\": {\"color\": \"#2a3f5f\"}, \"geo\": {\"bgcolor\": \"white\", \"lakecolor\": \"white\", \"landcolor\": \"#E5ECF6\", \"showlakes\": true, \"showland\": true, \"subunitcolor\": \"white\"}, \"hoverlabel\": {\"align\": \"left\"}, \"hovermode\": \"closest\", \"mapbox\": {\"style\": \"light\"}, \"paper_bgcolor\": \"white\", \"plot_bgcolor\": \"#E5ECF6\", \"polar\": {\"angularaxis\": {\"gridcolor\": \"white\", \"linecolor\": \"white\", \"ticks\": \"\"}, \"bgcolor\": \"#E5ECF6\", \"radialaxis\": {\"gridcolor\": \"white\", \"linecolor\": \"white\", \"ticks\": \"\"}}, \"scene\": {\"xaxis\": {\"backgroundcolor\": \"#E5ECF6\", \"gridcolor\": \"white\", \"gridwidth\": 2, \"linecolor\": \"white\", \"showbackground\": true, \"ticks\": \"\", \"zerolinecolor\": \"white\"}, \"yaxis\": {\"backgroundcolor\": \"#E5ECF6\", \"gridcolor\": \"white\", \"gridwidth\": 2, \"linecolor\": \"white\", \"showbackground\": true, \"ticks\": \"\", \"zerolinecolor\": \"white\"}, \"zaxis\": {\"backgroundcolor\": \"#E5ECF6\", \"gridcolor\": \"white\", \"gridwidth\": 2, \"linecolor\": \"white\", \"showbackground\": true, \"ticks\": \"\", \"zerolinecolor\": \"white\"}}, \"shapedefaults\": {\"line\": {\"color\": \"#2a3f5f\"}}, \"ternary\": {\"aaxis\": {\"gridcolor\": \"white\", \"linecolor\": \"white\", \"ticks\": \"\"}, \"baxis\": {\"gridcolor\": \"white\", \"linecolor\": \"white\", \"ticks\": \"\"}, \"bgcolor\": \"#E5ECF6\", \"caxis\": {\"gridcolor\": \"white\", \"linecolor\": \"white\", \"ticks\": \"\"}}, \"title\": {\"x\": 0.05}, \"xaxis\": {\"automargin\": true, \"gridcolor\": \"white\", \"linecolor\": \"white\", \"ticks\": \"\", \"title\": {\"standoff\": 15}, \"zerolinecolor\": \"white\", \"zerolinewidth\": 2}, \"yaxis\": {\"automargin\": true, \"gridcolor\": \"white\", \"linecolor\": \"white\", \"ticks\": \"\", \"title\": {\"standoff\": 15}, \"zerolinecolor\": \"white\", \"zerolinewidth\": 2}}}},\n",
       "                        {\"responsive\": true}\n",
       "                    ).then(function(){\n",
       "                            \n",
       "var gd = document.getElementById('4a435b75-cec3-4f04-84b4-7d614c3620e8');\n",
       "var x = new MutationObserver(function (mutations, observer) {{\n",
       "        var display = window.getComputedStyle(gd).display;\n",
       "        if (!display || display === 'none') {{\n",
       "            console.log([gd, 'removed!']);\n",
       "            Plotly.purge(gd);\n",
       "            observer.disconnect();\n",
       "        }}\n",
       "}});\n",
       "\n",
       "// Listen for the removal of the full notebook cells\n",
       "var notebookContainer = gd.closest('#notebook-container');\n",
       "if (notebookContainer) {{\n",
       "    x.observe(notebookContainer, {childList: true});\n",
       "}}\n",
       "\n",
       "// Listen for the clearing of the current output cell\n",
       "var outputEl = gd.closest('.output');\n",
       "if (outputEl) {{\n",
       "    x.observe(outputEl, {childList: true});\n",
       "}}\n",
       "\n",
       "                        })\n",
       "                };\n",
       "                });\n",
       "            </script>\n",
       "        </div>"
      ]
     },
     "metadata": {},
     "output_type": "display_data"
    }
   ],
   "source": [
    "fig = go.Figure(data=[go.Sankey(\n",
    "    valueformat = \".0f\",\n",
    "    valuesuffix = \"TWh\",\n",
    "    node = dict(\n",
    "      pad = 15,\n",
    "      thickness = 15,\n",
    "      line = dict(color = \"black\", width = 0.5),\n",
    "      label =  cdf['Labels'].dropna(),\n",
    "    ),\n",
    "    link = dict(\n",
    "      source =  lag['source'],\n",
    "      target =  lag['target'],\n",
    "      value =  lag['value'],\n",
    "      label =  lag['label']\n",
    "  ))])\n",
    "\n",
    "fig.show()"
   ]
  },
  {
   "cell_type": "code",
   "execution_count": 18,
   "metadata": {},
   "outputs": [
    {
     "data": {
      "application/vnd.plotly.v1+json": {
       "config": {
        "plotlyServerURL": "https://plotly.com"
       },
       "data": [
        {
         "link": {
          "label": [
           null,
           null,
           null,
           null,
           null
          ],
          "source": [
           1,
           15,
           5,
           17,
           26
          ],
          "target": [
           3,
           3,
           3,
           3,
           3
          ],
          "value": [
           26.862,
           56.691,
           1.401,
           6.242,
           787.129
          ]
         },
         "node": {
          "label": [
           "Agricultural 'waste'",
           "Bio-conversion",
           "Liquid",
           "Losses",
           "Solid",
           "Gas",
           "Biofuel imports",
           "Biomass imports",
           "Coal imports",
           "Coal",
           "Coal reserves",
           "District heating",
           "Industry",
           "Heating and cooling - commercial",
           "Heating and cooling - homes",
           "Electricity grid",
           "Over generation / exports",
           "H2 conversion",
           "Road transport",
           "Agriculture",
           "Rail transport",
           "Lighting & appliances - commercial",
           "Lighting & appliances - homes",
           "Gas imports",
           "Ngas",
           "Gas reserves",
           "Thermal generation",
           "Geothermal",
           "H2",
           "Hydro",
           "International shipping",
           "Domestic aviation",
           "International aviation",
           "National navigation",
           "Marine algae",
           "Nuclear",
           "Oil imports",
           "Oil",
           "Oil reserves",
           "Other waste",
           "Pumped heat",
           "Solar PV",
           "Solar Thermal",
           "Solar",
           "Tidal",
           "UK land based bioenergy",
           "Wave",
           "Wind"
          ],
          "line": {
           "color": "black",
           "width": 0.5
          },
          "pad": 15,
          "thickness": 15
         },
         "type": "sankey",
         "valueformat": ".0f",
         "valuesuffix": "TWh"
        }
       ],
       "layout": {
        "template": {
         "data": {
          "bar": [
           {
            "error_x": {
             "color": "#2a3f5f"
            },
            "error_y": {
             "color": "#2a3f5f"
            },
            "marker": {
             "line": {
              "color": "#E5ECF6",
              "width": 0.5
             }
            },
            "type": "bar"
           }
          ],
          "barpolar": [
           {
            "marker": {
             "line": {
              "color": "#E5ECF6",
              "width": 0.5
             }
            },
            "type": "barpolar"
           }
          ],
          "carpet": [
           {
            "aaxis": {
             "endlinecolor": "#2a3f5f",
             "gridcolor": "white",
             "linecolor": "white",
             "minorgridcolor": "white",
             "startlinecolor": "#2a3f5f"
            },
            "baxis": {
             "endlinecolor": "#2a3f5f",
             "gridcolor": "white",
             "linecolor": "white",
             "minorgridcolor": "white",
             "startlinecolor": "#2a3f5f"
            },
            "type": "carpet"
           }
          ],
          "choropleth": [
           {
            "colorbar": {
             "outlinewidth": 0,
             "ticks": ""
            },
            "type": "choropleth"
           }
          ],
          "contour": [
           {
            "colorbar": {
             "outlinewidth": 0,
             "ticks": ""
            },
            "colorscale": [
             [
              0,
              "#0d0887"
             ],
             [
              0.1111111111111111,
              "#46039f"
             ],
             [
              0.2222222222222222,
              "#7201a8"
             ],
             [
              0.3333333333333333,
              "#9c179e"
             ],
             [
              0.4444444444444444,
              "#bd3786"
             ],
             [
              0.5555555555555556,
              "#d8576b"
             ],
             [
              0.6666666666666666,
              "#ed7953"
             ],
             [
              0.7777777777777778,
              "#fb9f3a"
             ],
             [
              0.8888888888888888,
              "#fdca26"
             ],
             [
              1,
              "#f0f921"
             ]
            ],
            "type": "contour"
           }
          ],
          "contourcarpet": [
           {
            "colorbar": {
             "outlinewidth": 0,
             "ticks": ""
            },
            "type": "contourcarpet"
           }
          ],
          "heatmap": [
           {
            "colorbar": {
             "outlinewidth": 0,
             "ticks": ""
            },
            "colorscale": [
             [
              0,
              "#0d0887"
             ],
             [
              0.1111111111111111,
              "#46039f"
             ],
             [
              0.2222222222222222,
              "#7201a8"
             ],
             [
              0.3333333333333333,
              "#9c179e"
             ],
             [
              0.4444444444444444,
              "#bd3786"
             ],
             [
              0.5555555555555556,
              "#d8576b"
             ],
             [
              0.6666666666666666,
              "#ed7953"
             ],
             [
              0.7777777777777778,
              "#fb9f3a"
             ],
             [
              0.8888888888888888,
              "#fdca26"
             ],
             [
              1,
              "#f0f921"
             ]
            ],
            "type": "heatmap"
           }
          ],
          "heatmapgl": [
           {
            "colorbar": {
             "outlinewidth": 0,
             "ticks": ""
            },
            "colorscale": [
             [
              0,
              "#0d0887"
             ],
             [
              0.1111111111111111,
              "#46039f"
             ],
             [
              0.2222222222222222,
              "#7201a8"
             ],
             [
              0.3333333333333333,
              "#9c179e"
             ],
             [
              0.4444444444444444,
              "#bd3786"
             ],
             [
              0.5555555555555556,
              "#d8576b"
             ],
             [
              0.6666666666666666,
              "#ed7953"
             ],
             [
              0.7777777777777778,
              "#fb9f3a"
             ],
             [
              0.8888888888888888,
              "#fdca26"
             ],
             [
              1,
              "#f0f921"
             ]
            ],
            "type": "heatmapgl"
           }
          ],
          "histogram": [
           {
            "marker": {
             "colorbar": {
              "outlinewidth": 0,
              "ticks": ""
             }
            },
            "type": "histogram"
           }
          ],
          "histogram2d": [
           {
            "colorbar": {
             "outlinewidth": 0,
             "ticks": ""
            },
            "colorscale": [
             [
              0,
              "#0d0887"
             ],
             [
              0.1111111111111111,
              "#46039f"
             ],
             [
              0.2222222222222222,
              "#7201a8"
             ],
             [
              0.3333333333333333,
              "#9c179e"
             ],
             [
              0.4444444444444444,
              "#bd3786"
             ],
             [
              0.5555555555555556,
              "#d8576b"
             ],
             [
              0.6666666666666666,
              "#ed7953"
             ],
             [
              0.7777777777777778,
              "#fb9f3a"
             ],
             [
              0.8888888888888888,
              "#fdca26"
             ],
             [
              1,
              "#f0f921"
             ]
            ],
            "type": "histogram2d"
           }
          ],
          "histogram2dcontour": [
           {
            "colorbar": {
             "outlinewidth": 0,
             "ticks": ""
            },
            "colorscale": [
             [
              0,
              "#0d0887"
             ],
             [
              0.1111111111111111,
              "#46039f"
             ],
             [
              0.2222222222222222,
              "#7201a8"
             ],
             [
              0.3333333333333333,
              "#9c179e"
             ],
             [
              0.4444444444444444,
              "#bd3786"
             ],
             [
              0.5555555555555556,
              "#d8576b"
             ],
             [
              0.6666666666666666,
              "#ed7953"
             ],
             [
              0.7777777777777778,
              "#fb9f3a"
             ],
             [
              0.8888888888888888,
              "#fdca26"
             ],
             [
              1,
              "#f0f921"
             ]
            ],
            "type": "histogram2dcontour"
           }
          ],
          "mesh3d": [
           {
            "colorbar": {
             "outlinewidth": 0,
             "ticks": ""
            },
            "type": "mesh3d"
           }
          ],
          "parcoords": [
           {
            "line": {
             "colorbar": {
              "outlinewidth": 0,
              "ticks": ""
             }
            },
            "type": "parcoords"
           }
          ],
          "pie": [
           {
            "automargin": true,
            "type": "pie"
           }
          ],
          "scatter": [
           {
            "marker": {
             "colorbar": {
              "outlinewidth": 0,
              "ticks": ""
             }
            },
            "type": "scatter"
           }
          ],
          "scatter3d": [
           {
            "line": {
             "colorbar": {
              "outlinewidth": 0,
              "ticks": ""
             }
            },
            "marker": {
             "colorbar": {
              "outlinewidth": 0,
              "ticks": ""
             }
            },
            "type": "scatter3d"
           }
          ],
          "scattercarpet": [
           {
            "marker": {
             "colorbar": {
              "outlinewidth": 0,
              "ticks": ""
             }
            },
            "type": "scattercarpet"
           }
          ],
          "scattergeo": [
           {
            "marker": {
             "colorbar": {
              "outlinewidth": 0,
              "ticks": ""
             }
            },
            "type": "scattergeo"
           }
          ],
          "scattergl": [
           {
            "marker": {
             "colorbar": {
              "outlinewidth": 0,
              "ticks": ""
             }
            },
            "type": "scattergl"
           }
          ],
          "scattermapbox": [
           {
            "marker": {
             "colorbar": {
              "outlinewidth": 0,
              "ticks": ""
             }
            },
            "type": "scattermapbox"
           }
          ],
          "scatterpolar": [
           {
            "marker": {
             "colorbar": {
              "outlinewidth": 0,
              "ticks": ""
             }
            },
            "type": "scatterpolar"
           }
          ],
          "scatterpolargl": [
           {
            "marker": {
             "colorbar": {
              "outlinewidth": 0,
              "ticks": ""
             }
            },
            "type": "scatterpolargl"
           }
          ],
          "scatterternary": [
           {
            "marker": {
             "colorbar": {
              "outlinewidth": 0,
              "ticks": ""
             }
            },
            "type": "scatterternary"
           }
          ],
          "surface": [
           {
            "colorbar": {
             "outlinewidth": 0,
             "ticks": ""
            },
            "colorscale": [
             [
              0,
              "#0d0887"
             ],
             [
              0.1111111111111111,
              "#46039f"
             ],
             [
              0.2222222222222222,
              "#7201a8"
             ],
             [
              0.3333333333333333,
              "#9c179e"
             ],
             [
              0.4444444444444444,
              "#bd3786"
             ],
             [
              0.5555555555555556,
              "#d8576b"
             ],
             [
              0.6666666666666666,
              "#ed7953"
             ],
             [
              0.7777777777777778,
              "#fb9f3a"
             ],
             [
              0.8888888888888888,
              "#fdca26"
             ],
             [
              1,
              "#f0f921"
             ]
            ],
            "type": "surface"
           }
          ],
          "table": [
           {
            "cells": {
             "fill": {
              "color": "#EBF0F8"
             },
             "line": {
              "color": "white"
             }
            },
            "header": {
             "fill": {
              "color": "#C8D4E3"
             },
             "line": {
              "color": "white"
             }
            },
            "type": "table"
           }
          ]
         },
         "layout": {
          "annotationdefaults": {
           "arrowcolor": "#2a3f5f",
           "arrowhead": 0,
           "arrowwidth": 1
          },
          "coloraxis": {
           "colorbar": {
            "outlinewidth": 0,
            "ticks": ""
           }
          },
          "colorscale": {
           "diverging": [
            [
             0,
             "#8e0152"
            ],
            [
             0.1,
             "#c51b7d"
            ],
            [
             0.2,
             "#de77ae"
            ],
            [
             0.3,
             "#f1b6da"
            ],
            [
             0.4,
             "#fde0ef"
            ],
            [
             0.5,
             "#f7f7f7"
            ],
            [
             0.6,
             "#e6f5d0"
            ],
            [
             0.7,
             "#b8e186"
            ],
            [
             0.8,
             "#7fbc41"
            ],
            [
             0.9,
             "#4d9221"
            ],
            [
             1,
             "#276419"
            ]
           ],
           "sequential": [
            [
             0,
             "#0d0887"
            ],
            [
             0.1111111111111111,
             "#46039f"
            ],
            [
             0.2222222222222222,
             "#7201a8"
            ],
            [
             0.3333333333333333,
             "#9c179e"
            ],
            [
             0.4444444444444444,
             "#bd3786"
            ],
            [
             0.5555555555555556,
             "#d8576b"
            ],
            [
             0.6666666666666666,
             "#ed7953"
            ],
            [
             0.7777777777777778,
             "#fb9f3a"
            ],
            [
             0.8888888888888888,
             "#fdca26"
            ],
            [
             1,
             "#f0f921"
            ]
           ],
           "sequentialminus": [
            [
             0,
             "#0d0887"
            ],
            [
             0.1111111111111111,
             "#46039f"
            ],
            [
             0.2222222222222222,
             "#7201a8"
            ],
            [
             0.3333333333333333,
             "#9c179e"
            ],
            [
             0.4444444444444444,
             "#bd3786"
            ],
            [
             0.5555555555555556,
             "#d8576b"
            ],
            [
             0.6666666666666666,
             "#ed7953"
            ],
            [
             0.7777777777777778,
             "#fb9f3a"
            ],
            [
             0.8888888888888888,
             "#fdca26"
            ],
            [
             1,
             "#f0f921"
            ]
           ]
          },
          "colorway": [
           "#636efa",
           "#EF553B",
           "#00cc96",
           "#ab63fa",
           "#FFA15A",
           "#19d3f3",
           "#FF6692",
           "#B6E880",
           "#FF97FF",
           "#FECB52"
          ],
          "font": {
           "color": "#2a3f5f"
          },
          "geo": {
           "bgcolor": "white",
           "lakecolor": "white",
           "landcolor": "#E5ECF6",
           "showlakes": true,
           "showland": true,
           "subunitcolor": "white"
          },
          "hoverlabel": {
           "align": "left"
          },
          "hovermode": "closest",
          "mapbox": {
           "style": "light"
          },
          "paper_bgcolor": "white",
          "plot_bgcolor": "#E5ECF6",
          "polar": {
           "angularaxis": {
            "gridcolor": "white",
            "linecolor": "white",
            "ticks": ""
           },
           "bgcolor": "#E5ECF6",
           "radialaxis": {
            "gridcolor": "white",
            "linecolor": "white",
            "ticks": ""
           }
          },
          "scene": {
           "xaxis": {
            "backgroundcolor": "#E5ECF6",
            "gridcolor": "white",
            "gridwidth": 2,
            "linecolor": "white",
            "showbackground": true,
            "ticks": "",
            "zerolinecolor": "white"
           },
           "yaxis": {
            "backgroundcolor": "#E5ECF6",
            "gridcolor": "white",
            "gridwidth": 2,
            "linecolor": "white",
            "showbackground": true,
            "ticks": "",
            "zerolinecolor": "white"
           },
           "zaxis": {
            "backgroundcolor": "#E5ECF6",
            "gridcolor": "white",
            "gridwidth": 2,
            "linecolor": "white",
            "showbackground": true,
            "ticks": "",
            "zerolinecolor": "white"
           }
          },
          "shapedefaults": {
           "line": {
            "color": "#2a3f5f"
           }
          },
          "ternary": {
           "aaxis": {
            "gridcolor": "white",
            "linecolor": "white",
            "ticks": ""
           },
           "baxis": {
            "gridcolor": "white",
            "linecolor": "white",
            "ticks": ""
           },
           "bgcolor": "#E5ECF6",
           "caxis": {
            "gridcolor": "white",
            "linecolor": "white",
            "ticks": ""
           }
          },
          "title": {
           "x": 0.05
          },
          "xaxis": {
           "automargin": true,
           "gridcolor": "white",
           "linecolor": "white",
           "ticks": "",
           "title": {
            "standoff": 15
           },
           "zerolinecolor": "white",
           "zerolinewidth": 2
          },
          "yaxis": {
           "automargin": true,
           "gridcolor": "white",
           "linecolor": "white",
           "ticks": "",
           "title": {
            "standoff": 15
           },
           "zerolinecolor": "white",
           "zerolinewidth": 2
          }
         }
        }
       }
      },
      "text/html": [
       "<div>\n",
       "        \n",
       "        \n",
       "            <div id=\"b93b62c6-283b-458c-947f-fad08308493e\" class=\"plotly-graph-div\" style=\"height:525px; width:100%;\"></div>\n",
       "            <script type=\"text/javascript\">\n",
       "                require([\"plotly\"], function(Plotly) {\n",
       "                    window.PLOTLYENV=window.PLOTLYENV || {};\n",
       "                    \n",
       "                if (document.getElementById(\"b93b62c6-283b-458c-947f-fad08308493e\")) {\n",
       "                    Plotly.newPlot(\n",
       "                        'b93b62c6-283b-458c-947f-fad08308493e',\n",
       "                        [{\"link\": {\"label\": [null, null, null, null, null], \"source\": [1, 15, 5, 17, 26], \"target\": [3, 3, 3, 3, 3], \"value\": [26.862, 56.691, 1.401, 6.242, 787.129]}, \"node\": {\"label\": [\"Agricultural 'waste'\", \"Bio-conversion\", \"Liquid\", \"Losses\", \"Solid\", \"Gas\", \"Biofuel imports\", \"Biomass imports\", \"Coal imports\", \"Coal\", \"Coal reserves\", \"District heating\", \"Industry\", \"Heating and cooling - commercial\", \"Heating and cooling - homes\", \"Electricity grid\", \"Over generation / exports\", \"H2 conversion\", \"Road transport\", \"Agriculture\", \"Rail transport\", \"Lighting & appliances - commercial\", \"Lighting & appliances - homes\", \"Gas imports\", \"Ngas\", \"Gas reserves\", \"Thermal generation\", \"Geothermal\", \"H2\", \"Hydro\", \"International shipping\", \"Domestic aviation\", \"International aviation\", \"National navigation\", \"Marine algae\", \"Nuclear\", \"Oil imports\", \"Oil\", \"Oil reserves\", \"Other waste\", \"Pumped heat\", \"Solar PV\", \"Solar Thermal\", \"Solar\", \"Tidal\", \"UK land based bioenergy\", \"Wave\", \"Wind\"], \"line\": {\"color\": \"black\", \"width\": 0.5}, \"pad\": 15, \"thickness\": 15}, \"type\": \"sankey\", \"valueformat\": \".0f\", \"valuesuffix\": \"TWh\"}],\n",
       "                        {\"template\": {\"data\": {\"bar\": [{\"error_x\": {\"color\": \"#2a3f5f\"}, \"error_y\": {\"color\": \"#2a3f5f\"}, \"marker\": {\"line\": {\"color\": \"#E5ECF6\", \"width\": 0.5}}, \"type\": \"bar\"}], \"barpolar\": [{\"marker\": {\"line\": {\"color\": \"#E5ECF6\", \"width\": 0.5}}, \"type\": \"barpolar\"}], \"carpet\": [{\"aaxis\": {\"endlinecolor\": \"#2a3f5f\", \"gridcolor\": \"white\", \"linecolor\": \"white\", \"minorgridcolor\": \"white\", \"startlinecolor\": \"#2a3f5f\"}, \"baxis\": {\"endlinecolor\": \"#2a3f5f\", \"gridcolor\": \"white\", \"linecolor\": \"white\", \"minorgridcolor\": \"white\", \"startlinecolor\": \"#2a3f5f\"}, \"type\": \"carpet\"}], \"choropleth\": [{\"colorbar\": {\"outlinewidth\": 0, \"ticks\": \"\"}, \"type\": \"choropleth\"}], \"contour\": [{\"colorbar\": {\"outlinewidth\": 0, \"ticks\": \"\"}, \"colorscale\": [[0.0, \"#0d0887\"], [0.1111111111111111, \"#46039f\"], [0.2222222222222222, \"#7201a8\"], [0.3333333333333333, \"#9c179e\"], [0.4444444444444444, \"#bd3786\"], [0.5555555555555556, \"#d8576b\"], [0.6666666666666666, \"#ed7953\"], [0.7777777777777778, \"#fb9f3a\"], [0.8888888888888888, \"#fdca26\"], [1.0, \"#f0f921\"]], \"type\": \"contour\"}], \"contourcarpet\": [{\"colorbar\": {\"outlinewidth\": 0, \"ticks\": \"\"}, \"type\": \"contourcarpet\"}], \"heatmap\": [{\"colorbar\": {\"outlinewidth\": 0, \"ticks\": \"\"}, \"colorscale\": [[0.0, \"#0d0887\"], [0.1111111111111111, \"#46039f\"], [0.2222222222222222, \"#7201a8\"], [0.3333333333333333, \"#9c179e\"], [0.4444444444444444, \"#bd3786\"], [0.5555555555555556, \"#d8576b\"], [0.6666666666666666, \"#ed7953\"], [0.7777777777777778, \"#fb9f3a\"], [0.8888888888888888, \"#fdca26\"], [1.0, \"#f0f921\"]], \"type\": \"heatmap\"}], \"heatmapgl\": [{\"colorbar\": {\"outlinewidth\": 0, \"ticks\": \"\"}, \"colorscale\": [[0.0, \"#0d0887\"], [0.1111111111111111, \"#46039f\"], [0.2222222222222222, \"#7201a8\"], [0.3333333333333333, \"#9c179e\"], [0.4444444444444444, \"#bd3786\"], [0.5555555555555556, \"#d8576b\"], [0.6666666666666666, \"#ed7953\"], [0.7777777777777778, \"#fb9f3a\"], [0.8888888888888888, \"#fdca26\"], [1.0, \"#f0f921\"]], \"type\": \"heatmapgl\"}], \"histogram\": [{\"marker\": {\"colorbar\": {\"outlinewidth\": 0, \"ticks\": \"\"}}, \"type\": \"histogram\"}], \"histogram2d\": [{\"colorbar\": {\"outlinewidth\": 0, \"ticks\": \"\"}, \"colorscale\": [[0.0, \"#0d0887\"], [0.1111111111111111, \"#46039f\"], [0.2222222222222222, \"#7201a8\"], [0.3333333333333333, \"#9c179e\"], [0.4444444444444444, \"#bd3786\"], [0.5555555555555556, \"#d8576b\"], [0.6666666666666666, \"#ed7953\"], [0.7777777777777778, \"#fb9f3a\"], [0.8888888888888888, \"#fdca26\"], [1.0, \"#f0f921\"]], \"type\": \"histogram2d\"}], \"histogram2dcontour\": [{\"colorbar\": {\"outlinewidth\": 0, \"ticks\": \"\"}, \"colorscale\": [[0.0, \"#0d0887\"], [0.1111111111111111, \"#46039f\"], [0.2222222222222222, \"#7201a8\"], [0.3333333333333333, \"#9c179e\"], [0.4444444444444444, \"#bd3786\"], [0.5555555555555556, \"#d8576b\"], [0.6666666666666666, \"#ed7953\"], [0.7777777777777778, \"#fb9f3a\"], [0.8888888888888888, \"#fdca26\"], [1.0, \"#f0f921\"]], \"type\": \"histogram2dcontour\"}], \"mesh3d\": [{\"colorbar\": {\"outlinewidth\": 0, \"ticks\": \"\"}, \"type\": \"mesh3d\"}], \"parcoords\": [{\"line\": {\"colorbar\": {\"outlinewidth\": 0, \"ticks\": \"\"}}, \"type\": \"parcoords\"}], \"pie\": [{\"automargin\": true, \"type\": \"pie\"}], \"scatter\": [{\"marker\": {\"colorbar\": {\"outlinewidth\": 0, \"ticks\": \"\"}}, \"type\": \"scatter\"}], \"scatter3d\": [{\"line\": {\"colorbar\": {\"outlinewidth\": 0, \"ticks\": \"\"}}, \"marker\": {\"colorbar\": {\"outlinewidth\": 0, \"ticks\": \"\"}}, \"type\": \"scatter3d\"}], \"scattercarpet\": [{\"marker\": {\"colorbar\": {\"outlinewidth\": 0, \"ticks\": \"\"}}, \"type\": \"scattercarpet\"}], \"scattergeo\": [{\"marker\": {\"colorbar\": {\"outlinewidth\": 0, \"ticks\": \"\"}}, \"type\": \"scattergeo\"}], \"scattergl\": [{\"marker\": {\"colorbar\": {\"outlinewidth\": 0, \"ticks\": \"\"}}, \"type\": \"scattergl\"}], \"scattermapbox\": [{\"marker\": {\"colorbar\": {\"outlinewidth\": 0, \"ticks\": \"\"}}, \"type\": \"scattermapbox\"}], \"scatterpolar\": [{\"marker\": {\"colorbar\": {\"outlinewidth\": 0, \"ticks\": \"\"}}, \"type\": \"scatterpolar\"}], \"scatterpolargl\": [{\"marker\": {\"colorbar\": {\"outlinewidth\": 0, \"ticks\": \"\"}}, \"type\": \"scatterpolargl\"}], \"scatterternary\": [{\"marker\": {\"colorbar\": {\"outlinewidth\": 0, \"ticks\": \"\"}}, \"type\": \"scatterternary\"}], \"surface\": [{\"colorbar\": {\"outlinewidth\": 0, \"ticks\": \"\"}, \"colorscale\": [[0.0, \"#0d0887\"], [0.1111111111111111, \"#46039f\"], [0.2222222222222222, \"#7201a8\"], [0.3333333333333333, \"#9c179e\"], [0.4444444444444444, \"#bd3786\"], [0.5555555555555556, \"#d8576b\"], [0.6666666666666666, \"#ed7953\"], [0.7777777777777778, \"#fb9f3a\"], [0.8888888888888888, \"#fdca26\"], [1.0, \"#f0f921\"]], \"type\": \"surface\"}], \"table\": [{\"cells\": {\"fill\": {\"color\": \"#EBF0F8\"}, \"line\": {\"color\": \"white\"}}, \"header\": {\"fill\": {\"color\": \"#C8D4E3\"}, \"line\": {\"color\": \"white\"}}, \"type\": \"table\"}]}, \"layout\": {\"annotationdefaults\": {\"arrowcolor\": \"#2a3f5f\", \"arrowhead\": 0, \"arrowwidth\": 1}, \"coloraxis\": {\"colorbar\": {\"outlinewidth\": 0, \"ticks\": \"\"}}, \"colorscale\": {\"diverging\": [[0, \"#8e0152\"], [0.1, \"#c51b7d\"], [0.2, \"#de77ae\"], [0.3, \"#f1b6da\"], [0.4, \"#fde0ef\"], [0.5, \"#f7f7f7\"], [0.6, \"#e6f5d0\"], [0.7, \"#b8e186\"], [0.8, \"#7fbc41\"], [0.9, \"#4d9221\"], [1, \"#276419\"]], \"sequential\": [[0.0, \"#0d0887\"], [0.1111111111111111, \"#46039f\"], [0.2222222222222222, \"#7201a8\"], [0.3333333333333333, \"#9c179e\"], [0.4444444444444444, \"#bd3786\"], [0.5555555555555556, \"#d8576b\"], [0.6666666666666666, \"#ed7953\"], [0.7777777777777778, \"#fb9f3a\"], [0.8888888888888888, \"#fdca26\"], [1.0, \"#f0f921\"]], \"sequentialminus\": [[0.0, \"#0d0887\"], [0.1111111111111111, \"#46039f\"], [0.2222222222222222, \"#7201a8\"], [0.3333333333333333, \"#9c179e\"], [0.4444444444444444, \"#bd3786\"], [0.5555555555555556, \"#d8576b\"], [0.6666666666666666, \"#ed7953\"], [0.7777777777777778, \"#fb9f3a\"], [0.8888888888888888, \"#fdca26\"], [1.0, \"#f0f921\"]]}, \"colorway\": [\"#636efa\", \"#EF553B\", \"#00cc96\", \"#ab63fa\", \"#FFA15A\", \"#19d3f3\", \"#FF6692\", \"#B6E880\", \"#FF97FF\", \"#FECB52\"], \"font\": {\"color\": \"#2a3f5f\"}, \"geo\": {\"bgcolor\": \"white\", \"lakecolor\": \"white\", \"landcolor\": \"#E5ECF6\", \"showlakes\": true, \"showland\": true, \"subunitcolor\": \"white\"}, \"hoverlabel\": {\"align\": \"left\"}, \"hovermode\": \"closest\", \"mapbox\": {\"style\": \"light\"}, \"paper_bgcolor\": \"white\", \"plot_bgcolor\": \"#E5ECF6\", \"polar\": {\"angularaxis\": {\"gridcolor\": \"white\", \"linecolor\": \"white\", \"ticks\": \"\"}, \"bgcolor\": \"#E5ECF6\", \"radialaxis\": {\"gridcolor\": \"white\", \"linecolor\": \"white\", \"ticks\": \"\"}}, \"scene\": {\"xaxis\": {\"backgroundcolor\": \"#E5ECF6\", \"gridcolor\": \"white\", \"gridwidth\": 2, \"linecolor\": \"white\", \"showbackground\": true, \"ticks\": \"\", \"zerolinecolor\": \"white\"}, \"yaxis\": {\"backgroundcolor\": \"#E5ECF6\", \"gridcolor\": \"white\", \"gridwidth\": 2, \"linecolor\": \"white\", \"showbackground\": true, \"ticks\": \"\", \"zerolinecolor\": \"white\"}, \"zaxis\": {\"backgroundcolor\": \"#E5ECF6\", \"gridcolor\": \"white\", \"gridwidth\": 2, \"linecolor\": \"white\", \"showbackground\": true, \"ticks\": \"\", \"zerolinecolor\": \"white\"}}, \"shapedefaults\": {\"line\": {\"color\": \"#2a3f5f\"}}, \"ternary\": {\"aaxis\": {\"gridcolor\": \"white\", \"linecolor\": \"white\", \"ticks\": \"\"}, \"baxis\": {\"gridcolor\": \"white\", \"linecolor\": \"white\", \"ticks\": \"\"}, \"bgcolor\": \"#E5ECF6\", \"caxis\": {\"gridcolor\": \"white\", \"linecolor\": \"white\", \"ticks\": \"\"}}, \"title\": {\"x\": 0.05}, \"xaxis\": {\"automargin\": true, \"gridcolor\": \"white\", \"linecolor\": \"white\", \"ticks\": \"\", \"title\": {\"standoff\": 15}, \"zerolinecolor\": \"white\", \"zerolinewidth\": 2}, \"yaxis\": {\"automargin\": true, \"gridcolor\": \"white\", \"linecolor\": \"white\", \"ticks\": \"\", \"title\": {\"standoff\": 15}, \"zerolinecolor\": \"white\", \"zerolinewidth\": 2}}}},\n",
       "                        {\"responsive\": true}\n",
       "                    ).then(function(){\n",
       "                            \n",
       "var gd = document.getElementById('b93b62c6-283b-458c-947f-fad08308493e');\n",
       "var x = new MutationObserver(function (mutations, observer) {{\n",
       "        var display = window.getComputedStyle(gd).display;\n",
       "        if (!display || display === 'none') {{\n",
       "            console.log([gd, 'removed!']);\n",
       "            Plotly.purge(gd);\n",
       "            observer.disconnect();\n",
       "        }}\n",
       "}});\n",
       "\n",
       "// Listen for the removal of the full notebook cells\n",
       "var notebookContainer = gd.closest('#notebook-container');\n",
       "if (notebookContainer) {{\n",
       "    x.observe(notebookContainer, {childList: true});\n",
       "}}\n",
       "\n",
       "// Listen for the clearing of the current output cell\n",
       "var outputEl = gd.closest('.output');\n",
       "if (outputEl) {{\n",
       "    x.observe(outputEl, {childList: true});\n",
       "}}\n",
       "\n",
       "                        })\n",
       "                };\n",
       "                });\n",
       "            </script>\n",
       "        </div>"
      ]
     },
     "metadata": {},
     "output_type": "display_data"
    }
   ],
   "source": [
    "fig = go.Figure(data=[go.Sankey(\n",
    "    valueformat = \".0f\",\n",
    "    valuesuffix = \"TWh\",\n",
    "    node = dict(\n",
    "      pad = 15,\n",
    "      thickness = 15,\n",
    "      line = dict(color = \"black\", width = 0.5),\n",
    "      label =  cdf['Labels'].dropna(),\n",
    "    ),\n",
    "    link = dict(\n",
    "      source =  losses['source'],\n",
    "      target =  losses['target'],\n",
    "      value =  losses['value'],\n",
    "      label =  losses['label']\n",
    "  ))])\n",
    "\n",
    "fig.show()"
   ]
  },
  {
   "cell_type": "code",
   "execution_count": 78,
   "metadata": {},
   "outputs": [
    {
     "data": {
      "text/plain": [
       "'https://plotly.com/~kingplot/17/'"
      ]
     },
     "execution_count": 78,
     "metadata": {},
     "output_type": "execute_result"
    }
   ],
   "source": [
    "import plotly.graph_objects as go\n",
    "from plotly.subplots import make_subplots\n",
    "import chart_studio.plotly as py\n",
    "\n",
    "labels = [\"OIl\", \"OTHERS\"]\n",
    "\n",
    "# Create subplots: use 'domain' type for Pie subplot\n",
    "fig = make_subplots(rows=2, cols=2, specs=[[{'type':'domain'}, {'type':'domain'}],\n",
    "                                          [{'type':'domain'}, {'type':'domain'}]],\n",
    "                   subplot_titles = ('<b>Energy Mix', '<b>Carbon Emissions', '<b>Electricity Mix', '<b>Energy Suppiled'))\n",
    "\n",
    "fig.add_trace(go.Pie(labels=labels, values=[40,60], name=\"Energy Mix\",\n",
    "                     marker =dict(colors = ['#EEB72B','rgba(127, 127, 127, 0.8)']),\n",
    "                    textfont = dict(color = 'white', size = 30)),\n",
    "              1, 1,)\n",
    "fig.add_trace(go.Pie(labels=labels, values=[34, 66], name=\"CO2 Emissions\",\n",
    "                    textfont = dict(color = 'white', size = 30)),\n",
    "              1, 2)\n",
    "fig.add_trace(go.Pie(labels=labels, values=[3, 97], name=\"Electricity Mix\",\n",
    "                    textfont = dict(color = 'white', size = 30), rotation = 60),\n",
    "              2, 1)\n",
    "fig.add_trace(go.Pie(labels=labels, values=[32, 68], name=\"Energy Suppiled\",\n",
    "                    textfont = dict(color = 'white', size = 30)),\n",
    "              2, 2)\n",
    "\n",
    "\n",
    "\n",
    "# Use `hole` to create a donut-like pie chart\n",
    "fig.update_traces(hole=.4, hoverinfo=\"label+percent+name\")\n",
    "\n",
    "fig.update_layout(\n",
    "    title=\"<b>OIL STATS\",\n",
    "    font=dict(size = 30, color = '#EEB72B', family = 'Raleway'),\n",
    "    # Add annotations in the center of the donut pies.\n",
    "    plot_bgcolor='#242424',\n",
    "    paper_bgcolor='#242424',\n",
    ")   \n",
    "py.plot(fig, filename = 'oil_stats')\n",
    "#fig.show()"
   ]
  },
  {
   "cell_type": "code",
   "execution_count": 37,
   "metadata": {},
   "outputs": [
    {
     "name": "stdout",
     "output_type": "stream",
     "text": [
      "Help on class Pie in module plotly.graph_objs._pie:\n",
      "\n",
      "class Pie(plotly.basedatatypes.BaseTraceType)\n",
      " |  Pie(arg=None, automargin=None, customdata=None, customdatasrc=None, direction=None, dlabel=None, domain=None, hole=None, hoverinfo=None, hoverinfosrc=None, hoverlabel=None, hovertemplate=None, hovertemplatesrc=None, hovertext=None, hovertextsrc=None, ids=None, idssrc=None, insidetextfont=None, insidetextorientation=None, label0=None, labels=None, labelssrc=None, legendgroup=None, marker=None, meta=None, metasrc=None, name=None, opacity=None, outsidetextfont=None, pull=None, pullsrc=None, rotation=None, scalegroup=None, showlegend=None, sort=None, stream=None, text=None, textfont=None, textinfo=None, textposition=None, textpositionsrc=None, textsrc=None, texttemplate=None, texttemplatesrc=None, title=None, titlefont=None, titleposition=None, uid=None, uirevision=None, values=None, valuessrc=None, visible=None, **kwargs)\n",
      " |  \n",
      " |  Base class for the all trace types.\n",
      " |  \n",
      " |  Specific trace type classes (Scatter, Bar, etc.) are code generated as\n",
      " |  subclasses of this class.\n",
      " |  \n",
      " |  Method resolution order:\n",
      " |      Pie\n",
      " |      plotly.basedatatypes.BaseTraceType\n",
      " |      plotly.basedatatypes.BaseTraceHierarchyType\n",
      " |      plotly.basedatatypes.BasePlotlyType\n",
      " |      builtins.object\n",
      " |  \n",
      " |  Methods defined here:\n",
      " |  \n",
      " |  __init__(self, arg=None, automargin=None, customdata=None, customdatasrc=None, direction=None, dlabel=None, domain=None, hole=None, hoverinfo=None, hoverinfosrc=None, hoverlabel=None, hovertemplate=None, hovertemplatesrc=None, hovertext=None, hovertextsrc=None, ids=None, idssrc=None, insidetextfont=None, insidetextorientation=None, label0=None, labels=None, labelssrc=None, legendgroup=None, marker=None, meta=None, metasrc=None, name=None, opacity=None, outsidetextfont=None, pull=None, pullsrc=None, rotation=None, scalegroup=None, showlegend=None, sort=None, stream=None, text=None, textfont=None, textinfo=None, textposition=None, textpositionsrc=None, textsrc=None, texttemplate=None, texttemplatesrc=None, title=None, titlefont=None, titleposition=None, uid=None, uirevision=None, values=None, valuessrc=None, visible=None, **kwargs)\n",
      " |      Construct a new Pie object\n",
      " |      \n",
      " |      A data visualized by the sectors of the pie is set in `values`.\n",
      " |      The sector labels are set in `labels`. The sector colors are\n",
      " |      set in `marker.colors`\n",
      " |      \n",
      " |      Parameters\n",
      " |      ----------\n",
      " |      arg\n",
      " |          dict of properties compatible with this constructor or\n",
      " |          an instance of :class:`plotly.graph_objs.Pie`\n",
      " |      automargin\n",
      " |          Determines whether outside text labels can push the\n",
      " |          margins.\n",
      " |      customdata\n",
      " |          Assigns extra data each datum. This may be useful when\n",
      " |          listening to hover, click and selection events. Note\n",
      " |          that, \"scatter\" traces also appends customdata items in\n",
      " |          the markers DOM elements\n",
      " |      customdatasrc\n",
      " |          Sets the source reference on Chart Studio Cloud for\n",
      " |          customdata .\n",
      " |      direction\n",
      " |          Specifies the direction at which succeeding sectors\n",
      " |          follow one another.\n",
      " |      dlabel\n",
      " |          Sets the label step. See `label0` for more info.\n",
      " |      domain\n",
      " |          :class:`plotly.graph_objects.pie.Domain` instance or\n",
      " |          dict with compatible properties\n",
      " |      hole\n",
      " |          Sets the fraction of the radius to cut out of the pie.\n",
      " |          Use this to make a donut chart.\n",
      " |      hoverinfo\n",
      " |          Determines which trace information appear on hover. If\n",
      " |          `none` or `skip` are set, no information is displayed\n",
      " |          upon hovering. But, if `none` is set, click and hover\n",
      " |          events are still fired.\n",
      " |      hoverinfosrc\n",
      " |          Sets the source reference on Chart Studio Cloud for\n",
      " |          hoverinfo .\n",
      " |      hoverlabel\n",
      " |          :class:`plotly.graph_objects.pie.Hoverlabel` instance\n",
      " |          or dict with compatible properties\n",
      " |      hovertemplate\n",
      " |          Template string used for rendering the information that\n",
      " |          appear on hover box. Note that this will override\n",
      " |          `hoverinfo`. Variables are inserted using %{variable},\n",
      " |          for example \"y: %{y}\". Numbers are formatted using\n",
      " |          d3-format's syntax %{variable:d3-format}, for example\n",
      " |          \"Price: %{y:$.2f}\". https://github.com/d3/d3-3.x-api-\n",
      " |          reference/blob/master/Formatting.md#d3_format for\n",
      " |          details on the formatting syntax. Dates are formatted\n",
      " |          using d3-time-format's syntax %{variable|d3-time-\n",
      " |          format}, for example \"Day: %{2019-01-01|%A}\".\n",
      " |          https://github.com/d3/d3-3.x-api-\n",
      " |          reference/blob/master/Time-Formatting.md#format for\n",
      " |          details on the date formatting syntax. The variables\n",
      " |          available in `hovertemplate` are the ones emitted as\n",
      " |          event data described at this link\n",
      " |          https://plotly.com/javascript/plotlyjs-events/#event-\n",
      " |          data. Additionally, every attributes that can be\n",
      " |          specified per-point (the ones that are `arrayOk: true`)\n",
      " |          are available. variables `label`, `color`, `value`,\n",
      " |          `percent` and `text`. Anything contained in tag\n",
      " |          `<extra>` is displayed in the secondary box, for\n",
      " |          example \"<extra>{fullData.name}</extra>\". To hide the\n",
      " |          secondary box completely, use an empty tag\n",
      " |          `<extra></extra>`.\n",
      " |      hovertemplatesrc\n",
      " |          Sets the source reference on Chart Studio Cloud for\n",
      " |          hovertemplate .\n",
      " |      hovertext\n",
      " |          Sets hover text elements associated with each sector.\n",
      " |          If a single string, the same string appears for all\n",
      " |          data points. If an array of string, the items are\n",
      " |          mapped in order of this trace's sectors. To be seen,\n",
      " |          trace `hoverinfo` must contain a \"text\" flag.\n",
      " |      hovertextsrc\n",
      " |          Sets the source reference on Chart Studio Cloud for\n",
      " |          hovertext .\n",
      " |      ids\n",
      " |          Assigns id labels to each datum. These ids for object\n",
      " |          constancy of data points during animation. Should be an\n",
      " |          array of strings, not numbers or any other type.\n",
      " |      idssrc\n",
      " |          Sets the source reference on Chart Studio Cloud for\n",
      " |          ids .\n",
      " |      insidetextfont\n",
      " |          Sets the font used for `textinfo` lying inside the\n",
      " |          sector.\n",
      " |      insidetextorientation\n",
      " |          Controls the orientation of the text inside chart\n",
      " |          sectors. When set to \"auto\", text may be oriented in\n",
      " |          any direction in order to be as big as possible in the\n",
      " |          middle of a sector. The \"horizontal\" option orients\n",
      " |          text to be parallel with the bottom of the chart, and\n",
      " |          may make text smaller in order to achieve that goal.\n",
      " |          The \"radial\" option orients text along the radius of\n",
      " |          the sector. The \"tangential\" option orients text\n",
      " |          perpendicular to the radius of the sector.\n",
      " |      label0\n",
      " |          Alternate to `labels`. Builds a numeric set of labels.\n",
      " |          Use with `dlabel` where `label0` is the starting label\n",
      " |          and `dlabel` the step.\n",
      " |      labels\n",
      " |          Sets the sector labels. If `labels` entries are\n",
      " |          duplicated, we sum associated `values` or simply count\n",
      " |          occurrences if `values` is not provided. For other\n",
      " |          array attributes (including color) we use the first\n",
      " |          non-empty entry among all occurrences of the label.\n",
      " |      labelssrc\n",
      " |          Sets the source reference on Chart Studio Cloud for\n",
      " |          labels .\n",
      " |      legendgroup\n",
      " |          Sets the legend group for this trace. Traces part of\n",
      " |          the same legend group hide/show at the same time when\n",
      " |          toggling legend items.\n",
      " |      marker\n",
      " |          :class:`plotly.graph_objects.pie.Marker` instance or\n",
      " |          dict with compatible properties\n",
      " |      meta\n",
      " |          Assigns extra meta information associated with this\n",
      " |          trace that can be used in various text attributes.\n",
      " |          Attributes such as trace `name`, graph, axis and\n",
      " |          colorbar `title.text`, annotation `text`\n",
      " |          `rangeselector`, `updatemenues` and `sliders` `label`\n",
      " |          text all support `meta`. To access the trace `meta`\n",
      " |          values in an attribute in the same trace, simply use\n",
      " |          `%{meta[i]}` where `i` is the index or key of the\n",
      " |          `meta` item in question. To access trace `meta` in\n",
      " |          layout attributes, use `%{data[n[.meta[i]}` where `i`\n",
      " |          is the index or key of the `meta` and `n` is the trace\n",
      " |          index.\n",
      " |      metasrc\n",
      " |          Sets the source reference on Chart Studio Cloud for\n",
      " |          meta .\n",
      " |      name\n",
      " |          Sets the trace name. The trace name appear as the\n",
      " |          legend item and on hover.\n",
      " |      opacity\n",
      " |          Sets the opacity of the trace.\n",
      " |      outsidetextfont\n",
      " |          Sets the font used for `textinfo` lying outside the\n",
      " |          sector.\n",
      " |      pull\n",
      " |          Sets the fraction of larger radius to pull the sectors\n",
      " |          out from the center. This can be a constant to pull all\n",
      " |          slices apart from each other equally or an array to\n",
      " |          highlight one or more slices.\n",
      " |      pullsrc\n",
      " |          Sets the source reference on Chart Studio Cloud for\n",
      " |          pull .\n",
      " |      rotation\n",
      " |          Instead of the first slice starting at 12 o'clock,\n",
      " |          rotate to some other angle.\n",
      " |      scalegroup\n",
      " |          If there are multiple pie charts that should be sized\n",
      " |          according to their totals, link them by providing a\n",
      " |          non-empty group id here shared by every trace in the\n",
      " |          same group.\n",
      " |      showlegend\n",
      " |          Determines whether or not an item corresponding to this\n",
      " |          trace is shown in the legend.\n",
      " |      sort\n",
      " |          Determines whether or not the sectors are reordered\n",
      " |          from largest to smallest.\n",
      " |      stream\n",
      " |          :class:`plotly.graph_objects.pie.Stream` instance or\n",
      " |          dict with compatible properties\n",
      " |      text\n",
      " |          Sets text elements associated with each sector. If\n",
      " |          trace `textinfo` contains a \"text\" flag, these elements\n",
      " |          will be seen on the chart. If trace `hoverinfo`\n",
      " |          contains a \"text\" flag and \"hovertext\" is not set,\n",
      " |          these elements will be seen in the hover labels.\n",
      " |      textfont\n",
      " |          Sets the font used for `textinfo`.\n",
      " |      textinfo\n",
      " |          Determines which trace information appear on the graph.\n",
      " |      textposition\n",
      " |          Specifies the location of the `textinfo`.\n",
      " |      textpositionsrc\n",
      " |          Sets the source reference on Chart Studio Cloud for\n",
      " |          textposition .\n",
      " |      textsrc\n",
      " |          Sets the source reference on Chart Studio Cloud for\n",
      " |          text .\n",
      " |      texttemplate\n",
      " |          Template string used for rendering the information text\n",
      " |          that appear on points. Note that this will override\n",
      " |          `textinfo`. Variables are inserted using %{variable},\n",
      " |          for example \"y: %{y}\". Numbers are formatted using\n",
      " |          d3-format's syntax %{variable:d3-format}, for example\n",
      " |          \"Price: %{y:$.2f}\". https://github.com/d3/d3-3.x-api-\n",
      " |          reference/blob/master/Formatting.md#d3_format for\n",
      " |          details on the formatting syntax. Dates are formatted\n",
      " |          using d3-time-format's syntax %{variable|d3-time-\n",
      " |          format}, for example \"Day: %{2019-01-01|%A}\".\n",
      " |          https://github.com/d3/d3-3.x-api-\n",
      " |          reference/blob/master/Time-Formatting.md#format for\n",
      " |          details on the date formatting syntax. Every attributes\n",
      " |          that can be specified per-point (the ones that are\n",
      " |          `arrayOk: true`) are available. variables `label`,\n",
      " |          `color`, `value`, `percent` and `text`.\n",
      " |      texttemplatesrc\n",
      " |          Sets the source reference on Chart Studio Cloud for\n",
      " |          texttemplate .\n",
      " |      title\n",
      " |          :class:`plotly.graph_objects.pie.Title` instance or\n",
      " |          dict with compatible properties\n",
      " |      titlefont\n",
      " |          Deprecated: Please use pie.title.font instead. Sets the\n",
      " |          font used for `title`. Note that the title's font used\n",
      " |          to be set by the now deprecated `titlefont` attribute.\n",
      " |      titleposition\n",
      " |          Deprecated: Please use pie.title.position instead.\n",
      " |          Specifies the location of the `title`. Note that the\n",
      " |          title's position used to be set by the now deprecated\n",
      " |          `titleposition` attribute.\n",
      " |      uid\n",
      " |          Assign an id to this trace, Use this to provide object\n",
      " |          constancy between traces during animations and\n",
      " |          transitions.\n",
      " |      uirevision\n",
      " |          Controls persistence of some user-driven changes to the\n",
      " |          trace: `constraintrange` in `parcoords` traces, as well\n",
      " |          as some `editable: true` modifications such as `name`\n",
      " |          and `colorbar.title`. Defaults to `layout.uirevision`.\n",
      " |          Note that other user-driven trace attribute changes are\n",
      " |          controlled by `layout` attributes: `trace.visible` is\n",
      " |          controlled by `layout.legend.uirevision`,\n",
      " |          `selectedpoints` is controlled by\n",
      " |          `layout.selectionrevision`, and `colorbar.(x|y)`\n",
      " |          (accessible with `config: {editable: true}`) is\n",
      " |          controlled by `layout.editrevision`. Trace changes are\n",
      " |          tracked by `uid`, which only falls back on trace index\n",
      " |          if no `uid` is provided. So if your app can add/remove\n",
      " |          traces before the end of the `data` array, such that\n",
      " |          the same trace has a different index, you can still\n",
      " |          preserve user-driven changes if you give each trace a\n",
      " |          `uid` that stays with it as it moves.\n",
      " |      values\n",
      " |          Sets the values of the sectors. If omitted, we count\n",
      " |          occurrences of each label.\n",
      " |      valuessrc\n",
      " |          Sets the source reference on Chart Studio Cloud for\n",
      " |          values .\n",
      " |      visible\n",
      " |          Determines whether or not this trace is visible. If\n",
      " |          \"legendonly\", the trace is not drawn, but can appear as\n",
      " |          a legend item (provided that the legend itself is\n",
      " |          visible).\n",
      " |      \n",
      " |      Returns\n",
      " |      -------\n",
      " |      Pie\n",
      " |  \n",
      " |  ----------------------------------------------------------------------\n",
      " |  Readonly properties defined here:\n",
      " |  \n",
      " |  type\n",
      " |  \n",
      " |  ----------------------------------------------------------------------\n",
      " |  Data descriptors defined here:\n",
      " |  \n",
      " |  automargin\n",
      " |      Determines whether outside text labels can push the margins.\n",
      " |      \n",
      " |      The 'automargin' property must be specified as a bool\n",
      " |      (either True, or False)\n",
      " |      \n",
      " |      Returns\n",
      " |      -------\n",
      " |      bool\n",
      " |  \n",
      " |  customdata\n",
      " |      Assigns extra data each datum. This may be useful when\n",
      " |      listening to hover, click and selection events. Note that,\n",
      " |      \"scatter\" traces also appends customdata items in the markers\n",
      " |      DOM elements\n",
      " |      \n",
      " |      The 'customdata' property is an array that may be specified as a tuple,\n",
      " |      list, numpy array, or pandas Series\n",
      " |      \n",
      " |      Returns\n",
      " |      -------\n",
      " |      numpy.ndarray\n",
      " |  \n",
      " |  customdatasrc\n",
      " |      Sets the source reference on Chart Studio Cloud for  customdata\n",
      " |      .\n",
      " |      \n",
      " |      The 'customdatasrc' property must be specified as a string or\n",
      " |      as a plotly.grid_objs.Column object\n",
      " |      \n",
      " |      Returns\n",
      " |      -------\n",
      " |      str\n",
      " |  \n",
      " |  direction\n",
      " |      Specifies the direction at which succeeding sectors follow one\n",
      " |      another.\n",
      " |      \n",
      " |      The 'direction' property is an enumeration that may be specified as:\n",
      " |        - One of the following enumeration values:\n",
      " |              ['clockwise', 'counterclockwise']\n",
      " |      \n",
      " |      Returns\n",
      " |      -------\n",
      " |      Any\n",
      " |  \n",
      " |  dlabel\n",
      " |      Sets the label step. See `label0` for more info.\n",
      " |      \n",
      " |      The 'dlabel' property is a number and may be specified as:\n",
      " |        - An int or float\n",
      " |      \n",
      " |      Returns\n",
      " |      -------\n",
      " |      int|float\n",
      " |  \n",
      " |  domain\n",
      " |      The 'domain' property is an instance of Domain\n",
      " |      that may be specified as:\n",
      " |        - An instance of :class:`plotly.graph_objs.pie.Domain`\n",
      " |        - A dict of string/value properties that will be passed\n",
      " |          to the Domain constructor\n",
      " |      \n",
      " |          Supported dict properties:\n",
      " |              \n",
      " |              column\n",
      " |                  If there is a layout grid, use the domain for\n",
      " |                  this column in the grid for this pie trace .\n",
      " |              row\n",
      " |                  If there is a layout grid, use the domain for\n",
      " |                  this row in the grid for this pie trace .\n",
      " |              x\n",
      " |                  Sets the horizontal domain of this pie trace\n",
      " |                  (in plot fraction).\n",
      " |              y\n",
      " |                  Sets the vertical domain of this pie trace (in\n",
      " |                  plot fraction).\n",
      " |      \n",
      " |      Returns\n",
      " |      -------\n",
      " |      plotly.graph_objs.pie.Domain\n",
      " |  \n",
      " |  hole\n",
      " |      Sets the fraction of the radius to cut out of the pie. Use this\n",
      " |      to make a donut chart.\n",
      " |      \n",
      " |      The 'hole' property is a number and may be specified as:\n",
      " |        - An int or float in the interval [0, 1]\n",
      " |      \n",
      " |      Returns\n",
      " |      -------\n",
      " |      int|float\n",
      " |  \n",
      " |  hoverinfo\n",
      " |      Determines which trace information appear on hover. If `none`\n",
      " |      or `skip` are set, no information is displayed upon hovering.\n",
      " |      But, if `none` is set, click and hover events are still fired.\n",
      " |      \n",
      " |      The 'hoverinfo' property is a flaglist and may be specified\n",
      " |      as a string containing:\n",
      " |        - Any combination of ['label', 'text', 'value', 'percent', 'name'] joined with '+' characters\n",
      " |          (e.g. 'label+text')\n",
      " |          OR exactly one of ['all', 'none', 'skip'] (e.g. 'skip')\n",
      " |        - A list or array of the above\n",
      " |      \n",
      " |      Returns\n",
      " |      -------\n",
      " |      Any|numpy.ndarray\n",
      " |  \n",
      " |  hoverinfosrc\n",
      " |      Sets the source reference on Chart Studio Cloud for  hoverinfo\n",
      " |      .\n",
      " |      \n",
      " |      The 'hoverinfosrc' property must be specified as a string or\n",
      " |      as a plotly.grid_objs.Column object\n",
      " |      \n",
      " |      Returns\n",
      " |      -------\n",
      " |      str\n",
      " |  \n",
      " |  hoverlabel\n",
      " |      The 'hoverlabel' property is an instance of Hoverlabel\n",
      " |      that may be specified as:\n",
      " |        - An instance of :class:`plotly.graph_objs.pie.Hoverlabel`\n",
      " |        - A dict of string/value properties that will be passed\n",
      " |          to the Hoverlabel constructor\n",
      " |      \n",
      " |          Supported dict properties:\n",
      " |              \n",
      " |              align\n",
      " |                  Sets the horizontal alignment of the text\n",
      " |                  content within hover label box. Has an effect\n",
      " |                  only if the hover label text spans more two or\n",
      " |                  more lines\n",
      " |              alignsrc\n",
      " |                  Sets the source reference on Chart Studio Cloud\n",
      " |                  for  align .\n",
      " |              bgcolor\n",
      " |                  Sets the background color of the hover labels\n",
      " |                  for this trace\n",
      " |              bgcolorsrc\n",
      " |                  Sets the source reference on Chart Studio Cloud\n",
      " |                  for  bgcolor .\n",
      " |              bordercolor\n",
      " |                  Sets the border color of the hover labels for\n",
      " |                  this trace.\n",
      " |              bordercolorsrc\n",
      " |                  Sets the source reference on Chart Studio Cloud\n",
      " |                  for  bordercolor .\n",
      " |              font\n",
      " |                  Sets the font used in hover labels.\n",
      " |              namelength\n",
      " |                  Sets the default length (in number of\n",
      " |                  characters) of the trace name in the hover\n",
      " |                  labels for all traces. -1 shows the whole name\n",
      " |                  regardless of length. 0-3 shows the first 0-3\n",
      " |                  characters, and an integer >3 will show the\n",
      " |                  whole name if it is less than that many\n",
      " |                  characters, but if it is longer, will truncate\n",
      " |                  to `namelength - 3` characters and add an\n",
      " |                  ellipsis.\n",
      " |              namelengthsrc\n",
      " |                  Sets the source reference on Chart Studio Cloud\n",
      " |                  for  namelength .\n",
      " |      \n",
      " |      Returns\n",
      " |      -------\n",
      " |      plotly.graph_objs.pie.Hoverlabel\n",
      " |  \n",
      " |  hovertemplate\n",
      " |      Template string used for rendering the information that appear\n",
      " |      on hover box. Note that this will override `hoverinfo`.\n",
      " |      Variables are inserted using %{variable}, for example \"y:\n",
      " |      %{y}\". Numbers are formatted using d3-format's syntax\n",
      " |      %{variable:d3-format}, for example \"Price: %{y:$.2f}\".\n",
      " |      https://github.com/d3/d3-3.x-api-\n",
      " |      reference/blob/master/Formatting.md#d3_format for details on\n",
      " |      the formatting syntax. Dates are formatted using d3-time-\n",
      " |      format's syntax %{variable|d3-time-format}, for example \"Day:\n",
      " |      %{2019-01-01|%A}\". https://github.com/d3/d3-3.x-api-\n",
      " |      reference/blob/master/Time-Formatting.md#format for details on\n",
      " |      the date formatting syntax. The variables available in\n",
      " |      `hovertemplate` are the ones emitted as event data described at\n",
      " |      this link https://plotly.com/javascript/plotlyjs-events/#event-\n",
      " |      data. Additionally, every attributes that can be specified per-\n",
      " |      point (the ones that are `arrayOk: true`) are available.\n",
      " |      variables `label`, `color`, `value`, `percent` and `text`.\n",
      " |      Anything contained in tag `<extra>` is displayed in the\n",
      " |      secondary box, for example \"<extra>{fullData.name}</extra>\". To\n",
      " |      hide the secondary box completely, use an empty tag\n",
      " |      `<extra></extra>`.\n",
      " |      \n",
      " |      The 'hovertemplate' property is a string and must be specified as:\n",
      " |        - A string\n",
      " |        - A number that will be converted to a string\n",
      " |        - A tuple, list, or one-dimensional numpy array of the above\n",
      " |      \n",
      " |      Returns\n",
      " |      -------\n",
      " |      str|numpy.ndarray\n",
      " |  \n",
      " |  hovertemplatesrc\n",
      " |      Sets the source reference on Chart Studio Cloud for\n",
      " |      hovertemplate .\n",
      " |      \n",
      " |      The 'hovertemplatesrc' property must be specified as a string or\n",
      " |      as a plotly.grid_objs.Column object\n",
      " |      \n",
      " |      Returns\n",
      " |      -------\n",
      " |      str\n",
      " |  \n",
      " |  hovertext\n",
      " |      Sets hover text elements associated with each sector. If a\n",
      " |      single string, the same string appears for all data points. If\n",
      " |      an array of string, the items are mapped in order of this\n",
      " |      trace's sectors. To be seen, trace `hoverinfo` must contain a\n",
      " |      \"text\" flag.\n",
      " |      \n",
      " |      The 'hovertext' property is a string and must be specified as:\n",
      " |        - A string\n",
      " |        - A number that will be converted to a string\n",
      " |        - A tuple, list, or one-dimensional numpy array of the above\n",
      " |      \n",
      " |      Returns\n",
      " |      -------\n",
      " |      str|numpy.ndarray\n",
      " |  \n",
      " |  hovertextsrc\n",
      " |      Sets the source reference on Chart Studio Cloud for  hovertext\n",
      " |      .\n",
      " |      \n",
      " |      The 'hovertextsrc' property must be specified as a string or\n",
      " |      as a plotly.grid_objs.Column object\n",
      " |      \n",
      " |      Returns\n",
      " |      -------\n",
      " |      str\n",
      " |  \n",
      " |  ids\n",
      " |      Assigns id labels to each datum. These ids for object constancy\n",
      " |      of data points during animation. Should be an array of strings,\n",
      " |      not numbers or any other type.\n",
      " |      \n",
      " |      The 'ids' property is an array that may be specified as a tuple,\n",
      " |      list, numpy array, or pandas Series\n",
      " |      \n",
      " |      Returns\n",
      " |      -------\n",
      " |      numpy.ndarray\n",
      " |  \n",
      " |  idssrc\n",
      " |      Sets the source reference on Chart Studio Cloud for  ids .\n",
      " |      \n",
      " |      The 'idssrc' property must be specified as a string or\n",
      " |      as a plotly.grid_objs.Column object\n",
      " |      \n",
      " |      Returns\n",
      " |      -------\n",
      " |      str\n",
      " |  \n",
      " |  insidetextfont\n",
      " |      Sets the font used for `textinfo` lying inside the sector.\n",
      " |      \n",
      " |      The 'insidetextfont' property is an instance of Insidetextfont\n",
      " |      that may be specified as:\n",
      " |        - An instance of :class:`plotly.graph_objs.pie.Insidetextfont`\n",
      " |        - A dict of string/value properties that will be passed\n",
      " |          to the Insidetextfont constructor\n",
      " |      \n",
      " |          Supported dict properties:\n",
      " |              \n",
      " |              color\n",
      " |      \n",
      " |              colorsrc\n",
      " |                  Sets the source reference on Chart Studio Cloud\n",
      " |                  for  color .\n",
      " |              family\n",
      " |                  HTML font family - the typeface that will be\n",
      " |                  applied by the web browser. The web browser\n",
      " |                  will only be able to apply a font if it is\n",
      " |                  available on the system which it operates.\n",
      " |                  Provide multiple font families, separated by\n",
      " |                  commas, to indicate the preference in which to\n",
      " |                  apply fonts if they aren't available on the\n",
      " |                  system. The Chart Studio Cloud (at\n",
      " |                  https://chart-studio.plotly.com or on-premise)\n",
      " |                  generates images on a server, where only a\n",
      " |                  select number of fonts are installed and\n",
      " |                  supported. These include \"Arial\", \"Balto\",\n",
      " |                  \"Courier New\", \"Droid Sans\",, \"Droid Serif\",\n",
      " |                  \"Droid Sans Mono\", \"Gravitas One\", \"Old\n",
      " |                  Standard TT\", \"Open Sans\", \"Overpass\", \"PT Sans\n",
      " |                  Narrow\", \"Raleway\", \"Times New Roman\".\n",
      " |              familysrc\n",
      " |                  Sets the source reference on Chart Studio Cloud\n",
      " |                  for  family .\n",
      " |              size\n",
      " |      \n",
      " |              sizesrc\n",
      " |                  Sets the source reference on Chart Studio Cloud\n",
      " |                  for  size .\n",
      " |      \n",
      " |      Returns\n",
      " |      -------\n",
      " |      plotly.graph_objs.pie.Insidetextfont\n",
      " |  \n",
      " |  insidetextorientation\n",
      " |      Controls the orientation of the text inside chart sectors. When\n",
      " |      set to \"auto\", text may be oriented in any direction in order\n",
      " |      to be as big as possible in the middle of a sector. The\n",
      " |      \"horizontal\" option orients text to be parallel with the bottom\n",
      " |      of the chart, and may make text smaller in order to achieve\n",
      " |      that goal. The \"radial\" option orients text along the radius of\n",
      " |      the sector. The \"tangential\" option orients text perpendicular\n",
      " |      to the radius of the sector.\n",
      " |      \n",
      " |      The 'insidetextorientation' property is an enumeration that may be specified as:\n",
      " |        - One of the following enumeration values:\n",
      " |              ['horizontal', 'radial', 'tangential', 'auto']\n",
      " |      \n",
      " |      Returns\n",
      " |      -------\n",
      " |      Any\n",
      " |  \n",
      " |  label0\n",
      " |      Alternate to `labels`. Builds a numeric set of labels. Use with\n",
      " |      `dlabel` where `label0` is the starting label and `dlabel` the\n",
      " |      step.\n",
      " |      \n",
      " |      The 'label0' property is a number and may be specified as:\n",
      " |        - An int or float\n",
      " |      \n",
      " |      Returns\n",
      " |      -------\n",
      " |      int|float\n",
      " |  \n",
      " |  labels\n",
      " |      Sets the sector labels. If `labels` entries are duplicated, we\n",
      " |      sum associated `values` or simply count occurrences if `values`\n",
      " |      is not provided. For other array attributes (including color)\n",
      " |      we use the first non-empty entry among all occurrences of the\n",
      " |      label.\n",
      " |      \n",
      " |      The 'labels' property is an array that may be specified as a tuple,\n",
      " |      list, numpy array, or pandas Series\n",
      " |      \n",
      " |      Returns\n",
      " |      -------\n",
      " |      numpy.ndarray\n",
      " |  \n",
      " |  labelssrc\n",
      " |      Sets the source reference on Chart Studio Cloud for  labels .\n",
      " |      \n",
      " |      The 'labelssrc' property must be specified as a string or\n",
      " |      as a plotly.grid_objs.Column object\n",
      " |      \n",
      " |      Returns\n",
      " |      -------\n",
      " |      str\n",
      " |  \n",
      " |  legendgroup\n",
      " |      Sets the legend group for this trace. Traces part of the same\n",
      " |      legend group hide/show at the same time when toggling legend\n",
      " |      items.\n",
      " |      \n",
      " |      The 'legendgroup' property is a string and must be specified as:\n",
      " |        - A string\n",
      " |        - A number that will be converted to a string\n",
      " |      \n",
      " |      Returns\n",
      " |      -------\n",
      " |      str\n",
      " |  \n",
      " |  marker\n",
      " |      The 'marker' property is an instance of Marker\n",
      " |      that may be specified as:\n",
      " |        - An instance of :class:`plotly.graph_objs.pie.Marker`\n",
      " |        - A dict of string/value properties that will be passed\n",
      " |          to the Marker constructor\n",
      " |      \n",
      " |          Supported dict properties:\n",
      " |              \n",
      " |              colors\n",
      " |                  Sets the color of each sector. If not\n",
      " |                  specified, the default trace color set is used\n",
      " |                  to pick the sector colors.\n",
      " |              colorssrc\n",
      " |                  Sets the source reference on Chart Studio Cloud\n",
      " |                  for  colors .\n",
      " |              line\n",
      " |                  :class:`plotly.graph_objects.pie.marker.Line`\n",
      " |                  instance or dict with compatible properties\n",
      " |      \n",
      " |      Returns\n",
      " |      -------\n",
      " |      plotly.graph_objs.pie.Marker\n",
      " |  \n",
      " |  meta\n",
      " |      Assigns extra meta information associated with this trace that\n",
      " |      can be used in various text attributes. Attributes such as\n",
      " |      trace `name`, graph, axis and colorbar `title.text`, annotation\n",
      " |      `text` `rangeselector`, `updatemenues` and `sliders` `label`\n",
      " |      text all support `meta`. To access the trace `meta` values in\n",
      " |      an attribute in the same trace, simply use `%{meta[i]}` where\n",
      " |      `i` is the index or key of the `meta` item in question. To\n",
      " |      access trace `meta` in layout attributes, use\n",
      " |      `%{data[n[.meta[i]}` where `i` is the index or key of the\n",
      " |      `meta` and `n` is the trace index.\n",
      " |      \n",
      " |      The 'meta' property accepts values of any type\n",
      " |      \n",
      " |      Returns\n",
      " |      -------\n",
      " |      Any|numpy.ndarray\n",
      " |  \n",
      " |  metasrc\n",
      " |      Sets the source reference on Chart Studio Cloud for  meta .\n",
      " |      \n",
      " |      The 'metasrc' property must be specified as a string or\n",
      " |      as a plotly.grid_objs.Column object\n",
      " |      \n",
      " |      Returns\n",
      " |      -------\n",
      " |      str\n",
      " |  \n",
      " |  name\n",
      " |      Sets the trace name. The trace name appear as the legend item\n",
      " |      and on hover.\n",
      " |      \n",
      " |      The 'name' property is a string and must be specified as:\n",
      " |        - A string\n",
      " |        - A number that will be converted to a string\n",
      " |      \n",
      " |      Returns\n",
      " |      -------\n",
      " |      str\n",
      " |  \n",
      " |  opacity\n",
      " |      Sets the opacity of the trace.\n",
      " |      \n",
      " |      The 'opacity' property is a number and may be specified as:\n",
      " |        - An int or float in the interval [0, 1]\n",
      " |      \n",
      " |      Returns\n",
      " |      -------\n",
      " |      int|float\n",
      " |  \n",
      " |  outsidetextfont\n",
      " |      Sets the font used for `textinfo` lying outside the sector.\n",
      " |      \n",
      " |      The 'outsidetextfont' property is an instance of Outsidetextfont\n",
      " |      that may be specified as:\n",
      " |        - An instance of :class:`plotly.graph_objs.pie.Outsidetextfont`\n",
      " |        - A dict of string/value properties that will be passed\n",
      " |          to the Outsidetextfont constructor\n",
      " |      \n",
      " |          Supported dict properties:\n",
      " |              \n",
      " |              color\n",
      " |      \n",
      " |              colorsrc\n",
      " |                  Sets the source reference on Chart Studio Cloud\n",
      " |                  for  color .\n",
      " |              family\n",
      " |                  HTML font family - the typeface that will be\n",
      " |                  applied by the web browser. The web browser\n",
      " |                  will only be able to apply a font if it is\n",
      " |                  available on the system which it operates.\n",
      " |                  Provide multiple font families, separated by\n",
      " |                  commas, to indicate the preference in which to\n",
      " |                  apply fonts if they aren't available on the\n",
      " |                  system. The Chart Studio Cloud (at\n",
      " |                  https://chart-studio.plotly.com or on-premise)\n",
      " |                  generates images on a server, where only a\n",
      " |                  select number of fonts are installed and\n",
      " |                  supported. These include \"Arial\", \"Balto\",\n",
      " |                  \"Courier New\", \"Droid Sans\",, \"Droid Serif\",\n",
      " |                  \"Droid Sans Mono\", \"Gravitas One\", \"Old\n",
      " |                  Standard TT\", \"Open Sans\", \"Overpass\", \"PT Sans\n",
      " |                  Narrow\", \"Raleway\", \"Times New Roman\".\n",
      " |              familysrc\n",
      " |                  Sets the source reference on Chart Studio Cloud\n",
      " |                  for  family .\n",
      " |              size\n",
      " |      \n",
      " |              sizesrc\n",
      " |                  Sets the source reference on Chart Studio Cloud\n",
      " |                  for  size .\n",
      " |      \n",
      " |      Returns\n",
      " |      -------\n",
      " |      plotly.graph_objs.pie.Outsidetextfont\n",
      " |  \n",
      " |  pull\n",
      " |      Sets the fraction of larger radius to pull the sectors out from\n",
      " |      the center. This can be a constant to pull all slices apart\n",
      " |      from each other equally or an array to highlight one or more\n",
      " |      slices.\n",
      " |      \n",
      " |      The 'pull' property is a number and may be specified as:\n",
      " |        - An int or float in the interval [0, 1]\n",
      " |        - A tuple, list, or one-dimensional numpy array of the above\n",
      " |      \n",
      " |      Returns\n",
      " |      -------\n",
      " |      int|float|numpy.ndarray\n",
      " |  \n",
      " |  pullsrc\n",
      " |      Sets the source reference on Chart Studio Cloud for  pull .\n",
      " |      \n",
      " |      The 'pullsrc' property must be specified as a string or\n",
      " |      as a plotly.grid_objs.Column object\n",
      " |      \n",
      " |      Returns\n",
      " |      -------\n",
      " |      str\n",
      " |  \n",
      " |  rotation\n",
      " |      Instead of the first slice starting at 12 o'clock, rotate to\n",
      " |      some other angle.\n",
      " |      \n",
      " |      The 'rotation' property is a number and may be specified as:\n",
      " |        - An int or float in the interval [-360, 360]\n",
      " |      \n",
      " |      Returns\n",
      " |      -------\n",
      " |      int|float\n",
      " |  \n",
      " |  scalegroup\n",
      " |      If there are multiple pie charts that should be sized according\n",
      " |      to their totals, link them by providing a non-empty group id\n",
      " |      here shared by every trace in the same group.\n",
      " |      \n",
      " |      The 'scalegroup' property is a string and must be specified as:\n",
      " |        - A string\n",
      " |        - A number that will be converted to a string\n",
      " |      \n",
      " |      Returns\n",
      " |      -------\n",
      " |      str\n",
      " |  \n",
      " |  showlegend\n",
      " |      Determines whether or not an item corresponding to this trace\n",
      " |      is shown in the legend.\n",
      " |      \n",
      " |      The 'showlegend' property must be specified as a bool\n",
      " |      (either True, or False)\n",
      " |      \n",
      " |      Returns\n",
      " |      -------\n",
      " |      bool\n",
      " |  \n",
      " |  sort\n",
      " |      Determines whether or not the sectors are reordered from\n",
      " |      largest to smallest.\n",
      " |      \n",
      " |      The 'sort' property must be specified as a bool\n",
      " |      (either True, or False)\n",
      " |      \n",
      " |      Returns\n",
      " |      -------\n",
      " |      bool\n",
      " |  \n",
      " |  stream\n",
      " |      The 'stream' property is an instance of Stream\n",
      " |      that may be specified as:\n",
      " |        - An instance of :class:`plotly.graph_objs.pie.Stream`\n",
      " |        - A dict of string/value properties that will be passed\n",
      " |          to the Stream constructor\n",
      " |      \n",
      " |          Supported dict properties:\n",
      " |              \n",
      " |              maxpoints\n",
      " |                  Sets the maximum number of points to keep on\n",
      " |                  the plots from an incoming stream. If\n",
      " |                  `maxpoints` is set to 50, only the newest 50\n",
      " |                  points will be displayed on the plot.\n",
      " |              token\n",
      " |                  The stream id number links a data trace on a\n",
      " |                  plot with a stream. See https://chart-\n",
      " |                  studio.plotly.com/settings for more details.\n",
      " |      \n",
      " |      Returns\n",
      " |      -------\n",
      " |      plotly.graph_objs.pie.Stream\n",
      " |  \n",
      " |  text\n",
      " |      Sets text elements associated with each sector. If trace\n",
      " |      `textinfo` contains a \"text\" flag, these elements will be seen\n",
      " |      on the chart. If trace `hoverinfo` contains a \"text\" flag and\n",
      " |      \"hovertext\" is not set, these elements will be seen in the\n",
      " |      hover labels.\n",
      " |      \n",
      " |      The 'text' property is an array that may be specified as a tuple,\n",
      " |      list, numpy array, or pandas Series\n",
      " |      \n",
      " |      Returns\n",
      " |      -------\n",
      " |      numpy.ndarray\n",
      " |  \n",
      " |  textfont\n",
      " |      Sets the font used for `textinfo`.\n",
      " |      \n",
      " |      The 'textfont' property is an instance of Textfont\n",
      " |      that may be specified as:\n",
      " |        - An instance of :class:`plotly.graph_objs.pie.Textfont`\n",
      " |        - A dict of string/value properties that will be passed\n",
      " |          to the Textfont constructor\n",
      " |      \n",
      " |          Supported dict properties:\n",
      " |              \n",
      " |              color\n",
      " |      \n",
      " |              colorsrc\n",
      " |                  Sets the source reference on Chart Studio Cloud\n",
      " |                  for  color .\n",
      " |              family\n",
      " |                  HTML font family - the typeface that will be\n",
      " |                  applied by the web browser. The web browser\n",
      " |                  will only be able to apply a font if it is\n",
      " |                  available on the system which it operates.\n",
      " |                  Provide multiple font families, separated by\n",
      " |                  commas, to indicate the preference in which to\n",
      " |                  apply fonts if they aren't available on the\n",
      " |                  system. The Chart Studio Cloud (at\n",
      " |                  https://chart-studio.plotly.com or on-premise)\n",
      " |                  generates images on a server, where only a\n",
      " |                  select number of fonts are installed and\n",
      " |                  supported. These include \"Arial\", \"Balto\",\n",
      " |                  \"Courier New\", \"Droid Sans\",, \"Droid Serif\",\n",
      " |                  \"Droid Sans Mono\", \"Gravitas One\", \"Old\n",
      " |                  Standard TT\", \"Open Sans\", \"Overpass\", \"PT Sans\n",
      " |                  Narrow\", \"Raleway\", \"Times New Roman\".\n",
      " |              familysrc\n",
      " |                  Sets the source reference on Chart Studio Cloud\n",
      " |                  for  family .\n",
      " |              size\n",
      " |      \n",
      " |              sizesrc\n",
      " |                  Sets the source reference on Chart Studio Cloud\n",
      " |                  for  size .\n",
      " |      \n",
      " |      Returns\n",
      " |      -------\n",
      " |      plotly.graph_objs.pie.Textfont\n",
      " |  \n",
      " |  textinfo\n",
      " |      Determines which trace information appear on the graph.\n",
      " |      \n",
      " |      The 'textinfo' property is a flaglist and may be specified\n",
      " |      as a string containing:\n",
      " |        - Any combination of ['label', 'text', 'value', 'percent'] joined with '+' characters\n",
      " |          (e.g. 'label+text')\n",
      " |          OR exactly one of ['none'] (e.g. 'none')\n",
      " |      \n",
      " |      Returns\n",
      " |      -------\n",
      " |      Any\n",
      " |  \n",
      " |  textposition\n",
      " |      Specifies the location of the `textinfo`.\n",
      " |      \n",
      " |      The 'textposition' property is an enumeration that may be specified as:\n",
      " |        - One of the following enumeration values:\n",
      " |              ['inside', 'outside', 'auto', 'none']\n",
      " |        - A tuple, list, or one-dimensional numpy array of the above\n",
      " |      \n",
      " |      Returns\n",
      " |      -------\n",
      " |      Any|numpy.ndarray\n",
      " |  \n",
      " |  textpositionsrc\n",
      " |      Sets the source reference on Chart Studio Cloud for\n",
      " |      textposition .\n",
      " |      \n",
      " |      The 'textpositionsrc' property must be specified as a string or\n",
      " |      as a plotly.grid_objs.Column object\n",
      " |      \n",
      " |      Returns\n",
      " |      -------\n",
      " |      str\n",
      " |  \n",
      " |  textsrc\n",
      " |      Sets the source reference on Chart Studio Cloud for  text .\n",
      " |      \n",
      " |      The 'textsrc' property must be specified as a string or\n",
      " |      as a plotly.grid_objs.Column object\n",
      " |      \n",
      " |      Returns\n",
      " |      -------\n",
      " |      str\n",
      " |  \n",
      " |  texttemplate\n",
      " |      Template string used for rendering the information text that\n",
      " |      appear on points. Note that this will override `textinfo`.\n",
      " |      Variables are inserted using %{variable}, for example \"y:\n",
      " |      %{y}\". Numbers are formatted using d3-format's syntax\n",
      " |      %{variable:d3-format}, for example \"Price: %{y:$.2f}\".\n",
      " |      https://github.com/d3/d3-3.x-api-\n",
      " |      reference/blob/master/Formatting.md#d3_format for details on\n",
      " |      the formatting syntax. Dates are formatted using d3-time-\n",
      " |      format's syntax %{variable|d3-time-format}, for example \"Day:\n",
      " |      %{2019-01-01|%A}\". https://github.com/d3/d3-3.x-api-\n",
      " |      reference/blob/master/Time-Formatting.md#format for details on\n",
      " |      the date formatting syntax. Every attributes that can be\n",
      " |      specified per-point (the ones that are `arrayOk: true`) are\n",
      " |      available. variables `label`, `color`, `value`, `percent` and\n",
      " |      `text`.\n",
      " |      \n",
      " |      The 'texttemplate' property is a string and must be specified as:\n",
      " |        - A string\n",
      " |        - A number that will be converted to a string\n",
      " |        - A tuple, list, or one-dimensional numpy array of the above\n",
      " |      \n",
      " |      Returns\n",
      " |      -------\n",
      " |      str|numpy.ndarray\n",
      " |  \n",
      " |  texttemplatesrc\n",
      " |      Sets the source reference on Chart Studio Cloud for\n",
      " |      texttemplate .\n",
      " |      \n",
      " |      The 'texttemplatesrc' property must be specified as a string or\n",
      " |      as a plotly.grid_objs.Column object\n",
      " |      \n",
      " |      Returns\n",
      " |      -------\n",
      " |      str\n",
      " |  \n",
      " |  title\n",
      " |      The 'title' property is an instance of Title\n",
      " |      that may be specified as:\n",
      " |        - An instance of :class:`plotly.graph_objs.pie.Title`\n",
      " |        - A dict of string/value properties that will be passed\n",
      " |          to the Title constructor\n",
      " |      \n",
      " |          Supported dict properties:\n",
      " |              \n",
      " |              font\n",
      " |                  Sets the font used for `title`. Note that the\n",
      " |                  title's font used to be set by the now\n",
      " |                  deprecated `titlefont` attribute.\n",
      " |              position\n",
      " |                  Specifies the location of the `title`. Note\n",
      " |                  that the title's position used to be set by the\n",
      " |                  now deprecated `titleposition` attribute.\n",
      " |              text\n",
      " |                  Sets the title of the chart. If it is empty, no\n",
      " |                  title is displayed. Note that before the\n",
      " |                  existence of `title.text`, the title's contents\n",
      " |                  used to be defined as the `title` attribute\n",
      " |                  itself. This behavior has been deprecated.\n",
      " |      \n",
      " |      Returns\n",
      " |      -------\n",
      " |      plotly.graph_objs.pie.Title\n",
      " |  \n",
      " |  titlefont\n",
      " |      Deprecated: Please use pie.title.font instead. Sets the font\n",
      " |      used for `title`. Note that the title's font used to be set by\n",
      " |      the now deprecated `titlefont` attribute.\n",
      " |      \n",
      " |      The 'font' property is an instance of Font\n",
      " |      that may be specified as:\n",
      " |        - An instance of :class:`plotly.graph_objs.pie.title.Font`\n",
      " |        - A dict of string/value properties that will be passed\n",
      " |          to the Font constructor\n",
      " |      \n",
      " |          Supported dict properties:\n",
      " |              \n",
      " |              color\n",
      " |      \n",
      " |              colorsrc\n",
      " |                  Sets the source reference on Chart Studio Cloud\n",
      " |                  for  color .\n",
      " |              family\n",
      " |                  HTML font family - the typeface that will be\n",
      " |                  applied by the web browser. The web browser\n",
      " |                  will only be able to apply a font if it is\n",
      " |                  available on the system which it operates.\n",
      " |                  Provide multiple font families, separated by\n",
      " |                  commas, to indicate the preference in which to\n",
      " |                  apply fonts if they aren't available on the\n",
      " |                  system. The Chart Studio Cloud (at\n",
      " |                  https://chart-studio.plotly.com or on-premise)\n",
      " |                  generates images on a server, where only a\n",
      " |                  select number of fonts are installed and\n",
      " |                  supported. These include \"Arial\", \"Balto\",\n",
      " |                  \"Courier New\", \"Droid Sans\",, \"Droid Serif\",\n",
      " |                  \"Droid Sans Mono\", \"Gravitas One\", \"Old\n",
      " |                  Standard TT\", \"Open Sans\", \"Overpass\", \"PT Sans\n",
      " |                  Narrow\", \"Raleway\", \"Times New Roman\".\n",
      " |              familysrc\n",
      " |                  Sets the source reference on Chart Studio Cloud\n",
      " |                  for  family .\n",
      " |              size\n",
      " |      \n",
      " |              sizesrc\n",
      " |                  Sets the source reference on Chart Studio Cloud\n",
      " |                  for  size .\n",
      " |      \n",
      " |      Returns\n",
      " |      -------\n",
      " |  \n",
      " |  titleposition\n",
      " |      Deprecated: Please use pie.title.position instead. Specifies\n",
      " |      the location of the `title`. Note that the title's position\n",
      " |      used to be set by the now deprecated `titleposition` attribute.\n",
      " |      \n",
      " |      The 'position' property is an enumeration that may be specified as:\n",
      " |        - One of the following enumeration values:\n",
      " |              ['top left', 'top center', 'top right', 'middle center',\n",
      " |              'bottom left', 'bottom center', 'bottom right']\n",
      " |      \n",
      " |      Returns\n",
      " |      -------\n",
      " |  \n",
      " |  uid\n",
      " |      Assign an id to this trace, Use this to provide object\n",
      " |      constancy between traces during animations and transitions.\n",
      " |      \n",
      " |      The 'uid' property is a string and must be specified as:\n",
      " |        - A string\n",
      " |        - A number that will be converted to a string\n",
      " |      \n",
      " |      Returns\n",
      " |      -------\n",
      " |      str\n",
      " |  \n",
      " |  uirevision\n",
      " |      Controls persistence of some user-driven changes to the trace:\n",
      " |      `constraintrange` in `parcoords` traces, as well as some\n",
      " |      `editable: true` modifications such as `name` and\n",
      " |      `colorbar.title`. Defaults to `layout.uirevision`. Note that\n",
      " |      other user-driven trace attribute changes are controlled by\n",
      " |      `layout` attributes: `trace.visible` is controlled by\n",
      " |      `layout.legend.uirevision`, `selectedpoints` is controlled by\n",
      " |      `layout.selectionrevision`, and `colorbar.(x|y)` (accessible\n",
      " |      with `config: {editable: true}`) is controlled by\n",
      " |      `layout.editrevision`. Trace changes are tracked by `uid`,\n",
      " |      which only falls back on trace index if no `uid` is provided.\n",
      " |      So if your app can add/remove traces before the end of the\n",
      " |      `data` array, such that the same trace has a different index,\n",
      " |      you can still preserve user-driven changes if you give each\n",
      " |      trace a `uid` that stays with it as it moves.\n",
      " |      \n",
      " |      The 'uirevision' property accepts values of any type\n",
      " |      \n",
      " |      Returns\n",
      " |      -------\n",
      " |      Any\n",
      " |  \n",
      " |  values\n",
      " |      Sets the values of the sectors. If omitted, we count\n",
      " |      occurrences of each label.\n",
      " |      \n",
      " |      The 'values' property is an array that may be specified as a tuple,\n",
      " |      list, numpy array, or pandas Series\n",
      " |      \n",
      " |      Returns\n",
      " |      -------\n",
      " |      numpy.ndarray\n",
      " |  \n",
      " |  valuessrc\n",
      " |      Sets the source reference on Chart Studio Cloud for  values .\n",
      " |      \n",
      " |      The 'valuessrc' property must be specified as a string or\n",
      " |      as a plotly.grid_objs.Column object\n",
      " |      \n",
      " |      Returns\n",
      " |      -------\n",
      " |      str\n",
      " |  \n",
      " |  visible\n",
      " |      Determines whether or not this trace is visible. If\n",
      " |      \"legendonly\", the trace is not drawn, but can appear as a\n",
      " |      legend item (provided that the legend itself is visible).\n",
      " |      \n",
      " |      The 'visible' property is an enumeration that may be specified as:\n",
      " |        - One of the following enumeration values:\n",
      " |              [True, False, 'legendonly']\n",
      " |      \n",
      " |      Returns\n",
      " |      -------\n",
      " |      Any\n",
      " |  \n",
      " |  ----------------------------------------------------------------------\n",
      " |  Methods inherited from plotly.basedatatypes.BaseTraceType:\n",
      " |  \n",
      " |  on_click(self, callback, append=False)\n",
      " |      Register function to be called when the user clicks on one or more\n",
      " |      points in this trace.\n",
      " |      \n",
      " |      Note: Callbacks will only be triggered when the trace belongs to a\n",
      " |      instance of plotly.graph_objs.FigureWidget and it is displayed in an\n",
      " |      ipywidget context. Callbacks will not be triggered on figures\n",
      " |      that are displayed using plot/iplot.\n",
      " |      \n",
      " |      Parameters\n",
      " |      ----------\n",
      " |      callback\n",
      " |          Callable function that accepts 3 arguments\n",
      " |      \n",
      " |          - this trace\n",
      " |          - plotly.callbacks.Points object\n",
      " |          - plotly.callbacks.InputDeviceState object\n",
      " |      \n",
      " |      append : bool\n",
      " |          If False (the default), this callback replaces any previously\n",
      " |          defined on_click callbacks for this trace. If True,\n",
      " |          this callback is appended to the list of any previously defined\n",
      " |          callbacks.\n",
      " |      \n",
      " |      Returns\n",
      " |      -------\n",
      " |      None\n",
      " |      \n",
      " |      Examples\n",
      " |      --------\n",
      " |      \n",
      " |      >>> import plotly.graph_objects as go\n",
      " |      >>> from plotly.callbacks import Points, InputDeviceState\n",
      " |      >>> points, state = Points(), InputDeviceState()\n",
      " |      \n",
      " |      >>> def click_fn(trace, points, state):\n",
      " |      ...     inds = points.point_inds\n",
      " |      ...     # Do something\n",
      " |      \n",
      " |      >>> trace = go.Scatter(x=[1, 2], y=[3, 0])\n",
      " |      >>> trace.on_click(click_fn)\n",
      " |      \n",
      " |      Note: The creation of the `points` and `state` objects is optional,\n",
      " |      it's simply a convenience to help the text editor perform completion\n",
      " |      on the arguments inside `click_fn`\n",
      " |  \n",
      " |  on_deselect(self, callback, append=False)\n",
      " |      Register function to be called when the user deselects points\n",
      " |      in this trace using doubleclick.\n",
      " |      \n",
      " |      Note: Callbacks will only be triggered when the trace belongs to a\n",
      " |      instance of plotly.graph_objs.FigureWidget and it is displayed in an\n",
      " |      ipywidget context. Callbacks will not be triggered on figures\n",
      " |      that are displayed using plot/iplot.\n",
      " |      \n",
      " |      Parameters\n",
      " |      ----------\n",
      " |      callback\n",
      " |          Callable function that accepts 3 arguments\n",
      " |      \n",
      " |          - this trace\n",
      " |          - plotly.callbacks.Points object\n",
      " |      \n",
      " |      append : bool\n",
      " |          If False (the default), this callback replaces any previously\n",
      " |          defined on_deselect callbacks for this trace. If True,\n",
      " |          this callback is appended to the list of any previously defined\n",
      " |          callbacks.\n",
      " |      \n",
      " |      Returns\n",
      " |      -------\n",
      " |      None\n",
      " |      \n",
      " |      Examples\n",
      " |      --------\n",
      " |      \n",
      " |      >>> import plotly.graph_objects as go\n",
      " |      >>> from plotly.callbacks import Points\n",
      " |      >>> points = Points()\n",
      " |      \n",
      " |      >>> def deselect_fn(trace, points):\n",
      " |      ...     inds = points.point_inds\n",
      " |      ...     # Do something\n",
      " |      \n",
      " |      >>> trace = go.Scatter(x=[1, 2], y=[3, 0])\n",
      " |      >>> trace.on_deselect(deselect_fn)\n",
      " |      \n",
      " |      Note: The creation of the `points` object is optional,\n",
      " |      it's simply a convenience to help the text editor perform completion\n",
      " |      on the `points` arguments inside `selection_fn`\n",
      " |  \n",
      " |  on_hover(self, callback, append=False)\n",
      " |      Register function to be called when the user hovers over one or more\n",
      " |      points in this trace\n",
      " |      \n",
      " |      Note: Callbacks will only be triggered when the trace belongs to a\n",
      " |      instance of plotly.graph_objs.FigureWidget and it is displayed in an\n",
      " |      ipywidget context. Callbacks will not be triggered on figures\n",
      " |      that are displayed using plot/iplot.\n",
      " |      \n",
      " |      Parameters\n",
      " |      ----------\n",
      " |      callback\n",
      " |          Callable function that accepts 3 arguments\n",
      " |      \n",
      " |          - this trace\n",
      " |          - plotly.callbacks.Points object\n",
      " |          - plotly.callbacks.InputDeviceState object\n",
      " |      \n",
      " |      append : bool\n",
      " |          If False (the default), this callback replaces any previously\n",
      " |          defined on_hover callbacks for this trace. If True,\n",
      " |          this callback is appended to the list of any previously defined\n",
      " |          callbacks.\n",
      " |      \n",
      " |      Returns\n",
      " |      -------\n",
      " |      None\n",
      " |      \n",
      " |      Examples\n",
      " |      --------\n",
      " |      \n",
      " |      >>> import plotly.graph_objects as go\n",
      " |      >>> from plotly.callbacks import Points, InputDeviceState\n",
      " |      >>> points, state = Points(), InputDeviceState()\n",
      " |      \n",
      " |      >>> def hover_fn(trace, points, state):\n",
      " |      ...     inds = points.point_inds\n",
      " |      ...     # Do something\n",
      " |      \n",
      " |      >>> trace = go.Scatter(x=[1, 2], y=[3, 0])\n",
      " |      >>> trace.on_hover(hover_fn)\n",
      " |      \n",
      " |      Note: The creation of the `points` and `state` objects is optional,\n",
      " |      it's simply a convenience to help the text editor perform completion\n",
      " |      on the arguments inside `hover_fn`\n",
      " |  \n",
      " |  on_selection(self, callback, append=False)\n",
      " |      Register function to be called when the user selects one or more\n",
      " |      points in this trace.\n",
      " |      \n",
      " |      Note: Callbacks will only be triggered when the trace belongs to a\n",
      " |      instance of plotly.graph_objs.FigureWidget and it is displayed in an\n",
      " |      ipywidget context. Callbacks will not be triggered on figures\n",
      " |      that are displayed using plot/iplot.\n",
      " |      \n",
      " |      Parameters\n",
      " |      ----------\n",
      " |      callback\n",
      " |          Callable function that accepts 4 arguments\n",
      " |      \n",
      " |          - this trace\n",
      " |          - plotly.callbacks.Points object\n",
      " |          - plotly.callbacks.BoxSelector or plotly.callbacks.LassoSelector\n",
      " |      \n",
      " |      append : bool\n",
      " |          If False (the default), this callback replaces any previously\n",
      " |          defined on_selection callbacks for this trace. If True,\n",
      " |          this callback is appended to the list of any previously defined\n",
      " |          callbacks.\n",
      " |      \n",
      " |      Returns\n",
      " |      -------\n",
      " |      None\n",
      " |      \n",
      " |      Examples\n",
      " |      --------\n",
      " |      \n",
      " |      >>> import plotly.graph_objects as go\n",
      " |      >>> from plotly.callbacks import Points\n",
      " |      >>> points = Points()\n",
      " |      \n",
      " |      >>> def selection_fn(trace, points, selector):\n",
      " |      ...     inds = points.point_inds\n",
      " |      ...     # Do something\n",
      " |      \n",
      " |      >>> trace = go.Scatter(x=[1, 2], y=[3, 0])\n",
      " |      >>> trace.on_selection(selection_fn)\n",
      " |      \n",
      " |      Note: The creation of the `points` object is optional,\n",
      " |      it's simply a convenience to help the text editor perform completion\n",
      " |      on the `points` arguments inside `selection_fn`\n",
      " |  \n",
      " |  on_unhover(self, callback, append=False)\n",
      " |      Register function to be called when the user unhovers away from one\n",
      " |      or more points in this trace.\n",
      " |      \n",
      " |      Note: Callbacks will only be triggered when the trace belongs to a\n",
      " |      instance of plotly.graph_objs.FigureWidget and it is displayed in an\n",
      " |      ipywidget context. Callbacks will not be triggered on figures\n",
      " |      that are displayed using plot/iplot.\n",
      " |      \n",
      " |      Parameters\n",
      " |      ----------\n",
      " |      callback\n",
      " |          Callable function that accepts 3 arguments\n",
      " |      \n",
      " |          - this trace\n",
      " |          - plotly.callbacks.Points object\n",
      " |          - plotly.callbacks.InputDeviceState object\n",
      " |      \n",
      " |      append : bool\n",
      " |          If False (the default), this callback replaces any previously\n",
      " |          defined on_unhover callbacks for this trace. If True,\n",
      " |          this callback is appended to the list of any previously defined\n",
      " |          callbacks.\n",
      " |      \n",
      " |      Returns\n",
      " |      -------\n",
      " |      None\n",
      " |      \n",
      " |      Examples\n",
      " |      --------\n",
      " |      \n",
      " |      >>> import plotly.graph_objects as go\n",
      " |      >>> from plotly.callbacks import Points, InputDeviceState\n",
      " |      >>> points, state = Points(), InputDeviceState()\n",
      " |      \n",
      " |      >>> def unhover_fn(trace, points, state):\n",
      " |      ...     inds = points.point_inds\n",
      " |      ...     # Do something\n",
      " |      \n",
      " |      >>> trace = go.Scatter(x=[1, 2], y=[3, 0])\n",
      " |      >>> trace.on_unhover(unhover_fn)\n",
      " |      \n",
      " |      Note: The creation of the `points` and `state` objects is optional,\n",
      " |      it's simply a convenience to help the text editor perform completion\n",
      " |      on the arguments inside `unhover_fn`\n",
      " |  \n",
      " |  ----------------------------------------------------------------------\n",
      " |  Methods inherited from plotly.basedatatypes.BasePlotlyType:\n",
      " |  \n",
      " |  __contains__(self, prop)\n",
      " |      Determine whether object contains a property or nested property\n",
      " |      \n",
      " |      Parameters\n",
      " |      ----------\n",
      " |      prop : str|tuple\n",
      " |          If prop is a simple string (e.g. 'foo'), then return true of the\n",
      " |          object contains an element named 'foo'\n",
      " |      \n",
      " |          If prop is a property path string (e.g. 'foo[0].bar'),\n",
      " |          then return true if the obejct contains the nested elements for\n",
      " |          each entry in the path string (e.g. 'bar' in obj['foo'][0])\n",
      " |      \n",
      " |          If prop is a property path tuple (e.g. ('foo', 0, 'bar')),\n",
      " |          then return true if the object contains the nested elements for\n",
      " |          each entry in the path string (e.g. 'bar' in obj['foo'][0])\n",
      " |      \n",
      " |      Returns\n",
      " |      -------\n",
      " |      bool\n",
      " |  \n",
      " |  __eq__(self, other)\n",
      " |      Test for equality\n",
      " |      \n",
      " |      To be considered equal, `other` must have the same type as this object\n",
      " |      and their `to_plotly_json` representaitons must be identical.\n",
      " |      \n",
      " |      Parameters\n",
      " |      ----------\n",
      " |      other\n",
      " |          The object to compare against\n",
      " |      \n",
      " |      Returns\n",
      " |      -------\n",
      " |      bool\n",
      " |  \n",
      " |  __getitem__(self, prop)\n",
      " |      Get item or nested item from object\n",
      " |      \n",
      " |      Parameters\n",
      " |      ----------\n",
      " |      prop : str|tuple\n",
      " |      \n",
      " |          If prop is the name of a property of this object, then the\n",
      " |          property is returned.\n",
      " |      \n",
      " |          If prop is a nested property path string (e.g. 'foo[1].bar'),\n",
      " |          then a nested property is returned (e.g. obj['foo'][1]['bar'])\n",
      " |      \n",
      " |          If prop is a path tuple (e.g. ('foo', 1, 'bar')), then a nested\n",
      " |          property is returned (e.g. obj['foo'][1]['bar']).\n",
      " |      \n",
      " |      Returns\n",
      " |      -------\n",
      " |      Any\n",
      " |  \n",
      " |  __iter__(self)\n",
      " |      Return an iterator over the object's properties\n",
      " |  \n",
      " |  __reduce__(self)\n",
      " |      Custom implementation of reduce is used to support deep copying\n",
      " |      and pickling\n",
      " |  \n",
      " |  __repr__(self)\n",
      " |      Customize object representation when displayed in the\n",
      " |      terminal/notebook\n",
      " |  \n",
      " |  __setattr__(self, prop, value)\n",
      " |      Parameters\n",
      " |      ----------\n",
      " |      prop : str\n",
      " |          The name of a direct child of this object\n",
      " |      value\n",
      " |          New property value\n",
      " |      Returns\n",
      " |      -------\n",
      " |      None\n",
      " |  \n",
      " |  __setitem__(self, prop, value)\n",
      " |      Parameters\n",
      " |      ----------\n",
      " |      prop : str\n",
      " |          The name of a direct child of this object\n",
      " |      \n",
      " |          Note: Setting nested properties using property path string or\n",
      " |          property path tuples is not supported.\n",
      " |      value\n",
      " |          New property value\n",
      " |      \n",
      " |      Returns\n",
      " |      -------\n",
      " |      None\n",
      " |  \n",
      " |  on_change(self, callback, *args, **kwargs)\n",
      " |      Register callback function to be called when certain properties or\n",
      " |      subproperties of this object are modified.\n",
      " |      \n",
      " |      Callback will be invoked whenever ANY of these properties is\n",
      " |      modified. Furthermore, the callback will only be invoked once even\n",
      " |      if multiple properties are modified during the same restyle /\n",
      " |      relayout / update operation.\n",
      " |      \n",
      " |      Parameters\n",
      " |      ----------\n",
      " |      callback : function\n",
      " |          Function that accepts 1 + len(`args`) parameters. First parameter\n",
      " |          is this object. Second through last parameters are the\n",
      " |          property / subpropery values referenced by args.\n",
      " |      args : list[str|tuple[int|str]]\n",
      " |          List of property references where each reference may be one of:\n",
      " |      \n",
      " |            1) A property name string (e.g. 'foo') for direct properties\n",
      " |            2) A property path string (e.g. 'foo[0].bar') for\n",
      " |               subproperties\n",
      " |            3) A property path tuple (e.g. ('foo', 0, 'bar')) for\n",
      " |               subproperties\n",
      " |      \n",
      " |      append : bool\n",
      " |          True if callback should be appended to previously registered\n",
      " |          callback on the same properties, False if callback should replace\n",
      " |          previously registered callbacks on the same properties. Defaults\n",
      " |          to False.\n",
      " |      \n",
      " |      Examples\n",
      " |      --------\n",
      " |      \n",
      " |      Register callback that prints out the range extents of the xaxis and\n",
      " |      yaxis whenever either either of them changes.\n",
      " |      \n",
      " |      >>> import plotly.graph_objects as go\n",
      " |      >>> fig = go.Figure(go.Scatter(x=[1, 2], y=[1, 0]))\n",
      " |      >>> fig.layout.on_change(\n",
      " |      ...   lambda obj, xrange, yrange: print(\"%s-%s\" % (xrange, yrange)),\n",
      " |      ...   ('xaxis', 'range'), ('yaxis', 'range'))\n",
      " |      \n",
      " |      \n",
      " |      Returns\n",
      " |      -------\n",
      " |      None\n",
      " |  \n",
      " |  pop(self, key, *args)\n",
      " |      Remove the value associated with the specified key and return it\n",
      " |      \n",
      " |      Parameters\n",
      " |      ----------\n",
      " |      key: str\n",
      " |          Property name\n",
      " |      dflt\n",
      " |          The default value to return if key was not found in object\n",
      " |      \n",
      " |      Returns\n",
      " |      -------\n",
      " |      value\n",
      " |          The removed value that was previously associated with key\n",
      " |      \n",
      " |      Raises\n",
      " |      ------\n",
      " |      KeyError\n",
      " |          If key is not in object and no dflt argument specified\n",
      " |  \n",
      " |  to_plotly_json(self)\n",
      " |      Return plotly JSON representation of object as a Python dict\n",
      " |      \n",
      " |      Returns\n",
      " |      -------\n",
      " |      dict\n",
      " |  \n",
      " |  update(self, dict1=None, overwrite=False, **kwargs)\n",
      " |      Update the properties of an object with a dict and/or with\n",
      " |      keyword arguments.\n",
      " |      \n",
      " |      This recursively updates the structure of the original\n",
      " |      object with the values in the input dict / keyword arguments.\n",
      " |      \n",
      " |      Parameters\n",
      " |      ----------\n",
      " |      dict1 : dict\n",
      " |          Dictionary of properties to be updated\n",
      " |      overwrite: bool\n",
      " |          If True, overwrite existing properties. If False, apply updates\n",
      " |          to existing properties recursively, preserving existing\n",
      " |          properties that are not specified in the update operation.\n",
      " |      kwargs :\n",
      " |          Keyword/value pair of properties to be updated\n",
      " |      \n",
      " |      Returns\n",
      " |      -------\n",
      " |      BasePlotlyType\n",
      " |          Updated plotly object\n",
      " |  \n",
      " |  ----------------------------------------------------------------------\n",
      " |  Readonly properties inherited from plotly.basedatatypes.BasePlotlyType:\n",
      " |  \n",
      " |  figure\n",
      " |      Reference to the top-level Figure or FigureWidget that this object\n",
      " |      belongs to. None if the object does not belong to a Figure\n",
      " |      \n",
      " |      Returns\n",
      " |      -------\n",
      " |      Union[BaseFigure, None]\n",
      " |  \n",
      " |  parent\n",
      " |      Return the object's parent, or None if the object has no parent\n",
      " |      Returns\n",
      " |      -------\n",
      " |      BasePlotlyType|BaseFigure\n",
      " |  \n",
      " |  plotly_name\n",
      " |      The plotly name of the object\n",
      " |      \n",
      " |      Returns\n",
      " |      -------\n",
      " |      str\n",
      " |  \n",
      " |  ----------------------------------------------------------------------\n",
      " |  Data descriptors inherited from plotly.basedatatypes.BasePlotlyType:\n",
      " |  \n",
      " |  __dict__\n",
      " |      dictionary for instance variables (if defined)\n",
      " |  \n",
      " |  __weakref__\n",
      " |      list of weak references to the object (if defined)\n",
      " |  \n",
      " |  ----------------------------------------------------------------------\n",
      " |  Data and other attributes inherited from plotly.basedatatypes.BasePlotlyType:\n",
      " |  \n",
      " |  __hash__ = None\n",
      "\n"
     ]
    }
   ],
   "source": [
    "help(go.Pie)"
   ]
  },
  {
   "cell_type": "code",
   "execution_count": 79,
   "metadata": {},
   "outputs": [
    {
     "data": {
      "text/plain": [
       "'https://plotly.com/~kingplot/29/'"
      ]
     },
     "execution_count": 79,
     "metadata": {},
     "output_type": "execute_result"
    }
   ],
   "source": [
    "import plotly.graph_objects as go\n",
    "from plotly.subplots import make_subplots\n",
    "import chart_studio.plotly as py\n",
    "\n",
    "labels = [\"GAS\", \"OTHERS\"]\n",
    "\n",
    "# Create subplots: use 'domain' type for Pie subplot\n",
    "fig = make_subplots(rows=2, cols=2, specs=[[{'type':'domain'}, {'type':'domain'}],\n",
    "                                          [{'type':'domain'}, {'type':'domain'}]],\n",
    "                   subplot_titles = ('<b>Energy Mix', '<b>Carbon Emissions', '<b>Electricity Mix', '<b>Energy Suppiled'))\n",
    "\n",
    "fig.add_trace(go.Pie(labels=labels, values=[16.1,83.9], name=\"Energy Mix\",\n",
    "                     marker =dict(colors = ['#EEB72B','rgba(127, 127, 127, 0.8)']),\n",
    "                    textfont = dict(color = 'white', size = 30), rotation = 90),\n",
    "              1, 1,)\n",
    "fig.add_trace(go.Pie(labels=labels, values=[21, 79], name=\"CO2 Emissions\",\n",
    "                    textfont = dict(color = 'white', size = 30), rotation = 90),\n",
    "              1, 2)\n",
    "fig.add_trace(go.Pie(labels=labels, values=[26, 74], name=\"Electricity Mix\",\n",
    "                    textfont = dict(color = 'white', size = 30), rotation = 90),\n",
    "              2, 1)\n",
    "fig.add_trace(go.Pie(labels=labels, values=[23.3, 76.7], name=\"Energy Suppiled\",\n",
    "                    textfont = dict(color = 'white', size = 30), rotation = 90),\n",
    "              2, 2)\n",
    "\n",
    "\n",
    "\n",
    "# Use `hole` to create a donut-like pie chart\n",
    "fig.update_traces(hole=.4, hoverinfo=\"label+percent+name\")\n",
    "\n",
    "fig.update_layout(\n",
    "    title=\"<b>GAS STATS\",\n",
    "    font=dict(size = 30, color = '#EEB72B', family = 'Raleway'),\n",
    "    # Add annotations in the center of the donut pies.\n",
    "    plot_bgcolor='#242424',\n",
    "    paper_bgcolor='#242424',\n",
    ")\n",
    "py.plot(fig, filename = 'gas_stats')\n",
    "#fig.show()"
   ]
  },
  {
   "cell_type": "code",
   "execution_count": 80,
   "metadata": {},
   "outputs": [
    {
     "data": {
      "text/plain": [
       "'https://plotly.com/~kingplot/31/'"
      ]
     },
     "execution_count": 80,
     "metadata": {},
     "output_type": "execute_result"
    }
   ],
   "source": [
    "import plotly.graph_objects as go\n",
    "from plotly.subplots import make_subplots\n",
    "import chart_studio.plotly as py\n",
    "labels = [\"COAL\", \"OTHERS\"]\n",
    "\n",
    "# Create subplots: use 'domain' type for Pie subplot\n",
    "fig = make_subplots(rows=2, cols=2, specs=[[{'type':'domain'}, {'type':'domain'}],\n",
    "                                          [{'type':'domain'}, {'type':'domain'}]],\n",
    "                   subplot_titles = ('<b>Energy Mix', '<b>Carbon Emissions', '<b>Electricity Mix', '<b>Energy Suppiled'))\n",
    "\n",
    "fig.add_trace(go.Pie(labels=labels, values=[10,90], name=\"Energy Mix\",\n",
    "                     marker =dict(colors = ['#EEB72B','rgba(127, 127, 127, 0.8)']),\n",
    "                    textfont = dict(color = 'white', size = 30), rotation = 60),\n",
    "              1, 1,)\n",
    "fig.add_trace(go.Pie(labels=labels, values=[44, 56], name=\"CO2 Emissions\",\n",
    "                    textfont = dict(color = 'white', size = 30)),\n",
    "              1, 2)\n",
    "fig.add_trace(go.Pie(labels=labels, values=[39, 61], name=\"Electricity Mix\",\n",
    "                    textfont = dict(color = 'white', size = 30), rotation = 120),\n",
    "              2, 1)\n",
    "fig.add_trace(go.Pie(labels=labels, values=[27, 73], name=\"Energy Suppiled\",\n",
    "                    textfont = dict(color = 'white', size = 30)),\n",
    "              2, 2)\n",
    "\n",
    "\n",
    "\n",
    "# Use `hole` to create a donut-like pie chart\n",
    "fig.update_traces(hole=.4, hoverinfo=\"label+percent+name\")\n",
    "\n",
    "fig.update_layout(\n",
    "    title=\"<b>COAL STATS\",\n",
    "    font=dict(size = 30, color = '#EEB72B', family = 'Raleway'),\n",
    "    # Add annotations in the center of the donut pies.\n",
    "    plot_bgcolor='#242424',\n",
    "    paper_bgcolor='#242424'\n",
    ")\n",
    "py.plot(fig, filename = 'coal_stats')\n",
    "#fig.show()"
   ]
  },
  {
   "cell_type": "code",
   "execution_count": 8,
   "metadata": {},
   "outputs": [
    {
     "data": {
      "application/vnd.plotly.v1+json": {
       "config": {
        "plotlyServerURL": "https://plotly.com"
       },
       "data": [
        {
         "mode": "lines+markers",
         "name": "Energy Mix",
         "textfont": {
          "color": "white",
          "size": 30
         },
         "type": "scatter",
         "x": [
          10,
          20
         ],
         "xaxis": "x",
         "y": [
          11,
          30
         ],
         "yaxis": "y"
        },
        {
         "domain": {
          "x": [
           0.55,
           1
          ],
          "y": [
           0.625,
           1
          ]
         },
         "labels": [
          "Renewables",
          "OTHERS"
         ],
         "name": "CO2 Emissions",
         "rotation": 60,
         "textfont": {
          "color": "white",
          "size": 30
         },
         "type": "pie",
         "values": [
          5,
          95
         ]
        },
        {
         "domain": {
          "x": [
           0,
           0.45
          ],
          "y": [
           0,
           0.375
          ]
         },
         "labels": [
          "Renewables",
          "OTHERS"
         ],
         "name": "Electricity Mix",
         "rotation": 120,
         "textfont": {
          "color": "white",
          "size": 30
         },
         "type": "pie",
         "values": [
          23,
          77
         ]
        },
        {
         "domain": {
          "x": [
           0.55,
           1
          ],
          "y": [
           0,
           0.375
          ]
         },
         "labels": [
          "Renewables",
          "OTHERS"
         ],
         "name": "Energy Suppiled",
         "rotation": 75,
         "textfont": {
          "color": "white",
          "size": 30
         },
         "type": "pie",
         "values": [
          14,
          86
         ]
        }
       ],
       "layout": {
        "annotations": [
         {
          "font": {
           "size": 16
          },
          "showarrow": false,
          "text": "<b>Energy Mix",
          "x": 0.225,
          "xanchor": "center",
          "xref": "paper",
          "y": 1,
          "yanchor": "bottom",
          "yref": "paper"
         },
         {
          "font": {
           "size": 16
          },
          "showarrow": false,
          "text": "<b>Carbon Emissions",
          "x": 0.775,
          "xanchor": "center",
          "xref": "paper",
          "y": 1,
          "yanchor": "bottom",
          "yref": "paper"
         },
         {
          "font": {
           "size": 16
          },
          "showarrow": false,
          "text": "<b>Electricity Mix",
          "x": 0.225,
          "xanchor": "center",
          "xref": "paper",
          "y": 0.375,
          "yanchor": "bottom",
          "yref": "paper"
         },
         {
          "font": {
           "size": 16
          },
          "showarrow": false,
          "text": "<b>Energy Suppiled",
          "x": 0.775,
          "xanchor": "center",
          "xref": "paper",
          "y": 0.375,
          "yanchor": "bottom",
          "yref": "paper"
         }
        ],
        "font": {
         "color": "#EEB72B",
         "family": "Raleway",
         "size": 30
        },
        "paper_bgcolor": "#242424",
        "plot_bgcolor": "#242424",
        "template": {
         "data": {
          "bar": [
           {
            "error_x": {
             "color": "#2a3f5f"
            },
            "error_y": {
             "color": "#2a3f5f"
            },
            "marker": {
             "line": {
              "color": "#E5ECF6",
              "width": 0.5
             }
            },
            "type": "bar"
           }
          ],
          "barpolar": [
           {
            "marker": {
             "line": {
              "color": "#E5ECF6",
              "width": 0.5
             }
            },
            "type": "barpolar"
           }
          ],
          "carpet": [
           {
            "aaxis": {
             "endlinecolor": "#2a3f5f",
             "gridcolor": "white",
             "linecolor": "white",
             "minorgridcolor": "white",
             "startlinecolor": "#2a3f5f"
            },
            "baxis": {
             "endlinecolor": "#2a3f5f",
             "gridcolor": "white",
             "linecolor": "white",
             "minorgridcolor": "white",
             "startlinecolor": "#2a3f5f"
            },
            "type": "carpet"
           }
          ],
          "choropleth": [
           {
            "colorbar": {
             "outlinewidth": 0,
             "ticks": ""
            },
            "type": "choropleth"
           }
          ],
          "contour": [
           {
            "colorbar": {
             "outlinewidth": 0,
             "ticks": ""
            },
            "colorscale": [
             [
              0,
              "#0d0887"
             ],
             [
              0.1111111111111111,
              "#46039f"
             ],
             [
              0.2222222222222222,
              "#7201a8"
             ],
             [
              0.3333333333333333,
              "#9c179e"
             ],
             [
              0.4444444444444444,
              "#bd3786"
             ],
             [
              0.5555555555555556,
              "#d8576b"
             ],
             [
              0.6666666666666666,
              "#ed7953"
             ],
             [
              0.7777777777777778,
              "#fb9f3a"
             ],
             [
              0.8888888888888888,
              "#fdca26"
             ],
             [
              1,
              "#f0f921"
             ]
            ],
            "type": "contour"
           }
          ],
          "contourcarpet": [
           {
            "colorbar": {
             "outlinewidth": 0,
             "ticks": ""
            },
            "type": "contourcarpet"
           }
          ],
          "heatmap": [
           {
            "colorbar": {
             "outlinewidth": 0,
             "ticks": ""
            },
            "colorscale": [
             [
              0,
              "#0d0887"
             ],
             [
              0.1111111111111111,
              "#46039f"
             ],
             [
              0.2222222222222222,
              "#7201a8"
             ],
             [
              0.3333333333333333,
              "#9c179e"
             ],
             [
              0.4444444444444444,
              "#bd3786"
             ],
             [
              0.5555555555555556,
              "#d8576b"
             ],
             [
              0.6666666666666666,
              "#ed7953"
             ],
             [
              0.7777777777777778,
              "#fb9f3a"
             ],
             [
              0.8888888888888888,
              "#fdca26"
             ],
             [
              1,
              "#f0f921"
             ]
            ],
            "type": "heatmap"
           }
          ],
          "heatmapgl": [
           {
            "colorbar": {
             "outlinewidth": 0,
             "ticks": ""
            },
            "colorscale": [
             [
              0,
              "#0d0887"
             ],
             [
              0.1111111111111111,
              "#46039f"
             ],
             [
              0.2222222222222222,
              "#7201a8"
             ],
             [
              0.3333333333333333,
              "#9c179e"
             ],
             [
              0.4444444444444444,
              "#bd3786"
             ],
             [
              0.5555555555555556,
              "#d8576b"
             ],
             [
              0.6666666666666666,
              "#ed7953"
             ],
             [
              0.7777777777777778,
              "#fb9f3a"
             ],
             [
              0.8888888888888888,
              "#fdca26"
             ],
             [
              1,
              "#f0f921"
             ]
            ],
            "type": "heatmapgl"
           }
          ],
          "histogram": [
           {
            "marker": {
             "colorbar": {
              "outlinewidth": 0,
              "ticks": ""
             }
            },
            "type": "histogram"
           }
          ],
          "histogram2d": [
           {
            "colorbar": {
             "outlinewidth": 0,
             "ticks": ""
            },
            "colorscale": [
             [
              0,
              "#0d0887"
             ],
             [
              0.1111111111111111,
              "#46039f"
             ],
             [
              0.2222222222222222,
              "#7201a8"
             ],
             [
              0.3333333333333333,
              "#9c179e"
             ],
             [
              0.4444444444444444,
              "#bd3786"
             ],
             [
              0.5555555555555556,
              "#d8576b"
             ],
             [
              0.6666666666666666,
              "#ed7953"
             ],
             [
              0.7777777777777778,
              "#fb9f3a"
             ],
             [
              0.8888888888888888,
              "#fdca26"
             ],
             [
              1,
              "#f0f921"
             ]
            ],
            "type": "histogram2d"
           }
          ],
          "histogram2dcontour": [
           {
            "colorbar": {
             "outlinewidth": 0,
             "ticks": ""
            },
            "colorscale": [
             [
              0,
              "#0d0887"
             ],
             [
              0.1111111111111111,
              "#46039f"
             ],
             [
              0.2222222222222222,
              "#7201a8"
             ],
             [
              0.3333333333333333,
              "#9c179e"
             ],
             [
              0.4444444444444444,
              "#bd3786"
             ],
             [
              0.5555555555555556,
              "#d8576b"
             ],
             [
              0.6666666666666666,
              "#ed7953"
             ],
             [
              0.7777777777777778,
              "#fb9f3a"
             ],
             [
              0.8888888888888888,
              "#fdca26"
             ],
             [
              1,
              "#f0f921"
             ]
            ],
            "type": "histogram2dcontour"
           }
          ],
          "mesh3d": [
           {
            "colorbar": {
             "outlinewidth": 0,
             "ticks": ""
            },
            "type": "mesh3d"
           }
          ],
          "parcoords": [
           {
            "line": {
             "colorbar": {
              "outlinewidth": 0,
              "ticks": ""
             }
            },
            "type": "parcoords"
           }
          ],
          "pie": [
           {
            "automargin": true,
            "type": "pie"
           }
          ],
          "scatter": [
           {
            "marker": {
             "colorbar": {
              "outlinewidth": 0,
              "ticks": ""
             }
            },
            "type": "scatter"
           }
          ],
          "scatter3d": [
           {
            "line": {
             "colorbar": {
              "outlinewidth": 0,
              "ticks": ""
             }
            },
            "marker": {
             "colorbar": {
              "outlinewidth": 0,
              "ticks": ""
             }
            },
            "type": "scatter3d"
           }
          ],
          "scattercarpet": [
           {
            "marker": {
             "colorbar": {
              "outlinewidth": 0,
              "ticks": ""
             }
            },
            "type": "scattercarpet"
           }
          ],
          "scattergeo": [
           {
            "marker": {
             "colorbar": {
              "outlinewidth": 0,
              "ticks": ""
             }
            },
            "type": "scattergeo"
           }
          ],
          "scattergl": [
           {
            "marker": {
             "colorbar": {
              "outlinewidth": 0,
              "ticks": ""
             }
            },
            "type": "scattergl"
           }
          ],
          "scattermapbox": [
           {
            "marker": {
             "colorbar": {
              "outlinewidth": 0,
              "ticks": ""
             }
            },
            "type": "scattermapbox"
           }
          ],
          "scatterpolar": [
           {
            "marker": {
             "colorbar": {
              "outlinewidth": 0,
              "ticks": ""
             }
            },
            "type": "scatterpolar"
           }
          ],
          "scatterpolargl": [
           {
            "marker": {
             "colorbar": {
              "outlinewidth": 0,
              "ticks": ""
             }
            },
            "type": "scatterpolargl"
           }
          ],
          "scatterternary": [
           {
            "marker": {
             "colorbar": {
              "outlinewidth": 0,
              "ticks": ""
             }
            },
            "type": "scatterternary"
           }
          ],
          "surface": [
           {
            "colorbar": {
             "outlinewidth": 0,
             "ticks": ""
            },
            "colorscale": [
             [
              0,
              "#0d0887"
             ],
             [
              0.1111111111111111,
              "#46039f"
             ],
             [
              0.2222222222222222,
              "#7201a8"
             ],
             [
              0.3333333333333333,
              "#9c179e"
             ],
             [
              0.4444444444444444,
              "#bd3786"
             ],
             [
              0.5555555555555556,
              "#d8576b"
             ],
             [
              0.6666666666666666,
              "#ed7953"
             ],
             [
              0.7777777777777778,
              "#fb9f3a"
             ],
             [
              0.8888888888888888,
              "#fdca26"
             ],
             [
              1,
              "#f0f921"
             ]
            ],
            "type": "surface"
           }
          ],
          "table": [
           {
            "cells": {
             "fill": {
              "color": "#EBF0F8"
             },
             "line": {
              "color": "white"
             }
            },
            "header": {
             "fill": {
              "color": "#C8D4E3"
             },
             "line": {
              "color": "white"
             }
            },
            "type": "table"
           }
          ]
         },
         "layout": {
          "annotationdefaults": {
           "arrowcolor": "#2a3f5f",
           "arrowhead": 0,
           "arrowwidth": 1
          },
          "coloraxis": {
           "colorbar": {
            "outlinewidth": 0,
            "ticks": ""
           }
          },
          "colorscale": {
           "diverging": [
            [
             0,
             "#8e0152"
            ],
            [
             0.1,
             "#c51b7d"
            ],
            [
             0.2,
             "#de77ae"
            ],
            [
             0.3,
             "#f1b6da"
            ],
            [
             0.4,
             "#fde0ef"
            ],
            [
             0.5,
             "#f7f7f7"
            ],
            [
             0.6,
             "#e6f5d0"
            ],
            [
             0.7,
             "#b8e186"
            ],
            [
             0.8,
             "#7fbc41"
            ],
            [
             0.9,
             "#4d9221"
            ],
            [
             1,
             "#276419"
            ]
           ],
           "sequential": [
            [
             0,
             "#0d0887"
            ],
            [
             0.1111111111111111,
             "#46039f"
            ],
            [
             0.2222222222222222,
             "#7201a8"
            ],
            [
             0.3333333333333333,
             "#9c179e"
            ],
            [
             0.4444444444444444,
             "#bd3786"
            ],
            [
             0.5555555555555556,
             "#d8576b"
            ],
            [
             0.6666666666666666,
             "#ed7953"
            ],
            [
             0.7777777777777778,
             "#fb9f3a"
            ],
            [
             0.8888888888888888,
             "#fdca26"
            ],
            [
             1,
             "#f0f921"
            ]
           ],
           "sequentialminus": [
            [
             0,
             "#0d0887"
            ],
            [
             0.1111111111111111,
             "#46039f"
            ],
            [
             0.2222222222222222,
             "#7201a8"
            ],
            [
             0.3333333333333333,
             "#9c179e"
            ],
            [
             0.4444444444444444,
             "#bd3786"
            ],
            [
             0.5555555555555556,
             "#d8576b"
            ],
            [
             0.6666666666666666,
             "#ed7953"
            ],
            [
             0.7777777777777778,
             "#fb9f3a"
            ],
            [
             0.8888888888888888,
             "#fdca26"
            ],
            [
             1,
             "#f0f921"
            ]
           ]
          },
          "colorway": [
           "#636efa",
           "#EF553B",
           "#00cc96",
           "#ab63fa",
           "#FFA15A",
           "#19d3f3",
           "#FF6692",
           "#B6E880",
           "#FF97FF",
           "#FECB52"
          ],
          "font": {
           "color": "#2a3f5f"
          },
          "geo": {
           "bgcolor": "white",
           "lakecolor": "white",
           "landcolor": "#E5ECF6",
           "showlakes": true,
           "showland": true,
           "subunitcolor": "white"
          },
          "hoverlabel": {
           "align": "left"
          },
          "hovermode": "closest",
          "mapbox": {
           "style": "light"
          },
          "paper_bgcolor": "white",
          "plot_bgcolor": "#E5ECF6",
          "polar": {
           "angularaxis": {
            "gridcolor": "white",
            "linecolor": "white",
            "ticks": ""
           },
           "bgcolor": "#E5ECF6",
           "radialaxis": {
            "gridcolor": "white",
            "linecolor": "white",
            "ticks": ""
           }
          },
          "scene": {
           "xaxis": {
            "backgroundcolor": "#E5ECF6",
            "gridcolor": "white",
            "gridwidth": 2,
            "linecolor": "white",
            "showbackground": true,
            "ticks": "",
            "zerolinecolor": "white"
           },
           "yaxis": {
            "backgroundcolor": "#E5ECF6",
            "gridcolor": "white",
            "gridwidth": 2,
            "linecolor": "white",
            "showbackground": true,
            "ticks": "",
            "zerolinecolor": "white"
           },
           "zaxis": {
            "backgroundcolor": "#E5ECF6",
            "gridcolor": "white",
            "gridwidth": 2,
            "linecolor": "white",
            "showbackground": true,
            "ticks": "",
            "zerolinecolor": "white"
           }
          },
          "shapedefaults": {
           "line": {
            "color": "#2a3f5f"
           }
          },
          "ternary": {
           "aaxis": {
            "gridcolor": "white",
            "linecolor": "white",
            "ticks": ""
           },
           "baxis": {
            "gridcolor": "white",
            "linecolor": "white",
            "ticks": ""
           },
           "bgcolor": "#E5ECF6",
           "caxis": {
            "gridcolor": "white",
            "linecolor": "white",
            "ticks": ""
           }
          },
          "title": {
           "x": 0.05
          },
          "xaxis": {
           "automargin": true,
           "gridcolor": "white",
           "linecolor": "white",
           "ticks": "",
           "title": {
            "standoff": 15
           },
           "zerolinecolor": "white",
           "zerolinewidth": 2
          },
          "yaxis": {
           "automargin": true,
           "gridcolor": "white",
           "linecolor": "white",
           "ticks": "",
           "title": {
            "standoff": 15
           },
           "zerolinecolor": "white",
           "zerolinewidth": 2
          }
         }
        },
        "title": {
         "text": "<b>RENEWABLES STATS"
        },
        "xaxis": {
         "anchor": "y",
         "domain": [
          0,
          0.45
         ]
        },
        "yaxis": {
         "anchor": "x",
         "domain": [
          0.625,
          1
         ]
        }
       }
      },
      "text/html": [
       "<div>\n",
       "        \n",
       "        \n",
       "            <div id=\"9aa1a69d-59e8-4608-9dd5-d701eac0e360\" class=\"plotly-graph-div\" style=\"height:525px; width:100%;\"></div>\n",
       "            <script type=\"text/javascript\">\n",
       "                require([\"plotly\"], function(Plotly) {\n",
       "                    window.PLOTLYENV=window.PLOTLYENV || {};\n",
       "                    \n",
       "                if (document.getElementById(\"9aa1a69d-59e8-4608-9dd5-d701eac0e360\")) {\n",
       "                    Plotly.newPlot(\n",
       "                        '9aa1a69d-59e8-4608-9dd5-d701eac0e360',\n",
       "                        [{\"mode\": \"lines+markers\", \"name\": \"Energy Mix\", \"textfont\": {\"color\": \"white\", \"size\": 30}, \"type\": \"scatter\", \"x\": [10, 20], \"xaxis\": \"x\", \"y\": [11, 30], \"yaxis\": \"y\"}, {\"domain\": {\"x\": [0.55, 1.0], \"y\": [0.625, 1.0]}, \"labels\": [\"Renewables\", \"OTHERS\"], \"name\": \"CO2 Emissions\", \"rotation\": 60, \"textfont\": {\"color\": \"white\", \"size\": 30}, \"type\": \"pie\", \"values\": [5, 95]}, {\"domain\": {\"x\": [0.0, 0.45], \"y\": [0.0, 0.375]}, \"labels\": [\"Renewables\", \"OTHERS\"], \"name\": \"Electricity Mix\", \"rotation\": 120, \"textfont\": {\"color\": \"white\", \"size\": 30}, \"type\": \"pie\", \"values\": [23, 77]}, {\"domain\": {\"x\": [0.55, 1.0], \"y\": [0.0, 0.375]}, \"labels\": [\"Renewables\", \"OTHERS\"], \"name\": \"Energy Suppiled\", \"rotation\": 75, \"textfont\": {\"color\": \"white\", \"size\": 30}, \"type\": \"pie\", \"values\": [14, 86]}],\n",
       "                        {\"annotations\": [{\"font\": {\"size\": 16}, \"showarrow\": false, \"text\": \"<b>Energy Mix\", \"x\": 0.225, \"xanchor\": \"center\", \"xref\": \"paper\", \"y\": 1.0, \"yanchor\": \"bottom\", \"yref\": \"paper\"}, {\"font\": {\"size\": 16}, \"showarrow\": false, \"text\": \"<b>Carbon Emissions\", \"x\": 0.775, \"xanchor\": \"center\", \"xref\": \"paper\", \"y\": 1.0, \"yanchor\": \"bottom\", \"yref\": \"paper\"}, {\"font\": {\"size\": 16}, \"showarrow\": false, \"text\": \"<b>Electricity Mix\", \"x\": 0.225, \"xanchor\": \"center\", \"xref\": \"paper\", \"y\": 0.375, \"yanchor\": \"bottom\", \"yref\": \"paper\"}, {\"font\": {\"size\": 16}, \"showarrow\": false, \"text\": \"<b>Energy Suppiled\", \"x\": 0.775, \"xanchor\": \"center\", \"xref\": \"paper\", \"y\": 0.375, \"yanchor\": \"bottom\", \"yref\": \"paper\"}], \"font\": {\"color\": \"#EEB72B\", \"family\": \"Raleway\", \"size\": 30}, \"paper_bgcolor\": \"#242424\", \"plot_bgcolor\": \"#242424\", \"template\": {\"data\": {\"bar\": [{\"error_x\": {\"color\": \"#2a3f5f\"}, \"error_y\": {\"color\": \"#2a3f5f\"}, \"marker\": {\"line\": {\"color\": \"#E5ECF6\", \"width\": 0.5}}, \"type\": \"bar\"}], \"barpolar\": [{\"marker\": {\"line\": {\"color\": \"#E5ECF6\", \"width\": 0.5}}, \"type\": \"barpolar\"}], \"carpet\": [{\"aaxis\": {\"endlinecolor\": \"#2a3f5f\", \"gridcolor\": \"white\", \"linecolor\": \"white\", \"minorgridcolor\": \"white\", \"startlinecolor\": \"#2a3f5f\"}, \"baxis\": {\"endlinecolor\": \"#2a3f5f\", \"gridcolor\": \"white\", \"linecolor\": \"white\", \"minorgridcolor\": \"white\", \"startlinecolor\": \"#2a3f5f\"}, \"type\": \"carpet\"}], \"choropleth\": [{\"colorbar\": {\"outlinewidth\": 0, \"ticks\": \"\"}, \"type\": \"choropleth\"}], \"contour\": [{\"colorbar\": {\"outlinewidth\": 0, \"ticks\": \"\"}, \"colorscale\": [[0.0, \"#0d0887\"], [0.1111111111111111, \"#46039f\"], [0.2222222222222222, \"#7201a8\"], [0.3333333333333333, \"#9c179e\"], [0.4444444444444444, \"#bd3786\"], [0.5555555555555556, \"#d8576b\"], [0.6666666666666666, \"#ed7953\"], [0.7777777777777778, \"#fb9f3a\"], [0.8888888888888888, \"#fdca26\"], [1.0, \"#f0f921\"]], \"type\": \"contour\"}], \"contourcarpet\": [{\"colorbar\": {\"outlinewidth\": 0, \"ticks\": \"\"}, \"type\": \"contourcarpet\"}], \"heatmap\": [{\"colorbar\": {\"outlinewidth\": 0, \"ticks\": \"\"}, \"colorscale\": [[0.0, \"#0d0887\"], [0.1111111111111111, \"#46039f\"], [0.2222222222222222, \"#7201a8\"], [0.3333333333333333, \"#9c179e\"], [0.4444444444444444, \"#bd3786\"], [0.5555555555555556, \"#d8576b\"], [0.6666666666666666, \"#ed7953\"], [0.7777777777777778, \"#fb9f3a\"], [0.8888888888888888, \"#fdca26\"], [1.0, \"#f0f921\"]], \"type\": \"heatmap\"}], \"heatmapgl\": [{\"colorbar\": {\"outlinewidth\": 0, \"ticks\": \"\"}, \"colorscale\": [[0.0, \"#0d0887\"], [0.1111111111111111, \"#46039f\"], [0.2222222222222222, \"#7201a8\"], [0.3333333333333333, \"#9c179e\"], [0.4444444444444444, \"#bd3786\"], [0.5555555555555556, \"#d8576b\"], [0.6666666666666666, \"#ed7953\"], [0.7777777777777778, \"#fb9f3a\"], [0.8888888888888888, \"#fdca26\"], [1.0, \"#f0f921\"]], \"type\": \"heatmapgl\"}], \"histogram\": [{\"marker\": {\"colorbar\": {\"outlinewidth\": 0, \"ticks\": \"\"}}, \"type\": \"histogram\"}], \"histogram2d\": [{\"colorbar\": {\"outlinewidth\": 0, \"ticks\": \"\"}, \"colorscale\": [[0.0, \"#0d0887\"], [0.1111111111111111, \"#46039f\"], [0.2222222222222222, \"#7201a8\"], [0.3333333333333333, \"#9c179e\"], [0.4444444444444444, \"#bd3786\"], [0.5555555555555556, \"#d8576b\"], [0.6666666666666666, \"#ed7953\"], [0.7777777777777778, \"#fb9f3a\"], [0.8888888888888888, \"#fdca26\"], [1.0, \"#f0f921\"]], \"type\": \"histogram2d\"}], \"histogram2dcontour\": [{\"colorbar\": {\"outlinewidth\": 0, \"ticks\": \"\"}, \"colorscale\": [[0.0, \"#0d0887\"], [0.1111111111111111, \"#46039f\"], [0.2222222222222222, \"#7201a8\"], [0.3333333333333333, \"#9c179e\"], [0.4444444444444444, \"#bd3786\"], [0.5555555555555556, \"#d8576b\"], [0.6666666666666666, \"#ed7953\"], [0.7777777777777778, \"#fb9f3a\"], [0.8888888888888888, \"#fdca26\"], [1.0, \"#f0f921\"]], \"type\": \"histogram2dcontour\"}], \"mesh3d\": [{\"colorbar\": {\"outlinewidth\": 0, \"ticks\": \"\"}, \"type\": \"mesh3d\"}], \"parcoords\": [{\"line\": {\"colorbar\": {\"outlinewidth\": 0, \"ticks\": \"\"}}, \"type\": \"parcoords\"}], \"pie\": [{\"automargin\": true, \"type\": \"pie\"}], \"scatter\": [{\"marker\": {\"colorbar\": {\"outlinewidth\": 0, \"ticks\": \"\"}}, \"type\": \"scatter\"}], \"scatter3d\": [{\"line\": {\"colorbar\": {\"outlinewidth\": 0, \"ticks\": \"\"}}, \"marker\": {\"colorbar\": {\"outlinewidth\": 0, \"ticks\": \"\"}}, \"type\": \"scatter3d\"}], \"scattercarpet\": [{\"marker\": {\"colorbar\": {\"outlinewidth\": 0, \"ticks\": \"\"}}, \"type\": \"scattercarpet\"}], \"scattergeo\": [{\"marker\": {\"colorbar\": {\"outlinewidth\": 0, \"ticks\": \"\"}}, \"type\": \"scattergeo\"}], \"scattergl\": [{\"marker\": {\"colorbar\": {\"outlinewidth\": 0, \"ticks\": \"\"}}, \"type\": \"scattergl\"}], \"scattermapbox\": [{\"marker\": {\"colorbar\": {\"outlinewidth\": 0, \"ticks\": \"\"}}, \"type\": \"scattermapbox\"}], \"scatterpolar\": [{\"marker\": {\"colorbar\": {\"outlinewidth\": 0, \"ticks\": \"\"}}, \"type\": \"scatterpolar\"}], \"scatterpolargl\": [{\"marker\": {\"colorbar\": {\"outlinewidth\": 0, \"ticks\": \"\"}}, \"type\": \"scatterpolargl\"}], \"scatterternary\": [{\"marker\": {\"colorbar\": {\"outlinewidth\": 0, \"ticks\": \"\"}}, \"type\": \"scatterternary\"}], \"surface\": [{\"colorbar\": {\"outlinewidth\": 0, \"ticks\": \"\"}, \"colorscale\": [[0.0, \"#0d0887\"], [0.1111111111111111, \"#46039f\"], [0.2222222222222222, \"#7201a8\"], [0.3333333333333333, \"#9c179e\"], [0.4444444444444444, \"#bd3786\"], [0.5555555555555556, \"#d8576b\"], [0.6666666666666666, \"#ed7953\"], [0.7777777777777778, \"#fb9f3a\"], [0.8888888888888888, \"#fdca26\"], [1.0, \"#f0f921\"]], \"type\": \"surface\"}], \"table\": [{\"cells\": {\"fill\": {\"color\": \"#EBF0F8\"}, \"line\": {\"color\": \"white\"}}, \"header\": {\"fill\": {\"color\": \"#C8D4E3\"}, \"line\": {\"color\": \"white\"}}, \"type\": \"table\"}]}, \"layout\": {\"annotationdefaults\": {\"arrowcolor\": \"#2a3f5f\", \"arrowhead\": 0, \"arrowwidth\": 1}, \"coloraxis\": {\"colorbar\": {\"outlinewidth\": 0, \"ticks\": \"\"}}, \"colorscale\": {\"diverging\": [[0, \"#8e0152\"], [0.1, \"#c51b7d\"], [0.2, \"#de77ae\"], [0.3, \"#f1b6da\"], [0.4, \"#fde0ef\"], [0.5, \"#f7f7f7\"], [0.6, \"#e6f5d0\"], [0.7, \"#b8e186\"], [0.8, \"#7fbc41\"], [0.9, \"#4d9221\"], [1, \"#276419\"]], \"sequential\": [[0.0, \"#0d0887\"], [0.1111111111111111, \"#46039f\"], [0.2222222222222222, \"#7201a8\"], [0.3333333333333333, \"#9c179e\"], [0.4444444444444444, \"#bd3786\"], [0.5555555555555556, \"#d8576b\"], [0.6666666666666666, \"#ed7953\"], [0.7777777777777778, \"#fb9f3a\"], [0.8888888888888888, \"#fdca26\"], [1.0, \"#f0f921\"]], \"sequentialminus\": [[0.0, \"#0d0887\"], [0.1111111111111111, \"#46039f\"], [0.2222222222222222, \"#7201a8\"], [0.3333333333333333, \"#9c179e\"], [0.4444444444444444, \"#bd3786\"], [0.5555555555555556, \"#d8576b\"], [0.6666666666666666, \"#ed7953\"], [0.7777777777777778, \"#fb9f3a\"], [0.8888888888888888, \"#fdca26\"], [1.0, \"#f0f921\"]]}, \"colorway\": [\"#636efa\", \"#EF553B\", \"#00cc96\", \"#ab63fa\", \"#FFA15A\", \"#19d3f3\", \"#FF6692\", \"#B6E880\", \"#FF97FF\", \"#FECB52\"], \"font\": {\"color\": \"#2a3f5f\"}, \"geo\": {\"bgcolor\": \"white\", \"lakecolor\": \"white\", \"landcolor\": \"#E5ECF6\", \"showlakes\": true, \"showland\": true, \"subunitcolor\": \"white\"}, \"hoverlabel\": {\"align\": \"left\"}, \"hovermode\": \"closest\", \"mapbox\": {\"style\": \"light\"}, \"paper_bgcolor\": \"white\", \"plot_bgcolor\": \"#E5ECF6\", \"polar\": {\"angularaxis\": {\"gridcolor\": \"white\", \"linecolor\": \"white\", \"ticks\": \"\"}, \"bgcolor\": \"#E5ECF6\", \"radialaxis\": {\"gridcolor\": \"white\", \"linecolor\": \"white\", \"ticks\": \"\"}}, \"scene\": {\"xaxis\": {\"backgroundcolor\": \"#E5ECF6\", \"gridcolor\": \"white\", \"gridwidth\": 2, \"linecolor\": \"white\", \"showbackground\": true, \"ticks\": \"\", \"zerolinecolor\": \"white\"}, \"yaxis\": {\"backgroundcolor\": \"#E5ECF6\", \"gridcolor\": \"white\", \"gridwidth\": 2, \"linecolor\": \"white\", \"showbackground\": true, \"ticks\": \"\", \"zerolinecolor\": \"white\"}, \"zaxis\": {\"backgroundcolor\": \"#E5ECF6\", \"gridcolor\": \"white\", \"gridwidth\": 2, \"linecolor\": \"white\", \"showbackground\": true, \"ticks\": \"\", \"zerolinecolor\": \"white\"}}, \"shapedefaults\": {\"line\": {\"color\": \"#2a3f5f\"}}, \"ternary\": {\"aaxis\": {\"gridcolor\": \"white\", \"linecolor\": \"white\", \"ticks\": \"\"}, \"baxis\": {\"gridcolor\": \"white\", \"linecolor\": \"white\", \"ticks\": \"\"}, \"bgcolor\": \"#E5ECF6\", \"caxis\": {\"gridcolor\": \"white\", \"linecolor\": \"white\", \"ticks\": \"\"}}, \"title\": {\"x\": 0.05}, \"xaxis\": {\"automargin\": true, \"gridcolor\": \"white\", \"linecolor\": \"white\", \"ticks\": \"\", \"title\": {\"standoff\": 15}, \"zerolinecolor\": \"white\", \"zerolinewidth\": 2}, \"yaxis\": {\"automargin\": true, \"gridcolor\": \"white\", \"linecolor\": \"white\", \"ticks\": \"\", \"title\": {\"standoff\": 15}, \"zerolinecolor\": \"white\", \"zerolinewidth\": 2}}}, \"title\": {\"text\": \"<b>RENEWABLES STATS\"}, \"xaxis\": {\"anchor\": \"y\", \"domain\": [0.0, 0.45]}, \"yaxis\": {\"anchor\": \"x\", \"domain\": [0.625, 1.0]}},\n",
       "                        {\"responsive\": true}\n",
       "                    ).then(function(){\n",
       "                            \n",
       "var gd = document.getElementById('9aa1a69d-59e8-4608-9dd5-d701eac0e360');\n",
       "var x = new MutationObserver(function (mutations, observer) {{\n",
       "        var display = window.getComputedStyle(gd).display;\n",
       "        if (!display || display === 'none') {{\n",
       "            console.log([gd, 'removed!']);\n",
       "            Plotly.purge(gd);\n",
       "            observer.disconnect();\n",
       "        }}\n",
       "}});\n",
       "\n",
       "// Listen for the removal of the full notebook cells\n",
       "var notebookContainer = gd.closest('#notebook-container');\n",
       "if (notebookContainer) {{\n",
       "    x.observe(notebookContainer, {childList: true});\n",
       "}}\n",
       "\n",
       "// Listen for the clearing of the current output cell\n",
       "var outputEl = gd.closest('.output');\n",
       "if (outputEl) {{\n",
       "    x.observe(outputEl, {childList: true});\n",
       "}}\n",
       "\n",
       "                        })\n",
       "                };\n",
       "                });\n",
       "            </script>\n",
       "        </div>"
      ]
     },
     "metadata": {},
     "output_type": "display_data"
    }
   ],
   "source": [
    "import plotly.graph_objects as go\n",
    "from plotly.subplots import make_subplots\n",
    "import chart_studio.plotly as py\n",
    "\n",
    "labels = [\"Renewables\", \"OTHERS\"]\n",
    "\n",
    "# Create subplots: use 'domain' type for Pie subplot\n",
    "fig = make_subplots(rows=2, cols=2, specs=[[{'type':'domain'}, {'type':'domain'}],\n",
    "                                          [{'type':'domain'}, {'type':'domain'}]],\n",
    "                   subplot_titles = ('<b>Energy Mix', '<b>Carbon Emissions', '<b>Electricity Mix', '<b>Energy Suppiled'))\n",
    "\n",
    "fig.add_trace(go.Pie(labels=labels, values=[11, 89], name=\"Energy Mix\",\n",
    "                     marker =dict(colors = ['#EEB72B','rgba(127, 127, 127, 0.8)']),\n",
    "                    textfont = dict(color = 'white', size = 30), rotation = 60),\n",
    "              1, 1,)\n",
    "fig.add_trace(go.Pie(labels=labels, values=[5,95], name=\"CO2 Emissions\",\n",
    "                    textfont = dict(color = 'white', size = 30), rotation = 60),\n",
    "              1, 2)\n",
    "fig.add_trace(go.Pie(labels=labels, values=[23, 77], name=\"Electricity Mix\",\n",
    "                    textfont = dict(color = 'white', size = 30), rotation = 120),\n",
    "              2, 1)\n",
    "fig.add_trace(go.Pie(labels=labels, values=[14, 86], name=\"Energy Suppiled\",\n",
    "                    textfont = dict(color = 'white', size = 30), rotation = 75),\n",
    "              2, 2)\n",
    "\n",
    "\n",
    "\n",
    "# Use `hole` to create a donut-like pie chart\n",
    "fig.update_traces(hole=.4, hoverinfo=\"label+percent+name\")\n",
    "\n",
    "fig.update_layout(\n",
    "    title=\"<b>RENEWABLES STATS\",\n",
    "    font=dict(size = 30, color = '#EEB72B', family = 'Raleway'),\n",
    "    # Add annotations in the center of the donut pies.\n",
    "    plot_bgcolor='#242424',\n",
    "    paper_bgcolor='#242424'\n",
    ")\n",
    "py.plot(fig, filename = 'ren_stats')\n",
    "#fig.show()"
   ]
  },
  {
   "cell_type": "code",
   "execution_count": 6,
   "metadata": {},
   "outputs": [
    {
     "name": "stdout",
     "output_type": "stream",
     "text": [
      "Help on function make_subplots in module plotly.subplots:\n",
      "\n",
      "make_subplots(rows=1, cols=1, shared_xaxes=False, shared_yaxes=False, start_cell='top-left', print_grid=False, horizontal_spacing=None, vertical_spacing=None, subplot_titles=None, column_widths=None, row_heights=None, specs=None, insets=None, column_titles=None, row_titles=None, x_title=None, y_title=None, **kwargs)\n",
      "    Return an instance of plotly.graph_objs.Figure with predefined subplots\n",
      "    configured in 'layout'.\n",
      "    \n",
      "    Parameters\n",
      "    ----------\n",
      "    rows: int (default 1)\n",
      "        Number of rows in the subplot grid. Must be greater than zero.\n",
      "    \n",
      "    cols: int (default 1)\n",
      "        Number of columns in the subplot grid. Must be greater than zero.\n",
      "    \n",
      "    shared_xaxes: boolean or str (default False)\n",
      "        Assign shared (linked) x-axes for 2D cartesian subplots\n",
      "    \n",
      "          - True or 'columns': Share axes among subplots in the same column\n",
      "          - 'rows': Share axes among subplots in the same row\n",
      "          - 'all': Share axes across all subplots in the grid.\n",
      "    \n",
      "    shared_yaxes: boolean or str (default False)\n",
      "        Assign shared (linked) y-axes for 2D cartesian subplots\n",
      "    \n",
      "          - 'columns': Share axes among subplots in the same column\n",
      "          - True or 'rows': Share axes among subplots in the same row\n",
      "          - 'all': Share axes across all subplots in the grid.\n",
      "    \n",
      "    start_cell: 'bottom-left' or 'top-left' (default 'top-left')\n",
      "        Choose the starting cell in the subplot grid used to set the\n",
      "        domains_grid of the subplots.\n",
      "    \n",
      "          - 'top-left': Subplots are numbered with (1, 1) in the top\n",
      "                        left corner\n",
      "          - 'bottom-left': Subplots are numbererd with (1, 1) in the bottom\n",
      "                           left corner\n",
      "    \n",
      "    print_grid: boolean (default True):\n",
      "        If True, prints a string representation of the plot grid.  Grid may\n",
      "        also be printed using the `Figure.print_grid()` method on the\n",
      "        resulting figure.\n",
      "    \n",
      "    horizontal_spacing: float (default 0.2 / cols)\n",
      "        Space between subplot columns in normalized plot coordinates. Must be\n",
      "        a float between 0 and 1.\n",
      "    \n",
      "        Applies to all columns (use 'specs' subplot-dependents spacing)\n",
      "    \n",
      "    vertical_spacing: float (default 0.3 / rows)\n",
      "        Space between subplot rows in normalized plot coordinates. Must be\n",
      "        a float between 0 and 1.\n",
      "    \n",
      "        Applies to all rows (use 'specs' subplot-dependents spacing)\n",
      "    \n",
      "    subplot_titles: list of str or None (default None)\n",
      "        Title of each subplot as a list in row-major ordering.\n",
      "    \n",
      "        Empty strings (\"\") can be included in the list if no subplot title\n",
      "        is desired in that space so that the titles are properly indexed.\n",
      "    \n",
      "    specs: list of lists of dict or None (default None)\n",
      "        Per subplot specifications of subplot type, row/column spanning, and\n",
      "        spacing.\n",
      "    \n",
      "        ex1: specs=[[{}, {}], [{'colspan': 2}, None]]\n",
      "    \n",
      "        ex2: specs=[[{'rowspan': 2}, {}], [None, {}]]\n",
      "    \n",
      "        - Indices of the outer list correspond to subplot grid rows\n",
      "          starting from the top, if start_cell='top-left',\n",
      "          or bottom, if start_cell='bottom-left'.\n",
      "          The number of rows in 'specs' must be equal to 'rows'.\n",
      "    \n",
      "        - Indices of the inner lists correspond to subplot grid columns\n",
      "          starting from the left. The number of columns in 'specs'\n",
      "          must be equal to 'cols'.\n",
      "    \n",
      "        - Each item in the 'specs' list corresponds to one subplot\n",
      "          in a subplot grid. (N.B. The subplot grid has exactly 'rows'\n",
      "          times 'cols' cells.)\n",
      "    \n",
      "        - Use None for a blank a subplot cell (or to move past a col/row span).\n",
      "    \n",
      "        - Note that specs[0][0] has the specs of the 'start_cell' subplot.\n",
      "    \n",
      "        - Each item in 'specs' is a dictionary.\n",
      "            The available keys are:\n",
      "            * type (string, default 'xy'): Subplot type. One of\n",
      "                - 'xy': 2D Cartesian subplot type for scatter, bar, etc.\n",
      "                - 'scene': 3D Cartesian subplot for scatter3d, cone, etc.\n",
      "                - 'polar': Polar subplot for scatterpolar, barpolar, etc.\n",
      "                - 'ternary': Ternary subplot for scatterternary\n",
      "                - 'mapbox': Mapbox subplot for scattermapbox\n",
      "                - 'domain': Subplot type for traces that are individually\n",
      "                            positioned. pie, parcoords, parcats, etc.\n",
      "                - trace type: A trace type which will be used to determine\n",
      "                              the appropriate subplot type for that trace\n",
      "    \n",
      "            * secondary_y (bool, default False): If True, create a secondary\n",
      "                y-axis positioned on the right side of the subplot. Only valid\n",
      "                if type='xy'.\n",
      "            * colspan (int, default 1): number of subplot columns\n",
      "                for this subplot to span.\n",
      "            * rowspan (int, default 1): number of subplot rows\n",
      "                for this subplot to span.\n",
      "            * l (float, default 0.0): padding left of cell\n",
      "            * r (float, default 0.0): padding right of cell\n",
      "            * t (float, default 0.0): padding right of cell\n",
      "            * b (float, default 0.0): padding bottom of cell\n",
      "    \n",
      "        - Note: Use 'horizontal_spacing' and 'vertical_spacing' to adjust\n",
      "          the spacing in between the subplots.\n",
      "    \n",
      "    insets: list of dict or None (default None):\n",
      "        Inset specifications.  Insets are subplots that overlay grid subplots\n",
      "    \n",
      "        - Each item in 'insets' is a dictionary.\n",
      "            The available keys are:\n",
      "    \n",
      "            * cell (tuple, default=(1,1)): (row, col) index of the\n",
      "                subplot cell to overlay inset axes onto.\n",
      "            * type (string, default 'xy'): Subplot type\n",
      "            * l (float, default=0.0): padding left of inset\n",
      "                  in fraction of cell width\n",
      "            * w (float or 'to_end', default='to_end') inset width\n",
      "                  in fraction of cell width ('to_end': to cell right edge)\n",
      "            * b (float, default=0.0): padding bottom of inset\n",
      "                  in fraction of cell height\n",
      "            * h (float or 'to_end', default='to_end') inset height\n",
      "                  in fraction of cell height ('to_end': to cell top edge)\n",
      "    \n",
      "    column_widths: list of numbers or None (default None)\n",
      "        list of length `cols` of the relative widths of each column of suplots.\n",
      "        Values are normalized internally and used to distribute overall width\n",
      "        of the figure (excluding padding) among the columns.\n",
      "    \n",
      "        For backward compatibility, may also be specified using the\n",
      "        `column_width` keyword argument.\n",
      "    \n",
      "    row_heights: list of numbers or None (default None)\n",
      "        list of length `rows` of the relative heights of each row of subplots.\n",
      "        If start_cell='top-left' then row heights are applied top to bottom.\n",
      "        Otherwise, if start_cell='bottom-left' then row heights are applied\n",
      "        bottom to top.\n",
      "    \n",
      "        For backward compatibility, may also be specified using the\n",
      "        `row_width` kwarg. If specified as `row_width`, then the width values\n",
      "        are applied from bottom to top regardless of the value of start_cell.\n",
      "        This matches the legacy behavior of the `row_width` argument.\n",
      "    \n",
      "    column_titles: list of str or None (default None)\n",
      "        list of length `cols` of titles to place above the top subplot in\n",
      "        each column.\n",
      "    \n",
      "    row_titles: list of str or None (default None)\n",
      "        list of length `rows` of titles to place on the right side of each\n",
      "        row of subplots. If start_cell='top-left' then row titles are\n",
      "        applied top to bottom. Otherwise, if start_cell='bottom-left' then\n",
      "        row titles are applied bottom to top.\n",
      "    \n",
      "    x_title: str or None (default None)\n",
      "        Title to place below the bottom row of subplots,\n",
      "        centered horizontally\n",
      "    \n",
      "    y_title: str or None (default None)\n",
      "        Title to place to the left of the left column of subplots,\n",
      "       centered vertically\n",
      "    \n",
      "    Examples\n",
      "    --------\n",
      "    \n",
      "    Example 1:\n",
      "    \n",
      "    >>> # Stack two subplots vertically, and add a scatter trace to each\n",
      "    >>> from plotly.subplots import make_subplots\n",
      "    >>> import plotly.graph_objects as go\n",
      "    >>> fig = make_subplots(rows=2)\n",
      "    \n",
      "    This is the format of your plot grid:\n",
      "    [ (1,1) xaxis1,yaxis1 ]\n",
      "    [ (2,1) xaxis2,yaxis2 ]\n",
      "    \n",
      "    >>> fig.add_scatter(y=[2, 1, 3], row=1, col=1) # doctest: +ELLIPSIS\n",
      "    Figure(...)\n",
      "    >>> fig.add_scatter(y=[1, 3, 2], row=2, col=1) # doctest: +ELLIPSIS\n",
      "    Figure(...)\n",
      "    \n",
      "    or see Figure.append_trace\n",
      "    \n",
      "    Example 2:\n",
      "    \n",
      "    >>> # Stack a scatter plot\n",
      "    >>> fig = make_subplots(rows=2, shared_xaxes=True)\n",
      "    \n",
      "    This is the format of your plot grid:\n",
      "    [ (1,1) xaxis1,yaxis1 ]\n",
      "    [ (2,1) xaxis2,yaxis2 ]\n",
      "    \n",
      "    >>> fig.add_scatter(y=[2, 1, 3], row=1, col=1) # doctest: +ELLIPSIS\n",
      "    Figure(...)\n",
      "    >>> fig.add_scatter(y=[1, 3, 2], row=2, col=1) # doctest: +ELLIPSIS\n",
      "    Figure(...)\n",
      "    \n",
      "    Example 3:\n",
      "    \n",
      "    >>> # irregular subplot layout (more examples below under 'specs')\n",
      "    >>> fig = make_subplots(rows=2, cols=2,\n",
      "    ...                     specs=[[{}, {}],\n",
      "    ...                     [{'colspan': 2}, None]])\n",
      "    \n",
      "    This is the format of your plot grid:\n",
      "    [ (1,1) xaxis1,yaxis1 ]  [ (1,2) xaxis2,yaxis2 ]\n",
      "    [ (2,1) xaxis3,yaxis3           -              ]\n",
      "    \n",
      "    >>> fig.add_trace(go.Scatter(x=[1,2,3], y=[2,1,2]), row=1, col=1) # doctest: +ELLIPSIS\n",
      "    Figure(...)\n",
      "    >>> fig.add_trace(go.Scatter(x=[1,2,3], y=[2,1,2]), row=1, col=2) # doctest: +ELLIPSIS\n",
      "    Figure(...)\n",
      "    >>> fig.add_trace(go.Scatter(x=[1,2,3], y=[2,1,2]), row=2, col=1) # doctest: +ELLIPSIS\n",
      "    Figure(...)\n",
      "    \n",
      "    Example 4:\n",
      "    \n",
      "    >>> # insets\n",
      "    >>> fig = make_subplots(insets=[{'cell': (1,1), 'l': 0.7, 'b': 0.3}])\n",
      "    \n",
      "    This is the format of your plot grid:\n",
      "    [ (1,1) xaxis1,yaxis1 ]\n",
      "    \n",
      "    With insets:\n",
      "    [ xaxis2,yaxis2 ] over [ (1,1) xaxis1,yaxis1 ]\n",
      "    \n",
      "    >>> fig.add_scatter(x=[1,2,3], y=[2,1,1]) # doctest: +ELLIPSIS\n",
      "    Figure(...)\n",
      "    >>> fig.add_scatter(x=[1,2,3], y=[2,1,2], xaxis='x2', yaxis='y2') # doctest: +ELLIPSIS\n",
      "    Figure(...)\n",
      "    \n",
      "    Example 5:\n",
      "    \n",
      "    >>> # include subplot titles\n",
      "    >>> fig = make_subplots(rows=2, subplot_titles=('Plot 1','Plot 2'))\n",
      "    \n",
      "    This is the format of your plot grid:\n",
      "    [ (1,1) x1,y1 ]\n",
      "    [ (2,1) x2,y2 ]\n",
      "    \n",
      "    >>> fig.add_scatter(x=[1,2,3], y=[2,1,2], row=1, col=1) # doctest: +ELLIPSIS\n",
      "    Figure(...)\n",
      "    >>> fig.add_bar(x=[1,2,3], y=[2,1,2], row=2, col=1) # doctest: +ELLIPSIS\n",
      "    Figure(...)\n",
      "    \n",
      "    Example 6:\n",
      "    \n",
      "    Subplot with mixed subplot types\n",
      "    \n",
      "    >>> fig = make_subplots(rows=2, cols=2,\n",
      "    ...                     specs=[[{'type': 'xy'},    {'type': 'polar'}],\n",
      "    ...                            [{'type': 'scene'}, {'type': 'ternary'}]])\n",
      "    \n",
      "    >>> fig.add_traces(\n",
      "    ...     [go.Scatter(y=[2, 3, 1]),\n",
      "    ...      go.Scatterpolar(r=[1, 3, 2], theta=[0, 45, 90]),\n",
      "    ...      go.Scatter3d(x=[1, 2, 1], y=[2, 3, 1], z=[0, 3, 5]),\n",
      "    ...      go.Scatterternary(a=[0.1, 0.2, 0.1],\n",
      "    ...                        b=[0.2, 0.3, 0.1],\n",
      "    ...                        c=[0.7, 0.5, 0.8])],\n",
      "    ...     rows=[1, 1, 2, 2],\n",
      "    ...     cols=[1, 2, 1, 2]) # doctest: +ELLIPSIS\n",
      "    Figure(...)\n",
      "\n"
     ]
    }
   ],
   "source": [
    "help(make_subplots)"
   ]
  },
  {
   "cell_type": "code",
   "execution_count": 2,
   "metadata": {},
   "outputs": [
    {
     "data": {
      "application/vnd.plotly.v1+json": {
       "config": {
        "plotlyServerURL": "https://plotly.com"
       },
       "data": [
        {
         "domain": {
          "x": [
           0,
           0.45
          ],
          "y": [
           0.625,
           1
          ]
         },
         "hole": 0.4,
         "hoverinfo": "label+percent+name",
         "labels": [
          "NUCLEAR",
          "OTHERS"
         ],
         "marker": {
          "colors": [
           "rgba(188, 189, 34, 0.8)",
           "rgba(127, 127, 127, 0.8)"
          ]
         },
         "name": "Energy Mix",
         "textfont": {
          "color": "white",
          "size": 30
         },
         "type": "pie",
         "values": [
          40,
          60
         ]
        },
        {
         "domain": {
          "x": [
           0.55,
           1
          ],
          "y": [
           0.625,
           1
          ]
         },
         "hole": 0.4,
         "hoverinfo": "label+percent+name",
         "labels": [
          "NUCLEAR",
          "OTHERS"
         ],
         "name": "CO2 Emissions",
         "textfont": {
          "color": "white",
          "size": 30
         },
         "type": "pie",
         "values": [
          34,
          66
         ]
        },
        {
         "domain": {
          "x": [
           0,
           0.45
          ],
          "y": [
           0,
           0.375
          ]
         },
         "hole": 0.4,
         "hoverinfo": "label+percent+name",
         "labels": [
          "NUCLEAR",
          "OTHERS"
         ],
         "name": "Electricity Mix",
         "rotation": 60,
         "textfont": {
          "color": "white",
          "size": 30
         },
         "type": "pie",
         "values": [
          3,
          97
         ]
        },
        {
         "domain": {
          "x": [
           0.55,
           1
          ],
          "y": [
           0,
           0.375
          ]
         },
         "hole": 0.4,
         "hoverinfo": "label+percent+name",
         "labels": [
          "NUCLEAR",
          "OTHERS"
         ],
         "name": "Energy Suppiled",
         "textfont": {
          "color": "white",
          "size": 30
         },
         "type": "pie",
         "values": [
          32,
          68
         ]
        }
       ],
       "layout": {
        "annotations": [
         {
          "font": {
           "size": 16
          },
          "showarrow": false,
          "text": "<b>Energy Mix",
          "x": 0.225,
          "xanchor": "center",
          "xref": "paper",
          "y": 1,
          "yanchor": "bottom",
          "yref": "paper"
         },
         {
          "font": {
           "size": 16
          },
          "showarrow": false,
          "text": "<b>Carbon Emissions",
          "x": 0.775,
          "xanchor": "center",
          "xref": "paper",
          "y": 1,
          "yanchor": "bottom",
          "yref": "paper"
         },
         {
          "font": {
           "size": 16
          },
          "showarrow": false,
          "text": "<b>Electricity Mix",
          "x": 0.225,
          "xanchor": "center",
          "xref": "paper",
          "y": 0.375,
          "yanchor": "bottom",
          "yref": "paper"
         },
         {
          "font": {
           "size": 16
          },
          "showarrow": false,
          "text": "<b>Energy Suppiled",
          "x": 0.775,
          "xanchor": "center",
          "xref": "paper",
          "y": 0.375,
          "yanchor": "bottom",
          "yref": "paper"
         }
        ],
        "font": {
         "color": "rgba(188, 189, 34, 0.8)",
         "family": "Raleway",
         "size": 30
        },
        "paper_bgcolor": "rgba(127, 127, 127, 0.8)",
        "plot_bgcolor": "rgba(127, 127, 127, 0.8)",
        "showlegend": true,
        "template": {
         "data": {
          "bar": [
           {
            "error_x": {
             "color": "#2a3f5f"
            },
            "error_y": {
             "color": "#2a3f5f"
            },
            "marker": {
             "line": {
              "color": "#E5ECF6",
              "width": 0.5
             }
            },
            "type": "bar"
           }
          ],
          "barpolar": [
           {
            "marker": {
             "line": {
              "color": "#E5ECF6",
              "width": 0.5
             }
            },
            "type": "barpolar"
           }
          ],
          "carpet": [
           {
            "aaxis": {
             "endlinecolor": "#2a3f5f",
             "gridcolor": "white",
             "linecolor": "white",
             "minorgridcolor": "white",
             "startlinecolor": "#2a3f5f"
            },
            "baxis": {
             "endlinecolor": "#2a3f5f",
             "gridcolor": "white",
             "linecolor": "white",
             "minorgridcolor": "white",
             "startlinecolor": "#2a3f5f"
            },
            "type": "carpet"
           }
          ],
          "choropleth": [
           {
            "colorbar": {
             "outlinewidth": 0,
             "ticks": ""
            },
            "type": "choropleth"
           }
          ],
          "contour": [
           {
            "colorbar": {
             "outlinewidth": 0,
             "ticks": ""
            },
            "colorscale": [
             [
              0,
              "#0d0887"
             ],
             [
              0.1111111111111111,
              "#46039f"
             ],
             [
              0.2222222222222222,
              "#7201a8"
             ],
             [
              0.3333333333333333,
              "#9c179e"
             ],
             [
              0.4444444444444444,
              "#bd3786"
             ],
             [
              0.5555555555555556,
              "#d8576b"
             ],
             [
              0.6666666666666666,
              "#ed7953"
             ],
             [
              0.7777777777777778,
              "#fb9f3a"
             ],
             [
              0.8888888888888888,
              "#fdca26"
             ],
             [
              1,
              "#f0f921"
             ]
            ],
            "type": "contour"
           }
          ],
          "contourcarpet": [
           {
            "colorbar": {
             "outlinewidth": 0,
             "ticks": ""
            },
            "type": "contourcarpet"
           }
          ],
          "heatmap": [
           {
            "colorbar": {
             "outlinewidth": 0,
             "ticks": ""
            },
            "colorscale": [
             [
              0,
              "#0d0887"
             ],
             [
              0.1111111111111111,
              "#46039f"
             ],
             [
              0.2222222222222222,
              "#7201a8"
             ],
             [
              0.3333333333333333,
              "#9c179e"
             ],
             [
              0.4444444444444444,
              "#bd3786"
             ],
             [
              0.5555555555555556,
              "#d8576b"
             ],
             [
              0.6666666666666666,
              "#ed7953"
             ],
             [
              0.7777777777777778,
              "#fb9f3a"
             ],
             [
              0.8888888888888888,
              "#fdca26"
             ],
             [
              1,
              "#f0f921"
             ]
            ],
            "type": "heatmap"
           }
          ],
          "heatmapgl": [
           {
            "colorbar": {
             "outlinewidth": 0,
             "ticks": ""
            },
            "colorscale": [
             [
              0,
              "#0d0887"
             ],
             [
              0.1111111111111111,
              "#46039f"
             ],
             [
              0.2222222222222222,
              "#7201a8"
             ],
             [
              0.3333333333333333,
              "#9c179e"
             ],
             [
              0.4444444444444444,
              "#bd3786"
             ],
             [
              0.5555555555555556,
              "#d8576b"
             ],
             [
              0.6666666666666666,
              "#ed7953"
             ],
             [
              0.7777777777777778,
              "#fb9f3a"
             ],
             [
              0.8888888888888888,
              "#fdca26"
             ],
             [
              1,
              "#f0f921"
             ]
            ],
            "type": "heatmapgl"
           }
          ],
          "histogram": [
           {
            "marker": {
             "colorbar": {
              "outlinewidth": 0,
              "ticks": ""
             }
            },
            "type": "histogram"
           }
          ],
          "histogram2d": [
           {
            "colorbar": {
             "outlinewidth": 0,
             "ticks": ""
            },
            "colorscale": [
             [
              0,
              "#0d0887"
             ],
             [
              0.1111111111111111,
              "#46039f"
             ],
             [
              0.2222222222222222,
              "#7201a8"
             ],
             [
              0.3333333333333333,
              "#9c179e"
             ],
             [
              0.4444444444444444,
              "#bd3786"
             ],
             [
              0.5555555555555556,
              "#d8576b"
             ],
             [
              0.6666666666666666,
              "#ed7953"
             ],
             [
              0.7777777777777778,
              "#fb9f3a"
             ],
             [
              0.8888888888888888,
              "#fdca26"
             ],
             [
              1,
              "#f0f921"
             ]
            ],
            "type": "histogram2d"
           }
          ],
          "histogram2dcontour": [
           {
            "colorbar": {
             "outlinewidth": 0,
             "ticks": ""
            },
            "colorscale": [
             [
              0,
              "#0d0887"
             ],
             [
              0.1111111111111111,
              "#46039f"
             ],
             [
              0.2222222222222222,
              "#7201a8"
             ],
             [
              0.3333333333333333,
              "#9c179e"
             ],
             [
              0.4444444444444444,
              "#bd3786"
             ],
             [
              0.5555555555555556,
              "#d8576b"
             ],
             [
              0.6666666666666666,
              "#ed7953"
             ],
             [
              0.7777777777777778,
              "#fb9f3a"
             ],
             [
              0.8888888888888888,
              "#fdca26"
             ],
             [
              1,
              "#f0f921"
             ]
            ],
            "type": "histogram2dcontour"
           }
          ],
          "mesh3d": [
           {
            "colorbar": {
             "outlinewidth": 0,
             "ticks": ""
            },
            "type": "mesh3d"
           }
          ],
          "parcoords": [
           {
            "line": {
             "colorbar": {
              "outlinewidth": 0,
              "ticks": ""
             }
            },
            "type": "parcoords"
           }
          ],
          "pie": [
           {
            "automargin": true,
            "type": "pie"
           }
          ],
          "scatter": [
           {
            "marker": {
             "colorbar": {
              "outlinewidth": 0,
              "ticks": ""
             }
            },
            "type": "scatter"
           }
          ],
          "scatter3d": [
           {
            "line": {
             "colorbar": {
              "outlinewidth": 0,
              "ticks": ""
             }
            },
            "marker": {
             "colorbar": {
              "outlinewidth": 0,
              "ticks": ""
             }
            },
            "type": "scatter3d"
           }
          ],
          "scattercarpet": [
           {
            "marker": {
             "colorbar": {
              "outlinewidth": 0,
              "ticks": ""
             }
            },
            "type": "scattercarpet"
           }
          ],
          "scattergeo": [
           {
            "marker": {
             "colorbar": {
              "outlinewidth": 0,
              "ticks": ""
             }
            },
            "type": "scattergeo"
           }
          ],
          "scattergl": [
           {
            "marker": {
             "colorbar": {
              "outlinewidth": 0,
              "ticks": ""
             }
            },
            "type": "scattergl"
           }
          ],
          "scattermapbox": [
           {
            "marker": {
             "colorbar": {
              "outlinewidth": 0,
              "ticks": ""
             }
            },
            "type": "scattermapbox"
           }
          ],
          "scatterpolar": [
           {
            "marker": {
             "colorbar": {
              "outlinewidth": 0,
              "ticks": ""
             }
            },
            "type": "scatterpolar"
           }
          ],
          "scatterpolargl": [
           {
            "marker": {
             "colorbar": {
              "outlinewidth": 0,
              "ticks": ""
             }
            },
            "type": "scatterpolargl"
           }
          ],
          "scatterternary": [
           {
            "marker": {
             "colorbar": {
              "outlinewidth": 0,
              "ticks": ""
             }
            },
            "type": "scatterternary"
           }
          ],
          "surface": [
           {
            "colorbar": {
             "outlinewidth": 0,
             "ticks": ""
            },
            "colorscale": [
             [
              0,
              "#0d0887"
             ],
             [
              0.1111111111111111,
              "#46039f"
             ],
             [
              0.2222222222222222,
              "#7201a8"
             ],
             [
              0.3333333333333333,
              "#9c179e"
             ],
             [
              0.4444444444444444,
              "#bd3786"
             ],
             [
              0.5555555555555556,
              "#d8576b"
             ],
             [
              0.6666666666666666,
              "#ed7953"
             ],
             [
              0.7777777777777778,
              "#fb9f3a"
             ],
             [
              0.8888888888888888,
              "#fdca26"
             ],
             [
              1,
              "#f0f921"
             ]
            ],
            "type": "surface"
           }
          ],
          "table": [
           {
            "cells": {
             "fill": {
              "color": "#EBF0F8"
             },
             "line": {
              "color": "white"
             }
            },
            "header": {
             "fill": {
              "color": "#C8D4E3"
             },
             "line": {
              "color": "white"
             }
            },
            "type": "table"
           }
          ]
         },
         "layout": {
          "annotationdefaults": {
           "arrowcolor": "#2a3f5f",
           "arrowhead": 0,
           "arrowwidth": 1
          },
          "coloraxis": {
           "colorbar": {
            "outlinewidth": 0,
            "ticks": ""
           }
          },
          "colorscale": {
           "diverging": [
            [
             0,
             "#8e0152"
            ],
            [
             0.1,
             "#c51b7d"
            ],
            [
             0.2,
             "#de77ae"
            ],
            [
             0.3,
             "#f1b6da"
            ],
            [
             0.4,
             "#fde0ef"
            ],
            [
             0.5,
             "#f7f7f7"
            ],
            [
             0.6,
             "#e6f5d0"
            ],
            [
             0.7,
             "#b8e186"
            ],
            [
             0.8,
             "#7fbc41"
            ],
            [
             0.9,
             "#4d9221"
            ],
            [
             1,
             "#276419"
            ]
           ],
           "sequential": [
            [
             0,
             "#0d0887"
            ],
            [
             0.1111111111111111,
             "#46039f"
            ],
            [
             0.2222222222222222,
             "#7201a8"
            ],
            [
             0.3333333333333333,
             "#9c179e"
            ],
            [
             0.4444444444444444,
             "#bd3786"
            ],
            [
             0.5555555555555556,
             "#d8576b"
            ],
            [
             0.6666666666666666,
             "#ed7953"
            ],
            [
             0.7777777777777778,
             "#fb9f3a"
            ],
            [
             0.8888888888888888,
             "#fdca26"
            ],
            [
             1,
             "#f0f921"
            ]
           ],
           "sequentialminus": [
            [
             0,
             "#0d0887"
            ],
            [
             0.1111111111111111,
             "#46039f"
            ],
            [
             0.2222222222222222,
             "#7201a8"
            ],
            [
             0.3333333333333333,
             "#9c179e"
            ],
            [
             0.4444444444444444,
             "#bd3786"
            ],
            [
             0.5555555555555556,
             "#d8576b"
            ],
            [
             0.6666666666666666,
             "#ed7953"
            ],
            [
             0.7777777777777778,
             "#fb9f3a"
            ],
            [
             0.8888888888888888,
             "#fdca26"
            ],
            [
             1,
             "#f0f921"
            ]
           ]
          },
          "colorway": [
           "#636efa",
           "#EF553B",
           "#00cc96",
           "#ab63fa",
           "#FFA15A",
           "#19d3f3",
           "#FF6692",
           "#B6E880",
           "#FF97FF",
           "#FECB52"
          ],
          "font": {
           "color": "#2a3f5f"
          },
          "geo": {
           "bgcolor": "white",
           "lakecolor": "white",
           "landcolor": "#E5ECF6",
           "showlakes": true,
           "showland": true,
           "subunitcolor": "white"
          },
          "hoverlabel": {
           "align": "left"
          },
          "hovermode": "closest",
          "mapbox": {
           "style": "light"
          },
          "paper_bgcolor": "white",
          "plot_bgcolor": "#E5ECF6",
          "polar": {
           "angularaxis": {
            "gridcolor": "white",
            "linecolor": "white",
            "ticks": ""
           },
           "bgcolor": "#E5ECF6",
           "radialaxis": {
            "gridcolor": "white",
            "linecolor": "white",
            "ticks": ""
           }
          },
          "scene": {
           "xaxis": {
            "backgroundcolor": "#E5ECF6",
            "gridcolor": "white",
            "gridwidth": 2,
            "linecolor": "white",
            "showbackground": true,
            "ticks": "",
            "zerolinecolor": "white"
           },
           "yaxis": {
            "backgroundcolor": "#E5ECF6",
            "gridcolor": "white",
            "gridwidth": 2,
            "linecolor": "white",
            "showbackground": true,
            "ticks": "",
            "zerolinecolor": "white"
           },
           "zaxis": {
            "backgroundcolor": "#E5ECF6",
            "gridcolor": "white",
            "gridwidth": 2,
            "linecolor": "white",
            "showbackground": true,
            "ticks": "",
            "zerolinecolor": "white"
           }
          },
          "shapedefaults": {
           "line": {
            "color": "#2a3f5f"
           }
          },
          "ternary": {
           "aaxis": {
            "gridcolor": "white",
            "linecolor": "white",
            "ticks": ""
           },
           "baxis": {
            "gridcolor": "white",
            "linecolor": "white",
            "ticks": ""
           },
           "bgcolor": "#E5ECF6",
           "caxis": {
            "gridcolor": "white",
            "linecolor": "white",
            "ticks": ""
           }
          },
          "title": {
           "x": 0.05
          },
          "xaxis": {
           "automargin": true,
           "gridcolor": "white",
           "linecolor": "white",
           "ticks": "",
           "title": {
            "standoff": 15
           },
           "zerolinecolor": "white",
           "zerolinewidth": 2
          },
          "yaxis": {
           "automargin": true,
           "gridcolor": "white",
           "linecolor": "white",
           "ticks": "",
           "title": {
            "standoff": 15
           },
           "zerolinecolor": "white",
           "zerolinewidth": 2
          }
         }
        },
        "title": {
         "text": "<b>NUCLEAR STATS"
        }
       }
      },
      "text/html": [
       "<div>\n",
       "        \n",
       "        \n",
       "            <div id=\"829da484-6152-4ce5-b459-3fe658c0a5f0\" class=\"plotly-graph-div\" style=\"height:525px; width:100%;\"></div>\n",
       "            <script type=\"text/javascript\">\n",
       "                require([\"plotly\"], function(Plotly) {\n",
       "                    window.PLOTLYENV=window.PLOTLYENV || {};\n",
       "                    \n",
       "                if (document.getElementById(\"829da484-6152-4ce5-b459-3fe658c0a5f0\")) {\n",
       "                    Plotly.newPlot(\n",
       "                        '829da484-6152-4ce5-b459-3fe658c0a5f0',\n",
       "                        [{\"domain\": {\"x\": [0.0, 0.45], \"y\": [0.625, 1.0]}, \"hole\": 0.4, \"hoverinfo\": \"label+percent+name\", \"labels\": [\"NUCLEAR\", \"OTHERS\"], \"marker\": {\"colors\": [\"rgba(188, 189, 34, 0.8)\", \"rgba(127, 127, 127, 0.8)\"]}, \"name\": \"Energy Mix\", \"textfont\": {\"color\": \"white\", \"size\": 30}, \"type\": \"pie\", \"values\": [40, 60]}, {\"domain\": {\"x\": [0.55, 1.0], \"y\": [0.625, 1.0]}, \"hole\": 0.4, \"hoverinfo\": \"label+percent+name\", \"labels\": [\"NUCLEAR\", \"OTHERS\"], \"name\": \"CO2 Emissions\", \"textfont\": {\"color\": \"white\", \"size\": 30}, \"type\": \"pie\", \"values\": [34, 66]}, {\"domain\": {\"x\": [0.0, 0.45], \"y\": [0.0, 0.375]}, \"hole\": 0.4, \"hoverinfo\": \"label+percent+name\", \"labels\": [\"NUCLEAR\", \"OTHERS\"], \"name\": \"Electricity Mix\", \"rotation\": 60, \"textfont\": {\"color\": \"white\", \"size\": 30}, \"type\": \"pie\", \"values\": [3, 97]}, {\"domain\": {\"x\": [0.55, 1.0], \"y\": [0.0, 0.375]}, \"hole\": 0.4, \"hoverinfo\": \"label+percent+name\", \"labels\": [\"NUCLEAR\", \"OTHERS\"], \"name\": \"Energy Suppiled\", \"textfont\": {\"color\": \"white\", \"size\": 30}, \"type\": \"pie\", \"values\": [32, 68]}],\n",
       "                        {\"annotations\": [{\"font\": {\"size\": 16}, \"showarrow\": false, \"text\": \"<b>Energy Mix\", \"x\": 0.225, \"xanchor\": \"center\", \"xref\": \"paper\", \"y\": 1.0, \"yanchor\": \"bottom\", \"yref\": \"paper\"}, {\"font\": {\"size\": 16}, \"showarrow\": false, \"text\": \"<b>Carbon Emissions\", \"x\": 0.775, \"xanchor\": \"center\", \"xref\": \"paper\", \"y\": 1.0, \"yanchor\": \"bottom\", \"yref\": \"paper\"}, {\"font\": {\"size\": 16}, \"showarrow\": false, \"text\": \"<b>Electricity Mix\", \"x\": 0.225, \"xanchor\": \"center\", \"xref\": \"paper\", \"y\": 0.375, \"yanchor\": \"bottom\", \"yref\": \"paper\"}, {\"font\": {\"size\": 16}, \"showarrow\": false, \"text\": \"<b>Energy Suppiled\", \"x\": 0.775, \"xanchor\": \"center\", \"xref\": \"paper\", \"y\": 0.375, \"yanchor\": \"bottom\", \"yref\": \"paper\"}], \"font\": {\"color\": \"rgba(188, 189, 34, 0.8)\", \"family\": \"Raleway\", \"size\": 30}, \"paper_bgcolor\": \"rgba(127, 127, 127, 0.8)\", \"plot_bgcolor\": \"rgba(127, 127, 127, 0.8)\", \"showlegend\": true, \"template\": {\"data\": {\"bar\": [{\"error_x\": {\"color\": \"#2a3f5f\"}, \"error_y\": {\"color\": \"#2a3f5f\"}, \"marker\": {\"line\": {\"color\": \"#E5ECF6\", \"width\": 0.5}}, \"type\": \"bar\"}], \"barpolar\": [{\"marker\": {\"line\": {\"color\": \"#E5ECF6\", \"width\": 0.5}}, \"type\": \"barpolar\"}], \"carpet\": [{\"aaxis\": {\"endlinecolor\": \"#2a3f5f\", \"gridcolor\": \"white\", \"linecolor\": \"white\", \"minorgridcolor\": \"white\", \"startlinecolor\": \"#2a3f5f\"}, \"baxis\": {\"endlinecolor\": \"#2a3f5f\", \"gridcolor\": \"white\", \"linecolor\": \"white\", \"minorgridcolor\": \"white\", \"startlinecolor\": \"#2a3f5f\"}, \"type\": \"carpet\"}], \"choropleth\": [{\"colorbar\": {\"outlinewidth\": 0, \"ticks\": \"\"}, \"type\": \"choropleth\"}], \"contour\": [{\"colorbar\": {\"outlinewidth\": 0, \"ticks\": \"\"}, \"colorscale\": [[0.0, \"#0d0887\"], [0.1111111111111111, \"#46039f\"], [0.2222222222222222, \"#7201a8\"], [0.3333333333333333, \"#9c179e\"], [0.4444444444444444, \"#bd3786\"], [0.5555555555555556, \"#d8576b\"], [0.6666666666666666, \"#ed7953\"], [0.7777777777777778, \"#fb9f3a\"], [0.8888888888888888, \"#fdca26\"], [1.0, \"#f0f921\"]], \"type\": \"contour\"}], \"contourcarpet\": [{\"colorbar\": {\"outlinewidth\": 0, \"ticks\": \"\"}, \"type\": \"contourcarpet\"}], \"heatmap\": [{\"colorbar\": {\"outlinewidth\": 0, \"ticks\": \"\"}, \"colorscale\": [[0.0, \"#0d0887\"], [0.1111111111111111, \"#46039f\"], [0.2222222222222222, \"#7201a8\"], [0.3333333333333333, \"#9c179e\"], [0.4444444444444444, \"#bd3786\"], [0.5555555555555556, \"#d8576b\"], [0.6666666666666666, \"#ed7953\"], [0.7777777777777778, \"#fb9f3a\"], [0.8888888888888888, \"#fdca26\"], [1.0, \"#f0f921\"]], \"type\": \"heatmap\"}], \"heatmapgl\": [{\"colorbar\": {\"outlinewidth\": 0, \"ticks\": \"\"}, \"colorscale\": [[0.0, \"#0d0887\"], [0.1111111111111111, \"#46039f\"], [0.2222222222222222, \"#7201a8\"], [0.3333333333333333, \"#9c179e\"], [0.4444444444444444, \"#bd3786\"], [0.5555555555555556, \"#d8576b\"], [0.6666666666666666, \"#ed7953\"], [0.7777777777777778, \"#fb9f3a\"], [0.8888888888888888, \"#fdca26\"], [1.0, \"#f0f921\"]], \"type\": \"heatmapgl\"}], \"histogram\": [{\"marker\": {\"colorbar\": {\"outlinewidth\": 0, \"ticks\": \"\"}}, \"type\": \"histogram\"}], \"histogram2d\": [{\"colorbar\": {\"outlinewidth\": 0, \"ticks\": \"\"}, \"colorscale\": [[0.0, \"#0d0887\"], [0.1111111111111111, \"#46039f\"], [0.2222222222222222, \"#7201a8\"], [0.3333333333333333, \"#9c179e\"], [0.4444444444444444, \"#bd3786\"], [0.5555555555555556, \"#d8576b\"], [0.6666666666666666, \"#ed7953\"], [0.7777777777777778, \"#fb9f3a\"], [0.8888888888888888, \"#fdca26\"], [1.0, \"#f0f921\"]], \"type\": \"histogram2d\"}], \"histogram2dcontour\": [{\"colorbar\": {\"outlinewidth\": 0, \"ticks\": \"\"}, \"colorscale\": [[0.0, \"#0d0887\"], [0.1111111111111111, \"#46039f\"], [0.2222222222222222, \"#7201a8\"], [0.3333333333333333, \"#9c179e\"], [0.4444444444444444, \"#bd3786\"], [0.5555555555555556, \"#d8576b\"], [0.6666666666666666, \"#ed7953\"], [0.7777777777777778, \"#fb9f3a\"], [0.8888888888888888, \"#fdca26\"], [1.0, \"#f0f921\"]], \"type\": \"histogram2dcontour\"}], \"mesh3d\": [{\"colorbar\": {\"outlinewidth\": 0, \"ticks\": \"\"}, \"type\": \"mesh3d\"}], \"parcoords\": [{\"line\": {\"colorbar\": {\"outlinewidth\": 0, \"ticks\": \"\"}}, \"type\": \"parcoords\"}], \"pie\": [{\"automargin\": true, \"type\": \"pie\"}], \"scatter\": [{\"marker\": {\"colorbar\": {\"outlinewidth\": 0, \"ticks\": \"\"}}, \"type\": \"scatter\"}], \"scatter3d\": [{\"line\": {\"colorbar\": {\"outlinewidth\": 0, \"ticks\": \"\"}}, \"marker\": {\"colorbar\": {\"outlinewidth\": 0, \"ticks\": \"\"}}, \"type\": \"scatter3d\"}], \"scattercarpet\": [{\"marker\": {\"colorbar\": {\"outlinewidth\": 0, \"ticks\": \"\"}}, \"type\": \"scattercarpet\"}], \"scattergeo\": [{\"marker\": {\"colorbar\": {\"outlinewidth\": 0, \"ticks\": \"\"}}, \"type\": \"scattergeo\"}], \"scattergl\": [{\"marker\": {\"colorbar\": {\"outlinewidth\": 0, \"ticks\": \"\"}}, \"type\": \"scattergl\"}], \"scattermapbox\": [{\"marker\": {\"colorbar\": {\"outlinewidth\": 0, \"ticks\": \"\"}}, \"type\": \"scattermapbox\"}], \"scatterpolar\": [{\"marker\": {\"colorbar\": {\"outlinewidth\": 0, \"ticks\": \"\"}}, \"type\": \"scatterpolar\"}], \"scatterpolargl\": [{\"marker\": {\"colorbar\": {\"outlinewidth\": 0, \"ticks\": \"\"}}, \"type\": \"scatterpolargl\"}], \"scatterternary\": [{\"marker\": {\"colorbar\": {\"outlinewidth\": 0, \"ticks\": \"\"}}, \"type\": \"scatterternary\"}], \"surface\": [{\"colorbar\": {\"outlinewidth\": 0, \"ticks\": \"\"}, \"colorscale\": [[0.0, \"#0d0887\"], [0.1111111111111111, \"#46039f\"], [0.2222222222222222, \"#7201a8\"], [0.3333333333333333, \"#9c179e\"], [0.4444444444444444, \"#bd3786\"], [0.5555555555555556, \"#d8576b\"], [0.6666666666666666, \"#ed7953\"], [0.7777777777777778, \"#fb9f3a\"], [0.8888888888888888, \"#fdca26\"], [1.0, \"#f0f921\"]], \"type\": \"surface\"}], \"table\": [{\"cells\": {\"fill\": {\"color\": \"#EBF0F8\"}, \"line\": {\"color\": \"white\"}}, \"header\": {\"fill\": {\"color\": \"#C8D4E3\"}, \"line\": {\"color\": \"white\"}}, \"type\": \"table\"}]}, \"layout\": {\"annotationdefaults\": {\"arrowcolor\": \"#2a3f5f\", \"arrowhead\": 0, \"arrowwidth\": 1}, \"coloraxis\": {\"colorbar\": {\"outlinewidth\": 0, \"ticks\": \"\"}}, \"colorscale\": {\"diverging\": [[0, \"#8e0152\"], [0.1, \"#c51b7d\"], [0.2, \"#de77ae\"], [0.3, \"#f1b6da\"], [0.4, \"#fde0ef\"], [0.5, \"#f7f7f7\"], [0.6, \"#e6f5d0\"], [0.7, \"#b8e186\"], [0.8, \"#7fbc41\"], [0.9, \"#4d9221\"], [1, \"#276419\"]], \"sequential\": [[0.0, \"#0d0887\"], [0.1111111111111111, \"#46039f\"], [0.2222222222222222, \"#7201a8\"], [0.3333333333333333, \"#9c179e\"], [0.4444444444444444, \"#bd3786\"], [0.5555555555555556, \"#d8576b\"], [0.6666666666666666, \"#ed7953\"], [0.7777777777777778, \"#fb9f3a\"], [0.8888888888888888, \"#fdca26\"], [1.0, \"#f0f921\"]], \"sequentialminus\": [[0.0, \"#0d0887\"], [0.1111111111111111, \"#46039f\"], [0.2222222222222222, \"#7201a8\"], [0.3333333333333333, \"#9c179e\"], [0.4444444444444444, \"#bd3786\"], [0.5555555555555556, \"#d8576b\"], [0.6666666666666666, \"#ed7953\"], [0.7777777777777778, \"#fb9f3a\"], [0.8888888888888888, \"#fdca26\"], [1.0, \"#f0f921\"]]}, \"colorway\": [\"#636efa\", \"#EF553B\", \"#00cc96\", \"#ab63fa\", \"#FFA15A\", \"#19d3f3\", \"#FF6692\", \"#B6E880\", \"#FF97FF\", \"#FECB52\"], \"font\": {\"color\": \"#2a3f5f\"}, \"geo\": {\"bgcolor\": \"white\", \"lakecolor\": \"white\", \"landcolor\": \"#E5ECF6\", \"showlakes\": true, \"showland\": true, \"subunitcolor\": \"white\"}, \"hoverlabel\": {\"align\": \"left\"}, \"hovermode\": \"closest\", \"mapbox\": {\"style\": \"light\"}, \"paper_bgcolor\": \"white\", \"plot_bgcolor\": \"#E5ECF6\", \"polar\": {\"angularaxis\": {\"gridcolor\": \"white\", \"linecolor\": \"white\", \"ticks\": \"\"}, \"bgcolor\": \"#E5ECF6\", \"radialaxis\": {\"gridcolor\": \"white\", \"linecolor\": \"white\", \"ticks\": \"\"}}, \"scene\": {\"xaxis\": {\"backgroundcolor\": \"#E5ECF6\", \"gridcolor\": \"white\", \"gridwidth\": 2, \"linecolor\": \"white\", \"showbackground\": true, \"ticks\": \"\", \"zerolinecolor\": \"white\"}, \"yaxis\": {\"backgroundcolor\": \"#E5ECF6\", \"gridcolor\": \"white\", \"gridwidth\": 2, \"linecolor\": \"white\", \"showbackground\": true, \"ticks\": \"\", \"zerolinecolor\": \"white\"}, \"zaxis\": {\"backgroundcolor\": \"#E5ECF6\", \"gridcolor\": \"white\", \"gridwidth\": 2, \"linecolor\": \"white\", \"showbackground\": true, \"ticks\": \"\", \"zerolinecolor\": \"white\"}}, \"shapedefaults\": {\"line\": {\"color\": \"#2a3f5f\"}}, \"ternary\": {\"aaxis\": {\"gridcolor\": \"white\", \"linecolor\": \"white\", \"ticks\": \"\"}, \"baxis\": {\"gridcolor\": \"white\", \"linecolor\": \"white\", \"ticks\": \"\"}, \"bgcolor\": \"#E5ECF6\", \"caxis\": {\"gridcolor\": \"white\", \"linecolor\": \"white\", \"ticks\": \"\"}}, \"title\": {\"x\": 0.05}, \"xaxis\": {\"automargin\": true, \"gridcolor\": \"white\", \"linecolor\": \"white\", \"ticks\": \"\", \"title\": {\"standoff\": 15}, \"zerolinecolor\": \"white\", \"zerolinewidth\": 2}, \"yaxis\": {\"automargin\": true, \"gridcolor\": \"white\", \"linecolor\": \"white\", \"ticks\": \"\", \"title\": {\"standoff\": 15}, \"zerolinecolor\": \"white\", \"zerolinewidth\": 2}}}, \"title\": {\"text\": \"<b>NUCLEAR STATS\"}},\n",
       "                        {\"responsive\": true}\n",
       "                    ).then(function(){\n",
       "                            \n",
       "var gd = document.getElementById('829da484-6152-4ce5-b459-3fe658c0a5f0');\n",
       "var x = new MutationObserver(function (mutations, observer) {{\n",
       "        var display = window.getComputedStyle(gd).display;\n",
       "        if (!display || display === 'none') {{\n",
       "            console.log([gd, 'removed!']);\n",
       "            Plotly.purge(gd);\n",
       "            observer.disconnect();\n",
       "        }}\n",
       "}});\n",
       "\n",
       "// Listen for the removal of the full notebook cells\n",
       "var notebookContainer = gd.closest('#notebook-container');\n",
       "if (notebookContainer) {{\n",
       "    x.observe(notebookContainer, {childList: true});\n",
       "}}\n",
       "\n",
       "// Listen for the clearing of the current output cell\n",
       "var outputEl = gd.closest('.output');\n",
       "if (outputEl) {{\n",
       "    x.observe(outputEl, {childList: true});\n",
       "}}\n",
       "\n",
       "                        })\n",
       "                };\n",
       "                });\n",
       "            </script>\n",
       "        </div>"
      ]
     },
     "metadata": {},
     "output_type": "display_data"
    }
   ],
   "source": [
    "import plotly.graph_objects as go\n",
    "from plotly.subplots import make_subplots\n",
    "import chart_studio.plotly as py\n",
    "\n",
    "labels = [\"NUCLEAR\", \"OTHERS\"]\n",
    "\n",
    "# Create subplots: use 'domain' type for Pie subplot\n",
    "fig = make_subplots(rows=2, cols=2, specs=[[{'type':'domain'}, {'type':'domain'}],\n",
    "                                          [{'type':'domain'}, {'type':'domain'}]],\n",
    "                   subplot_titles = ('<b>Energy Mix', '<b>Carbon Emissions', '<b>Electricity Mix', '<b>Energy Suppiled'))\n",
    "\n",
    "fig.add_trace(go.Pie(labels=labels, values=[40,60], name=\"Energy Mix\",\n",
    "                     marker =dict(colors = ['rgba(188, 189, 34, 0.8)','rgba(127, 127, 127, 0.8)']),\n",
    "                    textfont = dict(color = 'white', size = 30)),\n",
    "              1, 1,)\n",
    "fig.add_trace(go.Pie(labels=labels, values=[34, 66], name=\"CO2 Emissions\",\n",
    "                    textfont = dict(color = 'white', size = 30)),\n",
    "              1, 2)\n",
    "fig.add_trace(go.Pie(labels=labels, values=[3, 97], name=\"Electricity Mix\",\n",
    "                    textfont = dict(color = 'white', size = 30), rotation = 60),\n",
    "              2, 1)\n",
    "fig.add_trace(go.Pie(labels=labels, values=[32, 68], name=\"Energy Suppiled\",\n",
    "                    textfont = dict(color = 'white', size = 30)),\n",
    "              2, 2)\n",
    "\n",
    "\n",
    "\n",
    "# Use `hole` to create a donut-like pie chart\n",
    "fig.update_traces(hole=.4, hoverinfo=\"label+percent+name\")\n",
    "\n",
    "fig.update_layout(\n",
    "    title=\"<b>NUCLEAR STATS\",\n",
    "    font=dict(size = 30, color = 'rgba(188, 189, 34, 0.8)', family = 'Raleway'),\n",
    "    # Add annotations in the center of the donut pies.\n",
    "    plot_bgcolor='rgba(127, 127, 127, 0.8)',\n",
    "    paper_bgcolor='rgba(127, 127, 127, 0.8)',\n",
    "    showlegend = True\n",
    ")\n",
    "#py.plot(fig, filename = 'ren_stats')\n",
    "fig.show()"
   ]
  },
  {
   "cell_type": "code",
   "execution_count": 82,
   "metadata": {},
   "outputs": [
    {
     "data": {
      "text/plain": [
       "'https://plotly.com/~kingplot/53/'"
      ]
     },
     "execution_count": 82,
     "metadata": {},
     "output_type": "execute_result"
    }
   ],
   "source": [
    "import plotly.graph_objects as go\n",
    "from plotly.subplots import make_subplots\n",
    "import chart_studio.plotly as py\n",
    "\n",
    "\n",
    "# Create subplots: use 'domain' type for Pie subplot\n",
    "#fig = make_subplots(rows=2, cols=2, specs = ['polar'])\n",
    "\n",
    "trace1 = go.Sankey(\n",
    "    valueformat = \".0f\",\n",
    "    valuesuffix = \"TWh\",\n",
    "    node = dict(\n",
    "      pad = 15,\n",
    "      thickness = 15,\n",
    "      line = dict(color = 'black', width = 0.5),\n",
    "      label =  cdf['Labels'].dropna(),\n",
    "        color = '#EEB72B'\n",
    "    ),\n",
    "    textfont = dict(color = 'red', size = 10, family = 'Raleway'),\n",
    "    link = dict(\n",
    "      source =  grid['source'],\n",
    "      target =  grid['target'],\n",
    "      value =  grid['value'],\n",
    "      label =  grid['label'],\n",
    "        color = '#008FFF',\n",
    "  ),\n",
    "    domain={\n",
    "        'x': [0, 0.5]\n",
    "    }\n",
    ")\n",
    "trace2 = go.Sankey(\n",
    "    valueformat = \".0f\",\n",
    "    valuesuffix = \"TWh\",\n",
    "    node = dict(\n",
    "      pad = 15,\n",
    "      thickness = 15,\n",
    "      line = dict(color = \"black\", width = 0.5),\n",
    "      label =  cdf['Labels'].dropna(),\n",
    "        color = '#EEB72B',\n",
    "    ),\n",
    "    textfont = dict(color = 'red', size = 10, family = 'Raleway'),\n",
    "    link = dict(\n",
    "      source =  liquids['source'],\n",
    "      target =  liquids['target'],\n",
    "      value =  liquids['value'],\n",
    "      label =  liquids['label'],\n",
    "        color = 'rgba(23, 190, 207, 0.8)',\n",
    "  ),\n",
    "    domain={\n",
    "        'x': [0.55, 1.0]\n",
    "    }\n",
    ")\n",
    "\n",
    "data = [trace1, trace2]\n",
    "fig = go.Figure(data = data)\n",
    "\n",
    "fig.update_layout(\n",
    "    title=\"<b>ENERGY CARRIERS\",\n",
    "    font=dict(size = 30, color = '#EEB72B', family = 'Raleway'),\n",
    "    # Add annotations in the center of the donut pies.\n",
    "    plot_bgcolor='#242424',\n",
    "    paper_bgcolor='#242424'\n",
    ")\n",
    "py.plot(fig, filename = 'Energy_Carriers')\n",
    "\n",
    "#fig.show()\n"
   ]
  },
  {
   "cell_type": "code",
   "execution_count": 55,
   "metadata": {},
   "outputs": [
    {
     "name": "stdout",
     "output_type": "stream",
     "text": [
      "Help on function make_subplots in module plotly.subplots:\n",
      "\n",
      "make_subplots(rows=1, cols=1, shared_xaxes=False, shared_yaxes=False, start_cell='top-left', print_grid=False, horizontal_spacing=None, vertical_spacing=None, subplot_titles=None, column_widths=None, row_heights=None, specs=None, insets=None, column_titles=None, row_titles=None, x_title=None, y_title=None, **kwargs)\n",
      "    Return an instance of plotly.graph_objs.Figure with predefined subplots\n",
      "    configured in 'layout'.\n",
      "    \n",
      "    Parameters\n",
      "    ----------\n",
      "    rows: int (default 1)\n",
      "        Number of rows in the subplot grid. Must be greater than zero.\n",
      "    \n",
      "    cols: int (default 1)\n",
      "        Number of columns in the subplot grid. Must be greater than zero.\n",
      "    \n",
      "    shared_xaxes: boolean or str (default False)\n",
      "        Assign shared (linked) x-axes for 2D cartesian subplots\n",
      "    \n",
      "          - True or 'columns': Share axes among subplots in the same column\n",
      "          - 'rows': Share axes among subplots in the same row\n",
      "          - 'all': Share axes across all subplots in the grid.\n",
      "    \n",
      "    shared_yaxes: boolean or str (default False)\n",
      "        Assign shared (linked) y-axes for 2D cartesian subplots\n",
      "    \n",
      "          - 'columns': Share axes among subplots in the same column\n",
      "          - True or 'rows': Share axes among subplots in the same row\n",
      "          - 'all': Share axes across all subplots in the grid.\n",
      "    \n",
      "    start_cell: 'bottom-left' or 'top-left' (default 'top-left')\n",
      "        Choose the starting cell in the subplot grid used to set the\n",
      "        domains_grid of the subplots.\n",
      "    \n",
      "          - 'top-left': Subplots are numbered with (1, 1) in the top\n",
      "                        left corner\n",
      "          - 'bottom-left': Subplots are numbererd with (1, 1) in the bottom\n",
      "                           left corner\n",
      "    \n",
      "    print_grid: boolean (default True):\n",
      "        If True, prints a string representation of the plot grid.  Grid may\n",
      "        also be printed using the `Figure.print_grid()` method on the\n",
      "        resulting figure.\n",
      "    \n",
      "    horizontal_spacing: float (default 0.2 / cols)\n",
      "        Space between subplot columns in normalized plot coordinates. Must be\n",
      "        a float between 0 and 1.\n",
      "    \n",
      "        Applies to all columns (use 'specs' subplot-dependents spacing)\n",
      "    \n",
      "    vertical_spacing: float (default 0.3 / rows)\n",
      "        Space between subplot rows in normalized plot coordinates. Must be\n",
      "        a float between 0 and 1.\n",
      "    \n",
      "        Applies to all rows (use 'specs' subplot-dependents spacing)\n",
      "    \n",
      "    subplot_titles: list of str or None (default None)\n",
      "        Title of each subplot as a list in row-major ordering.\n",
      "    \n",
      "        Empty strings (\"\") can be included in the list if no subplot title\n",
      "        is desired in that space so that the titles are properly indexed.\n",
      "    \n",
      "    specs: list of lists of dict or None (default None)\n",
      "        Per subplot specifications of subplot type, row/column spanning, and\n",
      "        spacing.\n",
      "    \n",
      "        ex1: specs=[[{}, {}], [{'colspan': 2}, None]]\n",
      "    \n",
      "        ex2: specs=[[{'rowspan': 2}, {}], [None, {}]]\n",
      "    \n",
      "        - Indices of the outer list correspond to subplot grid rows\n",
      "          starting from the top, if start_cell='top-left',\n",
      "          or bottom, if start_cell='bottom-left'.\n",
      "          The number of rows in 'specs' must be equal to 'rows'.\n",
      "    \n",
      "        - Indices of the inner lists correspond to subplot grid columns\n",
      "          starting from the left. The number of columns in 'specs'\n",
      "          must be equal to 'cols'.\n",
      "    \n",
      "        - Each item in the 'specs' list corresponds to one subplot\n",
      "          in a subplot grid. (N.B. The subplot grid has exactly 'rows'\n",
      "          times 'cols' cells.)\n",
      "    \n",
      "        - Use None for a blank a subplot cell (or to move past a col/row span).\n",
      "    \n",
      "        - Note that specs[0][0] has the specs of the 'start_cell' subplot.\n",
      "    \n",
      "        - Each item in 'specs' is a dictionary.\n",
      "            The available keys are:\n",
      "            * type (string, default 'xy'): Subplot type. One of\n",
      "                - 'xy': 2D Cartesian subplot type for scatter, bar, etc.\n",
      "                - 'scene': 3D Cartesian subplot for scatter3d, cone, etc.\n",
      "                - 'polar': Polar subplot for scatterpolar, barpolar, etc.\n",
      "                - 'ternary': Ternary subplot for scatterternary\n",
      "                - 'mapbox': Mapbox subplot for scattermapbox\n",
      "                - 'domain': Subplot type for traces that are individually\n",
      "                            positioned. pie, parcoords, parcats, etc.\n",
      "                - trace type: A trace type which will be used to determine\n",
      "                              the appropriate subplot type for that trace\n",
      "    \n",
      "            * secondary_y (bool, default False): If True, create a secondary\n",
      "                y-axis positioned on the right side of the subplot. Only valid\n",
      "                if type='xy'.\n",
      "            * colspan (int, default 1): number of subplot columns\n",
      "                for this subplot to span.\n",
      "            * rowspan (int, default 1): number of subplot rows\n",
      "                for this subplot to span.\n",
      "            * l (float, default 0.0): padding left of cell\n",
      "            * r (float, default 0.0): padding right of cell\n",
      "            * t (float, default 0.0): padding right of cell\n",
      "            * b (float, default 0.0): padding bottom of cell\n",
      "    \n",
      "        - Note: Use 'horizontal_spacing' and 'vertical_spacing' to adjust\n",
      "          the spacing in between the subplots.\n",
      "    \n",
      "    insets: list of dict or None (default None):\n",
      "        Inset specifications.  Insets are subplots that overlay grid subplots\n",
      "    \n",
      "        - Each item in 'insets' is a dictionary.\n",
      "            The available keys are:\n",
      "    \n",
      "            * cell (tuple, default=(1,1)): (row, col) index of the\n",
      "                subplot cell to overlay inset axes onto.\n",
      "            * type (string, default 'xy'): Subplot type\n",
      "            * l (float, default=0.0): padding left of inset\n",
      "                  in fraction of cell width\n",
      "            * w (float or 'to_end', default='to_end') inset width\n",
      "                  in fraction of cell width ('to_end': to cell right edge)\n",
      "            * b (float, default=0.0): padding bottom of inset\n",
      "                  in fraction of cell height\n",
      "            * h (float or 'to_end', default='to_end') inset height\n",
      "                  in fraction of cell height ('to_end': to cell top edge)\n",
      "    \n",
      "    column_widths: list of numbers or None (default None)\n",
      "        list of length `cols` of the relative widths of each column of suplots.\n",
      "        Values are normalized internally and used to distribute overall width\n",
      "        of the figure (excluding padding) among the columns.\n",
      "    \n",
      "        For backward compatibility, may also be specified using the\n",
      "        `column_width` keyword argument.\n",
      "    \n",
      "    row_heights: list of numbers or None (default None)\n",
      "        list of length `rows` of the relative heights of each row of subplots.\n",
      "        If start_cell='top-left' then row heights are applied top to bottom.\n",
      "        Otherwise, if start_cell='bottom-left' then row heights are applied\n",
      "        bottom to top.\n",
      "    \n",
      "        For backward compatibility, may also be specified using the\n",
      "        `row_width` kwarg. If specified as `row_width`, then the width values\n",
      "        are applied from bottom to top regardless of the value of start_cell.\n",
      "        This matches the legacy behavior of the `row_width` argument.\n",
      "    \n",
      "    column_titles: list of str or None (default None)\n",
      "        list of length `cols` of titles to place above the top subplot in\n",
      "        each column.\n",
      "    \n",
      "    row_titles: list of str or None (default None)\n",
      "        list of length `rows` of titles to place on the right side of each\n",
      "        row of subplots. If start_cell='top-left' then row titles are\n",
      "        applied top to bottom. Otherwise, if start_cell='bottom-left' then\n",
      "        row titles are applied bottom to top.\n",
      "    \n",
      "    x_title: str or None (default None)\n",
      "        Title to place below the bottom row of subplots,\n",
      "        centered horizontally\n",
      "    \n",
      "    y_title: str or None (default None)\n",
      "        Title to place to the left of the left column of subplots,\n",
      "       centered vertically\n",
      "    \n",
      "    Examples\n",
      "    --------\n",
      "    \n",
      "    Example 1:\n",
      "    \n",
      "    >>> # Stack two subplots vertically, and add a scatter trace to each\n",
      "    >>> from plotly.subplots import make_subplots\n",
      "    >>> import plotly.graph_objects as go\n",
      "    >>> fig = make_subplots(rows=2)\n",
      "    \n",
      "    This is the format of your plot grid:\n",
      "    [ (1,1) xaxis1,yaxis1 ]\n",
      "    [ (2,1) xaxis2,yaxis2 ]\n",
      "    \n",
      "    >>> fig.add_scatter(y=[2, 1, 3], row=1, col=1) # doctest: +ELLIPSIS\n",
      "    Figure(...)\n",
      "    >>> fig.add_scatter(y=[1, 3, 2], row=2, col=1) # doctest: +ELLIPSIS\n",
      "    Figure(...)\n",
      "    \n",
      "    or see Figure.append_trace\n",
      "    \n",
      "    Example 2:\n",
      "    \n",
      "    >>> # Stack a scatter plot\n",
      "    >>> fig = make_subplots(rows=2, shared_xaxes=True)\n",
      "    \n",
      "    This is the format of your plot grid:\n",
      "    [ (1,1) xaxis1,yaxis1 ]\n",
      "    [ (2,1) xaxis2,yaxis2 ]\n",
      "    \n",
      "    >>> fig.add_scatter(y=[2, 1, 3], row=1, col=1) # doctest: +ELLIPSIS\n",
      "    Figure(...)\n",
      "    >>> fig.add_scatter(y=[1, 3, 2], row=2, col=1) # doctest: +ELLIPSIS\n",
      "    Figure(...)\n",
      "    \n",
      "    Example 3:\n",
      "    \n",
      "    >>> # irregular subplot layout (more examples below under 'specs')\n",
      "    >>> fig = make_subplots(rows=2, cols=2,\n",
      "    ...                     specs=[[{}, {}],\n",
      "    ...                     [{'colspan': 2}, None]])\n",
      "    \n",
      "    This is the format of your plot grid:\n",
      "    [ (1,1) xaxis1,yaxis1 ]  [ (1,2) xaxis2,yaxis2 ]\n",
      "    [ (2,1) xaxis3,yaxis3           -              ]\n",
      "    \n",
      "    >>> fig.add_trace(go.Scatter(x=[1,2,3], y=[2,1,2]), row=1, col=1) # doctest: +ELLIPSIS\n",
      "    Figure(...)\n",
      "    >>> fig.add_trace(go.Scatter(x=[1,2,3], y=[2,1,2]), row=1, col=2) # doctest: +ELLIPSIS\n",
      "    Figure(...)\n",
      "    >>> fig.add_trace(go.Scatter(x=[1,2,3], y=[2,1,2]), row=2, col=1) # doctest: +ELLIPSIS\n",
      "    Figure(...)\n",
      "    \n",
      "    Example 4:\n",
      "    \n",
      "    >>> # insets\n",
      "    >>> fig = make_subplots(insets=[{'cell': (1,1), 'l': 0.7, 'b': 0.3}])\n",
      "    \n",
      "    This is the format of your plot grid:\n",
      "    [ (1,1) xaxis1,yaxis1 ]\n",
      "    \n",
      "    With insets:\n",
      "    [ xaxis2,yaxis2 ] over [ (1,1) xaxis1,yaxis1 ]\n",
      "    \n",
      "    >>> fig.add_scatter(x=[1,2,3], y=[2,1,1]) # doctest: +ELLIPSIS\n",
      "    Figure(...)\n",
      "    >>> fig.add_scatter(x=[1,2,3], y=[2,1,2], xaxis='x2', yaxis='y2') # doctest: +ELLIPSIS\n",
      "    Figure(...)\n",
      "    \n",
      "    Example 5:\n",
      "    \n",
      "    >>> # include subplot titles\n",
      "    >>> fig = make_subplots(rows=2, subplot_titles=('Plot 1','Plot 2'))\n",
      "    \n",
      "    This is the format of your plot grid:\n",
      "    [ (1,1) x1,y1 ]\n",
      "    [ (2,1) x2,y2 ]\n",
      "    \n",
      "    >>> fig.add_scatter(x=[1,2,3], y=[2,1,2], row=1, col=1) # doctest: +ELLIPSIS\n",
      "    Figure(...)\n",
      "    >>> fig.add_bar(x=[1,2,3], y=[2,1,2], row=2, col=1) # doctest: +ELLIPSIS\n",
      "    Figure(...)\n",
      "    \n",
      "    Example 6:\n",
      "    \n",
      "    Subplot with mixed subplot types\n",
      "    \n",
      "    >>> fig = make_subplots(rows=2, cols=2,\n",
      "    ...                     specs=[[{'type': 'xy'},    {'type': 'polar'}],\n",
      "    ...                            [{'type': 'scene'}, {'type': 'ternary'}]])\n",
      "    \n",
      "    >>> fig.add_traces(\n",
      "    ...     [go.Scatter(y=[2, 3, 1]),\n",
      "    ...      go.Scatterpolar(r=[1, 3, 2], theta=[0, 45, 90]),\n",
      "    ...      go.Scatter3d(x=[1, 2, 1], y=[2, 3, 1], z=[0, 3, 5]),\n",
      "    ...      go.Scatterternary(a=[0.1, 0.2, 0.1],\n",
      "    ...                        b=[0.2, 0.3, 0.1],\n",
      "    ...                        c=[0.7, 0.5, 0.8])],\n",
      "    ...     rows=[1, 1, 2, 2],\n",
      "    ...     cols=[1, 2, 1, 2]) # doctest: +ELLIPSIS\n",
      "    Figure(...)\n",
      "\n"
     ]
    }
   ],
   "source": [
    "help(make_subplots)"
   ]
  },
  {
   "cell_type": "code",
   "execution_count": 2,
   "metadata": {},
   "outputs": [],
   "source": [
    "tfc = pd.read_csv('TFC.csv')"
   ]
  },
  {
   "cell_type": "code",
   "execution_count": 3,
   "metadata": {},
   "outputs": [
    {
     "data": {
      "text/html": [
       "<div>\n",
       "<style scoped>\n",
       "    .dataframe tbody tr th:only-of-type {\n",
       "        vertical-align: middle;\n",
       "    }\n",
       "\n",
       "    .dataframe tbody tr th {\n",
       "        vertical-align: top;\n",
       "    }\n",
       "\n",
       "    .dataframe thead th {\n",
       "        text-align: right;\n",
       "    }\n",
       "</style>\n",
       "<table border=\"1\" class=\"dataframe\">\n",
       "  <thead>\n",
       "    <tr style=\"text-align: right;\">\n",
       "      <th></th>\n",
       "      <th>Year</th>\n",
       "      <th>Coal</th>\n",
       "      <th>Oil products</th>\n",
       "      <th>Natural gas</th>\n",
       "      <th>Biofuels</th>\n",
       "      <th>Electricity</th>\n",
       "      <th>Units</th>\n",
       "    </tr>\n",
       "  </thead>\n",
       "  <tbody>\n",
       "    <tr>\n",
       "      <th>0</th>\n",
       "      <td>1990</td>\n",
       "      <td>39</td>\n",
       "      <td>6348</td>\n",
       "      <td>716</td>\n",
       "      <td>51536</td>\n",
       "      <td>677</td>\n",
       "      <td>ktoe</td>\n",
       "    </tr>\n",
       "    <tr>\n",
       "      <th>1</th>\n",
       "      <td>1995</td>\n",
       "      <td>12</td>\n",
       "      <td>7203</td>\n",
       "      <td>740</td>\n",
       "      <td>58598</td>\n",
       "      <td>811</td>\n",
       "      <td>ktoe</td>\n",
       "    </tr>\n",
       "    <tr>\n",
       "      <th>2</th>\n",
       "      <td>2000</td>\n",
       "      <td>2</td>\n",
       "      <td>9656</td>\n",
       "      <td>969</td>\n",
       "      <td>66988</td>\n",
       "      <td>743</td>\n",
       "      <td>ktoe</td>\n",
       "    </tr>\n",
       "    <tr>\n",
       "      <th>3</th>\n",
       "      <td>2005</td>\n",
       "      <td>5</td>\n",
       "      <td>12162</td>\n",
       "      <td>2814</td>\n",
       "      <td>77073</td>\n",
       "      <td>1477</td>\n",
       "      <td>ktoe</td>\n",
       "    </tr>\n",
       "    <tr>\n",
       "      <th>4</th>\n",
       "      <td>2010</td>\n",
       "      <td>23</td>\n",
       "      <td>12406</td>\n",
       "      <td>1211</td>\n",
       "      <td>90980</td>\n",
       "      <td>1776</td>\n",
       "      <td>ktoe</td>\n",
       "    </tr>\n",
       "    <tr>\n",
       "      <th>5</th>\n",
       "      <td>2015</td>\n",
       "      <td>29</td>\n",
       "      <td>18168</td>\n",
       "      <td>3763</td>\n",
       "      <td>102742</td>\n",
       "      <td>2136</td>\n",
       "      <td>ktoe</td>\n",
       "    </tr>\n",
       "    <tr>\n",
       "      <th>6</th>\n",
       "      <td>2018</td>\n",
       "      <td>29</td>\n",
       "      <td>24124</td>\n",
       "      <td>3873</td>\n",
       "      <td>110614</td>\n",
       "      <td>2263</td>\n",
       "      <td>ktoe</td>\n",
       "    </tr>\n",
       "  </tbody>\n",
       "</table>\n",
       "</div>"
      ],
      "text/plain": [
       "   Year  Coal  Oil products  Natural gas  Biofuels  Electricity Units\n",
       "0  1990    39          6348          716     51536          677  ktoe\n",
       "1  1995    12          7203          740     58598          811  ktoe\n",
       "2  2000     2          9656          969     66988          743  ktoe\n",
       "3  2005     5         12162         2814     77073         1477  ktoe\n",
       "4  2010    23         12406         1211     90980         1776  ktoe\n",
       "5  2015    29         18168         3763    102742         2136  ktoe\n",
       "6  2018    29         24124         3873    110614         2263  ktoe"
      ]
     },
     "execution_count": 3,
     "metadata": {},
     "output_type": "execute_result"
    }
   ],
   "source": [
    "tfc"
   ]
  },
  {
   "cell_type": "code",
   "execution_count": 12,
   "metadata": {},
   "outputs": [
    {
     "data": {
      "application/vnd.plotly.v1+json": {
       "config": {
        "plotlyServerURL": "https://plotly.com"
       },
       "data": [
        {
         "hoverinfo": "x+y",
         "line": {
          "color": "red",
          "width": 0.5
         },
         "mode": "lines",
         "stackgroup": "one",
         "type": "scatter",
         "x": [
          1990,
          1995,
          2000,
          2005,
          2010,
          2015,
          2018
         ],
         "y": [
          39,
          12,
          2,
          5,
          23,
          29,
          29
         ]
        },
        {
         "hoverinfo": "x+y",
         "line": {
          "color": "blue",
          "width": 0.5
         },
         "mode": "lines",
         "stackgroup": "one",
         "type": "scatter",
         "x": [
          1990,
          1995,
          2000,
          2005,
          2010,
          2015,
          2018
         ],
         "y": [
          6348,
          7203,
          9656,
          12162,
          12406,
          18168,
          24124
         ]
        },
        {
         "hoverinfo": "x+y",
         "line": {
          "color": "purple",
          "width": 0.5
         },
         "mode": "lines",
         "stackgroup": "one",
         "type": "scatter",
         "x": [
          1990,
          1995,
          2000,
          2005,
          2010,
          2015,
          2018
         ],
         "y": [
          "Natural gas"
         ]
        },
        {
         "hoverinfo": "x+y",
         "line": {
          "color": "green",
          "width": 0.5
         },
         "mode": "lines",
         "stackgroup": "one",
         "type": "scatter",
         "x": [
          1990,
          1995,
          2000,
          2005,
          2010,
          2015,
          2018
         ],
         "y": [
          "Biofuels"
         ]
        },
        {
         "hoverinfo": "x+y",
         "line": {
          "color": "yellow",
          "width": 0.5
         },
         "mode": "lines",
         "stackgroup": "one",
         "type": "scatter",
         "x": [
          1990,
          1995,
          2000,
          2005,
          2010,
          2015,
          2018
         ],
         "y": [
          "Electricity"
         ]
        }
       ],
       "layout": {
        "template": {
         "data": {
          "bar": [
           {
            "error_x": {
             "color": "#2a3f5f"
            },
            "error_y": {
             "color": "#2a3f5f"
            },
            "marker": {
             "line": {
              "color": "#E5ECF6",
              "width": 0.5
             }
            },
            "type": "bar"
           }
          ],
          "barpolar": [
           {
            "marker": {
             "line": {
              "color": "#E5ECF6",
              "width": 0.5
             }
            },
            "type": "barpolar"
           }
          ],
          "carpet": [
           {
            "aaxis": {
             "endlinecolor": "#2a3f5f",
             "gridcolor": "white",
             "linecolor": "white",
             "minorgridcolor": "white",
             "startlinecolor": "#2a3f5f"
            },
            "baxis": {
             "endlinecolor": "#2a3f5f",
             "gridcolor": "white",
             "linecolor": "white",
             "minorgridcolor": "white",
             "startlinecolor": "#2a3f5f"
            },
            "type": "carpet"
           }
          ],
          "choropleth": [
           {
            "colorbar": {
             "outlinewidth": 0,
             "ticks": ""
            },
            "type": "choropleth"
           }
          ],
          "contour": [
           {
            "colorbar": {
             "outlinewidth": 0,
             "ticks": ""
            },
            "colorscale": [
             [
              0,
              "#0d0887"
             ],
             [
              0.1111111111111111,
              "#46039f"
             ],
             [
              0.2222222222222222,
              "#7201a8"
             ],
             [
              0.3333333333333333,
              "#9c179e"
             ],
             [
              0.4444444444444444,
              "#bd3786"
             ],
             [
              0.5555555555555556,
              "#d8576b"
             ],
             [
              0.6666666666666666,
              "#ed7953"
             ],
             [
              0.7777777777777778,
              "#fb9f3a"
             ],
             [
              0.8888888888888888,
              "#fdca26"
             ],
             [
              1,
              "#f0f921"
             ]
            ],
            "type": "contour"
           }
          ],
          "contourcarpet": [
           {
            "colorbar": {
             "outlinewidth": 0,
             "ticks": ""
            },
            "type": "contourcarpet"
           }
          ],
          "heatmap": [
           {
            "colorbar": {
             "outlinewidth": 0,
             "ticks": ""
            },
            "colorscale": [
             [
              0,
              "#0d0887"
             ],
             [
              0.1111111111111111,
              "#46039f"
             ],
             [
              0.2222222222222222,
              "#7201a8"
             ],
             [
              0.3333333333333333,
              "#9c179e"
             ],
             [
              0.4444444444444444,
              "#bd3786"
             ],
             [
              0.5555555555555556,
              "#d8576b"
             ],
             [
              0.6666666666666666,
              "#ed7953"
             ],
             [
              0.7777777777777778,
              "#fb9f3a"
             ],
             [
              0.8888888888888888,
              "#fdca26"
             ],
             [
              1,
              "#f0f921"
             ]
            ],
            "type": "heatmap"
           }
          ],
          "heatmapgl": [
           {
            "colorbar": {
             "outlinewidth": 0,
             "ticks": ""
            },
            "colorscale": [
             [
              0,
              "#0d0887"
             ],
             [
              0.1111111111111111,
              "#46039f"
             ],
             [
              0.2222222222222222,
              "#7201a8"
             ],
             [
              0.3333333333333333,
              "#9c179e"
             ],
             [
              0.4444444444444444,
              "#bd3786"
             ],
             [
              0.5555555555555556,
              "#d8576b"
             ],
             [
              0.6666666666666666,
              "#ed7953"
             ],
             [
              0.7777777777777778,
              "#fb9f3a"
             ],
             [
              0.8888888888888888,
              "#fdca26"
             ],
             [
              1,
              "#f0f921"
             ]
            ],
            "type": "heatmapgl"
           }
          ],
          "histogram": [
           {
            "marker": {
             "colorbar": {
              "outlinewidth": 0,
              "ticks": ""
             }
            },
            "type": "histogram"
           }
          ],
          "histogram2d": [
           {
            "colorbar": {
             "outlinewidth": 0,
             "ticks": ""
            },
            "colorscale": [
             [
              0,
              "#0d0887"
             ],
             [
              0.1111111111111111,
              "#46039f"
             ],
             [
              0.2222222222222222,
              "#7201a8"
             ],
             [
              0.3333333333333333,
              "#9c179e"
             ],
             [
              0.4444444444444444,
              "#bd3786"
             ],
             [
              0.5555555555555556,
              "#d8576b"
             ],
             [
              0.6666666666666666,
              "#ed7953"
             ],
             [
              0.7777777777777778,
              "#fb9f3a"
             ],
             [
              0.8888888888888888,
              "#fdca26"
             ],
             [
              1,
              "#f0f921"
             ]
            ],
            "type": "histogram2d"
           }
          ],
          "histogram2dcontour": [
           {
            "colorbar": {
             "outlinewidth": 0,
             "ticks": ""
            },
            "colorscale": [
             [
              0,
              "#0d0887"
             ],
             [
              0.1111111111111111,
              "#46039f"
             ],
             [
              0.2222222222222222,
              "#7201a8"
             ],
             [
              0.3333333333333333,
              "#9c179e"
             ],
             [
              0.4444444444444444,
              "#bd3786"
             ],
             [
              0.5555555555555556,
              "#d8576b"
             ],
             [
              0.6666666666666666,
              "#ed7953"
             ],
             [
              0.7777777777777778,
              "#fb9f3a"
             ],
             [
              0.8888888888888888,
              "#fdca26"
             ],
             [
              1,
              "#f0f921"
             ]
            ],
            "type": "histogram2dcontour"
           }
          ],
          "mesh3d": [
           {
            "colorbar": {
             "outlinewidth": 0,
             "ticks": ""
            },
            "type": "mesh3d"
           }
          ],
          "parcoords": [
           {
            "line": {
             "colorbar": {
              "outlinewidth": 0,
              "ticks": ""
             }
            },
            "type": "parcoords"
           }
          ],
          "pie": [
           {
            "automargin": true,
            "type": "pie"
           }
          ],
          "scatter": [
           {
            "marker": {
             "colorbar": {
              "outlinewidth": 0,
              "ticks": ""
             }
            },
            "type": "scatter"
           }
          ],
          "scatter3d": [
           {
            "line": {
             "colorbar": {
              "outlinewidth": 0,
              "ticks": ""
             }
            },
            "marker": {
             "colorbar": {
              "outlinewidth": 0,
              "ticks": ""
             }
            },
            "type": "scatter3d"
           }
          ],
          "scattercarpet": [
           {
            "marker": {
             "colorbar": {
              "outlinewidth": 0,
              "ticks": ""
             }
            },
            "type": "scattercarpet"
           }
          ],
          "scattergeo": [
           {
            "marker": {
             "colorbar": {
              "outlinewidth": 0,
              "ticks": ""
             }
            },
            "type": "scattergeo"
           }
          ],
          "scattergl": [
           {
            "marker": {
             "colorbar": {
              "outlinewidth": 0,
              "ticks": ""
             }
            },
            "type": "scattergl"
           }
          ],
          "scattermapbox": [
           {
            "marker": {
             "colorbar": {
              "outlinewidth": 0,
              "ticks": ""
             }
            },
            "type": "scattermapbox"
           }
          ],
          "scatterpolar": [
           {
            "marker": {
             "colorbar": {
              "outlinewidth": 0,
              "ticks": ""
             }
            },
            "type": "scatterpolar"
           }
          ],
          "scatterpolargl": [
           {
            "marker": {
             "colorbar": {
              "outlinewidth": 0,
              "ticks": ""
             }
            },
            "type": "scatterpolargl"
           }
          ],
          "scatterternary": [
           {
            "marker": {
             "colorbar": {
              "outlinewidth": 0,
              "ticks": ""
             }
            },
            "type": "scatterternary"
           }
          ],
          "surface": [
           {
            "colorbar": {
             "outlinewidth": 0,
             "ticks": ""
            },
            "colorscale": [
             [
              0,
              "#0d0887"
             ],
             [
              0.1111111111111111,
              "#46039f"
             ],
             [
              0.2222222222222222,
              "#7201a8"
             ],
             [
              0.3333333333333333,
              "#9c179e"
             ],
             [
              0.4444444444444444,
              "#bd3786"
             ],
             [
              0.5555555555555556,
              "#d8576b"
             ],
             [
              0.6666666666666666,
              "#ed7953"
             ],
             [
              0.7777777777777778,
              "#fb9f3a"
             ],
             [
              0.8888888888888888,
              "#fdca26"
             ],
             [
              1,
              "#f0f921"
             ]
            ],
            "type": "surface"
           }
          ],
          "table": [
           {
            "cells": {
             "fill": {
              "color": "#EBF0F8"
             },
             "line": {
              "color": "white"
             }
            },
            "header": {
             "fill": {
              "color": "#C8D4E3"
             },
             "line": {
              "color": "white"
             }
            },
            "type": "table"
           }
          ]
         },
         "layout": {
          "annotationdefaults": {
           "arrowcolor": "#2a3f5f",
           "arrowhead": 0,
           "arrowwidth": 1
          },
          "coloraxis": {
           "colorbar": {
            "outlinewidth": 0,
            "ticks": ""
           }
          },
          "colorscale": {
           "diverging": [
            [
             0,
             "#8e0152"
            ],
            [
             0.1,
             "#c51b7d"
            ],
            [
             0.2,
             "#de77ae"
            ],
            [
             0.3,
             "#f1b6da"
            ],
            [
             0.4,
             "#fde0ef"
            ],
            [
             0.5,
             "#f7f7f7"
            ],
            [
             0.6,
             "#e6f5d0"
            ],
            [
             0.7,
             "#b8e186"
            ],
            [
             0.8,
             "#7fbc41"
            ],
            [
             0.9,
             "#4d9221"
            ],
            [
             1,
             "#276419"
            ]
           ],
           "sequential": [
            [
             0,
             "#0d0887"
            ],
            [
             0.1111111111111111,
             "#46039f"
            ],
            [
             0.2222222222222222,
             "#7201a8"
            ],
            [
             0.3333333333333333,
             "#9c179e"
            ],
            [
             0.4444444444444444,
             "#bd3786"
            ],
            [
             0.5555555555555556,
             "#d8576b"
            ],
            [
             0.6666666666666666,
             "#ed7953"
            ],
            [
             0.7777777777777778,
             "#fb9f3a"
            ],
            [
             0.8888888888888888,
             "#fdca26"
            ],
            [
             1,
             "#f0f921"
            ]
           ],
           "sequentialminus": [
            [
             0,
             "#0d0887"
            ],
            [
             0.1111111111111111,
             "#46039f"
            ],
            [
             0.2222222222222222,
             "#7201a8"
            ],
            [
             0.3333333333333333,
             "#9c179e"
            ],
            [
             0.4444444444444444,
             "#bd3786"
            ],
            [
             0.5555555555555556,
             "#d8576b"
            ],
            [
             0.6666666666666666,
             "#ed7953"
            ],
            [
             0.7777777777777778,
             "#fb9f3a"
            ],
            [
             0.8888888888888888,
             "#fdca26"
            ],
            [
             1,
             "#f0f921"
            ]
           ]
          },
          "colorway": [
           "#636efa",
           "#EF553B",
           "#00cc96",
           "#ab63fa",
           "#FFA15A",
           "#19d3f3",
           "#FF6692",
           "#B6E880",
           "#FF97FF",
           "#FECB52"
          ],
          "font": {
           "color": "#2a3f5f"
          },
          "geo": {
           "bgcolor": "white",
           "lakecolor": "white",
           "landcolor": "#E5ECF6",
           "showlakes": true,
           "showland": true,
           "subunitcolor": "white"
          },
          "hoverlabel": {
           "align": "left"
          },
          "hovermode": "closest",
          "mapbox": {
           "style": "light"
          },
          "paper_bgcolor": "white",
          "plot_bgcolor": "#E5ECF6",
          "polar": {
           "angularaxis": {
            "gridcolor": "white",
            "linecolor": "white",
            "ticks": ""
           },
           "bgcolor": "#E5ECF6",
           "radialaxis": {
            "gridcolor": "white",
            "linecolor": "white",
            "ticks": ""
           }
          },
          "scene": {
           "xaxis": {
            "backgroundcolor": "#E5ECF6",
            "gridcolor": "white",
            "gridwidth": 2,
            "linecolor": "white",
            "showbackground": true,
            "ticks": "",
            "zerolinecolor": "white"
           },
           "yaxis": {
            "backgroundcolor": "#E5ECF6",
            "gridcolor": "white",
            "gridwidth": 2,
            "linecolor": "white",
            "showbackground": true,
            "ticks": "",
            "zerolinecolor": "white"
           },
           "zaxis": {
            "backgroundcolor": "#E5ECF6",
            "gridcolor": "white",
            "gridwidth": 2,
            "linecolor": "white",
            "showbackground": true,
            "ticks": "",
            "zerolinecolor": "white"
           }
          },
          "shapedefaults": {
           "line": {
            "color": "#2a3f5f"
           }
          },
          "ternary": {
           "aaxis": {
            "gridcolor": "white",
            "linecolor": "white",
            "ticks": ""
           },
           "baxis": {
            "gridcolor": "white",
            "linecolor": "white",
            "ticks": ""
           },
           "bgcolor": "#E5ECF6",
           "caxis": {
            "gridcolor": "white",
            "linecolor": "white",
            "ticks": ""
           }
          },
          "title": {
           "x": 0.05
          },
          "xaxis": {
           "automargin": true,
           "gridcolor": "white",
           "linecolor": "white",
           "ticks": "",
           "title": {
            "standoff": 15
           },
           "zerolinecolor": "white",
           "zerolinewidth": 2
          },
          "yaxis": {
           "automargin": true,
           "gridcolor": "white",
           "linecolor": "white",
           "ticks": "",
           "title": {
            "standoff": 15
           },
           "zerolinecolor": "white",
           "zerolinewidth": 2
          }
         }
        },
        "yaxis": {
         "range": [
          0,
          1000
         ]
        }
       }
      },
      "text/html": [
       "<div>\n",
       "        \n",
       "        \n",
       "            <div id=\"5c29b181-6a79-4b1e-950c-1b8f8e9abced\" class=\"plotly-graph-div\" style=\"height:525px; width:100%;\"></div>\n",
       "            <script type=\"text/javascript\">\n",
       "                require([\"plotly\"], function(Plotly) {\n",
       "                    window.PLOTLYENV=window.PLOTLYENV || {};\n",
       "                    \n",
       "                if (document.getElementById(\"5c29b181-6a79-4b1e-950c-1b8f8e9abced\")) {\n",
       "                    Plotly.newPlot(\n",
       "                        '5c29b181-6a79-4b1e-950c-1b8f8e9abced',\n",
       "                        [{\"hoverinfo\": \"x+y\", \"line\": {\"color\": \"red\", \"width\": 0.5}, \"mode\": \"lines\", \"stackgroup\": \"one\", \"type\": \"scatter\", \"x\": [1990, 1995, 2000, 2005, 2010, 2015, 2018], \"y\": [39, 12, 2, 5, 23, 29, 29]}, {\"hoverinfo\": \"x+y\", \"line\": {\"color\": \"blue\", \"width\": 0.5}, \"mode\": \"lines\", \"stackgroup\": \"one\", \"type\": \"scatter\", \"x\": [1990, 1995, 2000, 2005, 2010, 2015, 2018], \"y\": [6348, 7203, 9656, 12162, 12406, 18168, 24124]}, {\"hoverinfo\": \"x+y\", \"line\": {\"color\": \"purple\", \"width\": 0.5}, \"mode\": \"lines\", \"stackgroup\": \"one\", \"type\": \"scatter\", \"x\": [1990, 1995, 2000, 2005, 2010, 2015, 2018], \"y\": [\"Natural gas\"]}, {\"hoverinfo\": \"x+y\", \"line\": {\"color\": \"green\", \"width\": 0.5}, \"mode\": \"lines\", \"stackgroup\": \"one\", \"type\": \"scatter\", \"x\": [1990, 1995, 2000, 2005, 2010, 2015, 2018], \"y\": [\"Biofuels\"]}, {\"hoverinfo\": \"x+y\", \"line\": {\"color\": \"yellow\", \"width\": 0.5}, \"mode\": \"lines\", \"stackgroup\": \"one\", \"type\": \"scatter\", \"x\": [1990, 1995, 2000, 2005, 2010, 2015, 2018], \"y\": [\"Electricity\"]}],\n",
       "                        {\"template\": {\"data\": {\"bar\": [{\"error_x\": {\"color\": \"#2a3f5f\"}, \"error_y\": {\"color\": \"#2a3f5f\"}, \"marker\": {\"line\": {\"color\": \"#E5ECF6\", \"width\": 0.5}}, \"type\": \"bar\"}], \"barpolar\": [{\"marker\": {\"line\": {\"color\": \"#E5ECF6\", \"width\": 0.5}}, \"type\": \"barpolar\"}], \"carpet\": [{\"aaxis\": {\"endlinecolor\": \"#2a3f5f\", \"gridcolor\": \"white\", \"linecolor\": \"white\", \"minorgridcolor\": \"white\", \"startlinecolor\": \"#2a3f5f\"}, \"baxis\": {\"endlinecolor\": \"#2a3f5f\", \"gridcolor\": \"white\", \"linecolor\": \"white\", \"minorgridcolor\": \"white\", \"startlinecolor\": \"#2a3f5f\"}, \"type\": \"carpet\"}], \"choropleth\": [{\"colorbar\": {\"outlinewidth\": 0, \"ticks\": \"\"}, \"type\": \"choropleth\"}], \"contour\": [{\"colorbar\": {\"outlinewidth\": 0, \"ticks\": \"\"}, \"colorscale\": [[0.0, \"#0d0887\"], [0.1111111111111111, \"#46039f\"], [0.2222222222222222, \"#7201a8\"], [0.3333333333333333, \"#9c179e\"], [0.4444444444444444, \"#bd3786\"], [0.5555555555555556, \"#d8576b\"], [0.6666666666666666, \"#ed7953\"], [0.7777777777777778, \"#fb9f3a\"], [0.8888888888888888, \"#fdca26\"], [1.0, \"#f0f921\"]], \"type\": \"contour\"}], \"contourcarpet\": [{\"colorbar\": {\"outlinewidth\": 0, \"ticks\": \"\"}, \"type\": \"contourcarpet\"}], \"heatmap\": [{\"colorbar\": {\"outlinewidth\": 0, \"ticks\": \"\"}, \"colorscale\": [[0.0, \"#0d0887\"], [0.1111111111111111, \"#46039f\"], [0.2222222222222222, \"#7201a8\"], [0.3333333333333333, \"#9c179e\"], [0.4444444444444444, \"#bd3786\"], [0.5555555555555556, \"#d8576b\"], [0.6666666666666666, \"#ed7953\"], [0.7777777777777778, \"#fb9f3a\"], [0.8888888888888888, \"#fdca26\"], [1.0, \"#f0f921\"]], \"type\": \"heatmap\"}], \"heatmapgl\": [{\"colorbar\": {\"outlinewidth\": 0, \"ticks\": \"\"}, \"colorscale\": [[0.0, \"#0d0887\"], [0.1111111111111111, \"#46039f\"], [0.2222222222222222, \"#7201a8\"], [0.3333333333333333, \"#9c179e\"], [0.4444444444444444, \"#bd3786\"], [0.5555555555555556, \"#d8576b\"], [0.6666666666666666, \"#ed7953\"], [0.7777777777777778, \"#fb9f3a\"], [0.8888888888888888, \"#fdca26\"], [1.0, \"#f0f921\"]], \"type\": \"heatmapgl\"}], \"histogram\": [{\"marker\": {\"colorbar\": {\"outlinewidth\": 0, \"ticks\": \"\"}}, \"type\": \"histogram\"}], \"histogram2d\": [{\"colorbar\": {\"outlinewidth\": 0, \"ticks\": \"\"}, \"colorscale\": [[0.0, \"#0d0887\"], [0.1111111111111111, \"#46039f\"], [0.2222222222222222, \"#7201a8\"], [0.3333333333333333, \"#9c179e\"], [0.4444444444444444, \"#bd3786\"], [0.5555555555555556, \"#d8576b\"], [0.6666666666666666, \"#ed7953\"], [0.7777777777777778, \"#fb9f3a\"], [0.8888888888888888, \"#fdca26\"], [1.0, \"#f0f921\"]], \"type\": \"histogram2d\"}], \"histogram2dcontour\": [{\"colorbar\": {\"outlinewidth\": 0, \"ticks\": \"\"}, \"colorscale\": [[0.0, \"#0d0887\"], [0.1111111111111111, \"#46039f\"], [0.2222222222222222, \"#7201a8\"], [0.3333333333333333, \"#9c179e\"], [0.4444444444444444, \"#bd3786\"], [0.5555555555555556, \"#d8576b\"], [0.6666666666666666, \"#ed7953\"], [0.7777777777777778, \"#fb9f3a\"], [0.8888888888888888, \"#fdca26\"], [1.0, \"#f0f921\"]], \"type\": \"histogram2dcontour\"}], \"mesh3d\": [{\"colorbar\": {\"outlinewidth\": 0, \"ticks\": \"\"}, \"type\": \"mesh3d\"}], \"parcoords\": [{\"line\": {\"colorbar\": {\"outlinewidth\": 0, \"ticks\": \"\"}}, \"type\": \"parcoords\"}], \"pie\": [{\"automargin\": true, \"type\": \"pie\"}], \"scatter\": [{\"marker\": {\"colorbar\": {\"outlinewidth\": 0, \"ticks\": \"\"}}, \"type\": \"scatter\"}], \"scatter3d\": [{\"line\": {\"colorbar\": {\"outlinewidth\": 0, \"ticks\": \"\"}}, \"marker\": {\"colorbar\": {\"outlinewidth\": 0, \"ticks\": \"\"}}, \"type\": \"scatter3d\"}], \"scattercarpet\": [{\"marker\": {\"colorbar\": {\"outlinewidth\": 0, \"ticks\": \"\"}}, \"type\": \"scattercarpet\"}], \"scattergeo\": [{\"marker\": {\"colorbar\": {\"outlinewidth\": 0, \"ticks\": \"\"}}, \"type\": \"scattergeo\"}], \"scattergl\": [{\"marker\": {\"colorbar\": {\"outlinewidth\": 0, \"ticks\": \"\"}}, \"type\": \"scattergl\"}], \"scattermapbox\": [{\"marker\": {\"colorbar\": {\"outlinewidth\": 0, \"ticks\": \"\"}}, \"type\": \"scattermapbox\"}], \"scatterpolar\": [{\"marker\": {\"colorbar\": {\"outlinewidth\": 0, \"ticks\": \"\"}}, \"type\": \"scatterpolar\"}], \"scatterpolargl\": [{\"marker\": {\"colorbar\": {\"outlinewidth\": 0, \"ticks\": \"\"}}, \"type\": \"scatterpolargl\"}], \"scatterternary\": [{\"marker\": {\"colorbar\": {\"outlinewidth\": 0, \"ticks\": \"\"}}, \"type\": \"scatterternary\"}], \"surface\": [{\"colorbar\": {\"outlinewidth\": 0, \"ticks\": \"\"}, \"colorscale\": [[0.0, \"#0d0887\"], [0.1111111111111111, \"#46039f\"], [0.2222222222222222, \"#7201a8\"], [0.3333333333333333, \"#9c179e\"], [0.4444444444444444, \"#bd3786\"], [0.5555555555555556, \"#d8576b\"], [0.6666666666666666, \"#ed7953\"], [0.7777777777777778, \"#fb9f3a\"], [0.8888888888888888, \"#fdca26\"], [1.0, \"#f0f921\"]], \"type\": \"surface\"}], \"table\": [{\"cells\": {\"fill\": {\"color\": \"#EBF0F8\"}, \"line\": {\"color\": \"white\"}}, \"header\": {\"fill\": {\"color\": \"#C8D4E3\"}, \"line\": {\"color\": \"white\"}}, \"type\": \"table\"}]}, \"layout\": {\"annotationdefaults\": {\"arrowcolor\": \"#2a3f5f\", \"arrowhead\": 0, \"arrowwidth\": 1}, \"coloraxis\": {\"colorbar\": {\"outlinewidth\": 0, \"ticks\": \"\"}}, \"colorscale\": {\"diverging\": [[0, \"#8e0152\"], [0.1, \"#c51b7d\"], [0.2, \"#de77ae\"], [0.3, \"#f1b6da\"], [0.4, \"#fde0ef\"], [0.5, \"#f7f7f7\"], [0.6, \"#e6f5d0\"], [0.7, \"#b8e186\"], [0.8, \"#7fbc41\"], [0.9, \"#4d9221\"], [1, \"#276419\"]], \"sequential\": [[0.0, \"#0d0887\"], [0.1111111111111111, \"#46039f\"], [0.2222222222222222, \"#7201a8\"], [0.3333333333333333, \"#9c179e\"], [0.4444444444444444, \"#bd3786\"], [0.5555555555555556, \"#d8576b\"], [0.6666666666666666, \"#ed7953\"], [0.7777777777777778, \"#fb9f3a\"], [0.8888888888888888, \"#fdca26\"], [1.0, \"#f0f921\"]], \"sequentialminus\": [[0.0, \"#0d0887\"], [0.1111111111111111, \"#46039f\"], [0.2222222222222222, \"#7201a8\"], [0.3333333333333333, \"#9c179e\"], [0.4444444444444444, \"#bd3786\"], [0.5555555555555556, \"#d8576b\"], [0.6666666666666666, \"#ed7953\"], [0.7777777777777778, \"#fb9f3a\"], [0.8888888888888888, \"#fdca26\"], [1.0, \"#f0f921\"]]}, \"colorway\": [\"#636efa\", \"#EF553B\", \"#00cc96\", \"#ab63fa\", \"#FFA15A\", \"#19d3f3\", \"#FF6692\", \"#B6E880\", \"#FF97FF\", \"#FECB52\"], \"font\": {\"color\": \"#2a3f5f\"}, \"geo\": {\"bgcolor\": \"white\", \"lakecolor\": \"white\", \"landcolor\": \"#E5ECF6\", \"showlakes\": true, \"showland\": true, \"subunitcolor\": \"white\"}, \"hoverlabel\": {\"align\": \"left\"}, \"hovermode\": \"closest\", \"mapbox\": {\"style\": \"light\"}, \"paper_bgcolor\": \"white\", \"plot_bgcolor\": \"#E5ECF6\", \"polar\": {\"angularaxis\": {\"gridcolor\": \"white\", \"linecolor\": \"white\", \"ticks\": \"\"}, \"bgcolor\": \"#E5ECF6\", \"radialaxis\": {\"gridcolor\": \"white\", \"linecolor\": \"white\", \"ticks\": \"\"}}, \"scene\": {\"xaxis\": {\"backgroundcolor\": \"#E5ECF6\", \"gridcolor\": \"white\", \"gridwidth\": 2, \"linecolor\": \"white\", \"showbackground\": true, \"ticks\": \"\", \"zerolinecolor\": \"white\"}, \"yaxis\": {\"backgroundcolor\": \"#E5ECF6\", \"gridcolor\": \"white\", \"gridwidth\": 2, \"linecolor\": \"white\", \"showbackground\": true, \"ticks\": \"\", \"zerolinecolor\": \"white\"}, \"zaxis\": {\"backgroundcolor\": \"#E5ECF6\", \"gridcolor\": \"white\", \"gridwidth\": 2, \"linecolor\": \"white\", \"showbackground\": true, \"ticks\": \"\", \"zerolinecolor\": \"white\"}}, \"shapedefaults\": {\"line\": {\"color\": \"#2a3f5f\"}}, \"ternary\": {\"aaxis\": {\"gridcolor\": \"white\", \"linecolor\": \"white\", \"ticks\": \"\"}, \"baxis\": {\"gridcolor\": \"white\", \"linecolor\": \"white\", \"ticks\": \"\"}, \"bgcolor\": \"#E5ECF6\", \"caxis\": {\"gridcolor\": \"white\", \"linecolor\": \"white\", \"ticks\": \"\"}}, \"title\": {\"x\": 0.05}, \"xaxis\": {\"automargin\": true, \"gridcolor\": \"white\", \"linecolor\": \"white\", \"ticks\": \"\", \"title\": {\"standoff\": 15}, \"zerolinecolor\": \"white\", \"zerolinewidth\": 2}, \"yaxis\": {\"automargin\": true, \"gridcolor\": \"white\", \"linecolor\": \"white\", \"ticks\": \"\", \"title\": {\"standoff\": 15}, \"zerolinecolor\": \"white\", \"zerolinewidth\": 2}}}, \"yaxis\": {\"range\": [0, 1000]}},\n",
       "                        {\"responsive\": true}\n",
       "                    ).then(function(){\n",
       "                            \n",
       "var gd = document.getElementById('5c29b181-6a79-4b1e-950c-1b8f8e9abced');\n",
       "var x = new MutationObserver(function (mutations, observer) {{\n",
       "        var display = window.getComputedStyle(gd).display;\n",
       "        if (!display || display === 'none') {{\n",
       "            console.log([gd, 'removed!']);\n",
       "            Plotly.purge(gd);\n",
       "            observer.disconnect();\n",
       "        }}\n",
       "}});\n",
       "\n",
       "// Listen for the removal of the full notebook cells\n",
       "var notebookContainer = gd.closest('#notebook-container');\n",
       "if (notebookContainer) {{\n",
       "    x.observe(notebookContainer, {childList: true});\n",
       "}}\n",
       "\n",
       "// Listen for the clearing of the current output cell\n",
       "var outputEl = gd.closest('.output');\n",
       "if (outputEl) {{\n",
       "    x.observe(outputEl, {childList: true});\n",
       "}}\n",
       "\n",
       "                        })\n",
       "                };\n",
       "                });\n",
       "            </script>\n",
       "        </div>"
      ]
     },
     "metadata": {},
     "output_type": "display_data"
    }
   ],
   "source": [
    "import plotly.graph_objects as go\n",
    "\n",
    "x= tfc['Year']\n",
    "\n",
    "fig = go.Figure()\n",
    "fig.add_trace(go.Scatter(\n",
    "    x=x, y=tfc['Coal'],\n",
    "    hoverinfo='x+y',\n",
    "    mode='lines',\n",
    "    line=dict(width=0.5, color='red'),\n",
    "    stackgroup='one' # define stack group\n",
    "))\n",
    "fig.add_trace(go.Scatter(\n",
    "    x=x, y=tfc['Oil products'],\n",
    "    hoverinfo='x+y',\n",
    "    mode='lines',\n",
    "    line=dict(width=0.5, color='blue'),\n",
    "    stackgroup='one'\n",
    "))\n",
    "fig.add_trace(go.Scatter(\n",
    "    x=x, y=['Natural gas'],\n",
    "    hoverinfo='x+y',\n",
    "    mode='lines',\n",
    "    line=dict(width=0.5, color='purple'),\n",
    "    stackgroup='one'\n",
    "))\n",
    "fig.add_trace(go.Scatter(\n",
    "    x=x, y=['Biofuels'],\n",
    "    hoverinfo='x+y',\n",
    "    mode='lines',\n",
    "    line=dict(width=0.5, color='green'),\n",
    "    stackgroup='one'\n",
    "))\n",
    "fig.add_trace(go.Scatter(\n",
    "    x=x, y=['Electricity'],\n",
    "    hoverinfo='x+y',\n",
    "    mode='lines',\n",
    "    line=dict(width=0.5, color='yellow'),\n",
    "    stackgroup='one'\n",
    "))\n",
    "\n",
    "fig.update_layout(yaxis_range=(0, 1000))\n",
    "fig.show()\n"
   ]
  },
  {
   "cell_type": "code",
   "execution_count": 6,
   "metadata": {},
   "outputs": [
    {
     "name": "stdout",
     "output_type": "stream",
     "text": [
      "Help on class Scatter in module plotly.graph_objs._scatter:\n",
      "\n",
      "class Scatter(plotly.basedatatypes.BaseTraceType)\n",
      " |  Scatter(arg=None, cliponaxis=None, connectgaps=None, customdata=None, customdatasrc=None, dx=None, dy=None, error_x=None, error_y=None, fill=None, fillcolor=None, groupnorm=None, hoverinfo=None, hoverinfosrc=None, hoverlabel=None, hoveron=None, hovertemplate=None, hovertemplatesrc=None, hovertext=None, hovertextsrc=None, ids=None, idssrc=None, legendgroup=None, line=None, marker=None, meta=None, metasrc=None, mode=None, name=None, opacity=None, orientation=None, r=None, rsrc=None, selected=None, selectedpoints=None, showlegend=None, stackgaps=None, stackgroup=None, stream=None, t=None, text=None, textfont=None, textposition=None, textpositionsrc=None, textsrc=None, texttemplate=None, texttemplatesrc=None, tsrc=None, uid=None, uirevision=None, unselected=None, visible=None, x=None, x0=None, xaxis=None, xcalendar=None, xsrc=None, y=None, y0=None, yaxis=None, ycalendar=None, ysrc=None, **kwargs)\n",
      " |  \n",
      " |  Base class for the all trace types.\n",
      " |  \n",
      " |  Specific trace type classes (Scatter, Bar, etc.) are code generated as\n",
      " |  subclasses of this class.\n",
      " |  \n",
      " |  Method resolution order:\n",
      " |      Scatter\n",
      " |      plotly.basedatatypes.BaseTraceType\n",
      " |      plotly.basedatatypes.BaseTraceHierarchyType\n",
      " |      plotly.basedatatypes.BasePlotlyType\n",
      " |      builtins.object\n",
      " |  \n",
      " |  Methods defined here:\n",
      " |  \n",
      " |  __init__(self, arg=None, cliponaxis=None, connectgaps=None, customdata=None, customdatasrc=None, dx=None, dy=None, error_x=None, error_y=None, fill=None, fillcolor=None, groupnorm=None, hoverinfo=None, hoverinfosrc=None, hoverlabel=None, hoveron=None, hovertemplate=None, hovertemplatesrc=None, hovertext=None, hovertextsrc=None, ids=None, idssrc=None, legendgroup=None, line=None, marker=None, meta=None, metasrc=None, mode=None, name=None, opacity=None, orientation=None, r=None, rsrc=None, selected=None, selectedpoints=None, showlegend=None, stackgaps=None, stackgroup=None, stream=None, t=None, text=None, textfont=None, textposition=None, textpositionsrc=None, textsrc=None, texttemplate=None, texttemplatesrc=None, tsrc=None, uid=None, uirevision=None, unselected=None, visible=None, x=None, x0=None, xaxis=None, xcalendar=None, xsrc=None, y=None, y0=None, yaxis=None, ycalendar=None, ysrc=None, **kwargs)\n",
      " |      Construct a new Scatter object\n",
      " |      \n",
      " |      The scatter trace type encompasses line charts, scatter charts,\n",
      " |      text charts, and bubble charts. The data visualized as scatter\n",
      " |      point or lines is set in `x` and `y`. Text (appearing either on\n",
      " |      the chart or on hover only) is via `text`. Bubble charts are\n",
      " |      achieved by setting `marker.size` and/or `marker.color` to\n",
      " |      numerical arrays.\n",
      " |      \n",
      " |      Parameters\n",
      " |      ----------\n",
      " |      arg\n",
      " |          dict of properties compatible with this constructor or\n",
      " |          an instance of :class:`plotly.graph_objs.Scatter`\n",
      " |      cliponaxis\n",
      " |          Determines whether or not markers and text nodes are\n",
      " |          clipped about the subplot axes. To show markers and\n",
      " |          text nodes above axis lines and tick labels, make sure\n",
      " |          to set `xaxis.layer` and `yaxis.layer` to *below\n",
      " |          traces*.\n",
      " |      connectgaps\n",
      " |          Determines whether or not gaps (i.e. {nan} or missing\n",
      " |          values) in the provided data arrays are connected.\n",
      " |      customdata\n",
      " |          Assigns extra data each datum. This may be useful when\n",
      " |          listening to hover, click and selection events. Note\n",
      " |          that, \"scatter\" traces also appends customdata items in\n",
      " |          the markers DOM elements\n",
      " |      customdatasrc\n",
      " |          Sets the source reference on Chart Studio Cloud for\n",
      " |          customdata .\n",
      " |      dx\n",
      " |          Sets the x coordinate step. See `x0` for more info.\n",
      " |      dy\n",
      " |          Sets the y coordinate step. See `y0` for more info.\n",
      " |      error_x\n",
      " |          :class:`plotly.graph_objects.scatter.ErrorX` instance\n",
      " |          or dict with compatible properties\n",
      " |      error_y\n",
      " |          :class:`plotly.graph_objects.scatter.ErrorY` instance\n",
      " |          or dict with compatible properties\n",
      " |      fill\n",
      " |          Sets the area to fill with a solid color. Defaults to\n",
      " |          \"none\" unless this trace is stacked, then it gets\n",
      " |          \"tonexty\" (\"tonextx\") if `orientation` is \"v\" (\"h\") Use\n",
      " |          with `fillcolor` if not \"none\". \"tozerox\" and \"tozeroy\"\n",
      " |          fill to x=0 and y=0 respectively. \"tonextx\" and\n",
      " |          \"tonexty\" fill between the endpoints of this trace and\n",
      " |          the endpoints of the trace before it, connecting those\n",
      " |          endpoints with straight lines (to make a stacked area\n",
      " |          graph); if there is no trace before it, they behave\n",
      " |          like \"tozerox\" and \"tozeroy\". \"toself\" connects the\n",
      " |          endpoints of the trace (or each segment of the trace if\n",
      " |          it has gaps) into a closed shape. \"tonext\" fills the\n",
      " |          space between two traces if one completely encloses the\n",
      " |          other (eg consecutive contour lines), and behaves like\n",
      " |          \"toself\" if there is no trace before it. \"tonext\"\n",
      " |          should not be used if one trace does not enclose the\n",
      " |          other. Traces in a `stackgroup` will only fill to (or\n",
      " |          be filled to) other traces in the same group. With\n",
      " |          multiple `stackgroup`s or some traces stacked and some\n",
      " |          not, if fill-linked traces are not already consecutive,\n",
      " |          the later ones will be pushed down in the drawing\n",
      " |          order.\n",
      " |      fillcolor\n",
      " |          Sets the fill color. Defaults to a half-transparent\n",
      " |          variant of the line color, marker color, or marker line\n",
      " |          color, whichever is available.\n",
      " |      groupnorm\n",
      " |          Only relevant when `stackgroup` is used, and only the\n",
      " |          first `groupnorm` found in the `stackgroup` will be\n",
      " |          used - including if `visible` is \"legendonly\" but not\n",
      " |          if it is `false`. Sets the normalization for the sum of\n",
      " |          this `stackgroup`. With \"fraction\", the value of each\n",
      " |          trace at each location is divided by the sum of all\n",
      " |          trace values at that location. \"percent\" is the same\n",
      " |          but multiplied by 100 to show percentages. If there are\n",
      " |          multiple subplots, or multiple `stackgroup`s on one\n",
      " |          subplot, each will be normalized within its own set.\n",
      " |      hoverinfo\n",
      " |          Determines which trace information appear on hover. If\n",
      " |          `none` or `skip` are set, no information is displayed\n",
      " |          upon hovering. But, if `none` is set, click and hover\n",
      " |          events are still fired.\n",
      " |      hoverinfosrc\n",
      " |          Sets the source reference on Chart Studio Cloud for\n",
      " |          hoverinfo .\n",
      " |      hoverlabel\n",
      " |          :class:`plotly.graph_objects.scatter.Hoverlabel`\n",
      " |          instance or dict with compatible properties\n",
      " |      hoveron\n",
      " |          Do the hover effects highlight individual points\n",
      " |          (markers or line points) or do they highlight filled\n",
      " |          regions? If the fill is \"toself\" or \"tonext\" and there\n",
      " |          are no markers or text, then the default is \"fills\",\n",
      " |          otherwise it is \"points\".\n",
      " |      hovertemplate\n",
      " |          Template string used for rendering the information that\n",
      " |          appear on hover box. Note that this will override\n",
      " |          `hoverinfo`. Variables are inserted using %{variable},\n",
      " |          for example \"y: %{y}\". Numbers are formatted using\n",
      " |          d3-format's syntax %{variable:d3-format}, for example\n",
      " |          \"Price: %{y:$.2f}\". https://github.com/d3/d3-3.x-api-\n",
      " |          reference/blob/master/Formatting.md#d3_format for\n",
      " |          details on the formatting syntax. Dates are formatted\n",
      " |          using d3-time-format's syntax %{variable|d3-time-\n",
      " |          format}, for example \"Day: %{2019-01-01|%A}\".\n",
      " |          https://github.com/d3/d3-3.x-api-\n",
      " |          reference/blob/master/Time-Formatting.md#format for\n",
      " |          details on the date formatting syntax. The variables\n",
      " |          available in `hovertemplate` are the ones emitted as\n",
      " |          event data described at this link\n",
      " |          https://plotly.com/javascript/plotlyjs-events/#event-\n",
      " |          data. Additionally, every attributes that can be\n",
      " |          specified per-point (the ones that are `arrayOk: true`)\n",
      " |          are available.  Anything contained in tag `<extra>` is\n",
      " |          displayed in the secondary box, for example\n",
      " |          \"<extra>{fullData.name}</extra>\". To hide the secondary\n",
      " |          box completely, use an empty tag `<extra></extra>`.\n",
      " |      hovertemplatesrc\n",
      " |          Sets the source reference on Chart Studio Cloud for\n",
      " |          hovertemplate .\n",
      " |      hovertext\n",
      " |          Sets hover text elements associated with each (x,y)\n",
      " |          pair. If a single string, the same string appears over\n",
      " |          all the data points. If an array of string, the items\n",
      " |          are mapped in order to the this trace's (x,y)\n",
      " |          coordinates. To be seen, trace `hoverinfo` must contain\n",
      " |          a \"text\" flag.\n",
      " |      hovertextsrc\n",
      " |          Sets the source reference on Chart Studio Cloud for\n",
      " |          hovertext .\n",
      " |      ids\n",
      " |          Assigns id labels to each datum. These ids for object\n",
      " |          constancy of data points during animation. Should be an\n",
      " |          array of strings, not numbers or any other type.\n",
      " |      idssrc\n",
      " |          Sets the source reference on Chart Studio Cloud for\n",
      " |          ids .\n",
      " |      legendgroup\n",
      " |          Sets the legend group for this trace. Traces part of\n",
      " |          the same legend group hide/show at the same time when\n",
      " |          toggling legend items.\n",
      " |      line\n",
      " |          :class:`plotly.graph_objects.scatter.Line` instance or\n",
      " |          dict with compatible properties\n",
      " |      marker\n",
      " |          :class:`plotly.graph_objects.scatter.Marker` instance\n",
      " |          or dict with compatible properties\n",
      " |      meta\n",
      " |          Assigns extra meta information associated with this\n",
      " |          trace that can be used in various text attributes.\n",
      " |          Attributes such as trace `name`, graph, axis and\n",
      " |          colorbar `title.text`, annotation `text`\n",
      " |          `rangeselector`, `updatemenues` and `sliders` `label`\n",
      " |          text all support `meta`. To access the trace `meta`\n",
      " |          values in an attribute in the same trace, simply use\n",
      " |          `%{meta[i]}` where `i` is the index or key of the\n",
      " |          `meta` item in question. To access trace `meta` in\n",
      " |          layout attributes, use `%{data[n[.meta[i]}` where `i`\n",
      " |          is the index or key of the `meta` and `n` is the trace\n",
      " |          index.\n",
      " |      metasrc\n",
      " |          Sets the source reference on Chart Studio Cloud for\n",
      " |          meta .\n",
      " |      mode\n",
      " |          Determines the drawing mode for this scatter trace. If\n",
      " |          the provided `mode` includes \"text\" then the `text`\n",
      " |          elements appear at the coordinates. Otherwise, the\n",
      " |          `text` elements appear on hover. If there are less than\n",
      " |          20 points and the trace is not stacked then the default\n",
      " |          is \"lines+markers\". Otherwise, \"lines\".\n",
      " |      name\n",
      " |          Sets the trace name. The trace name appear as the\n",
      " |          legend item and on hover.\n",
      " |      opacity\n",
      " |          Sets the opacity of the trace.\n",
      " |      orientation\n",
      " |          Only relevant when `stackgroup` is used, and only the\n",
      " |          first `orientation` found in the `stackgroup` will be\n",
      " |          used - including if `visible` is \"legendonly\" but not\n",
      " |          if it is `false`. Sets the stacking direction. With \"v\"\n",
      " |          (\"h\"), the y (x) values of subsequent traces are added.\n",
      " |          Also affects the default value of `fill`.\n",
      " |      r\n",
      " |          r coordinates in scatter traces are deprecated!Please\n",
      " |          switch to the \"scatterpolar\" trace type.Sets the radial\n",
      " |          coordinatesfor legacy polar chart only.\n",
      " |      rsrc\n",
      " |          Sets the source reference on Chart Studio Cloud for  r\n",
      " |          .\n",
      " |      selected\n",
      " |          :class:`plotly.graph_objects.scatter.Selected` instance\n",
      " |          or dict with compatible properties\n",
      " |      selectedpoints\n",
      " |          Array containing integer indices of selected points.\n",
      " |          Has an effect only for traces that support selections.\n",
      " |          Note that an empty array means an empty selection where\n",
      " |          the `unselected` are turned on for all points, whereas,\n",
      " |          any other non-array values means no selection all where\n",
      " |          the `selected` and `unselected` styles have no effect.\n",
      " |      showlegend\n",
      " |          Determines whether or not an item corresponding to this\n",
      " |          trace is shown in the legend.\n",
      " |      stackgaps\n",
      " |          Only relevant when `stackgroup` is used, and only the\n",
      " |          first `stackgaps` found in the `stackgroup` will be\n",
      " |          used - including if `visible` is \"legendonly\" but not\n",
      " |          if it is `false`. Determines how we handle locations at\n",
      " |          which other traces in this group have data but this one\n",
      " |          does not. With *infer zero* we insert a zero at these\n",
      " |          locations. With \"interpolate\" we linearly interpolate\n",
      " |          between existing values, and extrapolate a constant\n",
      " |          beyond the existing values.\n",
      " |      stackgroup\n",
      " |          Set several scatter traces (on the same subplot) to the\n",
      " |          same stackgroup in order to add their y values (or\n",
      " |          their x values if `orientation` is \"h\"). If blank or\n",
      " |          omitted this trace will not be stacked. Stacking also\n",
      " |          turns `fill` on by default, using \"tonexty\" (\"tonextx\")\n",
      " |          if `orientation` is \"h\" (\"v\") and sets the default\n",
      " |          `mode` to \"lines\" irrespective of point count. You can\n",
      " |          only stack on a numeric (linear or log) axis. Traces in\n",
      " |          a `stackgroup` will only fill to (or be filled to)\n",
      " |          other traces in the same group. With multiple\n",
      " |          `stackgroup`s or some traces stacked and some not, if\n",
      " |          fill-linked traces are not already consecutive, the\n",
      " |          later ones will be pushed down in the drawing order.\n",
      " |      stream\n",
      " |          :class:`plotly.graph_objects.scatter.Stream` instance\n",
      " |          or dict with compatible properties\n",
      " |      t\n",
      " |          t coordinates in scatter traces are deprecated!Please\n",
      " |          switch to the \"scatterpolar\" trace type.Sets the\n",
      " |          angular coordinatesfor legacy polar chart only.\n",
      " |      text\n",
      " |          Sets text elements associated with each (x,y) pair. If\n",
      " |          a single string, the same string appears over all the\n",
      " |          data points. If an array of string, the items are\n",
      " |          mapped in order to the this trace's (x,y) coordinates.\n",
      " |          If trace `hoverinfo` contains a \"text\" flag and\n",
      " |          \"hovertext\" is not set, these elements will be seen in\n",
      " |          the hover labels.\n",
      " |      textfont\n",
      " |          Sets the text font.\n",
      " |      textposition\n",
      " |          Sets the positions of the `text` elements with respects\n",
      " |          to the (x,y) coordinates.\n",
      " |      textpositionsrc\n",
      " |          Sets the source reference on Chart Studio Cloud for\n",
      " |          textposition .\n",
      " |      textsrc\n",
      " |          Sets the source reference on Chart Studio Cloud for\n",
      " |          text .\n",
      " |      texttemplate\n",
      " |          Template string used for rendering the information text\n",
      " |          that appear on points. Note that this will override\n",
      " |          `textinfo`. Variables are inserted using %{variable},\n",
      " |          for example \"y: %{y}\". Numbers are formatted using\n",
      " |          d3-format's syntax %{variable:d3-format}, for example\n",
      " |          \"Price: %{y:$.2f}\". https://github.com/d3/d3-3.x-api-\n",
      " |          reference/blob/master/Formatting.md#d3_format for\n",
      " |          details on the formatting syntax. Dates are formatted\n",
      " |          using d3-time-format's syntax %{variable|d3-time-\n",
      " |          format}, for example \"Day: %{2019-01-01|%A}\".\n",
      " |          https://github.com/d3/d3-3.x-api-\n",
      " |          reference/blob/master/Time-Formatting.md#format for\n",
      " |          details on the date formatting syntax. Every attributes\n",
      " |          that can be specified per-point (the ones that are\n",
      " |          `arrayOk: true`) are available.\n",
      " |      texttemplatesrc\n",
      " |          Sets the source reference on Chart Studio Cloud for\n",
      " |          texttemplate .\n",
      " |      tsrc\n",
      " |          Sets the source reference on Chart Studio Cloud for  t\n",
      " |          .\n",
      " |      uid\n",
      " |          Assign an id to this trace, Use this to provide object\n",
      " |          constancy between traces during animations and\n",
      " |          transitions.\n",
      " |      uirevision\n",
      " |          Controls persistence of some user-driven changes to the\n",
      " |          trace: `constraintrange` in `parcoords` traces, as well\n",
      " |          as some `editable: true` modifications such as `name`\n",
      " |          and `colorbar.title`. Defaults to `layout.uirevision`.\n",
      " |          Note that other user-driven trace attribute changes are\n",
      " |          controlled by `layout` attributes: `trace.visible` is\n",
      " |          controlled by `layout.legend.uirevision`,\n",
      " |          `selectedpoints` is controlled by\n",
      " |          `layout.selectionrevision`, and `colorbar.(x|y)`\n",
      " |          (accessible with `config: {editable: true}`) is\n",
      " |          controlled by `layout.editrevision`. Trace changes are\n",
      " |          tracked by `uid`, which only falls back on trace index\n",
      " |          if no `uid` is provided. So if your app can add/remove\n",
      " |          traces before the end of the `data` array, such that\n",
      " |          the same trace has a different index, you can still\n",
      " |          preserve user-driven changes if you give each trace a\n",
      " |          `uid` that stays with it as it moves.\n",
      " |      unselected\n",
      " |          :class:`plotly.graph_objects.scatter.Unselected`\n",
      " |          instance or dict with compatible properties\n",
      " |      visible\n",
      " |          Determines whether or not this trace is visible. If\n",
      " |          \"legendonly\", the trace is not drawn, but can appear as\n",
      " |          a legend item (provided that the legend itself is\n",
      " |          visible).\n",
      " |      x\n",
      " |          Sets the x coordinates.\n",
      " |      x0\n",
      " |          Alternate to `x`. Builds a linear space of x\n",
      " |          coordinates. Use with `dx` where `x0` is the starting\n",
      " |          coordinate and `dx` the step.\n",
      " |      xaxis\n",
      " |          Sets a reference between this trace's x coordinates and\n",
      " |          a 2D cartesian x axis. If \"x\" (the default value), the\n",
      " |          x coordinates refer to `layout.xaxis`. If \"x2\", the x\n",
      " |          coordinates refer to `layout.xaxis2`, and so on.\n",
      " |      xcalendar\n",
      " |          Sets the calendar system to use with `x` date data.\n",
      " |      xsrc\n",
      " |          Sets the source reference on Chart Studio Cloud for  x\n",
      " |          .\n",
      " |      y\n",
      " |          Sets the y coordinates.\n",
      " |      y0\n",
      " |          Alternate to `y`. Builds a linear space of y\n",
      " |          coordinates. Use with `dy` where `y0` is the starting\n",
      " |          coordinate and `dy` the step.\n",
      " |      yaxis\n",
      " |          Sets a reference between this trace's y coordinates and\n",
      " |          a 2D cartesian y axis. If \"y\" (the default value), the\n",
      " |          y coordinates refer to `layout.yaxis`. If \"y2\", the y\n",
      " |          coordinates refer to `layout.yaxis2`, and so on.\n",
      " |      ycalendar\n",
      " |          Sets the calendar system to use with `y` date data.\n",
      " |      ysrc\n",
      " |          Sets the source reference on Chart Studio Cloud for  y\n",
      " |          .\n",
      " |      \n",
      " |      Returns\n",
      " |      -------\n",
      " |      Scatter\n",
      " |  \n",
      " |  ----------------------------------------------------------------------\n",
      " |  Readonly properties defined here:\n",
      " |  \n",
      " |  type\n",
      " |  \n",
      " |  ----------------------------------------------------------------------\n",
      " |  Data descriptors defined here:\n",
      " |  \n",
      " |  cliponaxis\n",
      " |      Determines whether or not markers and text nodes are clipped\n",
      " |      about the subplot axes. To show markers and text nodes above\n",
      " |      axis lines and tick labels, make sure to set `xaxis.layer` and\n",
      " |      `yaxis.layer` to *below traces*.\n",
      " |      \n",
      " |      The 'cliponaxis' property must be specified as a bool\n",
      " |      (either True, or False)\n",
      " |      \n",
      " |      Returns\n",
      " |      -------\n",
      " |      bool\n",
      " |  \n",
      " |  connectgaps\n",
      " |      Determines whether or not gaps (i.e. {nan} or missing values)\n",
      " |      in the provided data arrays are connected.\n",
      " |      \n",
      " |      The 'connectgaps' property must be specified as a bool\n",
      " |      (either True, or False)\n",
      " |      \n",
      " |      Returns\n",
      " |      -------\n",
      " |      bool\n",
      " |  \n",
      " |  customdata\n",
      " |      Assigns extra data each datum. This may be useful when\n",
      " |      listening to hover, click and selection events. Note that,\n",
      " |      \"scatter\" traces also appends customdata items in the markers\n",
      " |      DOM elements\n",
      " |      \n",
      " |      The 'customdata' property is an array that may be specified as a tuple,\n",
      " |      list, numpy array, or pandas Series\n",
      " |      \n",
      " |      Returns\n",
      " |      -------\n",
      " |      numpy.ndarray\n",
      " |  \n",
      " |  customdatasrc\n",
      " |      Sets the source reference on Chart Studio Cloud for  customdata\n",
      " |      .\n",
      " |      \n",
      " |      The 'customdatasrc' property must be specified as a string or\n",
      " |      as a plotly.grid_objs.Column object\n",
      " |      \n",
      " |      Returns\n",
      " |      -------\n",
      " |      str\n",
      " |  \n",
      " |  dx\n",
      " |      Sets the x coordinate step. See `x0` for more info.\n",
      " |      \n",
      " |      The 'dx' property is a number and may be specified as:\n",
      " |        - An int or float\n",
      " |      \n",
      " |      Returns\n",
      " |      -------\n",
      " |      int|float\n",
      " |  \n",
      " |  dy\n",
      " |      Sets the y coordinate step. See `y0` for more info.\n",
      " |      \n",
      " |      The 'dy' property is a number and may be specified as:\n",
      " |        - An int or float\n",
      " |      \n",
      " |      Returns\n",
      " |      -------\n",
      " |      int|float\n",
      " |  \n",
      " |  error_x\n",
      " |      The 'error_x' property is an instance of ErrorX\n",
      " |      that may be specified as:\n",
      " |        - An instance of :class:`plotly.graph_objs.scatter.ErrorX`\n",
      " |        - A dict of string/value properties that will be passed\n",
      " |          to the ErrorX constructor\n",
      " |      \n",
      " |          Supported dict properties:\n",
      " |              \n",
      " |              array\n",
      " |                  Sets the data corresponding the length of each\n",
      " |                  error bar. Values are plotted relative to the\n",
      " |                  underlying data.\n",
      " |              arrayminus\n",
      " |                  Sets the data corresponding the length of each\n",
      " |                  error bar in the bottom (left) direction for\n",
      " |                  vertical (horizontal) bars Values are plotted\n",
      " |                  relative to the underlying data.\n",
      " |              arrayminussrc\n",
      " |                  Sets the source reference on Chart Studio Cloud\n",
      " |                  for  arrayminus .\n",
      " |              arraysrc\n",
      " |                  Sets the source reference on Chart Studio Cloud\n",
      " |                  for  array .\n",
      " |              color\n",
      " |                  Sets the stoke color of the error bars.\n",
      " |              copy_ystyle\n",
      " |      \n",
      " |              symmetric\n",
      " |                  Determines whether or not the error bars have\n",
      " |                  the same length in both direction (top/bottom\n",
      " |                  for vertical bars, left/right for horizontal\n",
      " |                  bars.\n",
      " |              thickness\n",
      " |                  Sets the thickness (in px) of the error bars.\n",
      " |              traceref\n",
      " |      \n",
      " |              tracerefminus\n",
      " |      \n",
      " |              type\n",
      " |                  Determines the rule used to generate the error\n",
      " |                  bars. If *constant`, the bar lengths are of a\n",
      " |                  constant value. Set this constant in `value`.\n",
      " |                  If \"percent\", the bar lengths correspond to a\n",
      " |                  percentage of underlying data. Set this\n",
      " |                  percentage in `value`. If \"sqrt\", the bar\n",
      " |                  lengths correspond to the sqaure of the\n",
      " |                  underlying data. If \"data\", the bar lengths are\n",
      " |                  set with data set `array`.\n",
      " |              value\n",
      " |                  Sets the value of either the percentage (if\n",
      " |                  `type` is set to \"percent\") or the constant (if\n",
      " |                  `type` is set to \"constant\") corresponding to\n",
      " |                  the lengths of the error bars.\n",
      " |              valueminus\n",
      " |                  Sets the value of either the percentage (if\n",
      " |                  `type` is set to \"percent\") or the constant (if\n",
      " |                  `type` is set to \"constant\") corresponding to\n",
      " |                  the lengths of the error bars in the bottom\n",
      " |                  (left) direction for vertical (horizontal) bars\n",
      " |              visible\n",
      " |                  Determines whether or not this set of error\n",
      " |                  bars is visible.\n",
      " |              width\n",
      " |                  Sets the width (in px) of the cross-bar at both\n",
      " |                  ends of the error bars.\n",
      " |      \n",
      " |      Returns\n",
      " |      -------\n",
      " |      plotly.graph_objs.scatter.ErrorX\n",
      " |  \n",
      " |  error_y\n",
      " |      The 'error_y' property is an instance of ErrorY\n",
      " |      that may be specified as:\n",
      " |        - An instance of :class:`plotly.graph_objs.scatter.ErrorY`\n",
      " |        - A dict of string/value properties that will be passed\n",
      " |          to the ErrorY constructor\n",
      " |      \n",
      " |          Supported dict properties:\n",
      " |              \n",
      " |              array\n",
      " |                  Sets the data corresponding the length of each\n",
      " |                  error bar. Values are plotted relative to the\n",
      " |                  underlying data.\n",
      " |              arrayminus\n",
      " |                  Sets the data corresponding the length of each\n",
      " |                  error bar in the bottom (left) direction for\n",
      " |                  vertical (horizontal) bars Values are plotted\n",
      " |                  relative to the underlying data.\n",
      " |              arrayminussrc\n",
      " |                  Sets the source reference on Chart Studio Cloud\n",
      " |                  for  arrayminus .\n",
      " |              arraysrc\n",
      " |                  Sets the source reference on Chart Studio Cloud\n",
      " |                  for  array .\n",
      " |              color\n",
      " |                  Sets the stoke color of the error bars.\n",
      " |              symmetric\n",
      " |                  Determines whether or not the error bars have\n",
      " |                  the same length in both direction (top/bottom\n",
      " |                  for vertical bars, left/right for horizontal\n",
      " |                  bars.\n",
      " |              thickness\n",
      " |                  Sets the thickness (in px) of the error bars.\n",
      " |              traceref\n",
      " |      \n",
      " |              tracerefminus\n",
      " |      \n",
      " |              type\n",
      " |                  Determines the rule used to generate the error\n",
      " |                  bars. If *constant`, the bar lengths are of a\n",
      " |                  constant value. Set this constant in `value`.\n",
      " |                  If \"percent\", the bar lengths correspond to a\n",
      " |                  percentage of underlying data. Set this\n",
      " |                  percentage in `value`. If \"sqrt\", the bar\n",
      " |                  lengths correspond to the sqaure of the\n",
      " |                  underlying data. If \"data\", the bar lengths are\n",
      " |                  set with data set `array`.\n",
      " |              value\n",
      " |                  Sets the value of either the percentage (if\n",
      " |                  `type` is set to \"percent\") or the constant (if\n",
      " |                  `type` is set to \"constant\") corresponding to\n",
      " |                  the lengths of the error bars.\n",
      " |              valueminus\n",
      " |                  Sets the value of either the percentage (if\n",
      " |                  `type` is set to \"percent\") or the constant (if\n",
      " |                  `type` is set to \"constant\") corresponding to\n",
      " |                  the lengths of the error bars in the bottom\n",
      " |                  (left) direction for vertical (horizontal) bars\n",
      " |              visible\n",
      " |                  Determines whether or not this set of error\n",
      " |                  bars is visible.\n",
      " |              width\n",
      " |                  Sets the width (in px) of the cross-bar at both\n",
      " |                  ends of the error bars.\n",
      " |      \n",
      " |      Returns\n",
      " |      -------\n",
      " |      plotly.graph_objs.scatter.ErrorY\n",
      " |  \n",
      " |  fill\n",
      " |      Sets the area to fill with a solid color. Defaults to \"none\"\n",
      " |      unless this trace is stacked, then it gets \"tonexty\"\n",
      " |      (\"tonextx\") if `orientation` is \"v\" (\"h\") Use with `fillcolor`\n",
      " |      if not \"none\". \"tozerox\" and \"tozeroy\" fill to x=0 and y=0\n",
      " |      respectively. \"tonextx\" and \"tonexty\" fill between the\n",
      " |      endpoints of this trace and the endpoints of the trace before\n",
      " |      it, connecting those endpoints with straight lines (to make a\n",
      " |      stacked area graph); if there is no trace before it, they\n",
      " |      behave like \"tozerox\" and \"tozeroy\". \"toself\" connects the\n",
      " |      endpoints of the trace (or each segment of the trace if it has\n",
      " |      gaps) into a closed shape. \"tonext\" fills the space between two\n",
      " |      traces if one completely encloses the other (eg consecutive\n",
      " |      contour lines), and behaves like \"toself\" if there is no trace\n",
      " |      before it. \"tonext\" should not be used if one trace does not\n",
      " |      enclose the other. Traces in a `stackgroup` will only fill to\n",
      " |      (or be filled to) other traces in the same group. With multiple\n",
      " |      `stackgroup`s or some traces stacked and some not, if fill-\n",
      " |      linked traces are not already consecutive, the later ones will\n",
      " |      be pushed down in the drawing order.\n",
      " |      \n",
      " |      The 'fill' property is an enumeration that may be specified as:\n",
      " |        - One of the following enumeration values:\n",
      " |              ['none', 'tozeroy', 'tozerox', 'tonexty', 'tonextx',\n",
      " |              'toself', 'tonext']\n",
      " |      \n",
      " |      Returns\n",
      " |      -------\n",
      " |      Any\n",
      " |  \n",
      " |  fillcolor\n",
      " |      Sets the fill color. Defaults to a half-transparent variant of\n",
      " |      the line color, marker color, or marker line color, whichever\n",
      " |      is available.\n",
      " |      \n",
      " |      The 'fillcolor' property is a color and may be specified as:\n",
      " |        - A hex string (e.g. '#ff0000')\n",
      " |        - An rgb/rgba string (e.g. 'rgb(255,0,0)')\n",
      " |        - An hsl/hsla string (e.g. 'hsl(0,100%,50%)')\n",
      " |        - An hsv/hsva string (e.g. 'hsv(0,100%,100%)')\n",
      " |        - A named CSS color:\n",
      " |              aliceblue, antiquewhite, aqua, aquamarine, azure,\n",
      " |              beige, bisque, black, blanchedalmond, blue,\n",
      " |              blueviolet, brown, burlywood, cadetblue,\n",
      " |              chartreuse, chocolate, coral, cornflowerblue,\n",
      " |              cornsilk, crimson, cyan, darkblue, darkcyan,\n",
      " |              darkgoldenrod, darkgray, darkgrey, darkgreen,\n",
      " |              darkkhaki, darkmagenta, darkolivegreen, darkorange,\n",
      " |              darkorchid, darkred, darksalmon, darkseagreen,\n",
      " |              darkslateblue, darkslategray, darkslategrey,\n",
      " |              darkturquoise, darkviolet, deeppink, deepskyblue,\n",
      " |              dimgray, dimgrey, dodgerblue, firebrick,\n",
      " |              floralwhite, forestgreen, fuchsia, gainsboro,\n",
      " |              ghostwhite, gold, goldenrod, gray, grey, green,\n",
      " |              greenyellow, honeydew, hotpink, indianred, indigo,\n",
      " |              ivory, khaki, lavender, lavenderblush, lawngreen,\n",
      " |              lemonchiffon, lightblue, lightcoral, lightcyan,\n",
      " |              lightgoldenrodyellow, lightgray, lightgrey,\n",
      " |              lightgreen, lightpink, lightsalmon, lightseagreen,\n",
      " |              lightskyblue, lightslategray, lightslategrey,\n",
      " |              lightsteelblue, lightyellow, lime, limegreen,\n",
      " |              linen, magenta, maroon, mediumaquamarine,\n",
      " |              mediumblue, mediumorchid, mediumpurple,\n",
      " |              mediumseagreen, mediumslateblue, mediumspringgreen,\n",
      " |              mediumturquoise, mediumvioletred, midnightblue,\n",
      " |              mintcream, mistyrose, moccasin, navajowhite, navy,\n",
      " |              oldlace, olive, olivedrab, orange, orangered,\n",
      " |              orchid, palegoldenrod, palegreen, paleturquoise,\n",
      " |              palevioletred, papayawhip, peachpuff, peru, pink,\n",
      " |              plum, powderblue, purple, red, rosybrown,\n",
      " |              royalblue, rebeccapurple, saddlebrown, salmon,\n",
      " |              sandybrown, seagreen, seashell, sienna, silver,\n",
      " |              skyblue, slateblue, slategray, slategrey, snow,\n",
      " |              springgreen, steelblue, tan, teal, thistle, tomato,\n",
      " |              turquoise, violet, wheat, white, whitesmoke,\n",
      " |              yellow, yellowgreen\n",
      " |      \n",
      " |      Returns\n",
      " |      -------\n",
      " |      str\n",
      " |  \n",
      " |  groupnorm\n",
      " |      Only relevant when `stackgroup` is used, and only the first\n",
      " |      `groupnorm` found in the `stackgroup` will be used - including\n",
      " |      if `visible` is \"legendonly\" but not if it is `false`. Sets the\n",
      " |      normalization for the sum of this `stackgroup`. With\n",
      " |      \"fraction\", the value of each trace at each location is divided\n",
      " |      by the sum of all trace values at that location. \"percent\" is\n",
      " |      the same but multiplied by 100 to show percentages. If there\n",
      " |      are multiple subplots, or multiple `stackgroup`s on one\n",
      " |      subplot, each will be normalized within its own set.\n",
      " |      \n",
      " |      The 'groupnorm' property is an enumeration that may be specified as:\n",
      " |        - One of the following enumeration values:\n",
      " |              ['', 'fraction', 'percent']\n",
      " |      \n",
      " |      Returns\n",
      " |      -------\n",
      " |      Any\n",
      " |  \n",
      " |  hoverinfo\n",
      " |      Determines which trace information appear on hover. If `none`\n",
      " |      or `skip` are set, no information is displayed upon hovering.\n",
      " |      But, if `none` is set, click and hover events are still fired.\n",
      " |      \n",
      " |      The 'hoverinfo' property is a flaglist and may be specified\n",
      " |      as a string containing:\n",
      " |        - Any combination of ['x', 'y', 'z', 'text', 'name'] joined with '+' characters\n",
      " |          (e.g. 'x+y')\n",
      " |          OR exactly one of ['all', 'none', 'skip'] (e.g. 'skip')\n",
      " |        - A list or array of the above\n",
      " |      \n",
      " |      Returns\n",
      " |      -------\n",
      " |      Any|numpy.ndarray\n",
      " |  \n",
      " |  hoverinfosrc\n",
      " |      Sets the source reference on Chart Studio Cloud for  hoverinfo\n",
      " |      .\n",
      " |      \n",
      " |      The 'hoverinfosrc' property must be specified as a string or\n",
      " |      as a plotly.grid_objs.Column object\n",
      " |      \n",
      " |      Returns\n",
      " |      -------\n",
      " |      str\n",
      " |  \n",
      " |  hoverlabel\n",
      " |      The 'hoverlabel' property is an instance of Hoverlabel\n",
      " |      that may be specified as:\n",
      " |        - An instance of :class:`plotly.graph_objs.scatter.Hoverlabel`\n",
      " |        - A dict of string/value properties that will be passed\n",
      " |          to the Hoverlabel constructor\n",
      " |      \n",
      " |          Supported dict properties:\n",
      " |              \n",
      " |              align\n",
      " |                  Sets the horizontal alignment of the text\n",
      " |                  content within hover label box. Has an effect\n",
      " |                  only if the hover label text spans more two or\n",
      " |                  more lines\n",
      " |              alignsrc\n",
      " |                  Sets the source reference on Chart Studio Cloud\n",
      " |                  for  align .\n",
      " |              bgcolor\n",
      " |                  Sets the background color of the hover labels\n",
      " |                  for this trace\n",
      " |              bgcolorsrc\n",
      " |                  Sets the source reference on Chart Studio Cloud\n",
      " |                  for  bgcolor .\n",
      " |              bordercolor\n",
      " |                  Sets the border color of the hover labels for\n",
      " |                  this trace.\n",
      " |              bordercolorsrc\n",
      " |                  Sets the source reference on Chart Studio Cloud\n",
      " |                  for  bordercolor .\n",
      " |              font\n",
      " |                  Sets the font used in hover labels.\n",
      " |              namelength\n",
      " |                  Sets the default length (in number of\n",
      " |                  characters) of the trace name in the hover\n",
      " |                  labels for all traces. -1 shows the whole name\n",
      " |                  regardless of length. 0-3 shows the first 0-3\n",
      " |                  characters, and an integer >3 will show the\n",
      " |                  whole name if it is less than that many\n",
      " |                  characters, but if it is longer, will truncate\n",
      " |                  to `namelength - 3` characters and add an\n",
      " |                  ellipsis.\n",
      " |              namelengthsrc\n",
      " |                  Sets the source reference on Chart Studio Cloud\n",
      " |                  for  namelength .\n",
      " |      \n",
      " |      Returns\n",
      " |      -------\n",
      " |      plotly.graph_objs.scatter.Hoverlabel\n",
      " |  \n",
      " |  hoveron\n",
      " |      Do the hover effects highlight individual points (markers or\n",
      " |      line points) or do they highlight filled regions? If the fill\n",
      " |      is \"toself\" or \"tonext\" and there are no markers or text, then\n",
      " |      the default is \"fills\", otherwise it is \"points\".\n",
      " |      \n",
      " |      The 'hoveron' property is a flaglist and may be specified\n",
      " |      as a string containing:\n",
      " |        - Any combination of ['points', 'fills'] joined with '+' characters\n",
      " |          (e.g. 'points+fills')\n",
      " |      \n",
      " |      Returns\n",
      " |      -------\n",
      " |      Any\n",
      " |  \n",
      " |  hovertemplate\n",
      " |      Template string used for rendering the information that appear\n",
      " |      on hover box. Note that this will override `hoverinfo`.\n",
      " |      Variables are inserted using %{variable}, for example \"y:\n",
      " |      %{y}\". Numbers are formatted using d3-format's syntax\n",
      " |      %{variable:d3-format}, for example \"Price: %{y:$.2f}\".\n",
      " |      https://github.com/d3/d3-3.x-api-\n",
      " |      reference/blob/master/Formatting.md#d3_format for details on\n",
      " |      the formatting syntax. Dates are formatted using d3-time-\n",
      " |      format's syntax %{variable|d3-time-format}, for example \"Day:\n",
      " |      %{2019-01-01|%A}\". https://github.com/d3/d3-3.x-api-\n",
      " |      reference/blob/master/Time-Formatting.md#format for details on\n",
      " |      the date formatting syntax. The variables available in\n",
      " |      `hovertemplate` are the ones emitted as event data described at\n",
      " |      this link https://plotly.com/javascript/plotlyjs-events/#event-\n",
      " |      data. Additionally, every attributes that can be specified per-\n",
      " |      point (the ones that are `arrayOk: true`) are available.\n",
      " |      Anything contained in tag `<extra>` is displayed in the\n",
      " |      secondary box, for example \"<extra>{fullData.name}</extra>\". To\n",
      " |      hide the secondary box completely, use an empty tag\n",
      " |      `<extra></extra>`.\n",
      " |      \n",
      " |      The 'hovertemplate' property is a string and must be specified as:\n",
      " |        - A string\n",
      " |        - A number that will be converted to a string\n",
      " |        - A tuple, list, or one-dimensional numpy array of the above\n",
      " |      \n",
      " |      Returns\n",
      " |      -------\n",
      " |      str|numpy.ndarray\n",
      " |  \n",
      " |  hovertemplatesrc\n",
      " |      Sets the source reference on Chart Studio Cloud for\n",
      " |      hovertemplate .\n",
      " |      \n",
      " |      The 'hovertemplatesrc' property must be specified as a string or\n",
      " |      as a plotly.grid_objs.Column object\n",
      " |      \n",
      " |      Returns\n",
      " |      -------\n",
      " |      str\n",
      " |  \n",
      " |  hovertext\n",
      " |      Sets hover text elements associated with each (x,y) pair. If a\n",
      " |      single string, the same string appears over all the data\n",
      " |      points. If an array of string, the items are mapped in order to\n",
      " |      the this trace's (x,y) coordinates. To be seen, trace\n",
      " |      `hoverinfo` must contain a \"text\" flag.\n",
      " |      \n",
      " |      The 'hovertext' property is a string and must be specified as:\n",
      " |        - A string\n",
      " |        - A number that will be converted to a string\n",
      " |        - A tuple, list, or one-dimensional numpy array of the above\n",
      " |      \n",
      " |      Returns\n",
      " |      -------\n",
      " |      str|numpy.ndarray\n",
      " |  \n",
      " |  hovertextsrc\n",
      " |      Sets the source reference on Chart Studio Cloud for  hovertext\n",
      " |      .\n",
      " |      \n",
      " |      The 'hovertextsrc' property must be specified as a string or\n",
      " |      as a plotly.grid_objs.Column object\n",
      " |      \n",
      " |      Returns\n",
      " |      -------\n",
      " |      str\n",
      " |  \n",
      " |  ids\n",
      " |      Assigns id labels to each datum. These ids for object constancy\n",
      " |      of data points during animation. Should be an array of strings,\n",
      " |      not numbers or any other type.\n",
      " |      \n",
      " |      The 'ids' property is an array that may be specified as a tuple,\n",
      " |      list, numpy array, or pandas Series\n",
      " |      \n",
      " |      Returns\n",
      " |      -------\n",
      " |      numpy.ndarray\n",
      " |  \n",
      " |  idssrc\n",
      " |      Sets the source reference on Chart Studio Cloud for  ids .\n",
      " |      \n",
      " |      The 'idssrc' property must be specified as a string or\n",
      " |      as a plotly.grid_objs.Column object\n",
      " |      \n",
      " |      Returns\n",
      " |      -------\n",
      " |      str\n",
      " |  \n",
      " |  legendgroup\n",
      " |      Sets the legend group for this trace. Traces part of the same\n",
      " |      legend group hide/show at the same time when toggling legend\n",
      " |      items.\n",
      " |      \n",
      " |      The 'legendgroup' property is a string and must be specified as:\n",
      " |        - A string\n",
      " |        - A number that will be converted to a string\n",
      " |      \n",
      " |      Returns\n",
      " |      -------\n",
      " |      str\n",
      " |  \n",
      " |  line\n",
      " |      The 'line' property is an instance of Line\n",
      " |      that may be specified as:\n",
      " |        - An instance of :class:`plotly.graph_objs.scatter.Line`\n",
      " |        - A dict of string/value properties that will be passed\n",
      " |          to the Line constructor\n",
      " |      \n",
      " |          Supported dict properties:\n",
      " |              \n",
      " |              color\n",
      " |                  Sets the line color.\n",
      " |              dash\n",
      " |                  Sets the dash style of lines. Set to a dash\n",
      " |                  type string (\"solid\", \"dot\", \"dash\",\n",
      " |                  \"longdash\", \"dashdot\", or \"longdashdot\") or a\n",
      " |                  dash length list in px (eg \"5px,10px,2px,2px\").\n",
      " |              shape\n",
      " |                  Determines the line shape. With \"spline\" the\n",
      " |                  lines are drawn using spline interpolation. The\n",
      " |                  other available values correspond to step-wise\n",
      " |                  line shapes.\n",
      " |              simplify\n",
      " |                  Simplifies lines by removing nearly-collinear\n",
      " |                  points. When transitioning lines, it may be\n",
      " |                  desirable to disable this so that the number of\n",
      " |                  points along the resulting SVG path is\n",
      " |                  unaffected.\n",
      " |              smoothing\n",
      " |                  Has an effect only if `shape` is set to\n",
      " |                  \"spline\" Sets the amount of smoothing. 0\n",
      " |                  corresponds to no smoothing (equivalent to a\n",
      " |                  \"linear\" shape).\n",
      " |              width\n",
      " |                  Sets the line width (in px).\n",
      " |      \n",
      " |      Returns\n",
      " |      -------\n",
      " |      plotly.graph_objs.scatter.Line\n",
      " |  \n",
      " |  marker\n",
      " |      The 'marker' property is an instance of Marker\n",
      " |      that may be specified as:\n",
      " |        - An instance of :class:`plotly.graph_objs.scatter.Marker`\n",
      " |        - A dict of string/value properties that will be passed\n",
      " |          to the Marker constructor\n",
      " |      \n",
      " |          Supported dict properties:\n",
      " |              \n",
      " |              autocolorscale\n",
      " |                  Determines whether the colorscale is a default\n",
      " |                  palette (`autocolorscale: true`) or the palette\n",
      " |                  determined by `marker.colorscale`. Has an\n",
      " |                  effect only if in `marker.color`is set to a\n",
      " |                  numerical array. In case `colorscale` is\n",
      " |                  unspecified or `autocolorscale` is true, the\n",
      " |                  default  palette will be chosen according to\n",
      " |                  whether numbers in the `color` array are all\n",
      " |                  positive, all negative or mixed.\n",
      " |              cauto\n",
      " |                  Determines whether or not the color domain is\n",
      " |                  computed with respect to the input data (here\n",
      " |                  in `marker.color`) or the bounds set in\n",
      " |                  `marker.cmin` and `marker.cmax`  Has an effect\n",
      " |                  only if in `marker.color`is set to a numerical\n",
      " |                  array. Defaults to `false` when `marker.cmin`\n",
      " |                  and `marker.cmax` are set by the user.\n",
      " |              cmax\n",
      " |                  Sets the upper bound of the color domain. Has\n",
      " |                  an effect only if in `marker.color`is set to a\n",
      " |                  numerical array. Value should have the same\n",
      " |                  units as in `marker.color` and if set,\n",
      " |                  `marker.cmin` must be set as well.\n",
      " |              cmid\n",
      " |                  Sets the mid-point of the color domain by\n",
      " |                  scaling `marker.cmin` and/or `marker.cmax` to\n",
      " |                  be equidistant to this point. Has an effect\n",
      " |                  only if in `marker.color`is set to a numerical\n",
      " |                  array. Value should have the same units as in\n",
      " |                  `marker.color`. Has no effect when\n",
      " |                  `marker.cauto` is `false`.\n",
      " |              cmin\n",
      " |                  Sets the lower bound of the color domain. Has\n",
      " |                  an effect only if in `marker.color`is set to a\n",
      " |                  numerical array. Value should have the same\n",
      " |                  units as in `marker.color` and if set,\n",
      " |                  `marker.cmax` must be set as well.\n",
      " |              color\n",
      " |                  Sets themarkercolor. It accepts either a\n",
      " |                  specific color or an array of numbers that are\n",
      " |                  mapped to the colorscale relative to the max\n",
      " |                  and min values of the array or relative to\n",
      " |                  `marker.cmin` and `marker.cmax` if set.\n",
      " |              coloraxis\n",
      " |                  Sets a reference to a shared color axis.\n",
      " |                  References to these shared color axes are\n",
      " |                  \"coloraxis\", \"coloraxis2\", \"coloraxis3\", etc.\n",
      " |                  Settings for these shared color axes are set in\n",
      " |                  the layout, under `layout.coloraxis`,\n",
      " |                  `layout.coloraxis2`, etc. Note that multiple\n",
      " |                  color scales can be linked to the same color\n",
      " |                  axis.\n",
      " |              colorbar\n",
      " |                  :class:`plotly.graph_objects.scatter.marker.Col\n",
      " |                  orBar` instance or dict with compatible\n",
      " |                  properties\n",
      " |              colorscale\n",
      " |                  Sets the colorscale. Has an effect only if in\n",
      " |                  `marker.color`is set to a numerical array. The\n",
      " |                  colorscale must be an array containing arrays\n",
      " |                  mapping a normalized value to an rgb, rgba,\n",
      " |                  hex, hsl, hsv, or named color string. At\n",
      " |                  minimum, a mapping for the lowest (0) and\n",
      " |                  highest (1) values are required. For example,\n",
      " |                  `[[0, 'rgb(0,0,255)'], [1, 'rgb(255,0,0)']]`.\n",
      " |                  To control the bounds of the colorscale in\n",
      " |                  color space, use`marker.cmin` and\n",
      " |                  `marker.cmax`. Alternatively, `colorscale` may\n",
      " |                  be a palette name string of the following list:\n",
      " |                  Greys,YlGnBu,Greens,YlOrRd,Bluered,RdBu,Reds,Bl\n",
      " |                  ues,Picnic,Rainbow,Portland,Jet,Hot,Blackbody,E\n",
      " |                  arth,Electric,Viridis,Cividis.\n",
      " |              colorsrc\n",
      " |                  Sets the source reference on Chart Studio Cloud\n",
      " |                  for  color .\n",
      " |              gradient\n",
      " |                  :class:`plotly.graph_objects.scatter.marker.Gra\n",
      " |                  dient` instance or dict with compatible\n",
      " |                  properties\n",
      " |              line\n",
      " |                  :class:`plotly.graph_objects.scatter.marker.Lin\n",
      " |                  e` instance or dict with compatible properties\n",
      " |              maxdisplayed\n",
      " |                  Sets a maximum number of points to be drawn on\n",
      " |                  the graph. 0 corresponds to no limit.\n",
      " |              opacity\n",
      " |                  Sets the marker opacity.\n",
      " |              opacitysrc\n",
      " |                  Sets the source reference on Chart Studio Cloud\n",
      " |                  for  opacity .\n",
      " |              reversescale\n",
      " |                  Reverses the color mapping if true. Has an\n",
      " |                  effect only if in `marker.color`is set to a\n",
      " |                  numerical array. If true, `marker.cmin` will\n",
      " |                  correspond to the last color in the array and\n",
      " |                  `marker.cmax` will correspond to the first\n",
      " |                  color.\n",
      " |              showscale\n",
      " |                  Determines whether or not a colorbar is\n",
      " |                  displayed for this trace. Has an effect only if\n",
      " |                  in `marker.color`is set to a numerical array.\n",
      " |              size\n",
      " |                  Sets the marker size (in px).\n",
      " |              sizemin\n",
      " |                  Has an effect only if `marker.size` is set to a\n",
      " |                  numerical array. Sets the minimum size (in px)\n",
      " |                  of the rendered marker points.\n",
      " |              sizemode\n",
      " |                  Has an effect only if `marker.size` is set to a\n",
      " |                  numerical array. Sets the rule for which the\n",
      " |                  data in `size` is converted to pixels.\n",
      " |              sizeref\n",
      " |                  Has an effect only if `marker.size` is set to a\n",
      " |                  numerical array. Sets the scale factor used to\n",
      " |                  determine the rendered size of marker points.\n",
      " |                  Use with `sizemin` and `sizemode`.\n",
      " |              sizesrc\n",
      " |                  Sets the source reference on Chart Studio Cloud\n",
      " |                  for  size .\n",
      " |              symbol\n",
      " |                  Sets the marker symbol type. Adding 100 is\n",
      " |                  equivalent to appending \"-open\" to a symbol\n",
      " |                  name. Adding 200 is equivalent to appending\n",
      " |                  \"-dot\" to a symbol name. Adding 300 is\n",
      " |                  equivalent to appending \"-open-dot\" or \"dot-\n",
      " |                  open\" to a symbol name.\n",
      " |              symbolsrc\n",
      " |                  Sets the source reference on Chart Studio Cloud\n",
      " |                  for  symbol .\n",
      " |      \n",
      " |      Returns\n",
      " |      -------\n",
      " |      plotly.graph_objs.scatter.Marker\n",
      " |  \n",
      " |  meta\n",
      " |      Assigns extra meta information associated with this trace that\n",
      " |      can be used in various text attributes. Attributes such as\n",
      " |      trace `name`, graph, axis and colorbar `title.text`, annotation\n",
      " |      `text` `rangeselector`, `updatemenues` and `sliders` `label`\n",
      " |      text all support `meta`. To access the trace `meta` values in\n",
      " |      an attribute in the same trace, simply use `%{meta[i]}` where\n",
      " |      `i` is the index or key of the `meta` item in question. To\n",
      " |      access trace `meta` in layout attributes, use\n",
      " |      `%{data[n[.meta[i]}` where `i` is the index or key of the\n",
      " |      `meta` and `n` is the trace index.\n",
      " |      \n",
      " |      The 'meta' property accepts values of any type\n",
      " |      \n",
      " |      Returns\n",
      " |      -------\n",
      " |      Any|numpy.ndarray\n",
      " |  \n",
      " |  metasrc\n",
      " |      Sets the source reference on Chart Studio Cloud for  meta .\n",
      " |      \n",
      " |      The 'metasrc' property must be specified as a string or\n",
      " |      as a plotly.grid_objs.Column object\n",
      " |      \n",
      " |      Returns\n",
      " |      -------\n",
      " |      str\n",
      " |  \n",
      " |  mode\n",
      " |      Determines the drawing mode for this scatter trace. If the\n",
      " |      provided `mode` includes \"text\" then the `text` elements appear\n",
      " |      at the coordinates. Otherwise, the `text` elements appear on\n",
      " |      hover. If there are less than 20 points and the trace is not\n",
      " |      stacked then the default is \"lines+markers\". Otherwise,\n",
      " |      \"lines\".\n",
      " |      \n",
      " |      The 'mode' property is a flaglist and may be specified\n",
      " |      as a string containing:\n",
      " |        - Any combination of ['lines', 'markers', 'text'] joined with '+' characters\n",
      " |          (e.g. 'lines+markers')\n",
      " |          OR exactly one of ['none'] (e.g. 'none')\n",
      " |      \n",
      " |      Returns\n",
      " |      -------\n",
      " |      Any\n",
      " |  \n",
      " |  name\n",
      " |      Sets the trace name. The trace name appear as the legend item\n",
      " |      and on hover.\n",
      " |      \n",
      " |      The 'name' property is a string and must be specified as:\n",
      " |        - A string\n",
      " |        - A number that will be converted to a string\n",
      " |      \n",
      " |      Returns\n",
      " |      -------\n",
      " |      str\n",
      " |  \n",
      " |  opacity\n",
      " |      Sets the opacity of the trace.\n",
      " |      \n",
      " |      The 'opacity' property is a number and may be specified as:\n",
      " |        - An int or float in the interval [0, 1]\n",
      " |      \n",
      " |      Returns\n",
      " |      -------\n",
      " |      int|float\n",
      " |  \n",
      " |  orientation\n",
      " |      Only relevant when `stackgroup` is used, and only the first\n",
      " |      `orientation` found in the `stackgroup` will be used -\n",
      " |      including if `visible` is \"legendonly\" but not if it is\n",
      " |      `false`. Sets the stacking direction. With \"v\" (\"h\"), the y (x)\n",
      " |      values of subsequent traces are added. Also affects the default\n",
      " |      value of `fill`.\n",
      " |      \n",
      " |      The 'orientation' property is an enumeration that may be specified as:\n",
      " |        - One of the following enumeration values:\n",
      " |              ['v', 'h']\n",
      " |      \n",
      " |      Returns\n",
      " |      -------\n",
      " |      Any\n",
      " |  \n",
      " |  r\n",
      " |      r coordinates in scatter traces are deprecated!Please switch to\n",
      " |      the \"scatterpolar\" trace type.Sets the radial coordinatesfor\n",
      " |      legacy polar chart only.\n",
      " |      \n",
      " |      The 'r' property is an array that may be specified as a tuple,\n",
      " |      list, numpy array, or pandas Series\n",
      " |      \n",
      " |      Returns\n",
      " |      -------\n",
      " |      numpy.ndarray\n",
      " |  \n",
      " |  rsrc\n",
      " |      Sets the source reference on Chart Studio Cloud for  r .\n",
      " |      \n",
      " |      The 'rsrc' property must be specified as a string or\n",
      " |      as a plotly.grid_objs.Column object\n",
      " |      \n",
      " |      Returns\n",
      " |      -------\n",
      " |      str\n",
      " |  \n",
      " |  selected\n",
      " |      The 'selected' property is an instance of Selected\n",
      " |      that may be specified as:\n",
      " |        - An instance of :class:`plotly.graph_objs.scatter.Selected`\n",
      " |        - A dict of string/value properties that will be passed\n",
      " |          to the Selected constructor\n",
      " |      \n",
      " |          Supported dict properties:\n",
      " |              \n",
      " |              marker\n",
      " |                  :class:`plotly.graph_objects.scatter.selected.M\n",
      " |                  arker` instance or dict with compatible\n",
      " |                  properties\n",
      " |              textfont\n",
      " |                  :class:`plotly.graph_objects.scatter.selected.T\n",
      " |                  extfont` instance or dict with compatible\n",
      " |                  properties\n",
      " |      \n",
      " |      Returns\n",
      " |      -------\n",
      " |      plotly.graph_objs.scatter.Selected\n",
      " |  \n",
      " |  selectedpoints\n",
      " |      Array containing integer indices of selected points. Has an\n",
      " |      effect only for traces that support selections. Note that an\n",
      " |      empty array means an empty selection where the `unselected` are\n",
      " |      turned on for all points, whereas, any other non-array values\n",
      " |      means no selection all where the `selected` and `unselected`\n",
      " |      styles have no effect.\n",
      " |      \n",
      " |      The 'selectedpoints' property accepts values of any type\n",
      " |      \n",
      " |      Returns\n",
      " |      -------\n",
      " |      Any\n",
      " |  \n",
      " |  showlegend\n",
      " |      Determines whether or not an item corresponding to this trace\n",
      " |      is shown in the legend.\n",
      " |      \n",
      " |      The 'showlegend' property must be specified as a bool\n",
      " |      (either True, or False)\n",
      " |      \n",
      " |      Returns\n",
      " |      -------\n",
      " |      bool\n",
      " |  \n",
      " |  stackgaps\n",
      " |      Only relevant when `stackgroup` is used, and only the first\n",
      " |      `stackgaps` found in the `stackgroup` will be used - including\n",
      " |      if `visible` is \"legendonly\" but not if it is `false`.\n",
      " |      Determines how we handle locations at which other traces in\n",
      " |      this group have data but this one does not. With *infer zero*\n",
      " |      we insert a zero at these locations. With \"interpolate\" we\n",
      " |      linearly interpolate between existing values, and extrapolate a\n",
      " |      constant beyond the existing values.\n",
      " |      \n",
      " |      The 'stackgaps' property is an enumeration that may be specified as:\n",
      " |        - One of the following enumeration values:\n",
      " |              ['infer zero', 'interpolate']\n",
      " |      \n",
      " |      Returns\n",
      " |      -------\n",
      " |      Any\n",
      " |  \n",
      " |  stackgroup\n",
      " |      Set several scatter traces (on the same subplot) to the same\n",
      " |      stackgroup in order to add their y values (or their x values if\n",
      " |      `orientation` is \"h\"). If blank or omitted this trace will not\n",
      " |      be stacked. Stacking also turns `fill` on by default, using\n",
      " |      \"tonexty\" (\"tonextx\") if `orientation` is \"h\" (\"v\") and sets\n",
      " |      the default `mode` to \"lines\" irrespective of point count. You\n",
      " |      can only stack on a numeric (linear or log) axis. Traces in a\n",
      " |      `stackgroup` will only fill to (or be filled to) other traces\n",
      " |      in the same group. With multiple `stackgroup`s or some traces\n",
      " |      stacked and some not, if fill-linked traces are not already\n",
      " |      consecutive, the later ones will be pushed down in the drawing\n",
      " |      order.\n",
      " |      \n",
      " |      The 'stackgroup' property is a string and must be specified as:\n",
      " |        - A string\n",
      " |        - A number that will be converted to a string\n",
      " |      \n",
      " |      Returns\n",
      " |      -------\n",
      " |      str\n",
      " |  \n",
      " |  stream\n",
      " |      The 'stream' property is an instance of Stream\n",
      " |      that may be specified as:\n",
      " |        - An instance of :class:`plotly.graph_objs.scatter.Stream`\n",
      " |        - A dict of string/value properties that will be passed\n",
      " |          to the Stream constructor\n",
      " |      \n",
      " |          Supported dict properties:\n",
      " |              \n",
      " |              maxpoints\n",
      " |                  Sets the maximum number of points to keep on\n",
      " |                  the plots from an incoming stream. If\n",
      " |                  `maxpoints` is set to 50, only the newest 50\n",
      " |                  points will be displayed on the plot.\n",
      " |              token\n",
      " |                  The stream id number links a data trace on a\n",
      " |                  plot with a stream. See https://chart-\n",
      " |                  studio.plotly.com/settings for more details.\n",
      " |      \n",
      " |      Returns\n",
      " |      -------\n",
      " |      plotly.graph_objs.scatter.Stream\n",
      " |  \n",
      " |  t\n",
      " |      t coordinates in scatter traces are deprecated!Please switch to\n",
      " |      the \"scatterpolar\" trace type.Sets the angular coordinatesfor\n",
      " |      legacy polar chart only.\n",
      " |      \n",
      " |      The 't' property is an array that may be specified as a tuple,\n",
      " |      list, numpy array, or pandas Series\n",
      " |      \n",
      " |      Returns\n",
      " |      -------\n",
      " |      numpy.ndarray\n",
      " |  \n",
      " |  text\n",
      " |      Sets text elements associated with each (x,y) pair. If a single\n",
      " |      string, the same string appears over all the data points. If an\n",
      " |      array of string, the items are mapped in order to the this\n",
      " |      trace's (x,y) coordinates. If trace `hoverinfo` contains a\n",
      " |      \"text\" flag and \"hovertext\" is not set, these elements will be\n",
      " |      seen in the hover labels.\n",
      " |      \n",
      " |      The 'text' property is a string and must be specified as:\n",
      " |        - A string\n",
      " |        - A number that will be converted to a string\n",
      " |        - A tuple, list, or one-dimensional numpy array of the above\n",
      " |      \n",
      " |      Returns\n",
      " |      -------\n",
      " |      str|numpy.ndarray\n",
      " |  \n",
      " |  textfont\n",
      " |      Sets the text font.\n",
      " |      \n",
      " |      The 'textfont' property is an instance of Textfont\n",
      " |      that may be specified as:\n",
      " |        - An instance of :class:`plotly.graph_objs.scatter.Textfont`\n",
      " |        - A dict of string/value properties that will be passed\n",
      " |          to the Textfont constructor\n",
      " |      \n",
      " |          Supported dict properties:\n",
      " |              \n",
      " |              color\n",
      " |      \n",
      " |              colorsrc\n",
      " |                  Sets the source reference on Chart Studio Cloud\n",
      " |                  for  color .\n",
      " |              family\n",
      " |                  HTML font family - the typeface that will be\n",
      " |                  applied by the web browser. The web browser\n",
      " |                  will only be able to apply a font if it is\n",
      " |                  available on the system which it operates.\n",
      " |                  Provide multiple font families, separated by\n",
      " |                  commas, to indicate the preference in which to\n",
      " |                  apply fonts if they aren't available on the\n",
      " |                  system. The Chart Studio Cloud (at\n",
      " |                  https://chart-studio.plotly.com or on-premise)\n",
      " |                  generates images on a server, where only a\n",
      " |                  select number of fonts are installed and\n",
      " |                  supported. These include \"Arial\", \"Balto\",\n",
      " |                  \"Courier New\", \"Droid Sans\",, \"Droid Serif\",\n",
      " |                  \"Droid Sans Mono\", \"Gravitas One\", \"Old\n",
      " |                  Standard TT\", \"Open Sans\", \"Overpass\", \"PT Sans\n",
      " |                  Narrow\", \"Raleway\", \"Times New Roman\".\n",
      " |              familysrc\n",
      " |                  Sets the source reference on Chart Studio Cloud\n",
      " |                  for  family .\n",
      " |              size\n",
      " |      \n",
      " |              sizesrc\n",
      " |                  Sets the source reference on Chart Studio Cloud\n",
      " |                  for  size .\n",
      " |      \n",
      " |      Returns\n",
      " |      -------\n",
      " |      plotly.graph_objs.scatter.Textfont\n",
      " |  \n",
      " |  textposition\n",
      " |      Sets the positions of the `text` elements with respects to the\n",
      " |      (x,y) coordinates.\n",
      " |      \n",
      " |      The 'textposition' property is an enumeration that may be specified as:\n",
      " |        - One of the following enumeration values:\n",
      " |              ['top left', 'top center', 'top right', 'middle left',\n",
      " |              'middle center', 'middle right', 'bottom left', 'bottom\n",
      " |              center', 'bottom right']\n",
      " |        - A tuple, list, or one-dimensional numpy array of the above\n",
      " |      \n",
      " |      Returns\n",
      " |      -------\n",
      " |      Any|numpy.ndarray\n",
      " |  \n",
      " |  textpositionsrc\n",
      " |      Sets the source reference on Chart Studio Cloud for\n",
      " |      textposition .\n",
      " |      \n",
      " |      The 'textpositionsrc' property must be specified as a string or\n",
      " |      as a plotly.grid_objs.Column object\n",
      " |      \n",
      " |      Returns\n",
      " |      -------\n",
      " |      str\n",
      " |  \n",
      " |  textsrc\n",
      " |      Sets the source reference on Chart Studio Cloud for  text .\n",
      " |      \n",
      " |      The 'textsrc' property must be specified as a string or\n",
      " |      as a plotly.grid_objs.Column object\n",
      " |      \n",
      " |      Returns\n",
      " |      -------\n",
      " |      str\n",
      " |  \n",
      " |  texttemplate\n",
      " |      Template string used for rendering the information text that\n",
      " |      appear on points. Note that this will override `textinfo`.\n",
      " |      Variables are inserted using %{variable}, for example \"y:\n",
      " |      %{y}\". Numbers are formatted using d3-format's syntax\n",
      " |      %{variable:d3-format}, for example \"Price: %{y:$.2f}\".\n",
      " |      https://github.com/d3/d3-3.x-api-\n",
      " |      reference/blob/master/Formatting.md#d3_format for details on\n",
      " |      the formatting syntax. Dates are formatted using d3-time-\n",
      " |      format's syntax %{variable|d3-time-format}, for example \"Day:\n",
      " |      %{2019-01-01|%A}\". https://github.com/d3/d3-3.x-api-\n",
      " |      reference/blob/master/Time-Formatting.md#format for details on\n",
      " |      the date formatting syntax. Every attributes that can be\n",
      " |      specified per-point (the ones that are `arrayOk: true`) are\n",
      " |      available.\n",
      " |      \n",
      " |      The 'texttemplate' property is a string and must be specified as:\n",
      " |        - A string\n",
      " |        - A number that will be converted to a string\n",
      " |        - A tuple, list, or one-dimensional numpy array of the above\n",
      " |      \n",
      " |      Returns\n",
      " |      -------\n",
      " |      str|numpy.ndarray\n",
      " |  \n",
      " |  texttemplatesrc\n",
      " |      Sets the source reference on Chart Studio Cloud for\n",
      " |      texttemplate .\n",
      " |      \n",
      " |      The 'texttemplatesrc' property must be specified as a string or\n",
      " |      as a plotly.grid_objs.Column object\n",
      " |      \n",
      " |      Returns\n",
      " |      -------\n",
      " |      str\n",
      " |  \n",
      " |  tsrc\n",
      " |      Sets the source reference on Chart Studio Cloud for  t .\n",
      " |      \n",
      " |      The 'tsrc' property must be specified as a string or\n",
      " |      as a plotly.grid_objs.Column object\n",
      " |      \n",
      " |      Returns\n",
      " |      -------\n",
      " |      str\n",
      " |  \n",
      " |  uid\n",
      " |      Assign an id to this trace, Use this to provide object\n",
      " |      constancy between traces during animations and transitions.\n",
      " |      \n",
      " |      The 'uid' property is a string and must be specified as:\n",
      " |        - A string\n",
      " |        - A number that will be converted to a string\n",
      " |      \n",
      " |      Returns\n",
      " |      -------\n",
      " |      str\n",
      " |  \n",
      " |  uirevision\n",
      " |      Controls persistence of some user-driven changes to the trace:\n",
      " |      `constraintrange` in `parcoords` traces, as well as some\n",
      " |      `editable: true` modifications such as `name` and\n",
      " |      `colorbar.title`. Defaults to `layout.uirevision`. Note that\n",
      " |      other user-driven trace attribute changes are controlled by\n",
      " |      `layout` attributes: `trace.visible` is controlled by\n",
      " |      `layout.legend.uirevision`, `selectedpoints` is controlled by\n",
      " |      `layout.selectionrevision`, and `colorbar.(x|y)` (accessible\n",
      " |      with `config: {editable: true}`) is controlled by\n",
      " |      `layout.editrevision`. Trace changes are tracked by `uid`,\n",
      " |      which only falls back on trace index if no `uid` is provided.\n",
      " |      So if your app can add/remove traces before the end of the\n",
      " |      `data` array, such that the same trace has a different index,\n",
      " |      you can still preserve user-driven changes if you give each\n",
      " |      trace a `uid` that stays with it as it moves.\n",
      " |      \n",
      " |      The 'uirevision' property accepts values of any type\n",
      " |      \n",
      " |      Returns\n",
      " |      -------\n",
      " |      Any\n",
      " |  \n",
      " |  unselected\n",
      " |      The 'unselected' property is an instance of Unselected\n",
      " |      that may be specified as:\n",
      " |        - An instance of :class:`plotly.graph_objs.scatter.Unselected`\n",
      " |        - A dict of string/value properties that will be passed\n",
      " |          to the Unselected constructor\n",
      " |      \n",
      " |          Supported dict properties:\n",
      " |              \n",
      " |              marker\n",
      " |                  :class:`plotly.graph_objects.scatter.unselected\n",
      " |                  .Marker` instance or dict with compatible\n",
      " |                  properties\n",
      " |              textfont\n",
      " |                  :class:`plotly.graph_objects.scatter.unselected\n",
      " |                  .Textfont` instance or dict with compatible\n",
      " |                  properties\n",
      " |      \n",
      " |      Returns\n",
      " |      -------\n",
      " |      plotly.graph_objs.scatter.Unselected\n",
      " |  \n",
      " |  visible\n",
      " |      Determines whether or not this trace is visible. If\n",
      " |      \"legendonly\", the trace is not drawn, but can appear as a\n",
      " |      legend item (provided that the legend itself is visible).\n",
      " |      \n",
      " |      The 'visible' property is an enumeration that may be specified as:\n",
      " |        - One of the following enumeration values:\n",
      " |              [True, False, 'legendonly']\n",
      " |      \n",
      " |      Returns\n",
      " |      -------\n",
      " |      Any\n",
      " |  \n",
      " |  x\n",
      " |      Sets the x coordinates.\n",
      " |      \n",
      " |      The 'x' property is an array that may be specified as a tuple,\n",
      " |      list, numpy array, or pandas Series\n",
      " |      \n",
      " |      Returns\n",
      " |      -------\n",
      " |      numpy.ndarray\n",
      " |  \n",
      " |  x0\n",
      " |      Alternate to `x`. Builds a linear space of x coordinates. Use\n",
      " |      with `dx` where `x0` is the starting coordinate and `dx` the\n",
      " |      step.\n",
      " |      \n",
      " |      The 'x0' property accepts values of any type\n",
      " |      \n",
      " |      Returns\n",
      " |      -------\n",
      " |      Any\n",
      " |  \n",
      " |  xaxis\n",
      " |      Sets a reference between this trace's x coordinates and a 2D\n",
      " |      cartesian x axis. If \"x\" (the default value), the x coordinates\n",
      " |      refer to `layout.xaxis`. If \"x2\", the x coordinates refer to\n",
      " |      `layout.xaxis2`, and so on.\n",
      " |      \n",
      " |      The 'xaxis' property is an identifier of a particular\n",
      " |      subplot, of type 'x', that may be specified as the string 'x'\n",
      " |      optionally followed by an integer >= 1\n",
      " |      (e.g. 'x', 'x1', 'x2', 'x3', etc.)\n",
      " |      \n",
      " |      Returns\n",
      " |      -------\n",
      " |      str\n",
      " |  \n",
      " |  xcalendar\n",
      " |      Sets the calendar system to use with `x` date data.\n",
      " |      \n",
      " |      The 'xcalendar' property is an enumeration that may be specified as:\n",
      " |        - One of the following enumeration values:\n",
      " |              ['gregorian', 'chinese', 'coptic', 'discworld',\n",
      " |              'ethiopian', 'hebrew', 'islamic', 'julian', 'mayan',\n",
      " |              'nanakshahi', 'nepali', 'persian', 'jalali', 'taiwan',\n",
      " |              'thai', 'ummalqura']\n",
      " |      \n",
      " |      Returns\n",
      " |      -------\n",
      " |      Any\n",
      " |  \n",
      " |  xsrc\n",
      " |      Sets the source reference on Chart Studio Cloud for  x .\n",
      " |      \n",
      " |      The 'xsrc' property must be specified as a string or\n",
      " |      as a plotly.grid_objs.Column object\n",
      " |      \n",
      " |      Returns\n",
      " |      -------\n",
      " |      str\n",
      " |  \n",
      " |  y\n",
      " |      Sets the y coordinates.\n",
      " |      \n",
      " |      The 'y' property is an array that may be specified as a tuple,\n",
      " |      list, numpy array, or pandas Series\n",
      " |      \n",
      " |      Returns\n",
      " |      -------\n",
      " |      numpy.ndarray\n",
      " |  \n",
      " |  y0\n",
      " |      Alternate to `y`. Builds a linear space of y coordinates. Use\n",
      " |      with `dy` where `y0` is the starting coordinate and `dy` the\n",
      " |      step.\n",
      " |      \n",
      " |      The 'y0' property accepts values of any type\n",
      " |      \n",
      " |      Returns\n",
      " |      -------\n",
      " |      Any\n",
      " |  \n",
      " |  yaxis\n",
      " |      Sets a reference between this trace's y coordinates and a 2D\n",
      " |      cartesian y axis. If \"y\" (the default value), the y coordinates\n",
      " |      refer to `layout.yaxis`. If \"y2\", the y coordinates refer to\n",
      " |      `layout.yaxis2`, and so on.\n",
      " |      \n",
      " |      The 'yaxis' property is an identifier of a particular\n",
      " |      subplot, of type 'y', that may be specified as the string 'y'\n",
      " |      optionally followed by an integer >= 1\n",
      " |      (e.g. 'y', 'y1', 'y2', 'y3', etc.)\n",
      " |      \n",
      " |      Returns\n",
      " |      -------\n",
      " |      str\n",
      " |  \n",
      " |  ycalendar\n",
      " |      Sets the calendar system to use with `y` date data.\n",
      " |      \n",
      " |      The 'ycalendar' property is an enumeration that may be specified as:\n",
      " |        - One of the following enumeration values:\n",
      " |              ['gregorian', 'chinese', 'coptic', 'discworld',\n",
      " |              'ethiopian', 'hebrew', 'islamic', 'julian', 'mayan',\n",
      " |              'nanakshahi', 'nepali', 'persian', 'jalali', 'taiwan',\n",
      " |              'thai', 'ummalqura']\n",
      " |      \n",
      " |      Returns\n",
      " |      -------\n",
      " |      Any\n",
      " |  \n",
      " |  ysrc\n",
      " |      Sets the source reference on Chart Studio Cloud for  y .\n",
      " |      \n",
      " |      The 'ysrc' property must be specified as a string or\n",
      " |      as a plotly.grid_objs.Column object\n",
      " |      \n",
      " |      Returns\n",
      " |      -------\n",
      " |      str\n",
      " |  \n",
      " |  ----------------------------------------------------------------------\n",
      " |  Methods inherited from plotly.basedatatypes.BaseTraceType:\n",
      " |  \n",
      " |  on_click(self, callback, append=False)\n",
      " |      Register function to be called when the user clicks on one or more\n",
      " |      points in this trace.\n",
      " |      \n",
      " |      Note: Callbacks will only be triggered when the trace belongs to a\n",
      " |      instance of plotly.graph_objs.FigureWidget and it is displayed in an\n",
      " |      ipywidget context. Callbacks will not be triggered on figures\n",
      " |      that are displayed using plot/iplot.\n",
      " |      \n",
      " |      Parameters\n",
      " |      ----------\n",
      " |      callback\n",
      " |          Callable function that accepts 3 arguments\n",
      " |      \n",
      " |          - this trace\n",
      " |          - plotly.callbacks.Points object\n",
      " |          - plotly.callbacks.InputDeviceState object\n",
      " |      \n",
      " |      append : bool\n",
      " |          If False (the default), this callback replaces any previously\n",
      " |          defined on_click callbacks for this trace. If True,\n",
      " |          this callback is appended to the list of any previously defined\n",
      " |          callbacks.\n",
      " |      \n",
      " |      Returns\n",
      " |      -------\n",
      " |      None\n",
      " |      \n",
      " |      Examples\n",
      " |      --------\n",
      " |      \n",
      " |      >>> import plotly.graph_objects as go\n",
      " |      >>> from plotly.callbacks import Points, InputDeviceState\n",
      " |      >>> points, state = Points(), InputDeviceState()\n",
      " |      \n",
      " |      >>> def click_fn(trace, points, state):\n",
      " |      ...     inds = points.point_inds\n",
      " |      ...     # Do something\n",
      " |      \n",
      " |      >>> trace = go.Scatter(x=[1, 2], y=[3, 0])\n",
      " |      >>> trace.on_click(click_fn)\n",
      " |      \n",
      " |      Note: The creation of the `points` and `state` objects is optional,\n",
      " |      it's simply a convenience to help the text editor perform completion\n",
      " |      on the arguments inside `click_fn`\n",
      " |  \n",
      " |  on_deselect(self, callback, append=False)\n",
      " |      Register function to be called when the user deselects points\n",
      " |      in this trace using doubleclick.\n",
      " |      \n",
      " |      Note: Callbacks will only be triggered when the trace belongs to a\n",
      " |      instance of plotly.graph_objs.FigureWidget and it is displayed in an\n",
      " |      ipywidget context. Callbacks will not be triggered on figures\n",
      " |      that are displayed using plot/iplot.\n",
      " |      \n",
      " |      Parameters\n",
      " |      ----------\n",
      " |      callback\n",
      " |          Callable function that accepts 3 arguments\n",
      " |      \n",
      " |          - this trace\n",
      " |          - plotly.callbacks.Points object\n",
      " |      \n",
      " |      append : bool\n",
      " |          If False (the default), this callback replaces any previously\n",
      " |          defined on_deselect callbacks for this trace. If True,\n",
      " |          this callback is appended to the list of any previously defined\n",
      " |          callbacks.\n",
      " |      \n",
      " |      Returns\n",
      " |      -------\n",
      " |      None\n",
      " |      \n",
      " |      Examples\n",
      " |      --------\n",
      " |      \n",
      " |      >>> import plotly.graph_objects as go\n",
      " |      >>> from plotly.callbacks import Points\n",
      " |      >>> points = Points()\n",
      " |      \n",
      " |      >>> def deselect_fn(trace, points):\n",
      " |      ...     inds = points.point_inds\n",
      " |      ...     # Do something\n",
      " |      \n",
      " |      >>> trace = go.Scatter(x=[1, 2], y=[3, 0])\n",
      " |      >>> trace.on_deselect(deselect_fn)\n",
      " |      \n",
      " |      Note: The creation of the `points` object is optional,\n",
      " |      it's simply a convenience to help the text editor perform completion\n",
      " |      on the `points` arguments inside `selection_fn`\n",
      " |  \n",
      " |  on_hover(self, callback, append=False)\n",
      " |      Register function to be called when the user hovers over one or more\n",
      " |      points in this trace\n",
      " |      \n",
      " |      Note: Callbacks will only be triggered when the trace belongs to a\n",
      " |      instance of plotly.graph_objs.FigureWidget and it is displayed in an\n",
      " |      ipywidget context. Callbacks will not be triggered on figures\n",
      " |      that are displayed using plot/iplot.\n",
      " |      \n",
      " |      Parameters\n",
      " |      ----------\n",
      " |      callback\n",
      " |          Callable function that accepts 3 arguments\n",
      " |      \n",
      " |          - this trace\n",
      " |          - plotly.callbacks.Points object\n",
      " |          - plotly.callbacks.InputDeviceState object\n",
      " |      \n",
      " |      append : bool\n",
      " |          If False (the default), this callback replaces any previously\n",
      " |          defined on_hover callbacks for this trace. If True,\n",
      " |          this callback is appended to the list of any previously defined\n",
      " |          callbacks.\n",
      " |      \n",
      " |      Returns\n",
      " |      -------\n",
      " |      None\n",
      " |      \n",
      " |      Examples\n",
      " |      --------\n",
      " |      \n",
      " |      >>> import plotly.graph_objects as go\n",
      " |      >>> from plotly.callbacks import Points, InputDeviceState\n",
      " |      >>> points, state = Points(), InputDeviceState()\n",
      " |      \n",
      " |      >>> def hover_fn(trace, points, state):\n",
      " |      ...     inds = points.point_inds\n",
      " |      ...     # Do something\n",
      " |      \n",
      " |      >>> trace = go.Scatter(x=[1, 2], y=[3, 0])\n",
      " |      >>> trace.on_hover(hover_fn)\n",
      " |      \n",
      " |      Note: The creation of the `points` and `state` objects is optional,\n",
      " |      it's simply a convenience to help the text editor perform completion\n",
      " |      on the arguments inside `hover_fn`\n",
      " |  \n",
      " |  on_selection(self, callback, append=False)\n",
      " |      Register function to be called when the user selects one or more\n",
      " |      points in this trace.\n",
      " |      \n",
      " |      Note: Callbacks will only be triggered when the trace belongs to a\n",
      " |      instance of plotly.graph_objs.FigureWidget and it is displayed in an\n",
      " |      ipywidget context. Callbacks will not be triggered on figures\n",
      " |      that are displayed using plot/iplot.\n",
      " |      \n",
      " |      Parameters\n",
      " |      ----------\n",
      " |      callback\n",
      " |          Callable function that accepts 4 arguments\n",
      " |      \n",
      " |          - this trace\n",
      " |          - plotly.callbacks.Points object\n",
      " |          - plotly.callbacks.BoxSelector or plotly.callbacks.LassoSelector\n",
      " |      \n",
      " |      append : bool\n",
      " |          If False (the default), this callback replaces any previously\n",
      " |          defined on_selection callbacks for this trace. If True,\n",
      " |          this callback is appended to the list of any previously defined\n",
      " |          callbacks.\n",
      " |      \n",
      " |      Returns\n",
      " |      -------\n",
      " |      None\n",
      " |      \n",
      " |      Examples\n",
      " |      --------\n",
      " |      \n",
      " |      >>> import plotly.graph_objects as go\n",
      " |      >>> from plotly.callbacks import Points\n",
      " |      >>> points = Points()\n",
      " |      \n",
      " |      >>> def selection_fn(trace, points, selector):\n",
      " |      ...     inds = points.point_inds\n",
      " |      ...     # Do something\n",
      " |      \n",
      " |      >>> trace = go.Scatter(x=[1, 2], y=[3, 0])\n",
      " |      >>> trace.on_selection(selection_fn)\n",
      " |      \n",
      " |      Note: The creation of the `points` object is optional,\n",
      " |      it's simply a convenience to help the text editor perform completion\n",
      " |      on the `points` arguments inside `selection_fn`\n",
      " |  \n",
      " |  on_unhover(self, callback, append=False)\n",
      " |      Register function to be called when the user unhovers away from one\n",
      " |      or more points in this trace.\n",
      " |      \n",
      " |      Note: Callbacks will only be triggered when the trace belongs to a\n",
      " |      instance of plotly.graph_objs.FigureWidget and it is displayed in an\n",
      " |      ipywidget context. Callbacks will not be triggered on figures\n",
      " |      that are displayed using plot/iplot.\n",
      " |      \n",
      " |      Parameters\n",
      " |      ----------\n",
      " |      callback\n",
      " |          Callable function that accepts 3 arguments\n",
      " |      \n",
      " |          - this trace\n",
      " |          - plotly.callbacks.Points object\n",
      " |          - plotly.callbacks.InputDeviceState object\n",
      " |      \n",
      " |      append : bool\n",
      " |          If False (the default), this callback replaces any previously\n",
      " |          defined on_unhover callbacks for this trace. If True,\n",
      " |          this callback is appended to the list of any previously defined\n",
      " |          callbacks.\n",
      " |      \n",
      " |      Returns\n",
      " |      -------\n",
      " |      None\n",
      " |      \n",
      " |      Examples\n",
      " |      --------\n",
      " |      \n",
      " |      >>> import plotly.graph_objects as go\n",
      " |      >>> from plotly.callbacks import Points, InputDeviceState\n",
      " |      >>> points, state = Points(), InputDeviceState()\n",
      " |      \n",
      " |      >>> def unhover_fn(trace, points, state):\n",
      " |      ...     inds = points.point_inds\n",
      " |      ...     # Do something\n",
      " |      \n",
      " |      >>> trace = go.Scatter(x=[1, 2], y=[3, 0])\n",
      " |      >>> trace.on_unhover(unhover_fn)\n",
      " |      \n",
      " |      Note: The creation of the `points` and `state` objects is optional,\n",
      " |      it's simply a convenience to help the text editor perform completion\n",
      " |      on the arguments inside `unhover_fn`\n",
      " |  \n",
      " |  ----------------------------------------------------------------------\n",
      " |  Methods inherited from plotly.basedatatypes.BasePlotlyType:\n",
      " |  \n",
      " |  __contains__(self, prop)\n",
      " |      Determine whether object contains a property or nested property\n",
      " |      \n",
      " |      Parameters\n",
      " |      ----------\n",
      " |      prop : str|tuple\n",
      " |          If prop is a simple string (e.g. 'foo'), then return true of the\n",
      " |          object contains an element named 'foo'\n",
      " |      \n",
      " |          If prop is a property path string (e.g. 'foo[0].bar'),\n",
      " |          then return true if the obejct contains the nested elements for\n",
      " |          each entry in the path string (e.g. 'bar' in obj['foo'][0])\n",
      " |      \n",
      " |          If prop is a property path tuple (e.g. ('foo', 0, 'bar')),\n",
      " |          then return true if the object contains the nested elements for\n",
      " |          each entry in the path string (e.g. 'bar' in obj['foo'][0])\n",
      " |      \n",
      " |      Returns\n",
      " |      -------\n",
      " |      bool\n",
      " |  \n",
      " |  __eq__(self, other)\n",
      " |      Test for equality\n",
      " |      \n",
      " |      To be considered equal, `other` must have the same type as this object\n",
      " |      and their `to_plotly_json` representaitons must be identical.\n",
      " |      \n",
      " |      Parameters\n",
      " |      ----------\n",
      " |      other\n",
      " |          The object to compare against\n",
      " |      \n",
      " |      Returns\n",
      " |      -------\n",
      " |      bool\n",
      " |  \n",
      " |  __getitem__(self, prop)\n",
      " |      Get item or nested item from object\n",
      " |      \n",
      " |      Parameters\n",
      " |      ----------\n",
      " |      prop : str|tuple\n",
      " |      \n",
      " |          If prop is the name of a property of this object, then the\n",
      " |          property is returned.\n",
      " |      \n",
      " |          If prop is a nested property path string (e.g. 'foo[1].bar'),\n",
      " |          then a nested property is returned (e.g. obj['foo'][1]['bar'])\n",
      " |      \n",
      " |          If prop is a path tuple (e.g. ('foo', 1, 'bar')), then a nested\n",
      " |          property is returned (e.g. obj['foo'][1]['bar']).\n",
      " |      \n",
      " |      Returns\n",
      " |      -------\n",
      " |      Any\n",
      " |  \n",
      " |  __iter__(self)\n",
      " |      Return an iterator over the object's properties\n",
      " |  \n",
      " |  __reduce__(self)\n",
      " |      Custom implementation of reduce is used to support deep copying\n",
      " |      and pickling\n",
      " |  \n",
      " |  __repr__(self)\n",
      " |      Customize object representation when displayed in the\n",
      " |      terminal/notebook\n",
      " |  \n",
      " |  __setattr__(self, prop, value)\n",
      " |      Parameters\n",
      " |      ----------\n",
      " |      prop : str\n",
      " |          The name of a direct child of this object\n",
      " |      value\n",
      " |          New property value\n",
      " |      Returns\n",
      " |      -------\n",
      " |      None\n",
      " |  \n",
      " |  __setitem__(self, prop, value)\n",
      " |      Parameters\n",
      " |      ----------\n",
      " |      prop : str\n",
      " |          The name of a direct child of this object\n",
      " |      \n",
      " |          Note: Setting nested properties using property path string or\n",
      " |          property path tuples is not supported.\n",
      " |      value\n",
      " |          New property value\n",
      " |      \n",
      " |      Returns\n",
      " |      -------\n",
      " |      None\n",
      " |  \n",
      " |  on_change(self, callback, *args, **kwargs)\n",
      " |      Register callback function to be called when certain properties or\n",
      " |      subproperties of this object are modified.\n",
      " |      \n",
      " |      Callback will be invoked whenever ANY of these properties is\n",
      " |      modified. Furthermore, the callback will only be invoked once even\n",
      " |      if multiple properties are modified during the same restyle /\n",
      " |      relayout / update operation.\n",
      " |      \n",
      " |      Parameters\n",
      " |      ----------\n",
      " |      callback : function\n",
      " |          Function that accepts 1 + len(`args`) parameters. First parameter\n",
      " |          is this object. Second through last parameters are the\n",
      " |          property / subpropery values referenced by args.\n",
      " |      args : list[str|tuple[int|str]]\n",
      " |          List of property references where each reference may be one of:\n",
      " |      \n",
      " |            1) A property name string (e.g. 'foo') for direct properties\n",
      " |            2) A property path string (e.g. 'foo[0].bar') for\n",
      " |               subproperties\n",
      " |            3) A property path tuple (e.g. ('foo', 0, 'bar')) for\n",
      " |               subproperties\n",
      " |      \n",
      " |      append : bool\n",
      " |          True if callback should be appended to previously registered\n",
      " |          callback on the same properties, False if callback should replace\n",
      " |          previously registered callbacks on the same properties. Defaults\n",
      " |          to False.\n",
      " |      \n",
      " |      Examples\n",
      " |      --------\n",
      " |      \n",
      " |      Register callback that prints out the range extents of the xaxis and\n",
      " |      yaxis whenever either either of them changes.\n",
      " |      \n",
      " |      >>> import plotly.graph_objects as go\n",
      " |      >>> fig = go.Figure(go.Scatter(x=[1, 2], y=[1, 0]))\n",
      " |      >>> fig.layout.on_change(\n",
      " |      ...   lambda obj, xrange, yrange: print(\"%s-%s\" % (xrange, yrange)),\n",
      " |      ...   ('xaxis', 'range'), ('yaxis', 'range'))\n",
      " |      \n",
      " |      \n",
      " |      Returns\n",
      " |      -------\n",
      " |      None\n",
      " |  \n",
      " |  pop(self, key, *args)\n",
      " |      Remove the value associated with the specified key and return it\n",
      " |      \n",
      " |      Parameters\n",
      " |      ----------\n",
      " |      key: str\n",
      " |          Property name\n",
      " |      dflt\n",
      " |          The default value to return if key was not found in object\n",
      " |      \n",
      " |      Returns\n",
      " |      -------\n",
      " |      value\n",
      " |          The removed value that was previously associated with key\n",
      " |      \n",
      " |      Raises\n",
      " |      ------\n",
      " |      KeyError\n",
      " |          If key is not in object and no dflt argument specified\n",
      " |  \n",
      " |  to_plotly_json(self)\n",
      " |      Return plotly JSON representation of object as a Python dict\n",
      " |      \n",
      " |      Returns\n",
      " |      -------\n",
      " |      dict\n",
      " |  \n",
      " |  update(self, dict1=None, overwrite=False, **kwargs)\n",
      " |      Update the properties of an object with a dict and/or with\n",
      " |      keyword arguments.\n",
      " |      \n",
      " |      This recursively updates the structure of the original\n",
      " |      object with the values in the input dict / keyword arguments.\n",
      " |      \n",
      " |      Parameters\n",
      " |      ----------\n",
      " |      dict1 : dict\n",
      " |          Dictionary of properties to be updated\n",
      " |      overwrite: bool\n",
      " |          If True, overwrite existing properties. If False, apply updates\n",
      " |          to existing properties recursively, preserving existing\n",
      " |          properties that are not specified in the update operation.\n",
      " |      kwargs :\n",
      " |          Keyword/value pair of properties to be updated\n",
      " |      \n",
      " |      Returns\n",
      " |      -------\n",
      " |      BasePlotlyType\n",
      " |          Updated plotly object\n",
      " |  \n",
      " |  ----------------------------------------------------------------------\n",
      " |  Readonly properties inherited from plotly.basedatatypes.BasePlotlyType:\n",
      " |  \n",
      " |  figure\n",
      " |      Reference to the top-level Figure or FigureWidget that this object\n",
      " |      belongs to. None if the object does not belong to a Figure\n",
      " |      \n",
      " |      Returns\n",
      " |      -------\n",
      " |      Union[BaseFigure, None]\n",
      " |  \n",
      " |  parent\n",
      " |      Return the object's parent, or None if the object has no parent\n",
      " |      Returns\n",
      " |      -------\n",
      " |      BasePlotlyType|BaseFigure\n",
      " |  \n",
      " |  plotly_name\n",
      " |      The plotly name of the object\n",
      " |      \n",
      " |      Returns\n",
      " |      -------\n",
      " |      str\n",
      " |  \n",
      " |  ----------------------------------------------------------------------\n",
      " |  Data descriptors inherited from plotly.basedatatypes.BasePlotlyType:\n",
      " |  \n",
      " |  __dict__\n",
      " |      dictionary for instance variables (if defined)\n",
      " |  \n",
      " |  __weakref__\n",
      " |      list of weak references to the object (if defined)\n",
      " |  \n",
      " |  ----------------------------------------------------------------------\n",
      " |  Data and other attributes inherited from plotly.basedatatypes.BasePlotlyType:\n",
      " |  \n",
      " |  __hash__ = None\n",
      "\n"
     ]
    }
   ],
   "source": [
    "help(go.Scatter)"
   ]
  },
  {
   "cell_type": "code",
   "execution_count": null,
   "metadata": {},
   "outputs": [],
   "source": [
    "import plotly.graph_objects as go\n",
    "from plotly.subplots import make_subplots\n",
    "import chart_studio.plotly as py\n",
    "\n",
    "labels = [\"NUCLEAR\", \"OTHERS\"]\n",
    "\n",
    "# Create subplots: use 'domain' type for Pie subplot\n",
    "fig = make_subplots(rows=2, cols=2, specs=[[{'type':'domain'}, {'type':'domain'}],\n",
    "                                          [{'type':'domain'}, {'type':'domain'}]],\n",
    "                   subplot_titles = ('<b>Energy Mix', '<b>Carbon Emissions', '<b>Electricity Mix', '<b>Energy Suppiled'))\n",
    "\n",
    "fig.add_trace(go.Pie(labels=labels, values=[40,60], name=\"Energy Mix\",\n",
    "                     marker =dict(colors = ['rgba(188, 189, 34, 0.8)','rgba(127, 127, 127, 0.8)']),\n",
    "                    textfont = dict(color = 'white', size = 30)),\n",
    "              1, 1,)\n",
    "fig.add_trace(go.Pie(labels=labels, values=[34, 66], name=\"CO2 Emissions\",\n",
    "                    textfont = dict(color = 'white', size = 30)),\n",
    "              1, 2)\n",
    "fig.add_trace(go.Pie(labels=labels, values=[3, 97], name=\"Electricity Mix\",\n",
    "                    textfont = dict(color = 'white', size = 30), rotation = 60),\n",
    "              2, 1)\n",
    "fig.add_trace(go.Pie(labels=labels, values=[32, 68], name=\"Energy Suppiled\",\n",
    "                    textfont = dict(color = 'white', size = 30)),\n",
    "              2, 2)\n",
    "\n",
    "\n",
    "\n",
    "# Use `hole` to create a donut-like pie chart\n",
    "fig.update_traces(hole=.4, hoverinfo=\"label+percent+name\")\n",
    "\n",
    "fig.update_layout(\n",
    "    title=\"<b>NIGERIA ENERGY STATICTICS\",\n",
    "    font=dict(size = 30, color = 'rgba(188, 189, 34, 0.8)', family = 'Raleway'),\n",
    "    # Add annotations in the center of the donut pies.\n",
    "    plot_bgcolor='rgba(127, 127, 127, 0.8)',\n",
    "    paper_bgcolor='rgba(127, 127, 127, 0.8)'\n",
    ")\n",
    "#py.plot(fig, filename = 'ren_stats')\n",
    "fig.show()"
   ]
  }
 ],
 "metadata": {
  "kernelspec": {
   "display_name": "Python 3",
   "language": "python",
   "name": "python3"
  },
  "language_info": {
   "codemirror_mode": {
    "name": "ipython",
    "version": 3
   },
   "file_extension": ".py",
   "mimetype": "text/x-python",
   "name": "python",
   "nbconvert_exporter": "python",
   "pygments_lexer": "ipython3",
   "version": "3.8.8"
  }
 },
 "nbformat": 4,
 "nbformat_minor": 4
}
